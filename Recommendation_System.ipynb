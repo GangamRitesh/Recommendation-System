{
  "nbformat": 4,
  "nbformat_minor": 5,
  "metadata": {
    "colab": {
      "name": "Recommendation System.ipynb",
      "provenance": [],
      "collapsed_sections": [],
      "toc_visible": true
    },
    "kernelspec": {
      "display_name": "Python 3",
      "language": "python",
      "name": "python3"
    },
    "language_info": {
      "codemirror_mode": {
        "name": "ipython",
        "version": 3
      },
      "file_extension": ".py",
      "mimetype": "text/x-python",
      "name": "python",
      "nbconvert_exporter": "python",
      "pygments_lexer": "ipython3",
      "version": "3.8.5"
    }
  },
  "cells": [
    {
      "cell_type": "markdown",
      "metadata": {
        "id": "1cdc76a1"
      },
      "source": [
        "# Recommendation System Notebook"
      ],
      "id": "1cdc76a1"
    },
    {
      "cell_type": "markdown",
      "metadata": {
        "id": "CN28wdLvMqcz"
      },
      "source": [
        "Import libraries"
      ],
      "id": "CN28wdLvMqcz"
    },
    {
      "cell_type": "code",
      "metadata": {
        "colab": {
          "base_uri": "https://localhost:8080/"
        },
        "id": "8cc796c0",
        "outputId": "6f923779-f692-41c3-9614-da760e98e188"
      },
      "source": [
        "import pandas as pd\n",
        "import numpy as np\n",
        "import matplotlib.pyplot as plt\n",
        "import seaborn as sns\n",
        "\n",
        "import re\n",
        "import string\n",
        "import random\n",
        "\n",
        "import nltk\n",
        "nltk.download('punkt')\n",
        "from nltk.tokenize import word_tokenize\n",
        "nltk.download('stopwords')\n",
        "from nltk.corpus import stopwords\n",
        "from nltk.stem import PorterStemmer\n",
        "from sklearn.feature_extraction.text import CountVectorizer\n",
        "from sklearn.feature_extraction.text import TfidfVectorizer\n",
        "from sklearn.model_selection import train_test_split,KFold,cross_val_score\n",
        "from imblearn.over_sampling import SMOTE,RandomOverSampler\n",
        "from textblob import TextBlob\n",
        "from collections import Counter\n",
        "from sklearn.linear_model import LogisticRegression\n",
        "from sklearn import metrics\n",
        "from sklearn.ensemble import RandomForestClassifier\n",
        "from sklearn.model_selection import GridSearchCV,RandomizedSearchCV\n",
        "from sklearn.metrics.pairwise import pairwise_distances\n",
        "from sklearn.preprocessing import MinMaxScaler\n",
        "from xgboost import XGBClassifier\n",
        "import joblib\n",
        "\n",
        "# Filtering out the warnings\n",
        "import warnings\n",
        "warnings.filterwarnings('ignore')\n",
        "pd.options.display.max_colwidth=1000"
      ],
      "id": "8cc796c0",
      "execution_count": 1,
      "outputs": [
        {
          "output_type": "stream",
          "text": [
            "[nltk_data] Downloading package punkt to /root/nltk_data...\n",
            "[nltk_data]   Package punkt is already up-to-date!\n",
            "[nltk_data] Downloading package stopwords to /root/nltk_data...\n",
            "[nltk_data]   Package stopwords is already up-to-date!\n"
          ],
          "name": "stdout"
        },
        {
          "output_type": "stream",
          "text": [
            "/usr/local/lib/python3.7/dist-packages/sklearn/externals/six.py:31: FutureWarning: The module is deprecated in version 0.21 and will be removed in version 0.23 since we've dropped support for Python 2.7. Please rely on the official version of six (https://pypi.org/project/six/).\n",
            "  \"(https://pypi.org/project/six/).\", FutureWarning)\n",
            "/usr/local/lib/python3.7/dist-packages/sklearn/utils/deprecation.py:144: FutureWarning: The sklearn.neighbors.base module is  deprecated in version 0.22 and will be removed in version 0.24. The corresponding classes / functions should instead be imported from sklearn.neighbors. Anything that cannot be imported from sklearn.neighbors is now part of the private API.\n",
            "  warnings.warn(message, FutureWarning)\n"
          ],
          "name": "stderr"
        }
      ]
    },
    {
      "cell_type": "markdown",
      "metadata": {
        "id": "qKjjxF33llpk"
      },
      "source": [
        "# Sentiment Analysis"
      ],
      "id": "qKjjxF33llpk"
    },
    {
      "cell_type": "code",
      "metadata": {
        "id": "8042eb8f"
      },
      "source": [
        "# Reading data file from GitHub. # MovieLens\n",
        "df = pd.read_csv('https://raw.githubusercontent.com/GangamRitesh/Capstone/main/sample30.csv')"
      ],
      "id": "8042eb8f",
      "execution_count": 2,
      "outputs": []
    },
    {
      "cell_type": "code",
      "metadata": {
        "colab": {
          "base_uri": "https://localhost:8080/"
        },
        "id": "ecfef3b2",
        "outputId": "12b2b2b8-496e-4881-e871-318a537edb65"
      },
      "source": [
        "# Checking the shape of data frame\n",
        "df.shape"
      ],
      "id": "ecfef3b2",
      "execution_count": 3,
      "outputs": [
        {
          "output_type": "execute_result",
          "data": {
            "text/plain": [
              "(30000, 15)"
            ]
          },
          "metadata": {
            "tags": []
          },
          "execution_count": 3
        }
      ]
    },
    {
      "cell_type": "code",
      "metadata": {
        "colab": {
          "base_uri": "https://localhost:8080/"
        },
        "id": "6bca0f37",
        "outputId": "69988b86-a9aa-450e-cf4c-11b260176ded"
      },
      "source": [
        "# Checking the columns \n",
        "df.columns.values"
      ],
      "id": "6bca0f37",
      "execution_count": 4,
      "outputs": [
        {
          "output_type": "execute_result",
          "data": {
            "text/plain": [
              "array(['id', 'brand', 'categories', 'manufacturer', 'name',\n",
              "       'reviews_date', 'reviews_didPurchase', 'reviews_doRecommend',\n",
              "       'reviews_rating', 'reviews_text', 'reviews_title',\n",
              "       'reviews_userCity', 'reviews_userProvince', 'reviews_username',\n",
              "       'user_sentiment'], dtype=object)"
            ]
          },
          "metadata": {
            "tags": []
          },
          "execution_count": 4
        }
      ]
    },
    {
      "cell_type": "code",
      "metadata": {
        "colab": {
          "base_uri": "https://localhost:8080/"
        },
        "id": "fe5ce1b8",
        "outputId": "ea2704b3-bb04-46c6-8664-e6205b02bf43"
      },
      "source": [
        "# Checking columns decription \n",
        "df.info()"
      ],
      "id": "fe5ce1b8",
      "execution_count": 5,
      "outputs": [
        {
          "output_type": "stream",
          "text": [
            "<class 'pandas.core.frame.DataFrame'>\n",
            "RangeIndex: 30000 entries, 0 to 29999\n",
            "Data columns (total 15 columns):\n",
            " #   Column                Non-Null Count  Dtype \n",
            "---  ------                --------------  ----- \n",
            " 0   id                    30000 non-null  object\n",
            " 1   brand                 30000 non-null  object\n",
            " 2   categories            30000 non-null  object\n",
            " 3   manufacturer          29859 non-null  object\n",
            " 4   name                  30000 non-null  object\n",
            " 5   reviews_date          29954 non-null  object\n",
            " 6   reviews_didPurchase   15932 non-null  object\n",
            " 7   reviews_doRecommend   27430 non-null  object\n",
            " 8   reviews_rating        30000 non-null  int64 \n",
            " 9   reviews_text          30000 non-null  object\n",
            " 10  reviews_title         29810 non-null  object\n",
            " 11  reviews_userCity      1929 non-null   object\n",
            " 12  reviews_userProvince  170 non-null    object\n",
            " 13  reviews_username      29937 non-null  object\n",
            " 14  user_sentiment        29999 non-null  object\n",
            "dtypes: int64(1), object(14)\n",
            "memory usage: 3.4+ MB\n"
          ],
          "name": "stdout"
        }
      ]
    },
    {
      "cell_type": "code",
      "metadata": {
        "colab": {
          "base_uri": "https://localhost:8080/",
          "height": 297
        },
        "id": "2c9f3acc",
        "outputId": "acde53d8-f1a6-4713-865d-905d810912ef"
      },
      "source": [
        "# Checking the distribution of numeric columns\n",
        "df.describe()"
      ],
      "id": "2c9f3acc",
      "execution_count": 6,
      "outputs": [
        {
          "output_type": "execute_result",
          "data": {
            "text/html": [
              "<div>\n",
              "<style scoped>\n",
              "    .dataframe tbody tr th:only-of-type {\n",
              "        vertical-align: middle;\n",
              "    }\n",
              "\n",
              "    .dataframe tbody tr th {\n",
              "        vertical-align: top;\n",
              "    }\n",
              "\n",
              "    .dataframe thead th {\n",
              "        text-align: right;\n",
              "    }\n",
              "</style>\n",
              "<table border=\"1\" class=\"dataframe\">\n",
              "  <thead>\n",
              "    <tr style=\"text-align: right;\">\n",
              "      <th></th>\n",
              "      <th>reviews_rating</th>\n",
              "    </tr>\n",
              "  </thead>\n",
              "  <tbody>\n",
              "    <tr>\n",
              "      <th>count</th>\n",
              "      <td>30000.000000</td>\n",
              "    </tr>\n",
              "    <tr>\n",
              "      <th>mean</th>\n",
              "      <td>4.483133</td>\n",
              "    </tr>\n",
              "    <tr>\n",
              "      <th>std</th>\n",
              "      <td>0.988441</td>\n",
              "    </tr>\n",
              "    <tr>\n",
              "      <th>min</th>\n",
              "      <td>1.000000</td>\n",
              "    </tr>\n",
              "    <tr>\n",
              "      <th>25%</th>\n",
              "      <td>4.000000</td>\n",
              "    </tr>\n",
              "    <tr>\n",
              "      <th>50%</th>\n",
              "      <td>5.000000</td>\n",
              "    </tr>\n",
              "    <tr>\n",
              "      <th>75%</th>\n",
              "      <td>5.000000</td>\n",
              "    </tr>\n",
              "    <tr>\n",
              "      <th>max</th>\n",
              "      <td>5.000000</td>\n",
              "    </tr>\n",
              "  </tbody>\n",
              "</table>\n",
              "</div>"
            ],
            "text/plain": [
              "       reviews_rating\n",
              "count    30000.000000\n",
              "mean         4.483133\n",
              "std          0.988441\n",
              "min          1.000000\n",
              "25%          4.000000\n",
              "50%          5.000000\n",
              "75%          5.000000\n",
              "max          5.000000"
            ]
          },
          "metadata": {
            "tags": []
          },
          "execution_count": 6
        }
      ]
    },
    {
      "cell_type": "code",
      "metadata": {
        "colab": {
          "base_uri": "https://localhost:8080/",
          "height": 471
        },
        "id": "d4f6a854",
        "outputId": "a5c6737d-361e-419e-c77e-4db78ddf3ccf"
      },
      "source": [
        "# Checking top 2 rows of data frame\n",
        "df.head(2)"
      ],
      "id": "d4f6a854",
      "execution_count": 7,
      "outputs": [
        {
          "output_type": "execute_result",
          "data": {
            "text/html": [
              "<div>\n",
              "<style scoped>\n",
              "    .dataframe tbody tr th:only-of-type {\n",
              "        vertical-align: middle;\n",
              "    }\n",
              "\n",
              "    .dataframe tbody tr th {\n",
              "        vertical-align: top;\n",
              "    }\n",
              "\n",
              "    .dataframe thead th {\n",
              "        text-align: right;\n",
              "    }\n",
              "</style>\n",
              "<table border=\"1\" class=\"dataframe\">\n",
              "  <thead>\n",
              "    <tr style=\"text-align: right;\">\n",
              "      <th></th>\n",
              "      <th>id</th>\n",
              "      <th>brand</th>\n",
              "      <th>categories</th>\n",
              "      <th>manufacturer</th>\n",
              "      <th>name</th>\n",
              "      <th>reviews_date</th>\n",
              "      <th>reviews_didPurchase</th>\n",
              "      <th>reviews_doRecommend</th>\n",
              "      <th>reviews_rating</th>\n",
              "      <th>reviews_text</th>\n",
              "      <th>reviews_title</th>\n",
              "      <th>reviews_userCity</th>\n",
              "      <th>reviews_userProvince</th>\n",
              "      <th>reviews_username</th>\n",
              "      <th>user_sentiment</th>\n",
              "    </tr>\n",
              "  </thead>\n",
              "  <tbody>\n",
              "    <tr>\n",
              "      <th>0</th>\n",
              "      <td>AV13O1A8GV-KLJ3akUyj</td>\n",
              "      <td>Universal Music</td>\n",
              "      <td>Movies, Music &amp; Books,Music,R&amp;b,Movies &amp; TV,Movie Bundles &amp; Collections,CDs &amp; Vinyl,Rap &amp; Hip-Hop,Bass,Music on CD or Vinyl,Rap,Hip-Hop,Mainstream Rap,Pop Rap</td>\n",
              "      <td>Universal Music Group / Cash Money</td>\n",
              "      <td>Pink Friday: Roman Reloaded Re-Up (w/dvd)</td>\n",
              "      <td>2012-11-30T06:21:45.000Z</td>\n",
              "      <td>NaN</td>\n",
              "      <td>NaN</td>\n",
              "      <td>5</td>\n",
              "      <td>i love this album. it's very good. more to the hip hop side than her current pop sound.. SO HYPE! i listen to this everyday at the gym! i give it 5star rating all the way. her metaphors are just crazy.</td>\n",
              "      <td>Just Awesome</td>\n",
              "      <td>Los Angeles</td>\n",
              "      <td>NaN</td>\n",
              "      <td>joshua</td>\n",
              "      <td>Positive</td>\n",
              "    </tr>\n",
              "    <tr>\n",
              "      <th>1</th>\n",
              "      <td>AV14LG0R-jtxr-f38QfS</td>\n",
              "      <td>Lundberg</td>\n",
              "      <td>Food,Packaged Foods,Snacks,Crackers,Snacks, Cookies &amp; Chips,Rice Cakes,Cakes</td>\n",
              "      <td>Lundberg</td>\n",
              "      <td>Lundberg Organic Cinnamon Toast Rice Cakes</td>\n",
              "      <td>2017-07-09T00:00:00.000Z</td>\n",
              "      <td>True</td>\n",
              "      <td>NaN</td>\n",
              "      <td>5</td>\n",
              "      <td>Good flavor. This review was collected as part of a promotion.</td>\n",
              "      <td>Good</td>\n",
              "      <td>NaN</td>\n",
              "      <td>NaN</td>\n",
              "      <td>dorothy w</td>\n",
              "      <td>Positive</td>\n",
              "    </tr>\n",
              "  </tbody>\n",
              "</table>\n",
              "</div>"
            ],
            "text/plain": [
              "                     id            brand  ... reviews_username user_sentiment\n",
              "0  AV13O1A8GV-KLJ3akUyj  Universal Music  ...           joshua       Positive\n",
              "1  AV14LG0R-jtxr-f38QfS         Lundberg  ...        dorothy w       Positive\n",
              "\n",
              "[2 rows x 15 columns]"
            ]
          },
          "metadata": {
            "tags": []
          },
          "execution_count": 7
        }
      ]
    },
    {
      "cell_type": "markdown",
      "metadata": {
        "id": "6HWUjOmAPpea"
      },
      "source": [
        "### Exploratory data analysis"
      ],
      "id": "6HWUjOmAPpea"
    },
    {
      "cell_type": "markdown",
      "metadata": {
        "id": "d51qvI3yAJ_J"
      },
      "source": [
        "#### Data Visualization"
      ],
      "id": "d51qvI3yAJ_J"
    },
    {
      "cell_type": "code",
      "metadata": {
        "colab": {
          "base_uri": "https://localhost:8080/",
          "height": 285
        },
        "id": "kBuZ3_0gFEWD",
        "outputId": "5bcabcf3-b0db-4f4d-d2ca-df0cd522554a"
      },
      "source": [
        "# Checking the rating distribution\n",
        "sns.set_theme(style=\"darkgrid\")\n",
        "sns.countplot(df.reviews_rating)\n",
        "plt.show()"
      ],
      "id": "kBuZ3_0gFEWD",
      "execution_count": 8,
      "outputs": [
        {
          "output_type": "display_data",
          "data": {
            "image/png": "[encoded data removed]",
            "text/plain": [
              "<Figure size 432x288 with 1 Axes>"
            ]
          },
          "metadata": {
            "tags": []
          }
        }
      ]
    },
    {
      "cell_type": "code",
      "metadata": {
        "colab": {
          "base_uri": "https://localhost:8080/",
          "height": 268
        },
        "id": "30C_dmqhPxgU",
        "outputId": "6204c701-4968-4d46-9d59-402f7772bc89"
      },
      "source": [
        "# Checking the average ratings for positive and negative reviews\n",
        "df.groupby(['user_sentiment'])['reviews_rating'].mean().plot.barh()\n",
        "plt.show()"
      ],
      "id": "30C_dmqhPxgU",
      "execution_count": 9,
      "outputs": [
        {
          "output_type": "display_data",
          "data": {
            "image/png": "[encoded data removed]",
            "text/plain": [
              "<Figure size 432x288 with 1 Axes>"
            ]
          },
          "metadata": {
            "tags": []
          }
        }
      ]
    },
    {
      "cell_type": "code",
      "metadata": {
        "colab": {
          "base_uri": "https://localhost:8080/",
          "height": 268
        },
        "id": "Sa7QJcCQTVIj",
        "outputId": "e9973cca-f597-4c35-a952-2dbbac405452"
      },
      "source": [
        "# Checking the count of  for positive and negative sentiment for each rating\n",
        "df.groupby(['reviews_rating'])['user_sentiment'].count().plot.barh()\n",
        "plt.show()"
      ],
      "id": "Sa7QJcCQTVIj",
      "execution_count": 10,
      "outputs": [
        {
          "output_type": "display_data",
          "data": {
            "image/png": "[encoded data removed]",
            "text/plain": [
              "<Figure size 432x288 with 1 Axes>"
            ]
          },
          "metadata": {
            "tags": []
          }
        }
      ]
    },
    {
      "cell_type": "code",
      "metadata": {
        "colab": {
          "base_uri": "https://localhost:8080/",
          "height": 285
        },
        "id": "yejOhfvyUCOa",
        "outputId": "e98c8088-a97c-4b23-b95b-eec89c570b44"
      },
      "source": [
        "# checking the usersentiment for each rating\n",
        "sns.countplot(df.reviews_rating, hue = df.user_sentiment)\n",
        "plt.show()"
      ],
      "id": "yejOhfvyUCOa",
      "execution_count": 11,
      "outputs": [
        {
          "output_type": "display_data",
          "data": {
            "image/png": "[encoded data removed]",
            "text/plain": [
              "<Figure size 432x288 with 1 Axes>"
            ]
          },
          "metadata": {
            "tags": []
          }
        }
      ]
    },
    {
      "cell_type": "code",
      "metadata": {
        "colab": {
          "base_uri": "https://localhost:8080/",
          "height": 285
        },
        "id": "qLGCZvOYUbuT",
        "outputId": "5f838451-875e-4b32-e44d-a60ef351ac98"
      },
      "source": [
        "# checking the user rating distribution for each positive and negative sentiment\n",
        "sns.countplot(df.user_sentiment, hue = df.reviews_rating)\n",
        "plt.show()"
      ],
      "id": "qLGCZvOYUbuT",
      "execution_count": 12,
      "outputs": [
        {
          "output_type": "display_data",
          "data": {
            "image/png": "[encoded data removed]",
            "text/plain": [
              "<Figure size 432x288 with 1 Axes>"
            ]
          },
          "metadata": {
            "tags": []
          }
        }
      ]
    },
    {
      "cell_type": "markdown",
      "metadata": {
        "id": "9d52b328"
      },
      "source": [
        "## Data Cleaning\n",
        "### Missing value treatment"
      ],
      "id": "9d52b328"
    },
    {
      "cell_type": "code",
      "metadata": {
        "id": "7ac94dc4"
      },
      "source": [
        "# Storing the missing data and missing data percentage in the missing_data dataframe\n",
        "def missing_values(df):\n",
        "    missing_data  = pd.DataFrame(columns=['Column'\n",
        "                                          ,'Type'\n",
        "                                          ,'Missing_count'\n",
        "                                          ,'Missing_percentage'])\n",
        "    for i in df.columns:\n",
        "        null_count = df[i].isna().sum()\n",
        "        null_perc  = null_count/len(df)*100\n",
        "        if null_count != 0:\n",
        "            df2={'Column':i\n",
        "            ,'Type': df[i].dtype\n",
        "            ,'Missing_count': null_count\n",
        "            ,'Missing_percentage' : null_perc\n",
        "            }\n",
        "            missing_data = missing_data.append(df2,ignore_index=True)\n",
        "    return missing_data.sort_values(by = 'Missing_percentage',ascending= False)"
      ],
      "id": "7ac94dc4",
      "execution_count": 13,
      "outputs": []
    },
    {
      "cell_type": "code",
      "metadata": {
        "colab": {
          "base_uri": "https://localhost:8080/",
          "height": 328
        },
        "id": "566b0f25",
        "outputId": "9af125ea-2b0a-4e96-e546-b5c59026220e"
      },
      "source": [
        "#checking the missing values in the data frame\n",
        "missing_data = missing_values(df)\n",
        "missing_data"
      ],
      "id": "566b0f25",
      "execution_count": 14,
      "outputs": [
        {
          "output_type": "execute_result",
          "data": {
            "text/html": [
              "<div>\n",
              "<style scoped>\n",
              "    .dataframe tbody tr th:only-of-type {\n",
              "        vertical-align: middle;\n",
              "    }\n",
              "\n",
              "    .dataframe tbody tr th {\n",
              "        vertical-align: top;\n",
              "    }\n",
              "\n",
              "    .dataframe thead th {\n",
              "        text-align: right;\n",
              "    }\n",
              "</style>\n",
              "<table border=\"1\" class=\"dataframe\">\n",
              "  <thead>\n",
              "    <tr style=\"text-align: right;\">\n",
              "      <th></th>\n",
              "      <th>Column</th>\n",
              "      <th>Type</th>\n",
              "      <th>Missing_count</th>\n",
              "      <th>Missing_percentage</th>\n",
              "    </tr>\n",
              "  </thead>\n",
              "  <tbody>\n",
              "    <tr>\n",
              "      <th>6</th>\n",
              "      <td>reviews_userProvince</td>\n",
              "      <td>object</td>\n",
              "      <td>29830</td>\n",
              "      <td>99.433333</td>\n",
              "    </tr>\n",
              "    <tr>\n",
              "      <th>5</th>\n",
              "      <td>reviews_userCity</td>\n",
              "      <td>object</td>\n",
              "      <td>28071</td>\n",
              "      <td>93.570000</td>\n",
              "    </tr>\n",
              "    <tr>\n",
              "      <th>2</th>\n",
              "      <td>reviews_didPurchase</td>\n",
              "      <td>object</td>\n",
              "      <td>14068</td>\n",
              "      <td>46.893333</td>\n",
              "    </tr>\n",
              "    <tr>\n",
              "      <th>3</th>\n",
              "      <td>reviews_doRecommend</td>\n",
              "      <td>object</td>\n",
              "      <td>2570</td>\n",
              "      <td>8.566667</td>\n",
              "    </tr>\n",
              "    <tr>\n",
              "      <th>4</th>\n",
              "      <td>reviews_title</td>\n",
              "      <td>object</td>\n",
              "      <td>190</td>\n",
              "      <td>0.633333</td>\n",
              "    </tr>\n",
              "    <tr>\n",
              "      <th>0</th>\n",
              "      <td>manufacturer</td>\n",
              "      <td>object</td>\n",
              "      <td>141</td>\n",
              "      <td>0.470000</td>\n",
              "    </tr>\n",
              "    <tr>\n",
              "      <th>7</th>\n",
              "      <td>reviews_username</td>\n",
              "      <td>object</td>\n",
              "      <td>63</td>\n",
              "      <td>0.210000</td>\n",
              "    </tr>\n",
              "    <tr>\n",
              "      <th>1</th>\n",
              "      <td>reviews_date</td>\n",
              "      <td>object</td>\n",
              "      <td>46</td>\n",
              "      <td>0.153333</td>\n",
              "    </tr>\n",
              "    <tr>\n",
              "      <th>8</th>\n",
              "      <td>user_sentiment</td>\n",
              "      <td>object</td>\n",
              "      <td>1</td>\n",
              "      <td>0.003333</td>\n",
              "    </tr>\n",
              "  </tbody>\n",
              "</table>\n",
              "</div>"
            ],
            "text/plain": [
              "                 Column    Type Missing_count  Missing_percentage\n",
              "6  reviews_userProvince  object         29830           99.433333\n",
              "5      reviews_userCity  object         28071           93.570000\n",
              "2   reviews_didPurchase  object         14068           46.893333\n",
              "3   reviews_doRecommend  object          2570            8.566667\n",
              "4         reviews_title  object           190            0.633333\n",
              "0          manufacturer  object           141            0.470000\n",
              "7      reviews_username  object            63            0.210000\n",
              "1          reviews_date  object            46            0.153333\n",
              "8        user_sentiment  object             1            0.003333"
            ]
          },
          "metadata": {
            "tags": []
          },
          "execution_count": 14
        }
      ]
    },
    {
      "cell_type": "markdown",
      "metadata": {
        "id": "69294ff9"
      },
      "source": [
        "#### Handling Missing values"
      ],
      "id": "69294ff9"
    },
    {
      "cell_type": "code",
      "metadata": {
        "colab": {
          "base_uri": "https://localhost:8080/"
        },
        "id": "d0570d07",
        "outputId": "b6cd0f11-2734-4e4f-ec56-8d4868e10b94"
      },
      "source": [
        "# Dropping columns whith high Null value percentage\n",
        "df.drop(columns = ['reviews_userProvince','reviews_userCity','reviews_didPurchase'],axis =1,inplace = True)\n",
        "df.shape"
      ],
      "id": "d0570d07",
      "execution_count": 15,
      "outputs": [
        {
          "output_type": "execute_result",
          "data": {
            "text/plain": [
              "(30000, 12)"
            ]
          },
          "metadata": {
            "tags": []
          },
          "execution_count": 15
        }
      ]
    },
    {
      "cell_type": "code",
      "metadata": {
        "colab": {
          "base_uri": "https://localhost:8080/"
        },
        "id": "db20f281",
        "outputId": "40b7adc8-1fd7-496a-f8be-5be1a7f068a8"
      },
      "source": [
        "# Dropping the column reviews_date as the column can't be used for analysis\n",
        "df.drop(columns = ['reviews_date'],axis =1,inplace = True)\n",
        "df.shape"
      ],
      "id": "db20f281",
      "execution_count": 16,
      "outputs": [
        {
          "output_type": "execute_result",
          "data": {
            "text/plain": [
              "(30000, 11)"
            ]
          },
          "metadata": {
            "tags": []
          },
          "execution_count": 16
        }
      ]
    },
    {
      "cell_type": "code",
      "metadata": {
        "colab": {
          "base_uri": "https://localhost:8080/"
        },
        "id": "zF5s21prEhKq",
        "outputId": "c877b0ff-03f1-4687-f3aa-4f95fd0a036e"
      },
      "source": [
        "df = df[~df.user_sentiment.isna()]\n",
        "df.shape"
      ],
      "id": "zF5s21prEhKq",
      "execution_count": 17,
      "outputs": [
        {
          "output_type": "execute_result",
          "data": {
            "text/plain": [
              "(29999, 11)"
            ]
          },
          "metadata": {
            "tags": []
          },
          "execution_count": 17
        }
      ]
    },
    {
      "cell_type": "code",
      "metadata": {
        "colab": {
          "base_uri": "https://localhost:8080/",
          "height": 173
        },
        "id": "1a9973f4",
        "outputId": "428db5e6-555d-4147-a4be-953a396dd8dc"
      },
      "source": [
        "missing_data = missing_values(df)\n",
        "missing_data"
      ],
      "id": "1a9973f4",
      "execution_count": 18,
      "outputs": [
        {
          "output_type": "execute_result",
          "data": {
            "text/html": [
              "<div>\n",
              "<style scoped>\n",
              "    .dataframe tbody tr th:only-of-type {\n",
              "        vertical-align: middle;\n",
              "    }\n",
              "\n",
              "    .dataframe tbody tr th {\n",
              "        vertical-align: top;\n",
              "    }\n",
              "\n",
              "    .dataframe thead th {\n",
              "        text-align: right;\n",
              "    }\n",
              "</style>\n",
              "<table border=\"1\" class=\"dataframe\">\n",
              "  <thead>\n",
              "    <tr style=\"text-align: right;\">\n",
              "      <th></th>\n",
              "      <th>Column</th>\n",
              "      <th>Type</th>\n",
              "      <th>Missing_count</th>\n",
              "      <th>Missing_percentage</th>\n",
              "    </tr>\n",
              "  </thead>\n",
              "  <tbody>\n",
              "    <tr>\n",
              "      <th>1</th>\n",
              "      <td>reviews_doRecommend</td>\n",
              "      <td>object</td>\n",
              "      <td>2570</td>\n",
              "      <td>8.566952</td>\n",
              "    </tr>\n",
              "    <tr>\n",
              "      <th>2</th>\n",
              "      <td>reviews_title</td>\n",
              "      <td>object</td>\n",
              "      <td>190</td>\n",
              "      <td>0.633354</td>\n",
              "    </tr>\n",
              "    <tr>\n",
              "      <th>0</th>\n",
              "      <td>manufacturer</td>\n",
              "      <td>object</td>\n",
              "      <td>141</td>\n",
              "      <td>0.470016</td>\n",
              "    </tr>\n",
              "    <tr>\n",
              "      <th>3</th>\n",
              "      <td>reviews_username</td>\n",
              "      <td>object</td>\n",
              "      <td>63</td>\n",
              "      <td>0.210007</td>\n",
              "    </tr>\n",
              "  </tbody>\n",
              "</table>\n",
              "</div>"
            ],
            "text/plain": [
              "                Column    Type Missing_count  Missing_percentage\n",
              "1  reviews_doRecommend  object          2570            8.566952\n",
              "2        reviews_title  object           190            0.633354\n",
              "0         manufacturer  object           141            0.470016\n",
              "3     reviews_username  object            63            0.210007"
            ]
          },
          "metadata": {
            "tags": []
          },
          "execution_count": 18
        }
      ]
    },
    {
      "cell_type": "code",
      "metadata": {
        "colab": {
          "base_uri": "https://localhost:8080/",
          "height": 340
        },
        "id": "kVMpZquk-JU2",
        "outputId": "1635ea23-3a76-4543-ece8-a60cdc2faca7"
      },
      "source": [
        "# Creating a dataframe with columns requied from analysing the sentiment of the reviews\n",
        "df_sent = df[['user_sentiment']]\n",
        "# df_sent['reviews'] = df['brand'] +' '+ df['categories'] +' '+df['reviews_title']+' '+ df['reviews_text'] \n",
        "df_sent['reviews'] = df['reviews_title']+' '+ df['reviews_text'] \n",
        "df_sent.head()"
      ],
      "id": "kVMpZquk-JU2",
      "execution_count": 19,
      "outputs": [
        {
          "output_type": "execute_result",
          "data": {
            "text/html": [
              "<div>\n",
              "<style scoped>\n",
              "    .dataframe tbody tr th:only-of-type {\n",
              "        vertical-align: middle;\n",
              "    }\n",
              "\n",
              "    .dataframe tbody tr th {\n",
              "        vertical-align: top;\n",
              "    }\n",
              "\n",
              "    .dataframe thead th {\n",
              "        text-align: right;\n",
              "    }\n",
              "</style>\n",
              "<table border=\"1\" class=\"dataframe\">\n",
              "  <thead>\n",
              "    <tr style=\"text-align: right;\">\n",
              "      <th></th>\n",
              "      <th>user_sentiment</th>\n",
              "      <th>reviews</th>\n",
              "    </tr>\n",
              "  </thead>\n",
              "  <tbody>\n",
              "    <tr>\n",
              "      <th>0</th>\n",
              "      <td>Positive</td>\n",
              "      <td>Just Awesome i love this album. it's very good. more to the hip hop side than her current pop sound.. SO HYPE! i listen to this everyday at the gym! i give it 5star rating all the way. her metaphors are just crazy.</td>\n",
              "    </tr>\n",
              "    <tr>\n",
              "      <th>1</th>\n",
              "      <td>Positive</td>\n",
              "      <td>Good Good flavor. This review was collected as part of a promotion.</td>\n",
              "    </tr>\n",
              "    <tr>\n",
              "      <th>2</th>\n",
              "      <td>Positive</td>\n",
              "      <td>Good Good flavor.</td>\n",
              "    </tr>\n",
              "    <tr>\n",
              "      <th>3</th>\n",
              "      <td>Negative</td>\n",
              "      <td>Disappointed I read through the reviews on here before looking in to buying one of the couples lubricants, and was ultimately disappointed that it didn't even live up to the reviews I had read. For starters, neither my boyfriend nor I could notice any sort of enhanced or 'captivating' sensation. What we did notice, however, was the messy consistency that was reminiscent of a more liquid-y vaseline. It was difficult to clean up, and was not a pleasant, especially since it lacked the 'captivating' sensation we had both been expecting. I'm disappointed that I paid as much as I did for a lube that I won't use again, when I could just use their normal personal lubricant for 1) less money and 2) less mess.</td>\n",
              "    </tr>\n",
              "    <tr>\n",
              "      <th>4</th>\n",
              "      <td>Negative</td>\n",
              "      <td>Irritation My husband bought this gel for us. The gel caused irritation and it felt like it was burning my skin. I wouldn't recommend this gel.</td>\n",
              "    </tr>\n",
              "  </tbody>\n",
              "</table>\n",
              "</div>"
            ],
            "text/plain": [
              "  user_sentiment                                                                                                                                                                                                                                                                                                                                                                                                                                                                                                                                                                                                                                                                                                                                reviews\n",
              "0       Positive                                                                                                                                                                                                                                                                                                                                                                                                                                                                                                                 Just Awesome i love this album. it's very good. more to the hip hop side than her current pop sound.. SO HYPE! i listen to this everyday at the gym! i give it 5star rating all the way. her metaphors are just crazy.\n",
              "1       Positive                                                                                                                                                                                                                                                                                                                                                                                                                                                                                                                                                                                                                                                                    Good Good flavor. This review was collected as part of a promotion.\n",
              "2       Positive                                                                                                                                                                                                                                                                                                                                                                                                                                                                                                                                                                                                                                                                                                                      Good Good flavor.\n",
              "3       Negative  Disappointed I read through the reviews on here before looking in to buying one of the couples lubricants, and was ultimately disappointed that it didn't even live up to the reviews I had read. For starters, neither my boyfriend nor I could notice any sort of enhanced or 'captivating' sensation. What we did notice, however, was the messy consistency that was reminiscent of a more liquid-y vaseline. It was difficult to clean up, and was not a pleasant, especially since it lacked the 'captivating' sensation we had both been expecting. I'm disappointed that I paid as much as I did for a lube that I won't use again, when I could just use their normal personal lubricant for 1) less money and 2) less mess.\n",
              "4       Negative                                                                                                                                                                                                                                                                                                                                                                                                                                                                                                                                                                                        Irritation My husband bought this gel for us. The gel caused irritation and it felt like it was burning my skin. I wouldn't recommend this gel."
            ]
          },
          "metadata": {
            "tags": []
          },
          "execution_count": 19
        }
      ]
    },
    {
      "cell_type": "code",
      "metadata": {
        "id": "hG59ebh1H0Ap"
      },
      "source": [
        "# Converting the type of reviews column to String type\n",
        "df_sent['reviews'] = df_sent['reviews'].astype('str')"
      ],
      "id": "hG59ebh1H0Ap",
      "execution_count": 20,
      "outputs": []
    },
    {
      "cell_type": "code",
      "metadata": {
        "id": "06MOA-KKCAKR"
      },
      "source": [
        "# Mapping the user_sentiment column to numeric values (0 if negative and 1 if positive)\n",
        "df_sent.user_sentiment = df_sent.user_sentiment.apply(lambda x: 0 if x == 'Negative' else 1)"
      ],
      "id": "06MOA-KKCAKR",
      "execution_count": 21,
      "outputs": []
    },
    {
      "cell_type": "code",
      "metadata": {
        "colab": {
          "base_uri": "https://localhost:8080/",
          "height": 340
        },
        "id": "S6fUgHJVCHC0",
        "outputId": "62f579a9-91ad-4944-f7ae-23ee137ce60a"
      },
      "source": [
        "# Checking the dataframe\n",
        "df_sent.head()"
      ],
      "id": "S6fUgHJVCHC0",
      "execution_count": 22,
      "outputs": [
        {
          "output_type": "execute_result",
          "data": {
            "text/html": [
              "<div>\n",
              "<style scoped>\n",
              "    .dataframe tbody tr th:only-of-type {\n",
              "        vertical-align: middle;\n",
              "    }\n",
              "\n",
              "    .dataframe tbody tr th {\n",
              "        vertical-align: top;\n",
              "    }\n",
              "\n",
              "    .dataframe thead th {\n",
              "        text-align: right;\n",
              "    }\n",
              "</style>\n",
              "<table border=\"1\" class=\"dataframe\">\n",
              "  <thead>\n",
              "    <tr style=\"text-align: right;\">\n",
              "      <th></th>\n",
              "      <th>user_sentiment</th>\n",
              "      <th>reviews</th>\n",
              "    </tr>\n",
              "  </thead>\n",
              "  <tbody>\n",
              "    <tr>\n",
              "      <th>0</th>\n",
              "      <td>1</td>\n",
              "      <td>Just Awesome i love this album. it's very good. more to the hip hop side than her current pop sound.. SO HYPE! i listen to this everyday at the gym! i give it 5star rating all the way. her metaphors are just crazy.</td>\n",
              "    </tr>\n",
              "    <tr>\n",
              "      <th>1</th>\n",
              "      <td>1</td>\n",
              "      <td>Good Good flavor. This review was collected as part of a promotion.</td>\n",
              "    </tr>\n",
              "    <tr>\n",
              "      <th>2</th>\n",
              "      <td>1</td>\n",
              "      <td>Good Good flavor.</td>\n",
              "    </tr>\n",
              "    <tr>\n",
              "      <th>3</th>\n",
              "      <td>0</td>\n",
              "      <td>Disappointed I read through the reviews on here before looking in to buying one of the couples lubricants, and was ultimately disappointed that it didn't even live up to the reviews I had read. For starters, neither my boyfriend nor I could notice any sort of enhanced or 'captivating' sensation. What we did notice, however, was the messy consistency that was reminiscent of a more liquid-y vaseline. It was difficult to clean up, and was not a pleasant, especially since it lacked the 'captivating' sensation we had both been expecting. I'm disappointed that I paid as much as I did for a lube that I won't use again, when I could just use their normal personal lubricant for 1) less money and 2) less mess.</td>\n",
              "    </tr>\n",
              "    <tr>\n",
              "      <th>4</th>\n",
              "      <td>0</td>\n",
              "      <td>Irritation My husband bought this gel for us. The gel caused irritation and it felt like it was burning my skin. I wouldn't recommend this gel.</td>\n",
              "    </tr>\n",
              "  </tbody>\n",
              "</table>\n",
              "</div>"
            ],
            "text/plain": [
              "   user_sentiment                                                                                                                                                                                                                                                                                                                                                                                                                                                                                                                                                                                                                                                                                                                                reviews\n",
              "0               1                                                                                                                                                                                                                                                                                                                                                                                                                                                                                                                 Just Awesome i love this album. it's very good. more to the hip hop side than her current pop sound.. SO HYPE! i listen to this everyday at the gym! i give it 5star rating all the way. her metaphors are just crazy.\n",
              "1               1                                                                                                                                                                                                                                                                                                                                                                                                                                                                                                                                                                                                                                                                    Good Good flavor. This review was collected as part of a promotion.\n",
              "2               1                                                                                                                                                                                                                                                                                                                                                                                                                                                                                                                                                                                                                                                                                                                      Good Good flavor.\n",
              "3               0  Disappointed I read through the reviews on here before looking in to buying one of the couples lubricants, and was ultimately disappointed that it didn't even live up to the reviews I had read. For starters, neither my boyfriend nor I could notice any sort of enhanced or 'captivating' sensation. What we did notice, however, was the messy consistency that was reminiscent of a more liquid-y vaseline. It was difficult to clean up, and was not a pleasant, especially since it lacked the 'captivating' sensation we had both been expecting. I'm disappointed that I paid as much as I did for a lube that I won't use again, when I could just use their normal personal lubricant for 1) less money and 2) less mess.\n",
              "4               0                                                                                                                                                                                                                                                                                                                                                                                                                                                                                                                                                                                        Irritation My husband bought this gel for us. The gel caused irritation and it felt like it was burning my skin. I wouldn't recommend this gel."
            ]
          },
          "metadata": {
            "tags": []
          },
          "execution_count": 22
        }
      ]
    },
    {
      "cell_type": "markdown",
      "metadata": {
        "id": "RCaQVIgxEzoM"
      },
      "source": [
        "## Text processing"
      ],
      "id": "RCaQVIgxEzoM"
    },
    {
      "cell_type": "markdown",
      "metadata": {
        "id": "hSWth6m_FCso"
      },
      "source": [
        "#### Convert text to lowercase"
      ],
      "id": "hSWth6m_FCso"
    },
    {
      "cell_type": "code",
      "metadata": {
        "colab": {
          "base_uri": "https://localhost:8080/",
          "height": 306
        },
        "id": "_jaEA4KaCyzS",
        "outputId": "a0570d71-aba4-432b-e72b-ef424c7e7cef"
      },
      "source": [
        "df_sent.reviews = df_sent.reviews.str.lower()\n",
        "df_sent[['reviews']].head()"
      ],
      "id": "_jaEA4KaCyzS",
      "execution_count": 23,
      "outputs": [
        {
          "output_type": "execute_result",
          "data": {
            "text/html": [
              "<div>\n",
              "<style scoped>\n",
              "    .dataframe tbody tr th:only-of-type {\n",
              "        vertical-align: middle;\n",
              "    }\n",
              "\n",
              "    .dataframe tbody tr th {\n",
              "        vertical-align: top;\n",
              "    }\n",
              "\n",
              "    .dataframe thead th {\n",
              "        text-align: right;\n",
              "    }\n",
              "</style>\n",
              "<table border=\"1\" class=\"dataframe\">\n",
              "  <thead>\n",
              "    <tr style=\"text-align: right;\">\n",
              "      <th></th>\n",
              "      <th>reviews</th>\n",
              "    </tr>\n",
              "  </thead>\n",
              "  <tbody>\n",
              "    <tr>\n",
              "      <th>0</th>\n",
              "      <td>just awesome i love this album. it's very good. more to the hip hop side than her current pop sound.. so hype! i listen to this everyday at the gym! i give it 5star rating all the way. her metaphors are just crazy.</td>\n",
              "    </tr>\n",
              "    <tr>\n",
              "      <th>1</th>\n",
              "      <td>good good flavor. this review was collected as part of a promotion.</td>\n",
              "    </tr>\n",
              "    <tr>\n",
              "      <th>2</th>\n",
              "      <td>good good flavor.</td>\n",
              "    </tr>\n",
              "    <tr>\n",
              "      <th>3</th>\n",
              "      <td>disappointed i read through the reviews on here before looking in to buying one of the couples lubricants, and was ultimately disappointed that it didn't even live up to the reviews i had read. for starters, neither my boyfriend nor i could notice any sort of enhanced or 'captivating' sensation. what we did notice, however, was the messy consistency that was reminiscent of a more liquid-y vaseline. it was difficult to clean up, and was not a pleasant, especially since it lacked the 'captivating' sensation we had both been expecting. i'm disappointed that i paid as much as i did for a lube that i won't use again, when i could just use their normal personal lubricant for 1) less money and 2) less mess.</td>\n",
              "    </tr>\n",
              "    <tr>\n",
              "      <th>4</th>\n",
              "      <td>irritation my husband bought this gel for us. the gel caused irritation and it felt like it was burning my skin. i wouldn't recommend this gel.</td>\n",
              "    </tr>\n",
              "  </tbody>\n",
              "</table>\n",
              "</div>"
            ],
            "text/plain": [
              "                                                                                                                                                                                                                                                                                                                                                                                                                                                                                                                                                                                                                                                                                                                                 reviews\n",
              "0                                                                                                                                                                                                                                                                                                                                                                                                                                                                                                                 just awesome i love this album. it's very good. more to the hip hop side than her current pop sound.. so hype! i listen to this everyday at the gym! i give it 5star rating all the way. her metaphors are just crazy.\n",
              "1                                                                                                                                                                                                                                                                                                                                                                                                                                                                                                                                                                                                                                                                    good good flavor. this review was collected as part of a promotion.\n",
              "2                                                                                                                                                                                                                                                                                                                                                                                                                                                                                                                                                                                                                                                                                                                      good good flavor.\n",
              "3  disappointed i read through the reviews on here before looking in to buying one of the couples lubricants, and was ultimately disappointed that it didn't even live up to the reviews i had read. for starters, neither my boyfriend nor i could notice any sort of enhanced or 'captivating' sensation. what we did notice, however, was the messy consistency that was reminiscent of a more liquid-y vaseline. it was difficult to clean up, and was not a pleasant, especially since it lacked the 'captivating' sensation we had both been expecting. i'm disappointed that i paid as much as i did for a lube that i won't use again, when i could just use their normal personal lubricant for 1) less money and 2) less mess.\n",
              "4                                                                                                                                                                                                                                                                                                                                                                                                                                                                                                                                                                                        irritation my husband bought this gel for us. the gel caused irritation and it felt like it was burning my skin. i wouldn't recommend this gel."
            ]
          },
          "metadata": {
            "tags": []
          },
          "execution_count": 23
        }
      ]
    },
    {
      "cell_type": "markdown",
      "metadata": {
        "id": "seg-zPcAFe3L"
      },
      "source": [
        "#### Remove numbers\n"
      ],
      "id": "seg-zPcAFe3L"
    },
    {
      "cell_type": "code",
      "metadata": {
        "id": "1YFUIeNAFM4B"
      },
      "source": [
        "# Function to remove digits.\n",
        "def remove_numbers(text): \n",
        "  text_processed = re.sub(r'\\d+', '', text)\n",
        "  return text_processed"
      ],
      "id": "1YFUIeNAFM4B",
      "execution_count": 24,
      "outputs": []
    },
    {
      "cell_type": "code",
      "metadata": {
        "colab": {
          "base_uri": "https://localhost:8080/",
          "height": 306
        },
        "id": "xuQCwduNJKlS",
        "outputId": "8301d083-8ac3-4d10-aed4-b8385659e436"
      },
      "source": [
        "df_sent.reviews = df_sent.reviews.apply(lambda text: remove_numbers(text))\n",
        "df_sent[['reviews']].head()"
      ],
      "id": "xuQCwduNJKlS",
      "execution_count": 25,
      "outputs": [
        {
          "output_type": "execute_result",
          "data": {
            "text/html": [
              "<div>\n",
              "<style scoped>\n",
              "    .dataframe tbody tr th:only-of-type {\n",
              "        vertical-align: middle;\n",
              "    }\n",
              "\n",
              "    .dataframe tbody tr th {\n",
              "        vertical-align: top;\n",
              "    }\n",
              "\n",
              "    .dataframe thead th {\n",
              "        text-align: right;\n",
              "    }\n",
              "</style>\n",
              "<table border=\"1\" class=\"dataframe\">\n",
              "  <thead>\n",
              "    <tr style=\"text-align: right;\">\n",
              "      <th></th>\n",
              "      <th>reviews</th>\n",
              "    </tr>\n",
              "  </thead>\n",
              "  <tbody>\n",
              "    <tr>\n",
              "      <th>0</th>\n",
              "      <td>just awesome i love this album. it's very good. more to the hip hop side than her current pop sound.. so hype! i listen to this everyday at the gym! i give it star rating all the way. her metaphors are just crazy.</td>\n",
              "    </tr>\n",
              "    <tr>\n",
              "      <th>1</th>\n",
              "      <td>good good flavor. this review was collected as part of a promotion.</td>\n",
              "    </tr>\n",
              "    <tr>\n",
              "      <th>2</th>\n",
              "      <td>good good flavor.</td>\n",
              "    </tr>\n",
              "    <tr>\n",
              "      <th>3</th>\n",
              "      <td>disappointed i read through the reviews on here before looking in to buying one of the couples lubricants, and was ultimately disappointed that it didn't even live up to the reviews i had read. for starters, neither my boyfriend nor i could notice any sort of enhanced or 'captivating' sensation. what we did notice, however, was the messy consistency that was reminiscent of a more liquid-y vaseline. it was difficult to clean up, and was not a pleasant, especially since it lacked the 'captivating' sensation we had both been expecting. i'm disappointed that i paid as much as i did for a lube that i won't use again, when i could just use their normal personal lubricant for ) less money and ) less mess.</td>\n",
              "    </tr>\n",
              "    <tr>\n",
              "      <th>4</th>\n",
              "      <td>irritation my husband bought this gel for us. the gel caused irritation and it felt like it was burning my skin. i wouldn't recommend this gel.</td>\n",
              "    </tr>\n",
              "  </tbody>\n",
              "</table>\n",
              "</div>"
            ],
            "text/plain": [
              "                                                                                                                                                                                                                                                                                                                                                                                                                                                                                                                                                                                                                                                                                                                               reviews\n",
              "0                                                                                                                                                                                                                                                                                                                                                                                                                                                                                                                just awesome i love this album. it's very good. more to the hip hop side than her current pop sound.. so hype! i listen to this everyday at the gym! i give it star rating all the way. her metaphors are just crazy.\n",
              "1                                                                                                                                                                                                                                                                                                                                                                                                                                                                                                                                                                                                                                                                  good good flavor. this review was collected as part of a promotion.\n",
              "2                                                                                                                                                                                                                                                                                                                                                                                                                                                                                                                                                                                                                                                                                                                    good good flavor.\n",
              "3  disappointed i read through the reviews on here before looking in to buying one of the couples lubricants, and was ultimately disappointed that it didn't even live up to the reviews i had read. for starters, neither my boyfriend nor i could notice any sort of enhanced or 'captivating' sensation. what we did notice, however, was the messy consistency that was reminiscent of a more liquid-y vaseline. it was difficult to clean up, and was not a pleasant, especially since it lacked the 'captivating' sensation we had both been expecting. i'm disappointed that i paid as much as i did for a lube that i won't use again, when i could just use their normal personal lubricant for ) less money and ) less mess.\n",
              "4                                                                                                                                                                                                                                                                                                                                                                                                                                                                                                                                                                                      irritation my husband bought this gel for us. the gel caused irritation and it felt like it was burning my skin. i wouldn't recommend this gel."
            ]
          },
          "metadata": {
            "tags": []
          },
          "execution_count": 25
        }
      ]
    },
    {
      "cell_type": "markdown",
      "metadata": {
        "id": "iLr1Ogf_JkYs"
      },
      "source": [
        "#### Remove punctuations"
      ],
      "id": "iLr1Ogf_JkYs"
    },
    {
      "cell_type": "code",
      "metadata": {
        "colab": {
          "base_uri": "https://localhost:8080/"
        },
        "id": "VfjNpWGnFO3G",
        "outputId": "328c2a6f-6739-4304-dee4-b57d50287efd"
      },
      "source": [
        "print(string.punctuation)"
      ],
      "id": "VfjNpWGnFO3G",
      "execution_count": 26,
      "outputs": [
        {
          "output_type": "stream",
          "text": [
            "!\"#$%&'()*+,-./:;<=>?@[\\]^_`{|}~\n"
          ],
          "name": "stdout"
        }
      ]
    },
    {
      "cell_type": "code",
      "metadata": {
        "id": "8kcbgdNTGPRY"
      },
      "source": [
        "def remove_punctuation(text): \n",
        "  text_processed = \"\".join([char for char in text if char not in string.punctuation])\n",
        "  return text_processed"
      ],
      "id": "8kcbgdNTGPRY",
      "execution_count": 27,
      "outputs": []
    },
    {
      "cell_type": "code",
      "metadata": {
        "colab": {
          "base_uri": "https://localhost:8080/",
          "height": 306
        },
        "id": "u-rH_o68Gzzy",
        "outputId": "09ee0dae-4884-4a5d-dbba-aadb8d5b275f"
      },
      "source": [
        "df_sent.reviews = df_sent.reviews.apply(lambda text: remove_punctuation(text))\n",
        "df_sent[['reviews']].head()"
      ],
      "id": "u-rH_o68Gzzy",
      "execution_count": 28,
      "outputs": [
        {
          "output_type": "execute_result",
          "data": {
            "text/html": [
              "<div>\n",
              "<style scoped>\n",
              "    .dataframe tbody tr th:only-of-type {\n",
              "        vertical-align: middle;\n",
              "    }\n",
              "\n",
              "    .dataframe tbody tr th {\n",
              "        vertical-align: top;\n",
              "    }\n",
              "\n",
              "    .dataframe thead th {\n",
              "        text-align: right;\n",
              "    }\n",
              "</style>\n",
              "<table border=\"1\" class=\"dataframe\">\n",
              "  <thead>\n",
              "    <tr style=\"text-align: right;\">\n",
              "      <th></th>\n",
              "      <th>reviews</th>\n",
              "    </tr>\n",
              "  </thead>\n",
              "  <tbody>\n",
              "    <tr>\n",
              "      <th>0</th>\n",
              "      <td>just awesome i love this album its very good more to the hip hop side than her current pop sound so hype i listen to this everyday at the gym i give it star rating all the way her metaphors are just crazy</td>\n",
              "    </tr>\n",
              "    <tr>\n",
              "      <th>1</th>\n",
              "      <td>good good flavor this review was collected as part of a promotion</td>\n",
              "    </tr>\n",
              "    <tr>\n",
              "      <th>2</th>\n",
              "      <td>good good flavor</td>\n",
              "    </tr>\n",
              "    <tr>\n",
              "      <th>3</th>\n",
              "      <td>disappointed i read through the reviews on here before looking in to buying one of the couples lubricants and was ultimately disappointed that it didnt even live up to the reviews i had read for starters neither my boyfriend nor i could notice any sort of enhanced or captivating sensation what we did notice however was the messy consistency that was reminiscent of a more liquidy vaseline it was difficult to clean up and was not a pleasant especially since it lacked the captivating sensation we had both been expecting im disappointed that i paid as much as i did for a lube that i wont use again when i could just use their normal personal lubricant for  less money and  less mess</td>\n",
              "    </tr>\n",
              "    <tr>\n",
              "      <th>4</th>\n",
              "      <td>irritation my husband bought this gel for us the gel caused irritation and it felt like it was burning my skin i wouldnt recommend this gel</td>\n",
              "    </tr>\n",
              "  </tbody>\n",
              "</table>\n",
              "</div>"
            ],
            "text/plain": [
              "                                                                                                                                                                                                                                                                                                                                                                                                                                                                                                                                                                                                                                                                                                         reviews\n",
              "0                                                                                                                                                                                                                                                                                                                                                                                                                                                                                                   just awesome i love this album its very good more to the hip hop side than her current pop sound so hype i listen to this everyday at the gym i give it star rating all the way her metaphors are just crazy\n",
              "1                                                                                                                                                                                                                                                                                                                                                                                                                                                                                                                                                                                                                                              good good flavor this review was collected as part of a promotion\n",
              "2                                                                                                                                                                                                                                                                                                                                                                                                                                                                                                                                                                                                                                                                                               good good flavor\n",
              "3  disappointed i read through the reviews on here before looking in to buying one of the couples lubricants and was ultimately disappointed that it didnt even live up to the reviews i had read for starters neither my boyfriend nor i could notice any sort of enhanced or captivating sensation what we did notice however was the messy consistency that was reminiscent of a more liquidy vaseline it was difficult to clean up and was not a pleasant especially since it lacked the captivating sensation we had both been expecting im disappointed that i paid as much as i did for a lube that i wont use again when i could just use their normal personal lubricant for  less money and  less mess\n",
              "4                                                                                                                                                                                                                                                                                                                                                                                                                                                                                                                                                                    irritation my husband bought this gel for us the gel caused irritation and it felt like it was burning my skin i wouldnt recommend this gel"
            ]
          },
          "metadata": {
            "tags": []
          },
          "execution_count": 28
        }
      ]
    },
    {
      "cell_type": "markdown",
      "metadata": {
        "id": "L6zmkqEqKCpY"
      },
      "source": [
        "#### Remove stopwords"
      ],
      "id": "L6zmkqEqKCpY"
    },
    {
      "cell_type": "code",
      "metadata": {
        "colab": {
          "base_uri": "https://localhost:8080/"
        },
        "id": "ndJb-ZHmHIE4",
        "outputId": "dc1f8e4f-a9d3-4fa5-acfc-edae0f1af6c5"
      },
      "source": [
        "stop_words = stopwords.words('english')\n",
        "stop_words[:10]"
      ],
      "id": "ndJb-ZHmHIE4",
      "execution_count": 29,
      "outputs": [
        {
          "output_type": "execute_result",
          "data": {
            "text/plain": [
              "['i', 'me', 'my', 'myself', 'we', 'our', 'ours', 'ourselves', 'you', \"you're\"]"
            ]
          },
          "metadata": {
            "tags": []
          },
          "execution_count": 29
        }
      ]
    },
    {
      "cell_type": "code",
      "metadata": {
        "id": "EpB9yLmnIimf"
      },
      "source": [
        "def remove_stopwords(text):\n",
        "\n",
        "    # tokenize into words\n",
        "    words = word_tokenize(text)\n",
        "\n",
        "    # remove stop words\n",
        "    words = [word for word in words if word not in stop_words]\n",
        "\n",
        "    # join words to make sentence\n",
        "    text_processed = \" \".join(words)\n",
        "    \n",
        "    return text_processed"
      ],
      "id": "EpB9yLmnIimf",
      "execution_count": 30,
      "outputs": []
    },
    {
      "cell_type": "code",
      "metadata": {
        "colab": {
          "base_uri": "https://localhost:8080/",
          "height": 255
        },
        "id": "AeXxbX-BIvCL",
        "outputId": "68c3cba4-d241-4c52-f540-5a3a405cda01"
      },
      "source": [
        "df_sent.reviews = df_sent.reviews.apply(lambda text: remove_stopwords(text))\n",
        "df_sent[['reviews']].head()"
      ],
      "id": "AeXxbX-BIvCL",
      "execution_count": 31,
      "outputs": [
        {
          "output_type": "execute_result",
          "data": {
            "text/html": [
              "<div>\n",
              "<style scoped>\n",
              "    .dataframe tbody tr th:only-of-type {\n",
              "        vertical-align: middle;\n",
              "    }\n",
              "\n",
              "    .dataframe tbody tr th {\n",
              "        vertical-align: top;\n",
              "    }\n",
              "\n",
              "    .dataframe thead th {\n",
              "        text-align: right;\n",
              "    }\n",
              "</style>\n",
              "<table border=\"1\" class=\"dataframe\">\n",
              "  <thead>\n",
              "    <tr style=\"text-align: right;\">\n",
              "      <th></th>\n",
              "      <th>reviews</th>\n",
              "    </tr>\n",
              "  </thead>\n",
              "  <tbody>\n",
              "    <tr>\n",
              "      <th>0</th>\n",
              "      <td>awesome love album good hip hop side current pop sound hype listen everyday gym give star rating way metaphors crazy</td>\n",
              "    </tr>\n",
              "    <tr>\n",
              "      <th>1</th>\n",
              "      <td>good good flavor review collected part promotion</td>\n",
              "    </tr>\n",
              "    <tr>\n",
              "      <th>2</th>\n",
              "      <td>good good flavor</td>\n",
              "    </tr>\n",
              "    <tr>\n",
              "      <th>3</th>\n",
              "      <td>disappointed read reviews looking buying one couples lubricants ultimately disappointed didnt even live reviews read starters neither boyfriend could notice sort enhanced captivating sensation notice however messy consistency reminiscent liquidy vaseline difficult clean pleasant especially since lacked captivating sensation expecting im disappointed paid much lube wont use could use normal personal lubricant less money less mess</td>\n",
              "    </tr>\n",
              "    <tr>\n",
              "      <th>4</th>\n",
              "      <td>irritation husband bought gel us gel caused irritation felt like burning skin wouldnt recommend gel</td>\n",
              "    </tr>\n",
              "  </tbody>\n",
              "</table>\n",
              "</div>"
            ],
            "text/plain": [
              "                                                                                                                                                                                                                                                                                                                                                                                                                                            reviews\n",
              "0                                                                                                                                                                                                                                                                                                                              awesome love album good hip hop side current pop sound hype listen everyday gym give star rating way metaphors crazy\n",
              "1                                                                                                                                                                                                                                                                                                                                                                                                  good good flavor review collected part promotion\n",
              "2                                                                                                                                                                                                                                                                                                                                                                                                                                  good good flavor\n",
              "3  disappointed read reviews looking buying one couples lubricants ultimately disappointed didnt even live reviews read starters neither boyfriend could notice sort enhanced captivating sensation notice however messy consistency reminiscent liquidy vaseline difficult clean pleasant especially since lacked captivating sensation expecting im disappointed paid much lube wont use could use normal personal lubricant less money less mess\n",
              "4                                                                                                                                                                                                                                                                                                                                               irritation husband bought gel us gel caused irritation felt like burning skin wouldnt recommend gel"
            ]
          },
          "metadata": {
            "tags": []
          },
          "execution_count": 31
        }
      ]
    },
    {
      "cell_type": "markdown",
      "metadata": {
        "id": "UhNH7-y3MZew"
      },
      "source": [
        "#### Remove rare words"
      ],
      "id": "UhNH7-y3MZew"
    },
    {
      "cell_type": "code",
      "metadata": {
        "id": "FBClPfAFULgA"
      },
      "source": [
        "# Storing all the words and count in a set\n",
        "word_count = {}\n",
        "def get_vocab(df):\n",
        "  vocab = set()\n",
        "  reviews = df.reviews\n",
        "  for review in reviews:\n",
        "    for token in review.split(' '):\n",
        "      vocab.add(token)\n",
        "  return len(vocab)\n",
        "def get_word_count(df):\n",
        "  reviews = df.reviews\n",
        "  for review in reviews:\n",
        "    for token in review.split(' '):\n",
        "      word_count[token] = word_count.get(token, 0) + 1\n",
        "  return len(word_count)\n"
      ],
      "id": "FBClPfAFULgA",
      "execution_count": 32,
      "outputs": []
    },
    {
      "cell_type": "code",
      "metadata": {
        "id": "jIhr9rT9FgNq"
      },
      "source": [
        "# Remove rarewords function\n",
        "def remove_rare_words(text):\n",
        "\n",
        "    # tokenize into words\n",
        "    words = word_tokenize(text)\n",
        "\n",
        "    # remove rare words (count < 30 )\n",
        "    words = [word for word in words if word_count.get(word) > 20]\n",
        "\n",
        "    # join words to make sentence\n",
        "    text_processed = \" \".join(words)\n",
        "    \n",
        "    return text_processed"
      ],
      "id": "jIhr9rT9FgNq",
      "execution_count": 33,
      "outputs": []
    },
    {
      "cell_type": "code",
      "metadata": {
        "colab": {
          "base_uri": "https://localhost:8080/"
        },
        "id": "hKeisMctFgkp",
        "outputId": "f5a8839e-efd2-49b5-97de-56f8c85c25c2"
      },
      "source": [
        "print(get_vocab(df_sent))\n",
        "print(get_word_count(df_sent))\n",
        "df_sent.reviews = df_sent.reviews.apply(lambda text: remove_rare_words(text))\n",
        "print(get_vocab(df_sent))"
      ],
      "id": "hKeisMctFgkp",
      "execution_count": 34,
      "outputs": [
        {
          "output_type": "stream",
          "text": [
            "21427\n",
            "21427\n",
            "2496\n"
          ],
          "name": "stdout"
        }
      ]
    },
    {
      "cell_type": "code",
      "metadata": {
        "colab": {
          "base_uri": "https://localhost:8080/",
          "height": 238
        },
        "id": "-il6MWQwRQx5",
        "outputId": "28df30e0-9faa-45e9-d7b3-eb9498141dcc"
      },
      "source": [
        "df_sent[['reviews']].head()"
      ],
      "id": "-il6MWQwRQx5",
      "execution_count": 35,
      "outputs": [
        {
          "output_type": "execute_result",
          "data": {
            "text/html": [
              "<div>\n",
              "<style scoped>\n",
              "    .dataframe tbody tr th:only-of-type {\n",
              "        vertical-align: middle;\n",
              "    }\n",
              "\n",
              "    .dataframe tbody tr th {\n",
              "        vertical-align: top;\n",
              "    }\n",
              "\n",
              "    .dataframe thead th {\n",
              "        text-align: right;\n",
              "    }\n",
              "</style>\n",
              "<table border=\"1\" class=\"dataframe\">\n",
              "  <thead>\n",
              "    <tr style=\"text-align: right;\">\n",
              "      <th></th>\n",
              "      <th>reviews</th>\n",
              "    </tr>\n",
              "  </thead>\n",
              "  <tbody>\n",
              "    <tr>\n",
              "      <th>0</th>\n",
              "      <td>awesome love album good side current pop sound listen everyday gym give star rating way crazy</td>\n",
              "    </tr>\n",
              "    <tr>\n",
              "      <th>1</th>\n",
              "      <td>good good flavor review collected part promotion</td>\n",
              "    </tr>\n",
              "    <tr>\n",
              "      <th>2</th>\n",
              "      <td>good good flavor</td>\n",
              "    </tr>\n",
              "    <tr>\n",
              "      <th>3</th>\n",
              "      <td>disappointed read reviews looking buying one disappointed didnt even live reviews read boyfriend could notice sort notice however messy consistency vaseline difficult clean pleasant especially since expecting im disappointed paid much wont use could use normal personal less money less mess</td>\n",
              "    </tr>\n",
              "    <tr>\n",
              "      <th>4</th>\n",
              "      <td>husband bought gel us gel caused felt like burning skin wouldnt recommend gel</td>\n",
              "    </tr>\n",
              "  </tbody>\n",
              "</table>\n",
              "</div>"
            ],
            "text/plain": [
              "                                                                                                                                                                                                                                                                                              reviews\n",
              "0                                                                                                                                                                                                       awesome love album good side current pop sound listen everyday gym give star rating way crazy\n",
              "1                                                                                                                                                                                                                                                    good good flavor review collected part promotion\n",
              "2                                                                                                                                                                                                                                                                                    good good flavor\n",
              "3  disappointed read reviews looking buying one disappointed didnt even live reviews read boyfriend could notice sort notice however messy consistency vaseline difficult clean pleasant especially since expecting im disappointed paid much wont use could use normal personal less money less mess\n",
              "4                                                                                                                                                                                                                       husband bought gel us gel caused felt like burning skin wouldnt recommend gel"
            ]
          },
          "metadata": {
            "tags": []
          },
          "execution_count": 35
        }
      ]
    },
    {
      "cell_type": "markdown",
      "metadata": {
        "id": "C2NVL96gIpBi"
      },
      "source": [
        "#### Remove frequent words"
      ],
      "id": "C2NVL96gIpBi"
    },
    {
      "cell_type": "code",
      "metadata": {
        "id": "0sbxcUlLIpB0"
      },
      "source": [
        "# Removing all the words in revies which occured more than 10000 times\n",
        "def remove_frequent_words(text):\n",
        "\n",
        "    # tokenize into words\n",
        "    words = word_tokenize(text)\n",
        "\n",
        "    # remove rare words\n",
        "    words = [word for word in words if word_count[word] < 10000]\n",
        "\n",
        "    # join words to make sentence\n",
        "    text_processed = \" \".join(words)\n",
        "    \n",
        "    return text_processed"
      ],
      "id": "0sbxcUlLIpB0",
      "execution_count": 36,
      "outputs": []
    },
    {
      "cell_type": "code",
      "metadata": {
        "colab": {
          "base_uri": "https://localhost:8080/"
        },
        "id": "0m18xZIeIpB1",
        "outputId": "a9ceb73d-8873-419d-cdfa-57bb6d22de87"
      },
      "source": [
        "print(get_vocab(df_sent))\n",
        "print(get_word_count(df_sent))\n",
        "df_sent.reviews = df_sent.reviews.apply(lambda text: remove_rare_words(text))\n",
        "print(get_vocab(df_sent))"
      ],
      "id": "0m18xZIeIpB1",
      "execution_count": 37,
      "outputs": [
        {
          "output_type": "stream",
          "text": [
            "2496\n",
            "21427\n",
            "2496\n"
          ],
          "name": "stdout"
        }
      ]
    },
    {
      "cell_type": "code",
      "metadata": {
        "colab": {
          "base_uri": "https://localhost:8080/",
          "height": 238
        },
        "id": "pMvl6NSbIpB5",
        "outputId": "edfdef66-a746-4a5f-f3dd-d8f4c414d6e1"
      },
      "source": [
        "df_sent[['reviews']].head()"
      ],
      "id": "pMvl6NSbIpB5",
      "execution_count": 38,
      "outputs": [
        {
          "output_type": "execute_result",
          "data": {
            "text/html": [
              "<div>\n",
              "<style scoped>\n",
              "    .dataframe tbody tr th:only-of-type {\n",
              "        vertical-align: middle;\n",
              "    }\n",
              "\n",
              "    .dataframe tbody tr th {\n",
              "        vertical-align: top;\n",
              "    }\n",
              "\n",
              "    .dataframe thead th {\n",
              "        text-align: right;\n",
              "    }\n",
              "</style>\n",
              "<table border=\"1\" class=\"dataframe\">\n",
              "  <thead>\n",
              "    <tr style=\"text-align: right;\">\n",
              "      <th></th>\n",
              "      <th>reviews</th>\n",
              "    </tr>\n",
              "  </thead>\n",
              "  <tbody>\n",
              "    <tr>\n",
              "      <th>0</th>\n",
              "      <td>awesome love album good side current pop sound listen everyday gym give star rating way crazy</td>\n",
              "    </tr>\n",
              "    <tr>\n",
              "      <th>1</th>\n",
              "      <td>good good flavor review collected part promotion</td>\n",
              "    </tr>\n",
              "    <tr>\n",
              "      <th>2</th>\n",
              "      <td>good good flavor</td>\n",
              "    </tr>\n",
              "    <tr>\n",
              "      <th>3</th>\n",
              "      <td>disappointed read reviews looking buying one disappointed didnt even live reviews read boyfriend could notice sort notice however messy consistency vaseline difficult clean pleasant especially since expecting im disappointed paid much wont use could use normal personal less money less mess</td>\n",
              "    </tr>\n",
              "    <tr>\n",
              "      <th>4</th>\n",
              "      <td>husband bought gel us gel caused felt like burning skin wouldnt recommend gel</td>\n",
              "    </tr>\n",
              "  </tbody>\n",
              "</table>\n",
              "</div>"
            ],
            "text/plain": [
              "                                                                                                                                                                                                                                                                                              reviews\n",
              "0                                                                                                                                                                                                       awesome love album good side current pop sound listen everyday gym give star rating way crazy\n",
              "1                                                                                                                                                                                                                                                    good good flavor review collected part promotion\n",
              "2                                                                                                                                                                                                                                                                                    good good flavor\n",
              "3  disappointed read reviews looking buying one disappointed didnt even live reviews read boyfriend could notice sort notice however messy consistency vaseline difficult clean pleasant especially since expecting im disappointed paid much wont use could use normal personal less money less mess\n",
              "4                                                                                                                                                                                                                       husband bought gel us gel caused felt like burning skin wouldnt recommend gel"
            ]
          },
          "metadata": {
            "tags": []
          },
          "execution_count": 38
        }
      ]
    },
    {
      "cell_type": "markdown",
      "metadata": {
        "id": "AaLaHXf-Nu2q"
      },
      "source": [
        "#### Stemming"
      ],
      "id": "AaLaHXf-Nu2q"
    },
    {
      "cell_type": "code",
      "metadata": {
        "id": "N5xXOe2qIuS0"
      },
      "source": [
        "stemmer= PorterStemmer()\n",
        "\n",
        "def stemmer_func(text):\n",
        "    word_tokens = word_tokenize(text)\n",
        "    stems = [stemmer.stem(word) for word in word_tokens]\n",
        "\n",
        "    # stems = [str(TextBlob(stemmer.stem(word)).correct()) for word in word_tokens]\n",
        "    text_processed = \" \".join(stems)\n",
        "    return text_processed\n"
      ],
      "id": "N5xXOe2qIuS0",
      "execution_count": 39,
      "outputs": []
    },
    {
      "cell_type": "code",
      "metadata": {
        "colab": {
          "base_uri": "https://localhost:8080/",
          "height": 238
        },
        "id": "f6YUR_LEOWFh",
        "outputId": "799b0b61-3502-4edc-ff3d-e832876fff63"
      },
      "source": [
        "df_sent.reviews = df_sent.reviews.apply(lambda text: stemmer_func(text))\n",
        "df_sent.head(5)"
      ],
      "id": "f6YUR_LEOWFh",
      "execution_count": 40,
      "outputs": [
        {
          "output_type": "execute_result",
          "data": {
            "text/html": [
              "<div>\n",
              "<style scoped>\n",
              "    .dataframe tbody tr th:only-of-type {\n",
              "        vertical-align: middle;\n",
              "    }\n",
              "\n",
              "    .dataframe tbody tr th {\n",
              "        vertical-align: top;\n",
              "    }\n",
              "\n",
              "    .dataframe thead th {\n",
              "        text-align: right;\n",
              "    }\n",
              "</style>\n",
              "<table border=\"1\" class=\"dataframe\">\n",
              "  <thead>\n",
              "    <tr style=\"text-align: right;\">\n",
              "      <th></th>\n",
              "      <th>user_sentiment</th>\n",
              "      <th>reviews</th>\n",
              "    </tr>\n",
              "  </thead>\n",
              "  <tbody>\n",
              "    <tr>\n",
              "      <th>0</th>\n",
              "      <td>1</td>\n",
              "      <td>awesom love album good side current pop sound listen everyday gym give star rate way crazi</td>\n",
              "    </tr>\n",
              "    <tr>\n",
              "      <th>1</th>\n",
              "      <td>1</td>\n",
              "      <td>good good flavor review collect part promot</td>\n",
              "    </tr>\n",
              "    <tr>\n",
              "      <th>2</th>\n",
              "      <td>1</td>\n",
              "      <td>good good flavor</td>\n",
              "    </tr>\n",
              "    <tr>\n",
              "      <th>3</th>\n",
              "      <td>0</td>\n",
              "      <td>disappoint read review look buy one disappoint didnt even live review read boyfriend could notic sort notic howev messi consist vaselin difficult clean pleasant especi sinc expect im disappoint paid much wont use could use normal person less money less mess</td>\n",
              "    </tr>\n",
              "    <tr>\n",
              "      <th>4</th>\n",
              "      <td>0</td>\n",
              "      <td>husband bought gel us gel caus felt like burn skin wouldnt recommend gel</td>\n",
              "    </tr>\n",
              "  </tbody>\n",
              "</table>\n",
              "</div>"
            ],
            "text/plain": [
              "   user_sentiment                                                                                                                                                                                                                                                            reviews\n",
              "0               1                                                                                                                                                                         awesom love album good side current pop sound listen everyday gym give star rate way crazi\n",
              "1               1                                                                                                                                                                                                                        good good flavor review collect part promot\n",
              "2               1                                                                                                                                                                                                                                                   good good flavor\n",
              "3               0  disappoint read review look buy one disappoint didnt even live review read boyfriend could notic sort notic howev messi consist vaselin difficult clean pleasant especi sinc expect im disappoint paid much wont use could use normal person less money less mess\n",
              "4               0                                                                                                                                                                                           husband bought gel us gel caus felt like burn skin wouldnt recommend gel"
            ]
          },
          "metadata": {
            "tags": []
          },
          "execution_count": 40
        }
      ]
    },
    {
      "cell_type": "markdown",
      "metadata": {
        "id": "pSLRYelSIv7s"
      },
      "source": [
        "## Creating Bag Of Words model using count vectorizer function"
      ],
      "id": "pSLRYelSIv7s"
    },
    {
      "cell_type": "code",
      "metadata": {
        "colab": {
          "base_uri": "https://localhost:8080/"
        },
        "id": "3u_4AKugOYP6",
        "outputId": "51de78e6-138a-4bdf-a84c-4839c8e33c09"
      },
      "source": [
        "reviews =  [review for review in df_sent.reviews]\n",
        "vectorizer = CountVectorizer()\n",
        "bow_model = vectorizer.fit_transform(reviews)\n",
        "print(bow_model) \n",
        " # returns the rown and column number of cells which have 1 as value"
      ],
      "id": "3u_4AKugOYP6",
      "execution_count": 41,
      "outputs": [
        {
          "output_type": "stream",
          "text": [
            "  (0, 101)\t1\n",
            "  (0, 931)\t1\n",
            "  (0, 34)\t1\n",
            "  (0, 689)\t1\n",
            "  (0, 1422)\t1\n",
            "  (0, 386)\t1\n",
            "  (0, 1179)\t1\n",
            "  (0, 1472)\t1\n",
            "  (0, 912)\t1\n",
            "  (0, 531)\t1\n",
            "  (0, 723)\t1\n",
            "  (0, 673)\t1\n",
            "  (0, 1501)\t1\n",
            "  (0, 1251)\t1\n",
            "  (0, 1755)\t1\n",
            "  (0, 373)\t1\n",
            "  (1, 689)\t2\n",
            "  (1, 608)\t1\n",
            "  (1, 1308)\t1\n",
            "  (1, 303)\t1\n",
            "  (1, 1125)\t1\n",
            "  (1, 1215)\t1\n",
            "  (2, 689)\t2\n",
            "  (2, 608)\t1\n",
            "  (3, 1308)\t2\n",
            "  :\t:\n",
            "  (29997, 817)\t1\n",
            "  (29998, 673)\t1\n",
            "  (29998, 1755)\t1\n",
            "  (29998, 1308)\t1\n",
            "  (29998, 303)\t1\n",
            "  (29998, 1125)\t1\n",
            "  (29998, 1215)\t1\n",
            "  (29998, 1211)\t2\n",
            "  (29998, 551)\t1\n",
            "  (29998, 1352)\t1\n",
            "  (29998, 1264)\t2\n",
            "  (29998, 106)\t1\n",
            "  (29998, 759)\t1\n",
            "  (29998, 1270)\t1\n",
            "  (29998, 190)\t1\n",
            "  (29998, 953)\t1\n",
            "  (29998, 898)\t1\n",
            "  (29998, 333)\t1\n",
            "  (29998, 748)\t1\n",
            "  (29998, 747)\t1\n",
            "  (29998, 738)\t1\n",
            "  (29998, 724)\t3\n",
            "  (29998, 817)\t1\n",
            "  (29998, 1528)\t1\n",
            "  (29998, 328)\t1\n"
          ],
          "name": "stdout"
        }
      ]
    },
    {
      "cell_type": "code",
      "metadata": {
        "colab": {
          "base_uri": "https://localhost:8080/"
        },
        "id": "t0gYKCvWSDjC",
        "outputId": "32608971-2bfa-4bb4-a643-df16b196dd2a"
      },
      "source": [
        "print(vectorizer.get_feature_names())"
      ],
      "id": "t0gYKCvWSDjC",
      "execution_count": 42,
      "outputs": [
        {
          "output_type": "stream",
          "text": [
            "['abil', 'abl', 'absolut', 'absorb', 'access', 'accid', 'acn', 'across', 'act', 'action', 'activ', 'actor', 'actual', 'ad', 'adam', 'adapt', 'add', 'addict', 'addit', 'admit', 'ador', 'adult', 'adventur', 'advertis', 'afford', 'afraid', 'afternoon', 'afterward', 'age', 'agedefi', 'ago', 'agre', 'ahead', 'air', 'album', 'alcohol', 'aldean', 'ale', 'alex', 'alic', 'allerg', 'allergi', 'allow', 'almost', 'alon', 'along', 'alot', 'alreadi', 'alright', 'also', 'altern', 'although', 'alway', 'amaz', 'amazingli', 'amazon', 'american', 'amount', 'andor', 'anim', 'anna', 'annoy', 'anoth', 'answer', 'anymor', 'anyon', 'anyth', 'anytim', 'anyway', 'anywher', 'apart', 'appear', 'appli', 'applianc', 'applic', 'appreci', 'area', 'arent', 'arm', 'aroma', 'around', 'arriv', 'art', 'artist', 'ask', 'asleep', 'assembl', 'attach', 'attempt', 'attent', 'attract', 'aubrey', 'audio', 'aussi', 'avail', 'aveeno', 'averag', 'averi', 'avoid', 'aw', 'away', 'awesom', 'awhil', 'awsom', 'axe', 'babi', 'back', 'bacteria', 'bad', 'bag', 'bagless', 'bake', 'balanc', 'balm', 'bar', 'bare', 'bargain', 'base', 'basi', 'basic', 'batch', 'bath', 'bathroom', 'battl', 'bay', 'bb', 'bc', 'beach', 'bean', 'beat', 'beauti', 'becam', 'becom', 'bed', 'bedroom', 'bee', 'began', 'begin', 'behind', 'beig', 'believ', 'ben', 'benefit', 'besid', 'best', 'better', 'beyond', 'big', 'bigger', 'biggest', 'bill', 'binder', 'birthday', 'biscuit', 'bisquick', 'bit', 'bite', 'black', 'blast', 'bleach', 'blend', 'blockbust', 'blow', 'blu', 'blue', 'blueray', 'bluray', 'board', 'boat', 'bodi', 'bonu', 'book', 'booster', 'bore', 'bother', 'bottl', 'bottom', 'bought', 'bounc', 'bounci', 'bowl', 'box', 'boy', 'boyfriend', 'brand', 'break', 'breakag', 'breath', 'breez', 'bright', 'bring', 'brittl', 'broderick', 'broke', 'broken', 'broth', 'brother', 'brought', 'brown', 'bruce', 'brush', 'bryan', 'bucket', 'budget', 'bug', 'build', 'buildup', 'built', 'bulk', 'bunch', 'bundl', 'burn', 'burt', 'burton', 'busi', 'butt', 'butter', 'button', 'buy', 'cabinet', 'cake', 'call', 'came', 'camp', 'can', 'canist', 'cant', 'cap', 'car', 'caramel', 'care', 'caress', 'carpet', 'carri', 'carrot', 'cart', 'case', 'cast', 'cat', 'catch', 'catherin', 'caught', 'caus', 'cd', 'ceil', 'center', 'certain', 'certainli', 'cgi', 'chair', 'challeng', 'champagn', 'chanc', 'chang', 'chap', 'chapstick', 'chapter', 'charact', 'charm', 'cheap', 'cheaper', 'check', 'chees', 'cheesi', 'cheeto', 'chemic', 'chemistri', 'cherri', 'chest', 'chester', 'chewi', 'chicken', 'child', 'childhood', 'children', 'chili', 'chip', 'chocol', 'choic', 'choos', 'chore', 'christma', 'citi', 'claim', 'class', 'classic', 'classroom', 'clay', 'clean', 'cleaner', 'cleanli', 'cleanup', 'clear', 'clearli', 'clorax', 'clorox', 'close', 'cloth', 'cocoa', 'coconut', 'code', 'coffe', 'cold', 'collect', 'colleg', 'color', 'colour', 'column', 'comb', 'combin', 'combo', 'come', 'comedi', 'comfi', 'comfort', 'comic', 'comment', 'common', 'compani', 'compar', 'comparison', 'competitor', 'complain', 'complaint', 'complementari', 'complet', 'complexion', 'compliment', 'complimentari', 'comput', 'concentr', 'concept', 'concern', 'condit', 'condition', 'confid', 'conjunct', 'consid', 'consist', 'constantli', 'construct', 'consum', 'contact', 'contain', 'content', 'continu', 'control', 'conveni', 'convien', 'convient', 'cook', 'cooker', 'cooki', 'cool', 'copi', 'cord', 'corn', 'corner', 'correct', 'cost', 'could', 'couldnt', 'count', 'counter', 'countertop', 'countri', 'coupl', 'cours', 'cover', 'coverag', 'cowork', 'crack', 'cranston', 'crazi', 'cream', 'creami', 'creat', 'creatur', 'crib', 'crisp', 'crispi', 'cross', 'crunchi', 'cup', 'curl', 'curli', 'current', 'cushion', 'custom', 'cut', 'cute', 'dad', 'daili', 'damag', 'dandruff', 'dark', 'darker', 'date', 'daughter', 'dave', 'day', 'daycar', 'de', 'dead', 'deal', 'decad', 'decent', 'decid', 'decis', 'deep', 'def', 'defi', 'definit', 'delici', 'deliv', 'deliveri', 'deodor', 'depart', 'depend', 'depp', 'dermatologist', 'descript', 'design', 'desir', 'desk', 'despit', 'destruct', 'detangl', 'deterg', 'develop', 'diaper', 'diaz', 'didnt', 'die', 'diet', 'differ', 'difficult', 'digit', 'dine', 'dinner', 'dip', 'direct', 'director', 'dirt', 'dirti', 'disappoint', 'disc', 'discontinu', 'discov', 'disenfect', 'dish', 'dishwash', 'disinfect', 'disk', 'dislik', 'disney', 'dispens', 'dispos', 'divid', 'divideitup', 'doctor', 'document', 'doesnt', 'dog', 'dollar', 'done', 'dont', 'door', 'doorknob', 'doubl', 'doubt', 'download', 'downsid', 'dr', 'drama', 'drawback', 'drawer', 'dream', 'dri', 'drink', 'drop', 'drug', 'dryer', 'dryness', 'due', 'dull', 'durabl', 'dust', 'dusti', 'duti', 'dvd', 'dye', 'dyson', 'earli', 'earlier', 'earth', 'eas', 'easi', 'easier', 'easiest', 'easili', 'eat', 'eczema', 'edg', 'edit', 'effect', 'effici', 'effort', 'efron', 'either', 'els', 'elvi', 'em', 'empti', 'end', 'enjoy', 'enough', 'entertain', 'entir', 'entri', 'epic', 'episod', 'especi', 'espresso', 'essenti', 'etc', 'even', 'evenli', 'eventu', 'ever', 'everi', 'everyday', 'everyon', 'everyth', 'everytim', 'everywher', 'evil', 'exact', 'exactli', 'exampl', 'excel', 'except', 'excess', 'exchang', 'excit', 'expect', 'expens', 'experi', 'experienc', 'expert', 'extend', 'extra', 'extraordinari', 'extrem', 'exxtra', 'eye', 'fabric', 'fabul', 'face', 'facial', 'fact', 'fair', 'fairli', 'faith', 'fake', 'fall', 'famili', 'familiar', 'fan', 'fantast', 'far', 'fast', 'faster', 'fat', 'father', 'faucet', 'fav', 'favorit', 'featur', 'feel', 'feet', 'fell', 'felt', 'fi', 'fiber', 'fiction', 'fig', 'fight', 'figur', 'file', 'fill', 'film', 'filter', 'final', 'find', 'fine', 'finger', 'finish', 'fire', 'fireplac', 'firm', 'first', 'fit', 'five', 'fix', 'flake', 'flaki', 'flat', 'flavor', 'flawless', 'flick', 'flimsi', 'floor', 'flu', 'fluffi', 'focu', 'folder', 'folk', 'follow', 'food', 'forc', 'forev', 'forget', 'form', 'format', 'former', 'formul', 'formula', 'forward', 'found', 'foundat', 'four', 'fragranc', 'franchis', 'freak', 'free', 'freecomplimentari', 'freeman', 'frequent', 'fresh', 'freshen', 'friday', 'fridg', 'friend', 'friendli', 'frizz', 'frizzi', 'front', 'fruit', 'frustrat', 'full', 'fulli', 'fun', 'funni', 'funnier', 'funniest', 'furnitur', 'futur', 'game', 'garag', 'garbag', 'gave', 'gel', 'gener', 'genr', 'gentl', 'germ', 'germfre', 'get', 'giant', 'gift', 'ginger', 'girl', 'give', 'given', 'glad', 'glass', 'glide', 'glider', 'gloss', 'glow', 'go', 'god', 'godzilla', 'goe', 'gojira', 'gold', 'gon', 'gone', 'good', 'got', 'goto', 'gotten', 'grab', 'grain', 'grand', 'grandchildren', 'granddaught', 'grandkid', 'grandmoth', 'grandson', 'grapefruit', 'graphic', 'grate', 'gray', 'greas', 'greasi', 'great', 'greatest', 'greatli', 'greek', 'green', 'grew', 'grey', 'grime', 'groceri', 'gross', 'group', 'grow', 'grown', 'guess', 'guest', 'guy', 'gym', 'hair', 'half', 'hand', 'handi', 'handl', 'happen', 'happi', 'happier', 'hard', 'harder', 'hardli', 'hardwood', 'harm', 'harsh', 'hasnt', 'hassl', 'hate', 'havent', 'havilland', 'hd', 'he', 'head', 'headach', 'health', 'healthi', 'healthier', 'hear', 'heard', 'heart', 'heat', 'heater', 'heavi', 'height', 'held', 'helen', 'help', 'hepa', 'hero', 'hesit', 'high', 'higher', 'highli', 'hilari', 'hint', 'histori', 'hit', 'hold', 'hole', 'hollywood', 'home', 'honest', 'honestli', 'hook', 'hoover', 'hope', 'hormel', 'horribl', 'horror', 'hose', 'hospit', 'hot', 'hotel', 'hour', 'hous', 'household', 'howev', 'hubbi', 'huge', 'human', 'humor', 'hurri', 'hurt', 'husband', 'hydrat', 'ice', 'id', 'idea', 'ie', 'ill', 'im', 'imagin', 'immedi', 'import', 'importantli', 'imposs', 'impress', 'improv', 'inch', 'includ', 'incred', 'index', 'individu', 'inexpens', 'influenst', 'inform', 'ingredi', 'insid', 'instal', 'instant', 'instantli', 'instead', 'instruct', 'intens', 'interest', 'internet', 'introduc', 'involv', 'iron', 'irrit', 'island', 'isnt', 'issu', 'itch', 'itchi', 'item', 'ive', 'jame', 'japanes', 'jar', 'jason', 'job', 'john', 'johnni', 'joke', 'juic', 'juicer', 'kaiju', 'keep', 'kendrick', 'kept', 'keratin', 'keyboard', 'kick', 'kid', 'kill', 'killer', 'kind', 'kinda', 'king', 'kitchen', 'knew', 'knob', 'knot', 'know', 'known', 'kong', 'label', 'lack', 'ladi', 'larg', 'larger', 'last', 'late', 'later', 'lather', 'laugh', 'laundri', 'lavend', 'lb', 'lead', 'learn', 'least', 'leav', 'left', 'leg', 'lemon', 'lemoni', 'length', 'less', 'lesson', 'let', 'level', 'librari', 'lid', 'life', 'lifesav', 'lift', 'light', 'lighter', 'lightweight', 'like', 'limit', 'line', 'lint', 'lip', 'lipstick', 'liquid', 'list', 'listen', 'liter', 'littl', 'live', 'lizard', 'load', 'local', 'lol', 'long', 'longer', 'look', 'loos', 'loral', 'loreal', 'lose', 'lost', 'lot', 'lotion', 'loud', 'love', 'lover', 'low', 'lower', 'loyal', 'luck', 'lunch', 'lundberg', 'luv', 'lysol', 'machin', 'made', 'magic', 'main', 'mainli', 'maintain', 'major', 'make', 'makeup', 'malkovich', 'man', 'manag', 'mani', 'manual', 'mari', 'mark', 'market', 'mask', 'match', 'materi', 'matter', 'matthew', 'may', 'mayb', 'meal', 'mean', 'meant', 'meat', 'medic', 'medium', 'meet', 'melt', 'member', 'memori', 'men', 'mention', 'merlot', 'mess', 'messi', 'microwav', 'middl', 'might', 'mike', 'mild', 'militari', 'milk', 'min', 'mind', 'mine', 'minimum', 'minor', 'mint', 'minti', 'minut', 'miracl', 'mirren', 'mirror', 'miss', 'mistak', 'mix', 'mixtur', 'model', 'modern', 'moist', 'moistur', 'mom', 'moment', 'money', 'monster', 'month', 'mop', 'morn', 'morri', 'mostli', 'mother', 'mouth', 'move', 'movi', 'mr', 'ms', 'much', 'multi', 'multipl', 'music', 'must', 'muto', 'na', 'nacho', 'nail', 'name', 'nan', 'nasti', 'natur', 'nd', 'near', 'nearli', 'necess', 'necessari', 'neck', 'need', 'needless', 'neg', 'nephew', 'neutral', 'never', 'new', 'newer', 'next', 'nexu', 'nexxu', 'nice', 'niec', 'night', 'non', 'none', 'nongreasi', 'normal', 'nose', 'notch', 'note', 'noth', 'notic', 'nourish', 'nuclear', 'number', 'numer', 'nurs', 'nurseri', 'nutmeg', 'nutti', 'obsess', 'obviou', 'obvious', 'occas', 'odor', 'offer', 'offic', 'often', 'oh', 'oil', 'oili', 'ok', 'okay', 'olay', 'old', 'older', 'omg', 'one', 'onlin', 'onto', 'open', 'opinion', 'opportun', 'option', 'orajel', 'orang', 'order', 'oreck', 'organ', 'origin', 'other', 'otherwis', 'ottoman', 'outsid', 'outstand', 'overal', 'overli', 'overpow', 'overwhelm', 'own', 'oz', 'pacif', 'pack', 'packag', 'page', 'paid', 'pain', 'pair', 'pale', 'pancak', 'panten', 'papaya', 'paper', 'parent', 'part', 'parti', 'particular', 'particularli', 'pass', 'past', 'patch', 'pay', 'peac', 'peel', 'penni', 'peoni', 'peopl', 'peppermint', 'per', 'perfect', 'perfectli', 'perform', 'perfum', 'perhap', 'period', 'perri', 'person', 'pet', 'phenomen', 'phoenix', 'phone', 'pick', 'picki', 'pictur', 'piec', 'pile', 'pink', 'pixar', 'place', 'plain', 'plan', 'plane', 'plastic', 'platinum', 'play', 'player', 'plaza', 'pleas', 'pleasant', 'pleasantli', 'plenti', 'plot', 'plu', 'plum', 'pocket', 'point', 'poor', 'poorli', 'pop', 'popcorn', 'popular', 'pore', 'portabl', 'portion', 'posit', 'possibl', 'post', 'potti', 'powder', 'power', 'practic', 'pre', 'predict', 'prefer', 'pregnant', 'prepar', 'present', 'preshampoo', 'pretti', 'prevent', 'previou', 'previous', 'price', 'pricey', 'primarili', 'print', 'prior', 'probabl', 'problem', 'process', 'product', 'profession', 'project', 'promis', 'promot', 'prone', 'properli', 'properti', 'protect', 'protein', 'prov', 'provid', 'public', 'puff', 'puffcorn', 'pull', 'pump', 'punch', 'puppi', 'purchas', 'pure', 'purpos', 'purs', 'push', 'put', 'qualiti', 'question', 'quick', 'quicker', 'quickli', 'quiet', 'quit', 'radianc', 'rag', 'ragu', 'raisin', 'ran', 'rang', 'rare', 'rash', 'rate', 'rather', 'raunchi', 'raw', 'ray', 'rd', 'reach', 'reaction', 'read', 'readi', 'real', 'realist', 'realiz', 'realli', 'reappli', 'reason', 'reboot', 'reccomend', 'receipt', 'receiv', 'recent', 'reciev', 'recip', 'recomend', 'recommend', 'red', 'reduc', 'refil', 'refresh', 'regener', 'regenerist', 'regular', 'regularli', 'relat', 'releas', 'reli', 'reliabl', 'relief', 'remak', 'rememb', 'remind', 'remot', 'remov', 'replac', 'report', 'repurchas', 'requir', 'rescu', 'research', 'resid', 'residu', 'rest', 'restaur', 'restroom', 'result', 'retir', 'return', 'review', 'rhubarb', 'rice', 'rich', 'rid', 'ride', 'ridicul', 'right', 'rim', 'rins', 'rip', 'road', 'rock', 'rocker', 'role', 'roll', 'room', 'root', 'rose', 'rough', 'round', 'routin', 'rub', 'rubber', 'rug', 'ruin', 'run', 'runni', 'sad', 'sadli', 'safe', 'said', 'salad', 'sale', 'salon', 'salt', 'salti', 'sampl', 'sanit', 'sanitari', 'sat', 'satisfi', 'saturday', 'sauc', 'save', 'saver', 'saw', 'say', 'scalp', 'scari', 'scene', 'scent', 'school', 'sci', 'scienc', 'scifi', 'screen', 'screw', 'script', 'scrub', 'scum', 'search', 'season', 'seat', 'second', 'secret', 'section', 'secur', 'see', 'seem', 'seen', 'select', 'self', 'sell', 'send', 'sens', 'sensit', 'sent', 'separ', 'sequel', 'seri', 'seriou', 'serious', 'servic', 'set', 'sever', 'shade', 'shadow', 'shame', 'shampoo', 'shampoocondition', 'shape', 'share', 'sharp', 'sheer', 'sheet', 'shelf', 'shelv', 'shimmer', 'shimmeri', 'shine', 'shini', 'ship', 'shoe', 'shop', 'short', 'shot', 'shoulder', 'shouldnt', 'show', 'shower', 'shown', 'shut', 'sick', 'side', 'silki', 'silli', 'similar', 'simpl', 'simpli', 'sinc', 'singl', 'sink', 'sister', 'sit', 'site', 'six', 'size', 'skeptic', 'skin', 'sleek', 'sleep', 'slight', 'slightli', 'sloper', 'slow', 'small', 'smaller', 'smell', 'smooth', 'smoother', 'smoothli', 'snack', 'snap', 'soap', 'soft', 'soften', 'softer', 'sold', 'solid', 'solut', 'someon', 'someth', 'sometim', 'somewhat', 'son', 'song', 'soon', 'sooo', 'soooo', 'sooth', 'soprano', 'sorri', 'sort', 'sound', 'soup', 'sourc', 'space', 'sparkl', 'special', 'specif', 'spectacular', 'speed', 'spend', 'spent', 'spf', 'spi', 'spill', 'split', 'spong', 'spot', 'spray', 'sprayer', 'spread', 'squar', 'squeez', 'st', 'stain', 'stainless', 'stair', 'stand', 'standard', 'stapl', 'star', 'stargat', 'start', 'state', 'stay', 'steal', 'steel', 'steer', 'step', 'stick', 'sticki', 'stiff', 'still', 'stiller', 'stink', 'stock', 'stomach', 'stop', 'storag', 'store', 'stori', 'storkcraft', 'storylin', 'stove', 'straight', 'strap', 'streak', 'strength', 'strong', 'stronger', 'stuck', 'student', 'stuff', 'stupid', 'sturdi', 'style', 'suav', 'subtl', 'success', 'suck', 'suction', 'sugar', 'suggest', 'suit', 'summer', 'sun', 'sunblock', 'sunscreen', 'super', 'superb', 'superior', 'suppli', 'support', 'suppos', 'sure', 'surfac', 'surpris', 'surprisingli', 'surround', 'sushi', 'suspens', 'swear', 'sweat', 'sweet', 'swipe', 'switch', 'system', 'ta', 'tab', 'tabl', 'tad', 'take', 'taken', 'talk', 'tall', 'tan', 'tangl', 'tanner', 'target', 'task', 'tast', 'tasti', 'teach', 'teacher', 'team', 'tear', 'technolog', 'teen', 'teenag', 'teeth', 'televis', 'tell', 'ten', 'tend', 'term', 'terribl', 'terrif', 'test', 'textur', 'th', 'thank', 'that', 'theater', 'theatr', 'theme', 'therapi', 'there', 'theyr', 'theyv', 'thick', 'thicker', 'thin', 'thing', 'think', 'thinner', 'third', 'tho', 'thorough', 'thoroughli', 'though', 'thought', 'three', 'threw', 'thrill', 'throughout', 'throw', 'thru', 'thu', 'thumb', 'tight', 'tile', 'till', 'tim', 'time', 'tingl', 'tini', 'tint', 'tip', 'tire', 'titl', 'today', 'toddler', 'toffe', 'togeth', 'toilet', 'told', 'ton', 'tone', 'took', 'tool', 'tooth', 'toothach', 'top', 'tortilla', 'toss', 'tostito', 'total', 'touch', 'tough', 'toward', 'towel', 'toy', 'track', 'tradit', 'train', 'transfer', 'transluc', 'trash', 'travel', 'treat', 'treatment', 'tree', 'tri', 'trial', 'trick', 'trip', 'troubl', 'truck', 'true', 'truli', 'trust', 'tub', 'tube', 'turn', 'tv', 'twice', 'twist', 'two', 'tyler', 'type', 'typic', 'ultim', 'ultraviolet', 'underneath', 'understand', 'unexpect', 'unfortun', 'unhappi', 'uniqu', 'unit', 'unless', 'unlik', 'up', 'updat', 'upgrad', 'upon', 'upright', 'upset', 'us', 'usag', 'use', 'user', 'usual', 'vac', 'vacat', 'vacuum', 'valu', 'vaporub', 'varieti', 'variou', 'vaselin', 'versatil', 'version', 'via', 'vick', 'video', 'view', 'vinegar', 'virus', 'visibl', 'visit', 'visual', 'volum', 'voxbox', 'vs', 'waffl', 'wait', 'wake', 'walk', 'wall', 'walmart', 'want', 'warm', 'warranti', 'wash', 'washer', 'wasnt', 'wast', 'watch', 'water', 'wateri', 'watermelon', 'wavi', 'wax', 'way', 'weak', 'wear', 'weather', 'websit', 'wed', 'week', 'weekend', 'weekli', 'wehani', 'weigh', 'weight', 'weird', 'well', 'went', 'werent', 'wet', 'weve', 'what', 'whatev', 'wheel', 'whenev', 'where', 'whether', 'white', 'whiten', 'whole', 'wide', 'wife', 'wild', 'willi', 'win', 'wind', 'windex', 'window', 'windtunnel', 'winner', 'winter', 'wipe', 'wish', 'within', 'without', 'woman', 'women', 'wonder', 'wont', 'wood', 'word', 'wore', 'work', 'workout', 'world', 'worn', 'worri', 'wors', 'worst', 'worth', 'worthi', 'would', 'wouldnt', 'wouldv', 'wow', 'wrinkl', 'write', 'written', 'wrong', 'ye', 'year', 'yellow', 'yet', 'yogurt', 'youll', 'young', 'younger', 'your', 'youv', 'yr', 'yum', 'yummi', 'zac', 'zombi']\n"
          ],
          "name": "stdout"
        }
      ]
    },
    {
      "cell_type": "code",
      "metadata": {
        "colab": {
          "base_uri": "https://localhost:8080/"
        },
        "id": "zq8GRnMySGWc",
        "outputId": "54dd4099-2b87-4679-e840-394ea66825f2"
      },
      "source": [
        "bow_model.shape"
      ],
      "id": "zq8GRnMySGWc",
      "execution_count": 43,
      "outputs": [
        {
          "output_type": "execute_result",
          "data": {
            "text/plain": [
              "(29999, 1836)"
            ]
          },
          "metadata": {
            "tags": []
          },
          "execution_count": 43
        }
      ]
    },
    {
      "cell_type": "code",
      "metadata": {
        "id": "gCeTn9R6SK2C"
      },
      "source": [
        "bow_model_df = pd.DataFrame(bow_model.toarray(), columns = vectorizer.get_feature_names())"
      ],
      "id": "gCeTn9R6SK2C",
      "execution_count": 44,
      "outputs": []
    },
    {
      "cell_type": "code",
      "metadata": {
        "colab": {
          "base_uri": "https://localhost:8080/",
          "height": 253
        },
        "id": "5cUuOVfSAMXi",
        "outputId": "f8bc78f7-d2ff-43e9-efbf-1a5837cb1409"
      },
      "source": [
        "bow_model_df.head()"
      ],
      "id": "5cUuOVfSAMXi",
      "execution_count": 45,
      "outputs": [
        {
          "output_type": "execute_result",
          "data": {
            "text/html": [
              "<div>\n",
              "<style scoped>\n",
              "    .dataframe tbody tr th:only-of-type {\n",
              "        vertical-align: middle;\n",
              "    }\n",
              "\n",
              "    .dataframe tbody tr th {\n",
              "        vertical-align: top;\n",
              "    }\n",
              "\n",
              "    .dataframe thead th {\n",
              "        text-align: right;\n",
              "    }\n",
              "</style>\n",
              "<table border=\"1\" class=\"dataframe\">\n",
              "  <thead>\n",
              "    <tr style=\"text-align: right;\">\n",
              "      <th></th>\n",
              "      <th>abil</th>\n",
              "      <th>abl</th>\n",
              "      <th>absolut</th>\n",
              "      <th>absorb</th>\n",
              "      <th>access</th>\n",
              "      <th>accid</th>\n",
              "      <th>acn</th>\n",
              "      <th>across</th>\n",
              "      <th>act</th>\n",
              "      <th>action</th>\n",
              "      <th>activ</th>\n",
              "      <th>actor</th>\n",
              "      <th>actual</th>\n",
              "      <th>ad</th>\n",
              "      <th>adam</th>\n",
              "      <th>adapt</th>\n",
              "      <th>add</th>\n",
              "      <th>addict</th>\n",
              "      <th>addit</th>\n",
              "      <th>admit</th>\n",
              "      <th>ador</th>\n",
              "      <th>adult</th>\n",
              "      <th>adventur</th>\n",
              "      <th>advertis</th>\n",
              "      <th>afford</th>\n",
              "      <th>afraid</th>\n",
              "      <th>afternoon</th>\n",
              "      <th>afterward</th>\n",
              "      <th>age</th>\n",
              "      <th>agedefi</th>\n",
              "      <th>ago</th>\n",
              "      <th>agre</th>\n",
              "      <th>ahead</th>\n",
              "      <th>air</th>\n",
              "      <th>album</th>\n",
              "      <th>alcohol</th>\n",
              "      <th>aldean</th>\n",
              "      <th>ale</th>\n",
              "      <th>alex</th>\n",
              "      <th>alic</th>\n",
              "      <th>...</th>\n",
              "      <th>without</th>\n",
              "      <th>woman</th>\n",
              "      <th>women</th>\n",
              "      <th>wonder</th>\n",
              "      <th>wont</th>\n",
              "      <th>wood</th>\n",
              "      <th>word</th>\n",
              "      <th>wore</th>\n",
              "      <th>work</th>\n",
              "      <th>workout</th>\n",
              "      <th>world</th>\n",
              "      <th>worn</th>\n",
              "      <th>worri</th>\n",
              "      <th>wors</th>\n",
              "      <th>worst</th>\n",
              "      <th>worth</th>\n",
              "      <th>worthi</th>\n",
              "      <th>would</th>\n",
              "      <th>wouldnt</th>\n",
              "      <th>wouldv</th>\n",
              "      <th>wow</th>\n",
              "      <th>wrinkl</th>\n",
              "      <th>write</th>\n",
              "      <th>written</th>\n",
              "      <th>wrong</th>\n",
              "      <th>ye</th>\n",
              "      <th>year</th>\n",
              "      <th>yellow</th>\n",
              "      <th>yet</th>\n",
              "      <th>yogurt</th>\n",
              "      <th>youll</th>\n",
              "      <th>young</th>\n",
              "      <th>younger</th>\n",
              "      <th>your</th>\n",
              "      <th>youv</th>\n",
              "      <th>yr</th>\n",
              "      <th>yum</th>\n",
              "      <th>yummi</th>\n",
              "      <th>zac</th>\n",
              "      <th>zombi</th>\n",
              "    </tr>\n",
              "  </thead>\n",
              "  <tbody>\n",
              "    <tr>\n",
              "      <th>0</th>\n",
              "      <td>0</td>\n",
              "      <td>0</td>\n",
              "      <td>0</td>\n",
              "      <td>0</td>\n",
              "      <td>0</td>\n",
              "      <td>0</td>\n",
              "      <td>0</td>\n",
              "      <td>0</td>\n",
              "      <td>0</td>\n",
              "      <td>0</td>\n",
              "      <td>0</td>\n",
              "      <td>0</td>\n",
              "      <td>0</td>\n",
              "      <td>0</td>\n",
              "      <td>0</td>\n",
              "      <td>0</td>\n",
              "      <td>0</td>\n",
              "      <td>0</td>\n",
              "      <td>0</td>\n",
              "      <td>0</td>\n",
              "      <td>0</td>\n",
              "      <td>0</td>\n",
              "      <td>0</td>\n",
              "      <td>0</td>\n",
              "      <td>0</td>\n",
              "      <td>0</td>\n",
              "      <td>0</td>\n",
              "      <td>0</td>\n",
              "      <td>0</td>\n",
              "      <td>0</td>\n",
              "      <td>0</td>\n",
              "      <td>0</td>\n",
              "      <td>0</td>\n",
              "      <td>0</td>\n",
              "      <td>1</td>\n",
              "      <td>0</td>\n",
              "      <td>0</td>\n",
              "      <td>0</td>\n",
              "      <td>0</td>\n",
              "      <td>0</td>\n",
              "      <td>...</td>\n",
              "      <td>0</td>\n",
              "      <td>0</td>\n",
              "      <td>0</td>\n",
              "      <td>0</td>\n",
              "      <td>0</td>\n",
              "      <td>0</td>\n",
              "      <td>0</td>\n",
              "      <td>0</td>\n",
              "      <td>0</td>\n",
              "      <td>0</td>\n",
              "      <td>0</td>\n",
              "      <td>0</td>\n",
              "      <td>0</td>\n",
              "      <td>0</td>\n",
              "      <td>0</td>\n",
              "      <td>0</td>\n",
              "      <td>0</td>\n",
              "      <td>0</td>\n",
              "      <td>0</td>\n",
              "      <td>0</td>\n",
              "      <td>0</td>\n",
              "      <td>0</td>\n",
              "      <td>0</td>\n",
              "      <td>0</td>\n",
              "      <td>0</td>\n",
              "      <td>0</td>\n",
              "      <td>0</td>\n",
              "      <td>0</td>\n",
              "      <td>0</td>\n",
              "      <td>0</td>\n",
              "      <td>0</td>\n",
              "      <td>0</td>\n",
              "      <td>0</td>\n",
              "      <td>0</td>\n",
              "      <td>0</td>\n",
              "      <td>0</td>\n",
              "      <td>0</td>\n",
              "      <td>0</td>\n",
              "      <td>0</td>\n",
              "      <td>0</td>\n",
              "    </tr>\n",
              "    <tr>\n",
              "      <th>1</th>\n",
              "      <td>0</td>\n",
              "      <td>0</td>\n",
              "      <td>0</td>\n",
              "      <td>0</td>\n",
              "      <td>0</td>\n",
              "      <td>0</td>\n",
              "      <td>0</td>\n",
              "      <td>0</td>\n",
              "      <td>0</td>\n",
              "      <td>0</td>\n",
              "      <td>0</td>\n",
              "      <td>0</td>\n",
              "      <td>0</td>\n",
              "      <td>0</td>\n",
              "      <td>0</td>\n",
              "      <td>0</td>\n",
              "      <td>0</td>\n",
              "      <td>0</td>\n",
              "      <td>0</td>\n",
              "      <td>0</td>\n",
              "      <td>0</td>\n",
              "      <td>0</td>\n",
              "      <td>0</td>\n",
              "      <td>0</td>\n",
              "      <td>0</td>\n",
              "      <td>0</td>\n",
              "      <td>0</td>\n",
              "      <td>0</td>\n",
              "      <td>0</td>\n",
              "      <td>0</td>\n",
              "      <td>0</td>\n",
              "      <td>0</td>\n",
              "      <td>0</td>\n",
              "      <td>0</td>\n",
              "      <td>0</td>\n",
              "      <td>0</td>\n",
              "      <td>0</td>\n",
              "      <td>0</td>\n",
              "      <td>0</td>\n",
              "      <td>0</td>\n",
              "      <td>...</td>\n",
              "      <td>0</td>\n",
              "      <td>0</td>\n",
              "      <td>0</td>\n",
              "      <td>0</td>\n",
              "      <td>0</td>\n",
              "      <td>0</td>\n",
              "      <td>0</td>\n",
              "      <td>0</td>\n",
              "      <td>0</td>\n",
              "      <td>0</td>\n",
              "      <td>0</td>\n",
              "      <td>0</td>\n",
              "      <td>0</td>\n",
              "      <td>0</td>\n",
              "      <td>0</td>\n",
              "      <td>0</td>\n",
              "      <td>0</td>\n",
              "      <td>0</td>\n",
              "      <td>0</td>\n",
              "      <td>0</td>\n",
              "      <td>0</td>\n",
              "      <td>0</td>\n",
              "      <td>0</td>\n",
              "      <td>0</td>\n",
              "      <td>0</td>\n",
              "      <td>0</td>\n",
              "      <td>0</td>\n",
              "      <td>0</td>\n",
              "      <td>0</td>\n",
              "      <td>0</td>\n",
              "      <td>0</td>\n",
              "      <td>0</td>\n",
              "      <td>0</td>\n",
              "      <td>0</td>\n",
              "      <td>0</td>\n",
              "      <td>0</td>\n",
              "      <td>0</td>\n",
              "      <td>0</td>\n",
              "      <td>0</td>\n",
              "      <td>0</td>\n",
              "    </tr>\n",
              "    <tr>\n",
              "      <th>2</th>\n",
              "      <td>0</td>\n",
              "      <td>0</td>\n",
              "      <td>0</td>\n",
              "      <td>0</td>\n",
              "      <td>0</td>\n",
              "      <td>0</td>\n",
              "      <td>0</td>\n",
              "      <td>0</td>\n",
              "      <td>0</td>\n",
              "      <td>0</td>\n",
              "      <td>0</td>\n",
              "      <td>0</td>\n",
              "      <td>0</td>\n",
              "      <td>0</td>\n",
              "      <td>0</td>\n",
              "      <td>0</td>\n",
              "      <td>0</td>\n",
              "      <td>0</td>\n",
              "      <td>0</td>\n",
              "      <td>0</td>\n",
              "      <td>0</td>\n",
              "      <td>0</td>\n",
              "      <td>0</td>\n",
              "      <td>0</td>\n",
              "      <td>0</td>\n",
              "      <td>0</td>\n",
              "      <td>0</td>\n",
              "      <td>0</td>\n",
              "      <td>0</td>\n",
              "      <td>0</td>\n",
              "      <td>0</td>\n",
              "      <td>0</td>\n",
              "      <td>0</td>\n",
              "      <td>0</td>\n",
              "      <td>0</td>\n",
              "      <td>0</td>\n",
              "      <td>0</td>\n",
              "      <td>0</td>\n",
              "      <td>0</td>\n",
              "      <td>0</td>\n",
              "      <td>...</td>\n",
              "      <td>0</td>\n",
              "      <td>0</td>\n",
              "      <td>0</td>\n",
              "      <td>0</td>\n",
              "      <td>0</td>\n",
              "      <td>0</td>\n",
              "      <td>0</td>\n",
              "      <td>0</td>\n",
              "      <td>0</td>\n",
              "      <td>0</td>\n",
              "      <td>0</td>\n",
              "      <td>0</td>\n",
              "      <td>0</td>\n",
              "      <td>0</td>\n",
              "      <td>0</td>\n",
              "      <td>0</td>\n",
              "      <td>0</td>\n",
              "      <td>0</td>\n",
              "      <td>0</td>\n",
              "      <td>0</td>\n",
              "      <td>0</td>\n",
              "      <td>0</td>\n",
              "      <td>0</td>\n",
              "      <td>0</td>\n",
              "      <td>0</td>\n",
              "      <td>0</td>\n",
              "      <td>0</td>\n",
              "      <td>0</td>\n",
              "      <td>0</td>\n",
              "      <td>0</td>\n",
              "      <td>0</td>\n",
              "      <td>0</td>\n",
              "      <td>0</td>\n",
              "      <td>0</td>\n",
              "      <td>0</td>\n",
              "      <td>0</td>\n",
              "      <td>0</td>\n",
              "      <td>0</td>\n",
              "      <td>0</td>\n",
              "      <td>0</td>\n",
              "    </tr>\n",
              "    <tr>\n",
              "      <th>3</th>\n",
              "      <td>0</td>\n",
              "      <td>0</td>\n",
              "      <td>0</td>\n",
              "      <td>0</td>\n",
              "      <td>0</td>\n",
              "      <td>0</td>\n",
              "      <td>0</td>\n",
              "      <td>0</td>\n",
              "      <td>0</td>\n",
              "      <td>0</td>\n",
              "      <td>0</td>\n",
              "      <td>0</td>\n",
              "      <td>0</td>\n",
              "      <td>0</td>\n",
              "      <td>0</td>\n",
              "      <td>0</td>\n",
              "      <td>0</td>\n",
              "      <td>0</td>\n",
              "      <td>0</td>\n",
              "      <td>0</td>\n",
              "      <td>0</td>\n",
              "      <td>0</td>\n",
              "      <td>0</td>\n",
              "      <td>0</td>\n",
              "      <td>0</td>\n",
              "      <td>0</td>\n",
              "      <td>0</td>\n",
              "      <td>0</td>\n",
              "      <td>0</td>\n",
              "      <td>0</td>\n",
              "      <td>0</td>\n",
              "      <td>0</td>\n",
              "      <td>0</td>\n",
              "      <td>0</td>\n",
              "      <td>0</td>\n",
              "      <td>0</td>\n",
              "      <td>0</td>\n",
              "      <td>0</td>\n",
              "      <td>0</td>\n",
              "      <td>0</td>\n",
              "      <td>...</td>\n",
              "      <td>0</td>\n",
              "      <td>0</td>\n",
              "      <td>0</td>\n",
              "      <td>0</td>\n",
              "      <td>1</td>\n",
              "      <td>0</td>\n",
              "      <td>0</td>\n",
              "      <td>0</td>\n",
              "      <td>0</td>\n",
              "      <td>0</td>\n",
              "      <td>0</td>\n",
              "      <td>0</td>\n",
              "      <td>0</td>\n",
              "      <td>0</td>\n",
              "      <td>0</td>\n",
              "      <td>0</td>\n",
              "      <td>0</td>\n",
              "      <td>0</td>\n",
              "      <td>0</td>\n",
              "      <td>0</td>\n",
              "      <td>0</td>\n",
              "      <td>0</td>\n",
              "      <td>0</td>\n",
              "      <td>0</td>\n",
              "      <td>0</td>\n",
              "      <td>0</td>\n",
              "      <td>0</td>\n",
              "      <td>0</td>\n",
              "      <td>0</td>\n",
              "      <td>0</td>\n",
              "      <td>0</td>\n",
              "      <td>0</td>\n",
              "      <td>0</td>\n",
              "      <td>0</td>\n",
              "      <td>0</td>\n",
              "      <td>0</td>\n",
              "      <td>0</td>\n",
              "      <td>0</td>\n",
              "      <td>0</td>\n",
              "      <td>0</td>\n",
              "    </tr>\n",
              "    <tr>\n",
              "      <th>4</th>\n",
              "      <td>0</td>\n",
              "      <td>0</td>\n",
              "      <td>0</td>\n",
              "      <td>0</td>\n",
              "      <td>0</td>\n",
              "      <td>0</td>\n",
              "      <td>0</td>\n",
              "      <td>0</td>\n",
              "      <td>0</td>\n",
              "      <td>0</td>\n",
              "      <td>0</td>\n",
              "      <td>0</td>\n",
              "      <td>0</td>\n",
              "      <td>0</td>\n",
              "      <td>0</td>\n",
              "      <td>0</td>\n",
              "      <td>0</td>\n",
              "      <td>0</td>\n",
              "      <td>0</td>\n",
              "      <td>0</td>\n",
              "      <td>0</td>\n",
              "      <td>0</td>\n",
              "      <td>0</td>\n",
              "      <td>0</td>\n",
              "      <td>0</td>\n",
              "      <td>0</td>\n",
              "      <td>0</td>\n",
              "      <td>0</td>\n",
              "      <td>0</td>\n",
              "      <td>0</td>\n",
              "      <td>0</td>\n",
              "      <td>0</td>\n",
              "      <td>0</td>\n",
              "      <td>0</td>\n",
              "      <td>0</td>\n",
              "      <td>0</td>\n",
              "      <td>0</td>\n",
              "      <td>0</td>\n",
              "      <td>0</td>\n",
              "      <td>0</td>\n",
              "      <td>...</td>\n",
              "      <td>0</td>\n",
              "      <td>0</td>\n",
              "      <td>0</td>\n",
              "      <td>0</td>\n",
              "      <td>0</td>\n",
              "      <td>0</td>\n",
              "      <td>0</td>\n",
              "      <td>0</td>\n",
              "      <td>0</td>\n",
              "      <td>0</td>\n",
              "      <td>0</td>\n",
              "      <td>0</td>\n",
              "      <td>0</td>\n",
              "      <td>0</td>\n",
              "      <td>0</td>\n",
              "      <td>0</td>\n",
              "      <td>0</td>\n",
              "      <td>0</td>\n",
              "      <td>1</td>\n",
              "      <td>0</td>\n",
              "      <td>0</td>\n",
              "      <td>0</td>\n",
              "      <td>0</td>\n",
              "      <td>0</td>\n",
              "      <td>0</td>\n",
              "      <td>0</td>\n",
              "      <td>0</td>\n",
              "      <td>0</td>\n",
              "      <td>0</td>\n",
              "      <td>0</td>\n",
              "      <td>0</td>\n",
              "      <td>0</td>\n",
              "      <td>0</td>\n",
              "      <td>0</td>\n",
              "      <td>0</td>\n",
              "      <td>0</td>\n",
              "      <td>0</td>\n",
              "      <td>0</td>\n",
              "      <td>0</td>\n",
              "      <td>0</td>\n",
              "    </tr>\n",
              "  </tbody>\n",
              "</table>\n",
              "<p>5 rows × 1836 columns</p>\n",
              "</div>"
            ],
            "text/plain": [
              "   abil  abl  absolut  absorb  access  accid  ...  youv  yr  yum  yummi  zac  zombi\n",
              "0     0    0        0       0       0      0  ...     0   0    0      0    0      0\n",
              "1     0    0        0       0       0      0  ...     0   0    0      0    0      0\n",
              "2     0    0        0       0       0      0  ...     0   0    0      0    0      0\n",
              "3     0    0        0       0       0      0  ...     0   0    0      0    0      0\n",
              "4     0    0        0       0       0      0  ...     0   0    0      0    0      0\n",
              "\n",
              "[5 rows x 1836 columns]"
            ]
          },
          "metadata": {
            "tags": []
          },
          "execution_count": 45
        }
      ]
    },
    {
      "cell_type": "code",
      "metadata": {
        "id": "9QA8GvkwAMly"
      },
      "source": [
        ""
      ],
      "id": "9QA8GvkwAMly",
      "execution_count": 45,
      "outputs": []
    },
    {
      "cell_type": "markdown",
      "metadata": {
        "id": "MqZlkog9V9nb"
      },
      "source": [
        "## Creating TF-IDF model using TfidfVectorizer function"
      ],
      "id": "MqZlkog9V9nb"
    },
    {
      "cell_type": "code",
      "metadata": {
        "id": "iu5SDnBSAMoJ"
      },
      "source": [
        "tv = TfidfVectorizer()\n",
        "v = tv.fit_transform(reviews)\n",
        "tfidf_df = pd.DataFrame(v.toarray(), columns = tv.get_feature_names())"
      ],
      "id": "iu5SDnBSAMoJ",
      "execution_count": 46,
      "outputs": []
    },
    {
      "cell_type": "code",
      "metadata": {
        "colab": {
          "base_uri": "https://localhost:8080/"
        },
        "id": "4YqdReKKAMrI",
        "outputId": "1cf15b91-8a86-438b-ff27-e8c92d3bbaf5"
      },
      "source": [
        "tfidf_df.shape"
      ],
      "id": "4YqdReKKAMrI",
      "execution_count": 47,
      "outputs": [
        {
          "output_type": "execute_result",
          "data": {
            "text/plain": [
              "(29999, 1836)"
            ]
          },
          "metadata": {
            "tags": []
          },
          "execution_count": 47
        }
      ]
    },
    {
      "cell_type": "code",
      "metadata": {
        "colab": {
          "base_uri": "https://localhost:8080/"
        },
        "id": "AFBMCc_zHsEO",
        "outputId": "142f380d-6f3e-4281-84dd-8a79265b364f"
      },
      "source": [
        "joblib.dump(tv, 'tfidf_vectorizer.pkl') "
      ],
      "id": "AFBMCc_zHsEO",
      "execution_count": 48,
      "outputs": [
        {
          "output_type": "execute_result",
          "data": {
            "text/plain": [
              "['tfidf_vectorizer.pkl']"
            ]
          },
          "metadata": {
            "tags": []
          },
          "execution_count": 48
        }
      ]
    },
    {
      "cell_type": "code",
      "metadata": {
        "colab": {
          "base_uri": "https://localhost:8080/",
          "height": 253
        },
        "id": "oliqUwLkAMtn",
        "outputId": "dc6fc7e4-2765-4401-d57c-05959b24dcd8"
      },
      "source": [
        "tfidf_df.tail()"
      ],
      "id": "oliqUwLkAMtn",
      "execution_count": 49,
      "outputs": [
        {
          "output_type": "execute_result",
          "data": {
            "text/html": [
              "<div>\n",
              "<style scoped>\n",
              "    .dataframe tbody tr th:only-of-type {\n",
              "        vertical-align: middle;\n",
              "    }\n",
              "\n",
              "    .dataframe tbody tr th {\n",
              "        vertical-align: top;\n",
              "    }\n",
              "\n",
              "    .dataframe thead th {\n",
              "        text-align: right;\n",
              "    }\n",
              "</style>\n",
              "<table border=\"1\" class=\"dataframe\">\n",
              "  <thead>\n",
              "    <tr style=\"text-align: right;\">\n",
              "      <th></th>\n",
              "      <th>abil</th>\n",
              "      <th>abl</th>\n",
              "      <th>absolut</th>\n",
              "      <th>absorb</th>\n",
              "      <th>access</th>\n",
              "      <th>accid</th>\n",
              "      <th>acn</th>\n",
              "      <th>across</th>\n",
              "      <th>act</th>\n",
              "      <th>action</th>\n",
              "      <th>activ</th>\n",
              "      <th>actor</th>\n",
              "      <th>actual</th>\n",
              "      <th>ad</th>\n",
              "      <th>adam</th>\n",
              "      <th>adapt</th>\n",
              "      <th>add</th>\n",
              "      <th>addict</th>\n",
              "      <th>addit</th>\n",
              "      <th>admit</th>\n",
              "      <th>ador</th>\n",
              "      <th>adult</th>\n",
              "      <th>adventur</th>\n",
              "      <th>advertis</th>\n",
              "      <th>afford</th>\n",
              "      <th>afraid</th>\n",
              "      <th>afternoon</th>\n",
              "      <th>afterward</th>\n",
              "      <th>age</th>\n",
              "      <th>agedefi</th>\n",
              "      <th>ago</th>\n",
              "      <th>agre</th>\n",
              "      <th>ahead</th>\n",
              "      <th>air</th>\n",
              "      <th>album</th>\n",
              "      <th>alcohol</th>\n",
              "      <th>aldean</th>\n",
              "      <th>ale</th>\n",
              "      <th>alex</th>\n",
              "      <th>alic</th>\n",
              "      <th>...</th>\n",
              "      <th>without</th>\n",
              "      <th>woman</th>\n",
              "      <th>women</th>\n",
              "      <th>wonder</th>\n",
              "      <th>wont</th>\n",
              "      <th>wood</th>\n",
              "      <th>word</th>\n",
              "      <th>wore</th>\n",
              "      <th>work</th>\n",
              "      <th>workout</th>\n",
              "      <th>world</th>\n",
              "      <th>worn</th>\n",
              "      <th>worri</th>\n",
              "      <th>wors</th>\n",
              "      <th>worst</th>\n",
              "      <th>worth</th>\n",
              "      <th>worthi</th>\n",
              "      <th>would</th>\n",
              "      <th>wouldnt</th>\n",
              "      <th>wouldv</th>\n",
              "      <th>wow</th>\n",
              "      <th>wrinkl</th>\n",
              "      <th>write</th>\n",
              "      <th>written</th>\n",
              "      <th>wrong</th>\n",
              "      <th>ye</th>\n",
              "      <th>year</th>\n",
              "      <th>yellow</th>\n",
              "      <th>yet</th>\n",
              "      <th>yogurt</th>\n",
              "      <th>youll</th>\n",
              "      <th>young</th>\n",
              "      <th>younger</th>\n",
              "      <th>your</th>\n",
              "      <th>youv</th>\n",
              "      <th>yr</th>\n",
              "      <th>yum</th>\n",
              "      <th>yummi</th>\n",
              "      <th>zac</th>\n",
              "      <th>zombi</th>\n",
              "    </tr>\n",
              "  </thead>\n",
              "  <tbody>\n",
              "    <tr>\n",
              "      <th>29994</th>\n",
              "      <td>0.0</td>\n",
              "      <td>0.0</td>\n",
              "      <td>0.0</td>\n",
              "      <td>0.0</td>\n",
              "      <td>0.0</td>\n",
              "      <td>0.0</td>\n",
              "      <td>0.0</td>\n",
              "      <td>0.0</td>\n",
              "      <td>0.0</td>\n",
              "      <td>0.0</td>\n",
              "      <td>0.0</td>\n",
              "      <td>0.0</td>\n",
              "      <td>0.0</td>\n",
              "      <td>0.0</td>\n",
              "      <td>0.0</td>\n",
              "      <td>0.0</td>\n",
              "      <td>0.0</td>\n",
              "      <td>0.0</td>\n",
              "      <td>0.0</td>\n",
              "      <td>0.0</td>\n",
              "      <td>0.0</td>\n",
              "      <td>0.0</td>\n",
              "      <td>0.0</td>\n",
              "      <td>0.0</td>\n",
              "      <td>0.0</td>\n",
              "      <td>0.0</td>\n",
              "      <td>0.0</td>\n",
              "      <td>0.0</td>\n",
              "      <td>0.0</td>\n",
              "      <td>0.0</td>\n",
              "      <td>0.0</td>\n",
              "      <td>0.0</td>\n",
              "      <td>0.0</td>\n",
              "      <td>0.0</td>\n",
              "      <td>0.0</td>\n",
              "      <td>0.0</td>\n",
              "      <td>0.0</td>\n",
              "      <td>0.0</td>\n",
              "      <td>0.0</td>\n",
              "      <td>0.0</td>\n",
              "      <td>...</td>\n",
              "      <td>0.0</td>\n",
              "      <td>0.0</td>\n",
              "      <td>0.0</td>\n",
              "      <td>0.0</td>\n",
              "      <td>0.0</td>\n",
              "      <td>0.0</td>\n",
              "      <td>0.0</td>\n",
              "      <td>0.0</td>\n",
              "      <td>0.0</td>\n",
              "      <td>0.0</td>\n",
              "      <td>0.0</td>\n",
              "      <td>0.0</td>\n",
              "      <td>0.0</td>\n",
              "      <td>0.0</td>\n",
              "      <td>0.0</td>\n",
              "      <td>0.0</td>\n",
              "      <td>0.0</td>\n",
              "      <td>0.0</td>\n",
              "      <td>0.0</td>\n",
              "      <td>0.0</td>\n",
              "      <td>0.0</td>\n",
              "      <td>0.0</td>\n",
              "      <td>0.0</td>\n",
              "      <td>0.0</td>\n",
              "      <td>0.0</td>\n",
              "      <td>0.0</td>\n",
              "      <td>0.0</td>\n",
              "      <td>0.0</td>\n",
              "      <td>0.0</td>\n",
              "      <td>0.0</td>\n",
              "      <td>0.0</td>\n",
              "      <td>0.0</td>\n",
              "      <td>0.0</td>\n",
              "      <td>0.0</td>\n",
              "      <td>0.0</td>\n",
              "      <td>0.0</td>\n",
              "      <td>0.0</td>\n",
              "      <td>0.0</td>\n",
              "      <td>0.0</td>\n",
              "      <td>0.0</td>\n",
              "    </tr>\n",
              "    <tr>\n",
              "      <th>29995</th>\n",
              "      <td>0.0</td>\n",
              "      <td>0.0</td>\n",
              "      <td>0.0</td>\n",
              "      <td>0.0</td>\n",
              "      <td>0.0</td>\n",
              "      <td>0.0</td>\n",
              "      <td>0.0</td>\n",
              "      <td>0.0</td>\n",
              "      <td>0.0</td>\n",
              "      <td>0.0</td>\n",
              "      <td>0.0</td>\n",
              "      <td>0.0</td>\n",
              "      <td>0.0</td>\n",
              "      <td>0.0</td>\n",
              "      <td>0.0</td>\n",
              "      <td>0.0</td>\n",
              "      <td>0.0</td>\n",
              "      <td>0.0</td>\n",
              "      <td>0.0</td>\n",
              "      <td>0.0</td>\n",
              "      <td>0.0</td>\n",
              "      <td>0.0</td>\n",
              "      <td>0.0</td>\n",
              "      <td>0.0</td>\n",
              "      <td>0.0</td>\n",
              "      <td>0.0</td>\n",
              "      <td>0.0</td>\n",
              "      <td>0.0</td>\n",
              "      <td>0.0</td>\n",
              "      <td>0.0</td>\n",
              "      <td>0.0</td>\n",
              "      <td>0.0</td>\n",
              "      <td>0.0</td>\n",
              "      <td>0.0</td>\n",
              "      <td>0.0</td>\n",
              "      <td>0.0</td>\n",
              "      <td>0.0</td>\n",
              "      <td>0.0</td>\n",
              "      <td>0.0</td>\n",
              "      <td>0.0</td>\n",
              "      <td>...</td>\n",
              "      <td>0.0</td>\n",
              "      <td>0.0</td>\n",
              "      <td>0.0</td>\n",
              "      <td>0.0</td>\n",
              "      <td>0.0</td>\n",
              "      <td>0.0</td>\n",
              "      <td>0.0</td>\n",
              "      <td>0.0</td>\n",
              "      <td>0.0</td>\n",
              "      <td>0.0</td>\n",
              "      <td>0.0</td>\n",
              "      <td>0.0</td>\n",
              "      <td>0.0</td>\n",
              "      <td>0.0</td>\n",
              "      <td>0.0</td>\n",
              "      <td>0.0</td>\n",
              "      <td>0.0</td>\n",
              "      <td>0.0</td>\n",
              "      <td>0.0</td>\n",
              "      <td>0.0</td>\n",
              "      <td>0.0</td>\n",
              "      <td>0.0</td>\n",
              "      <td>0.0</td>\n",
              "      <td>0.0</td>\n",
              "      <td>0.0</td>\n",
              "      <td>0.0</td>\n",
              "      <td>0.0</td>\n",
              "      <td>0.0</td>\n",
              "      <td>0.0</td>\n",
              "      <td>0.0</td>\n",
              "      <td>0.0</td>\n",
              "      <td>0.0</td>\n",
              "      <td>0.0</td>\n",
              "      <td>0.0</td>\n",
              "      <td>0.0</td>\n",
              "      <td>0.0</td>\n",
              "      <td>0.0</td>\n",
              "      <td>0.0</td>\n",
              "      <td>0.0</td>\n",
              "      <td>0.0</td>\n",
              "    </tr>\n",
              "    <tr>\n",
              "      <th>29996</th>\n",
              "      <td>0.0</td>\n",
              "      <td>0.0</td>\n",
              "      <td>0.0</td>\n",
              "      <td>0.0</td>\n",
              "      <td>0.0</td>\n",
              "      <td>0.0</td>\n",
              "      <td>0.0</td>\n",
              "      <td>0.0</td>\n",
              "      <td>0.0</td>\n",
              "      <td>0.0</td>\n",
              "      <td>0.0</td>\n",
              "      <td>0.0</td>\n",
              "      <td>0.0</td>\n",
              "      <td>0.0</td>\n",
              "      <td>0.0</td>\n",
              "      <td>0.0</td>\n",
              "      <td>0.0</td>\n",
              "      <td>0.0</td>\n",
              "      <td>0.0</td>\n",
              "      <td>0.0</td>\n",
              "      <td>0.0</td>\n",
              "      <td>0.0</td>\n",
              "      <td>0.0</td>\n",
              "      <td>0.0</td>\n",
              "      <td>0.0</td>\n",
              "      <td>0.0</td>\n",
              "      <td>0.0</td>\n",
              "      <td>0.0</td>\n",
              "      <td>0.0</td>\n",
              "      <td>0.0</td>\n",
              "      <td>0.0</td>\n",
              "      <td>0.0</td>\n",
              "      <td>0.0</td>\n",
              "      <td>0.0</td>\n",
              "      <td>0.0</td>\n",
              "      <td>0.0</td>\n",
              "      <td>0.0</td>\n",
              "      <td>0.0</td>\n",
              "      <td>0.0</td>\n",
              "      <td>0.0</td>\n",
              "      <td>...</td>\n",
              "      <td>0.0</td>\n",
              "      <td>0.0</td>\n",
              "      <td>0.0</td>\n",
              "      <td>0.0</td>\n",
              "      <td>0.0</td>\n",
              "      <td>0.0</td>\n",
              "      <td>0.0</td>\n",
              "      <td>0.0</td>\n",
              "      <td>0.0</td>\n",
              "      <td>0.0</td>\n",
              "      <td>0.0</td>\n",
              "      <td>0.0</td>\n",
              "      <td>0.0</td>\n",
              "      <td>0.0</td>\n",
              "      <td>0.0</td>\n",
              "      <td>0.0</td>\n",
              "      <td>0.0</td>\n",
              "      <td>0.0</td>\n",
              "      <td>0.0</td>\n",
              "      <td>0.0</td>\n",
              "      <td>0.0</td>\n",
              "      <td>0.0</td>\n",
              "      <td>0.0</td>\n",
              "      <td>0.0</td>\n",
              "      <td>0.0</td>\n",
              "      <td>0.0</td>\n",
              "      <td>0.0</td>\n",
              "      <td>0.0</td>\n",
              "      <td>0.0</td>\n",
              "      <td>0.0</td>\n",
              "      <td>0.0</td>\n",
              "      <td>0.0</td>\n",
              "      <td>0.0</td>\n",
              "      <td>0.0</td>\n",
              "      <td>0.0</td>\n",
              "      <td>0.0</td>\n",
              "      <td>0.0</td>\n",
              "      <td>0.0</td>\n",
              "      <td>0.0</td>\n",
              "      <td>0.0</td>\n",
              "    </tr>\n",
              "    <tr>\n",
              "      <th>29997</th>\n",
              "      <td>0.0</td>\n",
              "      <td>0.0</td>\n",
              "      <td>0.0</td>\n",
              "      <td>0.0</td>\n",
              "      <td>0.0</td>\n",
              "      <td>0.0</td>\n",
              "      <td>0.0</td>\n",
              "      <td>0.0</td>\n",
              "      <td>0.0</td>\n",
              "      <td>0.0</td>\n",
              "      <td>0.0</td>\n",
              "      <td>0.0</td>\n",
              "      <td>0.0</td>\n",
              "      <td>0.0</td>\n",
              "      <td>0.0</td>\n",
              "      <td>0.0</td>\n",
              "      <td>0.0</td>\n",
              "      <td>0.0</td>\n",
              "      <td>0.0</td>\n",
              "      <td>0.0</td>\n",
              "      <td>0.0</td>\n",
              "      <td>0.0</td>\n",
              "      <td>0.0</td>\n",
              "      <td>0.0</td>\n",
              "      <td>0.0</td>\n",
              "      <td>0.0</td>\n",
              "      <td>0.0</td>\n",
              "      <td>0.0</td>\n",
              "      <td>0.0</td>\n",
              "      <td>0.0</td>\n",
              "      <td>0.0</td>\n",
              "      <td>0.0</td>\n",
              "      <td>0.0</td>\n",
              "      <td>0.0</td>\n",
              "      <td>0.0</td>\n",
              "      <td>0.0</td>\n",
              "      <td>0.0</td>\n",
              "      <td>0.0</td>\n",
              "      <td>0.0</td>\n",
              "      <td>0.0</td>\n",
              "      <td>...</td>\n",
              "      <td>0.0</td>\n",
              "      <td>0.0</td>\n",
              "      <td>0.0</td>\n",
              "      <td>0.0</td>\n",
              "      <td>0.0</td>\n",
              "      <td>0.0</td>\n",
              "      <td>0.0</td>\n",
              "      <td>0.0</td>\n",
              "      <td>0.0</td>\n",
              "      <td>0.0</td>\n",
              "      <td>0.0</td>\n",
              "      <td>0.0</td>\n",
              "      <td>0.0</td>\n",
              "      <td>0.0</td>\n",
              "      <td>0.0</td>\n",
              "      <td>0.0</td>\n",
              "      <td>0.0</td>\n",
              "      <td>0.0</td>\n",
              "      <td>0.0</td>\n",
              "      <td>0.0</td>\n",
              "      <td>0.0</td>\n",
              "      <td>0.0</td>\n",
              "      <td>0.0</td>\n",
              "      <td>0.0</td>\n",
              "      <td>0.0</td>\n",
              "      <td>0.0</td>\n",
              "      <td>0.0</td>\n",
              "      <td>0.0</td>\n",
              "      <td>0.0</td>\n",
              "      <td>0.0</td>\n",
              "      <td>0.0</td>\n",
              "      <td>0.0</td>\n",
              "      <td>0.0</td>\n",
              "      <td>0.0</td>\n",
              "      <td>0.0</td>\n",
              "      <td>0.0</td>\n",
              "      <td>0.0</td>\n",
              "      <td>0.0</td>\n",
              "      <td>0.0</td>\n",
              "      <td>0.0</td>\n",
              "    </tr>\n",
              "    <tr>\n",
              "      <th>29998</th>\n",
              "      <td>0.0</td>\n",
              "      <td>0.0</td>\n",
              "      <td>0.0</td>\n",
              "      <td>0.0</td>\n",
              "      <td>0.0</td>\n",
              "      <td>0.0</td>\n",
              "      <td>0.0</td>\n",
              "      <td>0.0</td>\n",
              "      <td>0.0</td>\n",
              "      <td>0.0</td>\n",
              "      <td>0.0</td>\n",
              "      <td>0.0</td>\n",
              "      <td>0.0</td>\n",
              "      <td>0.0</td>\n",
              "      <td>0.0</td>\n",
              "      <td>0.0</td>\n",
              "      <td>0.0</td>\n",
              "      <td>0.0</td>\n",
              "      <td>0.0</td>\n",
              "      <td>0.0</td>\n",
              "      <td>0.0</td>\n",
              "      <td>0.0</td>\n",
              "      <td>0.0</td>\n",
              "      <td>0.0</td>\n",
              "      <td>0.0</td>\n",
              "      <td>0.0</td>\n",
              "      <td>0.0</td>\n",
              "      <td>0.0</td>\n",
              "      <td>0.0</td>\n",
              "      <td>0.0</td>\n",
              "      <td>0.0</td>\n",
              "      <td>0.0</td>\n",
              "      <td>0.0</td>\n",
              "      <td>0.0</td>\n",
              "      <td>0.0</td>\n",
              "      <td>0.0</td>\n",
              "      <td>0.0</td>\n",
              "      <td>0.0</td>\n",
              "      <td>0.0</td>\n",
              "      <td>0.0</td>\n",
              "      <td>...</td>\n",
              "      <td>0.0</td>\n",
              "      <td>0.0</td>\n",
              "      <td>0.0</td>\n",
              "      <td>0.0</td>\n",
              "      <td>0.0</td>\n",
              "      <td>0.0</td>\n",
              "      <td>0.0</td>\n",
              "      <td>0.0</td>\n",
              "      <td>0.0</td>\n",
              "      <td>0.0</td>\n",
              "      <td>0.0</td>\n",
              "      <td>0.0</td>\n",
              "      <td>0.0</td>\n",
              "      <td>0.0</td>\n",
              "      <td>0.0</td>\n",
              "      <td>0.0</td>\n",
              "      <td>0.0</td>\n",
              "      <td>0.0</td>\n",
              "      <td>0.0</td>\n",
              "      <td>0.0</td>\n",
              "      <td>0.0</td>\n",
              "      <td>0.0</td>\n",
              "      <td>0.0</td>\n",
              "      <td>0.0</td>\n",
              "      <td>0.0</td>\n",
              "      <td>0.0</td>\n",
              "      <td>0.0</td>\n",
              "      <td>0.0</td>\n",
              "      <td>0.0</td>\n",
              "      <td>0.0</td>\n",
              "      <td>0.0</td>\n",
              "      <td>0.0</td>\n",
              "      <td>0.0</td>\n",
              "      <td>0.0</td>\n",
              "      <td>0.0</td>\n",
              "      <td>0.0</td>\n",
              "      <td>0.0</td>\n",
              "      <td>0.0</td>\n",
              "      <td>0.0</td>\n",
              "      <td>0.0</td>\n",
              "    </tr>\n",
              "  </tbody>\n",
              "</table>\n",
              "<p>5 rows × 1836 columns</p>\n",
              "</div>"
            ],
            "text/plain": [
              "       abil  abl  absolut  absorb  access  ...   yr  yum  yummi  zac  zombi\n",
              "29994   0.0  0.0      0.0     0.0     0.0  ...  0.0  0.0    0.0  0.0    0.0\n",
              "29995   0.0  0.0      0.0     0.0     0.0  ...  0.0  0.0    0.0  0.0    0.0\n",
              "29996   0.0  0.0      0.0     0.0     0.0  ...  0.0  0.0    0.0  0.0    0.0\n",
              "29997   0.0  0.0      0.0     0.0     0.0  ...  0.0  0.0    0.0  0.0    0.0\n",
              "29998   0.0  0.0      0.0     0.0     0.0  ...  0.0  0.0    0.0  0.0    0.0\n",
              "\n",
              "[5 rows x 1836 columns]"
            ]
          },
          "metadata": {
            "tags": []
          },
          "execution_count": 49
        }
      ]
    },
    {
      "cell_type": "markdown",
      "metadata": {
        "id": "7wSNpAuywit8"
      },
      "source": [
        "## Model Building"
      ],
      "id": "7wSNpAuywit8"
    },
    {
      "cell_type": "markdown",
      "metadata": {
        "id": "WQnO6KJ6oedz"
      },
      "source": [
        "### Splitting data into train and test"
      ],
      "id": "WQnO6KJ6oedz"
    },
    {
      "cell_type": "code",
      "metadata": {
        "id": "oINUJpv4ok4h"
      },
      "source": [
        "# Splitting the data into trrain and test datasets BOW model data\n",
        "X_train_bw,X_test_bw, y_train_bw, y_test_bw = train_test_split(bow_model,df_sent.user_sentiment, train_size=0.8, stratify = df_sent.user_sentiment, random_state=100 )\n",
        "\n",
        "# Splitting the data into trrain and test datasets TF-IDF model data\n",
        "X_train_tf,X_test_tf, y_train_tf, y_test_tf = train_test_split(tfidf_df,df_sent.user_sentiment, train_size=0.8, stratify = df_sent.user_sentiment, random_state=100 )"
      ],
      "id": "oINUJpv4ok4h",
      "execution_count": 50,
      "outputs": []
    },
    {
      "cell_type": "code",
      "metadata": {
        "id": "dUFELYu5okfd"
      },
      "source": [
        ""
      ],
      "id": "dUFELYu5okfd",
      "execution_count": 50,
      "outputs": []
    },
    {
      "cell_type": "markdown",
      "metadata": {
        "id": "gkPwfqRwZIJX"
      },
      "source": [
        "## Handling Class Imbalance"
      ],
      "id": "gkPwfqRwZIJX"
    },
    {
      "cell_type": "code",
      "metadata": {
        "colab": {
          "base_uri": "https://localhost:8080/"
        },
        "id": "OG9LGz8UAMws",
        "outputId": "00ac245b-3b14-47e7-bb6e-e2a3283807e5"
      },
      "source": [
        "y_train_bw.value_counts(normalize = True)*100"
      ],
      "id": "OG9LGz8UAMws",
      "execution_count": 51,
      "outputs": [
        {
          "output_type": "execute_result",
          "data": {
            "text/plain": [
              "1    88.774532\n",
              "0    11.225468\n",
              "Name: user_sentiment, dtype: float64"
            ]
          },
          "metadata": {
            "tags": []
          },
          "execution_count": 51
        }
      ]
    },
    {
      "cell_type": "code",
      "metadata": {
        "colab": {
          "base_uri": "https://localhost:8080/"
        },
        "id": "z1tR9j_DAM1Y",
        "outputId": "e1eafdf0-c400-464b-8daf-09e01646f197"
      },
      "source": [
        "y_train_tf.value_counts(normalize = True)*100"
      ],
      "id": "z1tR9j_DAM1Y",
      "execution_count": 52,
      "outputs": [
        {
          "output_type": "execute_result",
          "data": {
            "text/plain": [
              "1    88.774532\n",
              "0    11.225468\n",
              "Name: user_sentiment, dtype: float64"
            ]
          },
          "metadata": {
            "tags": []
          },
          "execution_count": 52
        }
      ]
    },
    {
      "cell_type": "markdown",
      "metadata": {
        "id": "1WJRqIjwmWMg"
      },
      "source": [
        "Handling imbalance using SMOTE technique"
      ],
      "id": "1WJRqIjwmWMg"
    },
    {
      "cell_type": "code",
      "metadata": {
        "id": "0kVyVCXBAM8h"
      },
      "source": [
        "sm1= SMOTE()\n",
        "sm2= SMOTE()\n",
        "x_train_bw_sm,y_train_bw_sm = sm1.fit_resample(X_train_bw,y_train_bw)\n",
        "x_train_tf_sm,y_train_tf_sm = sm2.fit_resample(X_train_tf,y_train_tf)"
      ],
      "id": "0kVyVCXBAM8h",
      "execution_count": 53,
      "outputs": []
    },
    {
      "cell_type": "code",
      "metadata": {
        "colab": {
          "base_uri": "https://localhost:8080/"
        },
        "id": "o17wvE58stMW",
        "outputId": "be76f852-bf3f-436c-a7f1-bcfd51ea6d2b"
      },
      "source": [
        "print('Bag of Words model (before smote) : ',Counter(y_train_bw))\n",
        "print('Bag of Words model (after smote)  : ',Counter(y_train_bw_sm))\n",
        "print('TF-IDF model (before smote)       : ',Counter(y_train_tf))\n",
        "print('TF-IDF model (after smote)        : ',Counter(y_train_tf_sm))"
      ],
      "id": "o17wvE58stMW",
      "execution_count": 54,
      "outputs": [
        {
          "output_type": "stream",
          "text": [
            "Bag of Words model (before smote) :  Counter({1: 21305, 0: 2694})\n",
            "Bag of Words model (after smote)  :  Counter({1: 21305, 0: 21305})\n",
            "TF-IDF model (before smote)       :  Counter({1: 21305, 0: 2694})\n",
            "TF-IDF model (after smote)        :  Counter({1: 21305, 0: 21305})\n"
          ],
          "name": "stdout"
        }
      ]
    },
    {
      "cell_type": "code",
      "metadata": {
        "id": "kiXnmwZ2t37B"
      },
      "source": [
        "ros1= RandomOverSampler()\n",
        "ros2= RandomOverSampler()\n",
        "\n",
        "x_train_bw_os,y_train_bw_os = ros1.fit_resample(X_train_bw,y_train_bw)\n",
        "x_train_tf_os,y_train_tf_os = ros2.fit_resample(X_train_tf,y_train_tf)"
      ],
      "id": "kiXnmwZ2t37B",
      "execution_count": 55,
      "outputs": []
    },
    {
      "cell_type": "code",
      "metadata": {
        "colab": {
          "base_uri": "https://localhost:8080/"
        },
        "id": "6cLMjcX3wAZ0",
        "outputId": "1f641e23-0f63-4176-e09d-5c30734c06cb"
      },
      "source": [
        "\n",
        "print('Bag of Words model (before random over sampler) : ',Counter(y_train_bw))\n",
        "print('Bag of Words model (after random over sampler)  : ',Counter(y_train_bw_sm))\n",
        "print('TF-IDF model (before random over sampler)       : ',Counter(y_train_tf))\n",
        "print('TF-IDF model (after random over sampler)        : ',Counter(y_train_tf_sm))"
      ],
      "id": "6cLMjcX3wAZ0",
      "execution_count": 56,
      "outputs": [
        {
          "output_type": "stream",
          "text": [
            "Bag of Words model (before random over sampler) :  Counter({1: 21305, 0: 2694})\n",
            "Bag of Words model (after random over sampler)  :  Counter({1: 21305, 0: 21305})\n",
            "TF-IDF model (before random over sampler)       :  Counter({1: 21305, 0: 2694})\n",
            "TF-IDF model (after random over sampler)        :  Counter({1: 21305, 0: 21305})\n"
          ],
          "name": "stdout"
        }
      ]
    },
    {
      "cell_type": "code",
      "metadata": {
        "colab": {
          "base_uri": "https://localhost:8080/",
          "height": 419
        },
        "id": "SXOSBszO5x8n",
        "outputId": "42e30084-db1d-4ef3-92ff-9793b3290879"
      },
      "source": [
        "y_train_bw_sm = pd.DataFrame(y_train_bw_sm)\n",
        "y_train_bw_sm.columns = ['user_sentiment']\n",
        "y_train_bw_sm\n",
        "y_train_bw = y_train_bw_sm\n",
        "y_train_tf_sm = pd.DataFrame(y_train_tf_sm)\n",
        "y_train_tf_sm.columns = ['user_sentiment']\n",
        "y_train_tf_sm\n",
        "y_train_tf = y_train_tf_sm\n",
        "y_train_bw_os = pd.DataFrame(y_train_bw_os)\n",
        "y_train_bw_os.columns = ['user_sentiment']\n",
        "y_train_bw_os\n",
        "y_train_tf_os = pd.DataFrame(y_train_tf_os)\n",
        "y_train_tf_os.columns = ['user_sentiment']\n",
        "y_train_tf_os"
      ],
      "id": "SXOSBszO5x8n",
      "execution_count": 57,
      "outputs": [
        {
          "output_type": "execute_result",
          "data": {
            "text/html": [
              "<div>\n",
              "<style scoped>\n",
              "    .dataframe tbody tr th:only-of-type {\n",
              "        vertical-align: middle;\n",
              "    }\n",
              "\n",
              "    .dataframe tbody tr th {\n",
              "        vertical-align: top;\n",
              "    }\n",
              "\n",
              "    .dataframe thead th {\n",
              "        text-align: right;\n",
              "    }\n",
              "</style>\n",
              "<table border=\"1\" class=\"dataframe\">\n",
              "  <thead>\n",
              "    <tr style=\"text-align: right;\">\n",
              "      <th></th>\n",
              "      <th>user_sentiment</th>\n",
              "    </tr>\n",
              "  </thead>\n",
              "  <tbody>\n",
              "    <tr>\n",
              "      <th>0</th>\n",
              "      <td>1</td>\n",
              "    </tr>\n",
              "    <tr>\n",
              "      <th>1</th>\n",
              "      <td>1</td>\n",
              "    </tr>\n",
              "    <tr>\n",
              "      <th>2</th>\n",
              "      <td>1</td>\n",
              "    </tr>\n",
              "    <tr>\n",
              "      <th>3</th>\n",
              "      <td>1</td>\n",
              "    </tr>\n",
              "    <tr>\n",
              "      <th>4</th>\n",
              "      <td>1</td>\n",
              "    </tr>\n",
              "    <tr>\n",
              "      <th>...</th>\n",
              "      <td>...</td>\n",
              "    </tr>\n",
              "    <tr>\n",
              "      <th>42605</th>\n",
              "      <td>0</td>\n",
              "    </tr>\n",
              "    <tr>\n",
              "      <th>42606</th>\n",
              "      <td>0</td>\n",
              "    </tr>\n",
              "    <tr>\n",
              "      <th>42607</th>\n",
              "      <td>0</td>\n",
              "    </tr>\n",
              "    <tr>\n",
              "      <th>42608</th>\n",
              "      <td>0</td>\n",
              "    </tr>\n",
              "    <tr>\n",
              "      <th>42609</th>\n",
              "      <td>0</td>\n",
              "    </tr>\n",
              "  </tbody>\n",
              "</table>\n",
              "<p>42610 rows × 1 columns</p>\n",
              "</div>"
            ],
            "text/plain": [
              "       user_sentiment\n",
              "0                   1\n",
              "1                   1\n",
              "2                   1\n",
              "3                   1\n",
              "4                   1\n",
              "...               ...\n",
              "42605               0\n",
              "42606               0\n",
              "42607               0\n",
              "42608               0\n",
              "42609               0\n",
              "\n",
              "[42610 rows x 1 columns]"
            ]
          },
          "metadata": {
            "tags": []
          },
          "execution_count": 57
        }
      ]
    },
    {
      "cell_type": "markdown",
      "metadata": {
        "id": "mLYm26Seww9w"
      },
      "source": [
        "## Logistic regression"
      ],
      "id": "mLYm26Seww9w"
    },
    {
      "cell_type": "markdown",
      "metadata": {
        "id": "STPu1B7pw6nq"
      },
      "source": [
        "#### On BOW model data"
      ],
      "id": "STPu1B7pw6nq"
    },
    {
      "cell_type": "markdown",
      "metadata": {
        "id": "NLKlLgMU-Oze"
      },
      "source": [
        "##### Smote"
      ],
      "id": "NLKlLgMU-Oze"
    },
    {
      "cell_type": "code",
      "metadata": {
        "id": "8bAHAk13wAKT",
        "colab": {
          "base_uri": "https://localhost:8080/"
        },
        "outputId": "cccf858d-1a0b-4b40-bb56-9a9ffc5b30e1"
      },
      "source": [
        "log_bw_sm = LogisticRegression()\n",
        "log_bw_sm.fit(x_train_bw_sm,y_train_bw_sm)"
      ],
      "id": "8bAHAk13wAKT",
      "execution_count": 58,
      "outputs": [
        {
          "output_type": "execute_result",
          "data": {
            "text/plain": [
              "LogisticRegression(C=1.0, class_weight=None, dual=False, fit_intercept=True,\n",
              "                   intercept_scaling=1, l1_ratio=None, max_iter=100,\n",
              "                   multi_class='auto', n_jobs=None, penalty='l2',\n",
              "                   random_state=None, solver='lbfgs', tol=0.0001, verbose=0,\n",
              "                   warm_start=False)"
            ]
          },
          "metadata": {
            "tags": []
          },
          "execution_count": 58
        }
      ]
    },
    {
      "cell_type": "markdown",
      "metadata": {
        "id": "8r8RATrN-T5f"
      },
      "source": [
        "Model Prediction"
      ],
      "id": "8r8RATrN-T5f"
    },
    {
      "cell_type": "code",
      "metadata": {
        "id": "SgH5C2tv70lc"
      },
      "source": [
        "y_train_bw_sm_pred = log_bw_sm.predict(x_train_bw_sm)"
      ],
      "id": "SgH5C2tv70lc",
      "execution_count": 59,
      "outputs": []
    },
    {
      "cell_type": "code",
      "metadata": {
        "id": "g5cZVXtDJpqW"
      },
      "source": [
        "performance = pd.DataFrame(columns=['Model','Feature vectors','Sampling method'\n",
        "                                   ,'Accuracy','Precision','Recall','F1-Score'])"
      ],
      "id": "g5cZVXtDJpqW",
      "execution_count": 60,
      "outputs": []
    },
    {
      "cell_type": "code",
      "metadata": {
        "id": "tsyJK9GiZn58"
      },
      "source": [
        "def model_performance(y_true, y_pred,add_to_model = False,model = None\n",
        "                      , feature = None, sampling = 'Smote'):\n",
        "  accuracy = metrics.accuracy_score(y_true,y_pred)\n",
        "  precision= metrics.precision_score(y_true,y_pred)\n",
        "  recall   = metrics.recall_score(y_true,y_pred)\n",
        "  f1_score = metrics.f1_score(y_true,y_pred)\n",
        "  print('Accuracy score : %.2f'% accuracy)\n",
        "  print('Precision      : %.2f'% precision)\n",
        "  print('Recall         : %.2f'% recall)\n",
        "  print('F1 score       : %.2f'% f1_score)\n",
        "  if add_to_model:\n",
        "    l1 = [model, feature,sampling, '%.2f'% accuracy, '%.2f'% precision, '%.2f'% recall,'%.2f'% f1_score ]\n",
        "    performance.loc[len(performance)] = l1\n"
      ],
      "id": "tsyJK9GiZn58",
      "execution_count": 61,
      "outputs": []
    },
    {
      "cell_type": "code",
      "metadata": {
        "id": "hgTT6szE8bEB",
        "colab": {
          "base_uri": "https://localhost:8080/"
        },
        "outputId": "efb6b47f-66ee-4ffe-8d26-6bdb84471df7"
      },
      "source": [
        "model_performance(y_train_bw_sm, y_train_bw_sm_pred)"
      ],
      "id": "hgTT6szE8bEB",
      "execution_count": 62,
      "outputs": [
        {
          "output_type": "stream",
          "text": [
            "Accuracy score : 0.95\n",
            "Precision      : 0.96\n",
            "Recall         : 0.94\n",
            "F1 score       : 0.95\n"
          ],
          "name": "stdout"
        }
      ]
    },
    {
      "cell_type": "markdown",
      "metadata": {
        "id": "4gDzQjCPDT2B"
      },
      "source": [
        "Model Evaluation"
      ],
      "id": "4gDzQjCPDT2B"
    },
    {
      "cell_type": "code",
      "metadata": {
        "id": "kTd8Rl7LZWa9"
      },
      "source": [
        "y_test_bw_sm_pred = log_bw_sm.predict(X_test_bw)"
      ],
      "id": "kTd8Rl7LZWa9",
      "execution_count": 63,
      "outputs": []
    },
    {
      "cell_type": "code",
      "metadata": {
        "id": "4gGIEAORv_1I",
        "colab": {
          "base_uri": "https://localhost:8080/"
        },
        "outputId": "5b243c7b-701d-464d-ee5d-a4583bae2761"
      },
      "source": [
        "model_performance(y_test_bw,y_test_bw_sm_pred,True,'Logistic Regression','BoW', 'Smote')"
      ],
      "id": "4gGIEAORv_1I",
      "execution_count": 64,
      "outputs": [
        {
          "output_type": "stream",
          "text": [
            "Accuracy score : 0.89\n",
            "Precision      : 0.95\n",
            "Recall         : 0.92\n",
            "F1 score       : 0.94\n"
          ],
          "name": "stdout"
        }
      ]
    },
    {
      "cell_type": "code",
      "metadata": {
        "id": "Vp-ituS5dSxA"
      },
      "source": [
        ""
      ],
      "id": "Vp-ituS5dSxA",
      "execution_count": 64,
      "outputs": []
    },
    {
      "cell_type": "markdown",
      "metadata": {
        "id": "vPmCc8nUdbmh"
      },
      "source": [
        "##### Random over sampler"
      ],
      "id": "vPmCc8nUdbmh"
    },
    {
      "cell_type": "code",
      "metadata": {
        "id": "KdWV9RYSdbmp",
        "colab": {
          "base_uri": "https://localhost:8080/"
        },
        "outputId": "35afeea6-c9ee-444c-97dc-e901f3f54033"
      },
      "source": [
        "log_bw_os = LogisticRegression()\n",
        "log_bw_os.fit(x_train_bw_os,y_train_bw_os)"
      ],
      "id": "KdWV9RYSdbmp",
      "execution_count": 65,
      "outputs": [
        {
          "output_type": "execute_result",
          "data": {
            "text/plain": [
              "LogisticRegression(C=1.0, class_weight=None, dual=False, fit_intercept=True,\n",
              "                   intercept_scaling=1, l1_ratio=None, max_iter=100,\n",
              "                   multi_class='auto', n_jobs=None, penalty='l2',\n",
              "                   random_state=None, solver='lbfgs', tol=0.0001, verbose=0,\n",
              "                   warm_start=False)"
            ]
          },
          "metadata": {
            "tags": []
          },
          "execution_count": 65
        }
      ]
    },
    {
      "cell_type": "markdown",
      "metadata": {
        "id": "0Sy7VymBdbmu"
      },
      "source": [
        "Model Prediction"
      ],
      "id": "0Sy7VymBdbmu"
    },
    {
      "cell_type": "code",
      "metadata": {
        "id": "Ct4PZOZ3dbmw"
      },
      "source": [
        "y_train_bw_os_pred = log_bw_os.predict(x_train_bw_os)"
      ],
      "id": "Ct4PZOZ3dbmw",
      "execution_count": 66,
      "outputs": []
    },
    {
      "cell_type": "code",
      "metadata": {
        "id": "x8lowGCAP5mH",
        "colab": {
          "base_uri": "https://localhost:8080/"
        },
        "outputId": "d9ebc1f0-1fae-486b-cbcc-08e03163d52b"
      },
      "source": [
        "model_performance(y_train_bw_os,y_train_bw_os_pred)"
      ],
      "id": "x8lowGCAP5mH",
      "execution_count": 67,
      "outputs": [
        {
          "output_type": "stream",
          "text": [
            "Accuracy score : 0.92\n",
            "Precision      : 0.95\n",
            "Recall         : 0.90\n",
            "F1 score       : 0.92\n"
          ],
          "name": "stdout"
        }
      ]
    },
    {
      "cell_type": "markdown",
      "metadata": {
        "id": "RIGvZxCwdbm0"
      },
      "source": [
        "Model Evaluation"
      ],
      "id": "RIGvZxCwdbm0"
    },
    {
      "cell_type": "code",
      "metadata": {
        "id": "adP3yTElPwMm"
      },
      "source": [
        "y_test_bw_pred = log_bw_os.predict(X_test_bw)"
      ],
      "id": "adP3yTElPwMm",
      "execution_count": 68,
      "outputs": []
    },
    {
      "cell_type": "code",
      "metadata": {
        "id": "jK6cyCjldbm2",
        "colab": {
          "base_uri": "https://localhost:8080/"
        },
        "outputId": "062747f4-c71e-4d95-a509-dcfcb423d1ab"
      },
      "source": [
        "model_performance(y_test_bw_pred, y_test_bw,True,'Logistic Regression','BoW', 'Random Over Sampling')"
      ],
      "id": "jK6cyCjldbm2",
      "execution_count": 69,
      "outputs": [
        {
          "output_type": "stream",
          "text": [
            "Accuracy score : 0.87\n",
            "Precision      : 0.88\n",
            "Recall         : 0.97\n",
            "F1 score       : 0.92\n"
          ],
          "name": "stdout"
        }
      ]
    },
    {
      "cell_type": "code",
      "metadata": {
        "id": "ANt5v6VyrSvM",
        "colab": {
          "base_uri": "https://localhost:8080/",
          "height": 111
        },
        "outputId": "8cae038b-9a70-4578-8b80-45b5661b26a0"
      },
      "source": [
        "performance"
      ],
      "id": "ANt5v6VyrSvM",
      "execution_count": 70,
      "outputs": [
        {
          "output_type": "execute_result",
          "data": {
            "text/html": [
              "<div>\n",
              "<style scoped>\n",
              "    .dataframe tbody tr th:only-of-type {\n",
              "        vertical-align: middle;\n",
              "    }\n",
              "\n",
              "    .dataframe tbody tr th {\n",
              "        vertical-align: top;\n",
              "    }\n",
              "\n",
              "    .dataframe thead th {\n",
              "        text-align: right;\n",
              "    }\n",
              "</style>\n",
              "<table border=\"1\" class=\"dataframe\">\n",
              "  <thead>\n",
              "    <tr style=\"text-align: right;\">\n",
              "      <th></th>\n",
              "      <th>Model</th>\n",
              "      <th>Feature vectors</th>\n",
              "      <th>Sampling method</th>\n",
              "      <th>Accuracy</th>\n",
              "      <th>Precision</th>\n",
              "      <th>Recall</th>\n",
              "      <th>F1-Score</th>\n",
              "    </tr>\n",
              "  </thead>\n",
              "  <tbody>\n",
              "    <tr>\n",
              "      <th>0</th>\n",
              "      <td>Logistic Regression</td>\n",
              "      <td>BoW</td>\n",
              "      <td>Smote</td>\n",
              "      <td>0.89</td>\n",
              "      <td>0.95</td>\n",
              "      <td>0.92</td>\n",
              "      <td>0.94</td>\n",
              "    </tr>\n",
              "    <tr>\n",
              "      <th>1</th>\n",
              "      <td>Logistic Regression</td>\n",
              "      <td>BoW</td>\n",
              "      <td>Random Over Sampling</td>\n",
              "      <td>0.87</td>\n",
              "      <td>0.88</td>\n",
              "      <td>0.97</td>\n",
              "      <td>0.92</td>\n",
              "    </tr>\n",
              "  </tbody>\n",
              "</table>\n",
              "</div>"
            ],
            "text/plain": [
              "                 Model Feature vectors  ... Recall F1-Score\n",
              "0  Logistic Regression             BoW  ...   0.92     0.94\n",
              "1  Logistic Regression             BoW  ...   0.97     0.92\n",
              "\n",
              "[2 rows x 7 columns]"
            ]
          },
          "metadata": {
            "tags": []
          },
          "execution_count": 70
        }
      ]
    },
    {
      "cell_type": "markdown",
      "metadata": {
        "id": "MtTArMxj4dmo"
      },
      "source": [
        "#### On TF-IDF model data"
      ],
      "id": "MtTArMxj4dmo"
    },
    {
      "cell_type": "markdown",
      "metadata": {
        "id": "7esv63en4dnO"
      },
      "source": [
        "##### Smote"
      ],
      "id": "7esv63en4dnO"
    },
    {
      "cell_type": "code",
      "metadata": {
        "id": "XR4h8zy_4dnX",
        "colab": {
          "base_uri": "https://localhost:8080/"
        },
        "outputId": "4da2165c-56eb-41e7-a7fe-31864fdc7337"
      },
      "source": [
        "log_tf_sm = LogisticRegression()\n",
        "log_tf_sm.fit(x_train_tf_sm,y_train_tf_sm)"
      ],
      "id": "XR4h8zy_4dnX",
      "execution_count": 71,
      "outputs": [
        {
          "output_type": "execute_result",
          "data": {
            "text/plain": [
              "LogisticRegression(C=1.0, class_weight=None, dual=False, fit_intercept=True,\n",
              "                   intercept_scaling=1, l1_ratio=None, max_iter=100,\n",
              "                   multi_class='auto', n_jobs=None, penalty='l2',\n",
              "                   random_state=None, solver='lbfgs', tol=0.0001, verbose=0,\n",
              "                   warm_start=False)"
            ]
          },
          "metadata": {
            "tags": []
          },
          "execution_count": 71
        }
      ]
    },
    {
      "cell_type": "markdown",
      "metadata": {
        "id": "-_7C94yf4dnZ"
      },
      "source": [
        "Model Prediction"
      ],
      "id": "-_7C94yf4dnZ"
    },
    {
      "cell_type": "code",
      "metadata": {
        "id": "EayexJgIQq_o"
      },
      "source": [
        "y_train_tf_sm_pred = log_tf_sm.predict(x_train_tf_sm)"
      ],
      "id": "EayexJgIQq_o",
      "execution_count": 72,
      "outputs": []
    },
    {
      "cell_type": "code",
      "metadata": {
        "id": "pg0_dDw-Q3tW",
        "colab": {
          "base_uri": "https://localhost:8080/"
        },
        "outputId": "fb338e76-9967-4421-999d-3e744e66c93a"
      },
      "source": [
        "model_performance( y_train_tf_sm,y_train_tf_sm_pred)"
      ],
      "id": "pg0_dDw-Q3tW",
      "execution_count": 73,
      "outputs": [
        {
          "output_type": "stream",
          "text": [
            "Accuracy score : 0.91\n",
            "Precision      : 0.93\n",
            "Recall         : 0.88\n",
            "F1 score       : 0.90\n"
          ],
          "name": "stdout"
        }
      ]
    },
    {
      "cell_type": "markdown",
      "metadata": {
        "id": "V3QNIBPB4dnf"
      },
      "source": [
        "Model Evaluation"
      ],
      "id": "V3QNIBPB4dnf"
    },
    {
      "cell_type": "code",
      "metadata": {
        "id": "4Nrm0CMV4dng"
      },
      "source": [
        "y_test_tf_pred = log_tf_sm.predict(X_test_tf)"
      ],
      "id": "4Nrm0CMV4dng",
      "execution_count": 74,
      "outputs": []
    },
    {
      "cell_type": "code",
      "metadata": {
        "id": "B9UjnW5K4dnh",
        "colab": {
          "base_uri": "https://localhost:8080/"
        },
        "outputId": "fdd927a2-5b67-43aa-b71f-a73a8bcefc58"
      },
      "source": [
        "model_performance(y_test_tf,y_test_tf_pred,True,'Logistic Regression','TF-IDF', 'Smote')"
      ],
      "id": "B9UjnW5K4dnh",
      "execution_count": 75,
      "outputs": [
        {
          "output_type": "stream",
          "text": [
            "Accuracy score : 0.85\n",
            "Precision      : 0.97\n",
            "Recall         : 0.86\n",
            "F1 score       : 0.91\n"
          ],
          "name": "stdout"
        }
      ]
    },
    {
      "cell_type": "markdown",
      "metadata": {
        "id": "vCr_fnvG4dnl"
      },
      "source": [
        "##### Random over sampler"
      ],
      "id": "vCr_fnvG4dnl"
    },
    {
      "cell_type": "code",
      "metadata": {
        "id": "x2NIrkRf4dnn",
        "colab": {
          "base_uri": "https://localhost:8080/"
        },
        "outputId": "81502276-004b-497c-9122-4078c27f57cd"
      },
      "source": [
        "log_tf_os = LogisticRegression()\n",
        "log_tf_os.fit(x_train_tf_os,y_train_tf_os)"
      ],
      "id": "x2NIrkRf4dnn",
      "execution_count": 76,
      "outputs": [
        {
          "output_type": "execute_result",
          "data": {
            "text/plain": [
              "LogisticRegression(C=1.0, class_weight=None, dual=False, fit_intercept=True,\n",
              "                   intercept_scaling=1, l1_ratio=None, max_iter=100,\n",
              "                   multi_class='auto', n_jobs=None, penalty='l2',\n",
              "                   random_state=None, solver='lbfgs', tol=0.0001, verbose=0,\n",
              "                   warm_start=False)"
            ]
          },
          "metadata": {
            "tags": []
          },
          "execution_count": 76
        }
      ]
    },
    {
      "cell_type": "markdown",
      "metadata": {
        "id": "aMs-acLj4dno"
      },
      "source": [
        "Model Prediction"
      ],
      "id": "aMs-acLj4dno"
    },
    {
      "cell_type": "code",
      "metadata": {
        "id": "S5Jf75QNRliP"
      },
      "source": [
        "y_train_tf_os_pred = log_tf_sm.predict(x_train_tf_os)"
      ],
      "id": "S5Jf75QNRliP",
      "execution_count": 77,
      "outputs": []
    },
    {
      "cell_type": "code",
      "metadata": {
        "id": "MOvP2hzeRt3p",
        "colab": {
          "base_uri": "https://localhost:8080/"
        },
        "outputId": "35d1dea6-d036-49d6-c9b9-68b3a0fb1b38"
      },
      "source": [
        "model_performance(y_train_tf_os,y_train_tf_os_pred)"
      ],
      "id": "MOvP2hzeRt3p",
      "execution_count": 78,
      "outputs": [
        {
          "output_type": "stream",
          "text": [
            "Accuracy score : 0.89\n",
            "Precision      : 0.90\n",
            "Recall         : 0.88\n",
            "F1 score       : 0.89\n"
          ],
          "name": "stdout"
        }
      ]
    },
    {
      "cell_type": "markdown",
      "metadata": {
        "id": "RpFXIQ2U4dnr"
      },
      "source": [
        "Model Evaluation"
      ],
      "id": "RpFXIQ2U4dnr"
    },
    {
      "cell_type": "code",
      "metadata": {
        "id": "7J6n92xi4dns"
      },
      "source": [
        "y_test_tf_pred = log_tf_os.predict(X_test_tf)"
      ],
      "id": "7J6n92xi4dns",
      "execution_count": 79,
      "outputs": []
    },
    {
      "cell_type": "code",
      "metadata": {
        "id": "w6jR7iCK4dns",
        "colab": {
          "base_uri": "https://localhost:8080/"
        },
        "outputId": "28f31db7-a4fa-4943-9ae1-e94bf3bfb6e0"
      },
      "source": [
        "model_performance(y_test_tf,y_test_tf_pred,True,'Logistic Regression','TF-IDF', 'Random OverSampling')"
      ],
      "id": "w6jR7iCK4dns",
      "execution_count": 80,
      "outputs": [
        {
          "output_type": "stream",
          "text": [
            "Accuracy score : 0.85\n",
            "Precision      : 0.97\n",
            "Recall         : 0.85\n",
            "F1 score       : 0.91\n"
          ],
          "name": "stdout"
        }
      ]
    },
    {
      "cell_type": "code",
      "metadata": {
        "id": "_piPS96drPpx",
        "colab": {
          "base_uri": "https://localhost:8080/",
          "height": 173
        },
        "outputId": "4b5f6c12-bf71-434e-fc6d-2f89ee212173"
      },
      "source": [
        "performance"
      ],
      "id": "_piPS96drPpx",
      "execution_count": 81,
      "outputs": [
        {
          "output_type": "execute_result",
          "data": {
            "text/html": [
              "<div>\n",
              "<style scoped>\n",
              "    .dataframe tbody tr th:only-of-type {\n",
              "        vertical-align: middle;\n",
              "    }\n",
              "\n",
              "    .dataframe tbody tr th {\n",
              "        vertical-align: top;\n",
              "    }\n",
              "\n",
              "    .dataframe thead th {\n",
              "        text-align: right;\n",
              "    }\n",
              "</style>\n",
              "<table border=\"1\" class=\"dataframe\">\n",
              "  <thead>\n",
              "    <tr style=\"text-align: right;\">\n",
              "      <th></th>\n",
              "      <th>Model</th>\n",
              "      <th>Feature vectors</th>\n",
              "      <th>Sampling method</th>\n",
              "      <th>Accuracy</th>\n",
              "      <th>Precision</th>\n",
              "      <th>Recall</th>\n",
              "      <th>F1-Score</th>\n",
              "    </tr>\n",
              "  </thead>\n",
              "  <tbody>\n",
              "    <tr>\n",
              "      <th>0</th>\n",
              "      <td>Logistic Regression</td>\n",
              "      <td>BoW</td>\n",
              "      <td>Smote</td>\n",
              "      <td>0.89</td>\n",
              "      <td>0.95</td>\n",
              "      <td>0.92</td>\n",
              "      <td>0.94</td>\n",
              "    </tr>\n",
              "    <tr>\n",
              "      <th>1</th>\n",
              "      <td>Logistic Regression</td>\n",
              "      <td>BoW</td>\n",
              "      <td>Random Over Sampling</td>\n",
              "      <td>0.87</td>\n",
              "      <td>0.88</td>\n",
              "      <td>0.97</td>\n",
              "      <td>0.92</td>\n",
              "    </tr>\n",
              "    <tr>\n",
              "      <th>2</th>\n",
              "      <td>Logistic Regression</td>\n",
              "      <td>TF-IDF</td>\n",
              "      <td>Smote</td>\n",
              "      <td>0.85</td>\n",
              "      <td>0.97</td>\n",
              "      <td>0.86</td>\n",
              "      <td>0.91</td>\n",
              "    </tr>\n",
              "    <tr>\n",
              "      <th>3</th>\n",
              "      <td>Logistic Regression</td>\n",
              "      <td>TF-IDF</td>\n",
              "      <td>Random OverSampling</td>\n",
              "      <td>0.85</td>\n",
              "      <td>0.97</td>\n",
              "      <td>0.85</td>\n",
              "      <td>0.91</td>\n",
              "    </tr>\n",
              "  </tbody>\n",
              "</table>\n",
              "</div>"
            ],
            "text/plain": [
              "                 Model Feature vectors  ... Recall F1-Score\n",
              "0  Logistic Regression             BoW  ...   0.92     0.94\n",
              "1  Logistic Regression             BoW  ...   0.97     0.92\n",
              "2  Logistic Regression          TF-IDF  ...   0.86     0.91\n",
              "3  Logistic Regression          TF-IDF  ...   0.85     0.91\n",
              "\n",
              "[4 rows x 7 columns]"
            ]
          },
          "metadata": {
            "tags": []
          },
          "execution_count": 81
        }
      ]
    },
    {
      "cell_type": "markdown",
      "metadata": {
        "id": "rBWHhhAVCSn_"
      },
      "source": [
        "## Naive Bayes Classifier"
      ],
      "id": "rBWHhhAVCSn_"
    },
    {
      "cell_type": "code",
      "metadata": {
        "id": "dLnBYxHTC2ii"
      },
      "source": [
        "## Converting the read dataset in to a list of tuples, each tuple(row) contianing the message and it's label\n",
        "data_set = []\n",
        "for index,row in df_sent.iterrows():\n",
        "    data_set.append((row['reviews'], row['user_sentiment']))"
      ],
      "id": "dLnBYxHTC2ii",
      "execution_count": 82,
      "outputs": []
    },
    {
      "cell_type": "code",
      "metadata": {
        "id": "8QleRDkJC-4j",
        "colab": {
          "base_uri": "https://localhost:8080/"
        },
        "outputId": "ab36b6a1-1589-46c6-c497-3980628db109"
      },
      "source": [
        "print(data_set[:5])"
      ],
      "id": "8QleRDkJC-4j",
      "execution_count": 83,
      "outputs": [
        {
          "output_type": "stream",
          "text": [
            "[('awesom love album good side current pop sound listen everyday gym give star rate way crazi', 1), ('good good flavor review collect part promot', 1), ('good good flavor', 1), ('disappoint read review look buy one disappoint didnt even live review read boyfriend could notic sort notic howev messi consist vaselin difficult clean pleasant especi sinc expect im disappoint paid much wont use could use normal person less money less mess', 0), ('husband bought gel us gel caus felt like burn skin wouldnt recommend gel', 0)]\n"
          ],
          "name": "stdout"
        }
      ]
    },
    {
      "cell_type": "code",
      "metadata": {
        "id": "iv10Q_GYDIbf",
        "colab": {
          "base_uri": "https://localhost:8080/"
        },
        "outputId": "4e4bb84d-d7ab-4431-c0bb-58f90db1b812"
      },
      "source": [
        "print(len(data_set))"
      ],
      "id": "iv10Q_GYDIbf",
      "execution_count": 84,
      "outputs": [
        {
          "output_type": "stream",
          "text": [
            "29999\n"
          ],
          "name": "stdout"
        }
      ]
    },
    {
      "cell_type": "code",
      "metadata": {
        "id": "Ii233qUBDXRb"
      },
      "source": [
        "## - Performing the preprocessing steps on all messages\n",
        "messages_set = []\n",
        "for (message, label) in data_set:\n",
        "    words_filtered = [e.lower() for e in message.split() if len(e) >= 3]\n",
        "    messages_set.append((words_filtered, label))"
      ],
      "id": "Ii233qUBDXRb",
      "execution_count": 85,
      "outputs": []
    },
    {
      "cell_type": "code",
      "metadata": {
        "id": "CfdYQCCEDIXN"
      },
      "source": [
        "## - creating slicing index at 80% threshold\n",
        "sliceIndex = int((len(messages_set)*.8))\n",
        "## - shuffle the pack to create a random and unbiased split of the dataset\n",
        "random.shuffle(messages_set)\n",
        "train_messages, test_messages = messages_set[:sliceIndex], messages_set[sliceIndex:]"
      ],
      "id": "CfdYQCCEDIXN",
      "execution_count": 86,
      "outputs": []
    },
    {
      "cell_type": "code",
      "metadata": {
        "id": "SDhlR2vHEMnt"
      },
      "source": [
        "## - creating a single list of all words in the entire dataset for feature list creation\n",
        "\n",
        "def get_words_in_messages(messages):\n",
        "    all_words = []\n",
        "    for (message, label) in messages:\n",
        "      all_words.extend(message)\n",
        "    return all_words"
      ],
      "id": "SDhlR2vHEMnt",
      "execution_count": 87,
      "outputs": []
    },
    {
      "cell_type": "code",
      "metadata": {
        "id": "kFAamdjpENkY"
      },
      "source": [
        "def get_word_features(wordlist):\n",
        "\n",
        "    #print(wordlist[:10])\n",
        "    wordlist = nltk.FreqDist(wordlist)\n",
        "    word_features = wordlist.keys()\n",
        "    return word_features"
      ],
      "id": "kFAamdjpENkY",
      "execution_count": 88,
      "outputs": []
    },
    {
      "cell_type": "code",
      "metadata": {
        "id": "CpdQc6TWEFl1",
        "colab": {
          "base_uri": "https://localhost:8080/"
        },
        "outputId": "80538fed-e718-4feb-ee88-d3bc87bbb412"
      },
      "source": [
        "## - creating the word features for the entire dataset\n",
        "word_features = get_word_features(get_words_in_messages(messages_set))\n",
        "print(len(word_features))"
      ],
      "id": "CpdQc6TWEFl1",
      "execution_count": 89,
      "outputs": [
        {
          "output_type": "stream",
          "text": [
            "1803\n"
          ],
          "name": "stdout"
        }
      ]
    },
    {
      "cell_type": "code",
      "metadata": {
        "id": "4rEPinqYDIRk"
      },
      "source": [
        "## creating a LazyMap of feature presence for each of the 8K+ features with respect to each of the SMS messages\n",
        "def extract_features(document):\n",
        "    document_words = set(document)\n",
        "    features = {}\n",
        "    for word in word_features:\n",
        "        features['contains(%s)' % word] = (word in document_words)\n",
        "    return features"
      ],
      "id": "4rEPinqYDIRk",
      "execution_count": 90,
      "outputs": []
    },
    {
      "cell_type": "code",
      "metadata": {
        "id": "eVr6S62rDILR"
      },
      "source": [
        "## - creating the feature map of train and test data\n",
        "\n",
        "training_set = nltk.classify.apply_features(extract_features, train_messages)\n",
        "testing_set = nltk.classify.apply_features(extract_features, test_messages)"
      ],
      "id": "eVr6S62rDILR",
      "execution_count": 91,
      "outputs": []
    },
    {
      "cell_type": "code",
      "metadata": {
        "id": "E5jBa5XoDIG0",
        "colab": {
          "base_uri": "https://localhost:8080/"
        },
        "outputId": "6f4f3934-3c9c-4baa-c82f-1bb1e2a01735"
      },
      "source": [
        "print(training_set[:5])"
      ],
      "id": "E5jBa5XoDIG0",
      "execution_count": 92,
      "outputs": [
        {
          "output_type": "stream",
          "text": [
            "[({'contains(fresh)': True, 'contains(sent)': True, 'contains(point)': True, 'contains(area)': True, 'contains(improv)': True, 'contains(issu)': True, 'contains(broke)': True, 'contains(sever)': True, 'contains(smaller)': True, 'contains(bag)': True, 'contains(tostito)': True, 'contains(place)': True, 'contains(box)': True, 'contains(can)': True, 'contains(soup)': True, 'contains(seem)': True, 'contains(like)': True, 'contains(bad)': True, 'contains(combin)': True, 'contains(expect)': True, 'contains(broken)': True, 'contains(pretti)': True, 'contains(well)': True, 'contains(one)': True, 'contains(actual)': True, 'contains(open)': True, 'contains(due)': True, 'contains(wont)': True, 'contains(eat)': True, 'contains(sure)': True, 'contains(safe)': True, 'contains(sound)': True, 'contains(left)': True, 'contains(trip)': True, 'contains(overal)': True, 'contains(happi)': True, 'contains(havent)': True, 'contains(seen)': True, 'contains(tortilla)': True, 'contains(chip)': True, 'contains(month)': True, 'contains(awesom)': False, 'contains(great)': False, 'contains(product)': False, 'contains(buy)': False, 'contains(time)': False, 'contains(hous)': False, 'contains(use)': False, 'contains(everyday)': False, 'contains(review)': False, 'contains(collect)': False, 'contains(part)': False, 'contains(promot)': False, 'contains(clorox)': False, 'contains(around)': False, 'contains(forev)': False, 'contains(reliabl)': False, 'contains(love)': False, 'contains(keep)': False, 'contains(everi)': False, 'contains(sink)': False, 'contains(quick)': False, 'contains(clean)': False, 'contains(excel)': False, 'contains(lip)': False, 'contains(shimmer)': False, 'contains(ive)': False, 'contains(burt)': False, 'contains(bee)': False, 'contains(balm)': False, 'contains(oil)': False, 'contains(awhil)': False, 'contains(decid)': False, 'contains(tri)': False, 'contains(even)': False, 'contains(bought)': False, 'contains(champagn)': False, 'contains(watermelon)': False, 'contains(rhubarb)': False, 'contains(color)': False, 'contains(moistur)': False, 'contains(add)': False, 'contains(tradit)': False, 'contains(ragu)': False, 'contains(favorit)': False, 'contains(sauc)': False, 'contains(best)': False, 'contains(flavor)': False, 'contains(right)': False, 'contains(amount)': False, 'contains(worthi)': False, 'contains(sequel)': False, 'contains(arent)': False, 'contains(origin)': False, 'contains(would)': False, 'contains(say)': False, 'contains(that)': False, 'contains(fair)': False, 'contains(effort)': False, 'contains(still)': False, 'contains(worth)': False, 'contains(watch)': False, 'contains(cocoa)': False, 'contains(come)': False, 'contains(back)': False, 'contains(listen)': False, 'contains(custom)': False, 'contains(rememb)': False, 'contains(busi)': False, 'contains(miss)': False, 'contains(shade)': False, 'contains(ask)': False, 'contains(bring)': False, 'contains(movi)': False, 'contains(choic)': False, 'contains(blu)': False, 'contains(ray)': False, 'contains(own)': False, 'contains(dvd)': False, 'contains(found)': False, 'contains(came)': False, 'contains(recommend)': False, 'contains(everyon)': False, 'contains(price)': False, 'contains(reason)': False, 'contains(store)': False, 'contains(good)': False, 'contains(tasti)': False, 'contains(tast)': False, 'contains(textur)': False, 'contains(yummi)': False, 'contains(hot)': False, 'contains(dog)': False, 'contains(youll)': False, 'contains(island)': False, 'contains(excit)': False, 'contains(get)': False, 'contains(look)': False, 'contains(small)': False, 'contains(kitchen)': False, 'contains(stainless)': False, 'contains(steel)': False, 'contains(top)': False, 'contains(assembl)': False, 'contains(direct)': False, 'contains(could)': False, 'contains(better)': False, 'contains(total)': False, 'contains(enjoy)': False, 'contains(wipe)': False, 'contains(near)': False, 'contains(countertop)': False, 'contains(conveni)': False, 'contains(dont)': False, 'contains(dri)': False, 'contains(household)': False, 'contains(lysol)': False, 'contains(bottl)': False, 'contains(pack)': False, 'contains(larg)': False, 'contains(plastic)': False, 'contains(arriv)': False, 'contains(perfect)': False, 'contains(condit)': False, 'contains(quicker)': False, 'contains(thank)': False, 'contains(eas)': False, 'contains(order)': False, 'contains(secur)': False, 'contains(free)': False, 'contains(ship)': False, 'contains(simpl)': False, 'contains(effect)': False, 'contains(full)': False, 'contains(job)': False, 'contains(entir)': False, 'contains(home)': False, 'contains(life)': False, 'contains(need)': False, 'contains(make)': False, 'contains(bathroom)': False, 'contains(work)': False, 'contains(easi)': False, 'contains(cleanup)': False, 'contains(pick)': False, 'contains(steal)': False, 'contains(film)': False, 'contains(individu)': False, 'contains(kid)': False, 'contains(disinfect)': False, 'contains(doesnt)': False, 'contains(natur)': False, 'contains(self)': False, 'contains(tanner)': False, 'contains(nice)': False, 'contains(brown)': False, 'contains(skin)': False, 'contains(smell)': False, 'contains(wash)': False, 'contains(hand)': False, 'contains(appli)': False, 'contains(done)': False, 'contains(purchas)': False, 'contains(hair)': False, 'contains(feel)': False, 'contains(lemon)': False, 'contains(scent)': False, 'contains(never)': False, 'contains(durabl)': False, 'contains(everyth)': False, 'contains(carrot)': False, 'contains(hydrat)': False, 'contains(shower)': False, 'contains(gel)': False, 'contains(bodi)': False, 'contains(lotion)': False, 'contains(alway)': False, 'contains(smooth)': False, 'contains(healthi)': False, 'contains(lot)': False, 'contains(dryness)': False, 'contains(especi)': False, 'contains(winter)': False, 'contains(much)': False, 'contains(sinc)': False, 'contains(day)': False, 'contains(way)': False, 'contains(wish)': False, 'contains(lather)': False, 'contains(made)': False, 'contains(got)': False, 'contains(soft)': False, 'contains(daili)': False, 'contains(leav)': False, 'contains(regenerist)': False, 'contains(olay)': False, 'contains(beauti)': False, 'contains(woman)': False, 'contains(facial)': False, 'contains(age)': False, 'contains(deep)': False, 'contains(cream)': False, 'contains(stapl)': False, 'contains(routin)': False, 'contains(break)': False, 'contains(daughter)': False, 'contains(continu)': False, 'contains(amaz)': False, 'contains(regener)': False, 'contains(year)': False, 'contains(hook)': False, 'contains(famili)': False, 'contains(anyth)': False, 'contains(think)': False, 'contains(either)': False, 'contains(teach)': False, 'contains(school)': False, 'contains(class)': False, 'contains(theyr)': False, 'contains(messi)': False, 'contains(coupl)': False, 'contains(across)': False, 'contains(tabl)': False, 'contains(juic)': False, 'contains(etc)': False, 'contains(gone)': False, 'contains(surfac)': False, 'contains(morn)': False, 'contains(help)': False, 'contains(ever)': False, 'contains(valu)': False, 'contains(must)': False, 'contains(also)': False, 'contains(two)': False, 'contains(pet)': False, 'contains(behind)': False, 'contains(counter)': False, 'contains(chemic)': False, 'contains(night)': False, 'contains(director)': False, 'contains(old)': False, 'contains(godzilla)': False, 'contains(new)': False, 'contains(genr)': False, 'contains(gave)': False, 'contains(instant)': False, 'contains(last)': False, 'contains(see)': False, 'contains(screen)': False, 'contains(formula)': False, 'contains(faith)': False, 'contains(curl)': False, 'contains(frizzi)': False, 'contains(strong)': False, 'contains(pleas)': False, 'contains(cleanli)': False, 'contains(easier)': False, 'contains(spray)': False, 'contains(speed)': False, 'contains(teenag)': False, 'contains(son)': False, 'contains(spot)': False, 'contains(floor)': False, 'contains(terribl)': False, 'contains(know)': False, 'contains(thing)': False, 'contains(funni)': False, 'contains(first)': False, 'contains(three)': False, 'contains(alreadi)': False, 'contains(anyon)': False, 'contains(bisquick)': False, 'contains(particular)': False, 'contains(item)': False, 'contains(pancak)': False, 'contains(brand)': False, 'contains(mix)': False, 'contains(comparison)': False, 'contains(simpli)': False, 'contains(follow)': False, 'contains(titl)': False, 'contains(receiv)': False, 'contains(sampl)': False, 'contains(condition)': False, 'contains(unlik)': False, 'contains(red)': False, 'contains(action)': False, 'contains(comedi)': False, 'contains(plu)': False, 'contains(fan)': False, 'contains(bruce)': False, 'contains(willi)': False, 'contains(helen)': False, 'contains(mirren)': False, 'contains(disney)': False, 'contains(plane)': False, 'contains(fire)': False, 'contains(rescu)': False, 'contains(deliv)': False, 'contains(anim)': False, 'contains(take)': False, 'contains(huge)': False, 'contains(without)': False, 'contains(loyal)': False, 'contains(grandson)': False, 'contains(seri)': False, 'contains(wait)': False, 'contains(john)': False, 'contains(malkovich)': False, 'contains(hilari)': False, 'contains(heater)': False, 'contains(return)': False, 'contains(warm)': False, 'contains(enough)': False, 'contains(put)': False, 'contains(high)': False, 'contains(half)': False, 'contains(hour)': False, 'contains(slightli)': False, 'contains(tile)': False, 'contains(mayb)': False, 'contains(bigger)': False, 'contains(classroom)': False, 'contains(recent)': False, 'contains(chang)': False, 'contains(includ)': False, 'contains(horribl)': False, 'contains(hold)': False, 'contains(differ)': False, 'contains(children)': False, 'contains(adult)': False, 'contains(entertain)': False, 'contains(lesson)': False, 'contains(realli)': False, 'contains(shown)': False, 'contains(wasnt)': False, 'contains(piec)': False, 'contains(bite)': False, 'contains(size)': False, 'contains(exactli)': False, 'contains(guest)': False, 'contains(less)': False, 'contains(doubl)': False, 'contains(dip)': False, 'contains(salt)': False, 'contains(certainli)': False, 'contains(wouldnt)': False, 'contains(fantast)': False, 'contains(definit)': False, 'contains(despit)': False, 'contains(bleach)': False, 'contains(tell)': False, 'contains(vacuum)': False, 'contains(togeth)': False, 'contains(screw)': False, 'contains(handl)': False, 'contains(readi)': False, 'contains(push)': False, 'contains(light)': False, 'contains(carri)': False, 'contains(stair)': False, 'contains(far)': False, 'contains(mani)': False, 'contains(power)': False, 'contains(penni)': False, 'contains(littl)': False, 'contains(thick)': False, 'contains(thinner)': False, 'contains(nan)': False, 'contains(avail)': False, 'contains(glad)': False, 'contains(grown)': False, 'contains(rice)': False, 'contains(type)': False, 'contains(consum)': False, 'contains(report)': False, 'contains(claim)': False, 'contains(may)': False, 'contains(addit)': False, 'contains(blend)': False, 'contains(lundberg)': False, 'contains(incred)': False, 'contains(whole)': False, 'contains(grain)': False, 'contains(version)': False, 'contains(benefit)': False, 'contains(fiber)': False, 'contains(away)': False, 'contains(white)': False, 'contains(longer)': False, 'contains(cook)': False, 'contains(health)': False, 'contains(want)': False, 'contains(fight)': False, 'contains(volum)': False, 'contains(shampoo)': False, 'contains(flat)': False, 'contains(honest)': False, 'contains(surpris)': False, 'contains(wed)': False, 'contains(usual)': False, 'contains(hit)': False, 'contains(actor)': False, 'contains(plot)': False, 'contains(predict)': False, 'contains(fun)': False, 'contains(present)': False, 'contains(prefer)': False, 'contains(offic)': False, 'contains(funniest)': False, 'contains(ben)': False, 'contains(stiller)': False, 'contains(laugh)': False, 'contains(begin)': False, 'contains(end)': False, 'contains(cast)': False, 'contains(stori)': False, 'contains(real)': False, 'contains(extraordinari)': False, 'contains(freecomplimentari)': False, 'contains(test)': False, 'contains(purpos)': False, 'contains(opinion)': False, 'contains(thought)': False, 'contains(felt)': False, 'contains(didnt)': False, 'contains(overli)': False, 'contains(oili)': False, 'contains(howev)': False, 'contains(dislik)': False, 'contains(bother)': False, 'contains(given)': False, 'contains(decent)': False, 'contains(car)': False, 'contains(packag)': False, 'contains(travel)': False, 'contains(mess)': False, 'contains(wife)': False, 'contains(main)': False, 'contains(nexxu)': False, 'contains(start)': False, 'contains(stargat)': False, 'contains(show)': False, 'contains(scifi)': False, 'contains(bluray)': False, 'contains(entri)': False, 'contains(agre)': False, 'contains(king)': False, 'contains(monster)': False, 'contains(said)': False, 'contains(extra)': False, 'contains(content)': False, 'contains(provid)': False, 'contains(cant)': False, 'contains(fragranc)': False, 'contains(long)': False, 'contains(true)': False, 'contains(problem)': False, 'contains(black)': False, 'contains(friday)': False, 'contains(couldnt)': False, 'contains(fill)': False, 'contains(non)': False, 'contains(stop)': False, 'contains(check)': False, 'contains(disappoint)': False, 'contains(super)': False, 'contains(wonder)': False, 'contains(tool)': False, 'contains(room)': False, 'contains(kill)': False, 'contains(germ)': False, 'contains(depp)': False, 'contains(poor)': False, 'contains(saw)': False, 'contains(japanes)': False, 'contains(stupid)': False, 'contains(give)': False, 'contains(special)': False, 'contains(line)': False, 'contains(cold)': False, 'contains(flu)': False, 'contains(season)': False, 'contains(gift)': False, 'contains(christma)': False, 'contains(yet)': False, 'contains(allergi)': False, 'contains(mom)': False, 'contains(merlot)': False, 'contains(might)': False, 'contains(ingredi)': False, 'contains(allerg)': False, 'contains(someth)': False, 'contains(though)': False, 'contains(known)': False, 'contains(unfortun)': False, 'contains(similar)': False, 'contains(radianc)': False, 'contains(peopl)': False, 'contains(dull)': False, 'contains(care)': False, 'contains(exxtra)': False, 'contains(sadli)': False, 'contains(extrem)': False, 'contains(noth)': False, 'contains(curli)': False, 'contains(matter)': False, 'contains(fact)': False, 'contains(wateri)': False, 'contains(alcohol)': False, 'contains(find)': False, 'contains(idea)': False, 'contains(complaint)': False, 'contains(wall)': False, 'contains(desk)': False, 'contains(bath)': False, 'contains(world)': False, 'contains(design)': False, 'contains(honestli)': False, 'contains(scene)': False, 'contains(becom)': False, 'contains(darker)': False, 'contains(shadow)': False, 'contains(final)': False, 'contains(niec)': False, 'contains(ago)': False, 'contains(remov)': False, 'contains(husband)': False, 'contains(stain)': False, 'contains(live)': False, 'contains(qualiti)': False, 'contains(particularli)': False, 'contains(smoothli)': False, 'contains(appear)': False, 'contains(quickli)': False, 'contains(silki)': False, 'contains(makeup)': False, 'contains(friend)': False, 'contains(chili)': False, 'contains(throughout)': False, 'contains(sticki)': False, 'contains(cloth)': False, 'contains(organ)': False, 'contains(machin)': False, 'contains(medium)': False, 'contains(run)': False, 'contains(comb)': False, 'contains(compliment)': False, 'contains(greasi)': False, 'contains(heavi)': False, 'contains(let)': False, 'contains(stuff)': False, 'contains(ill)': False, 'contains(switch)': False, 'contains(tear)': False, 'contains(save)': False, 'contains(troubl)': False, 'contains(remak)': False, 'contains(blast)': False, 'contains(face)': False, 'contains(god)': False, 'contains(cours)': False, 'contains(theater)': False, 'contains(door)': False, 'contains(steer)': False, 'contains(low)': False, 'contains(weekend)': False, 'contains(typic)': False, 'contains(spread)': False, 'contains(five)': False, 'contains(min)': False, 'contains(rub)': False, 'contains(feet)': False, 'contains(nose)': False, 'contains(chest)': False, 'contains(toy)': False, 'contains(babi)': False, 'contains(play)': False, 'contains(knob)': False, 'contains(els)': False, 'contains(experienc)': False, 'contains(abl)': False, 'contains(ultraviolet)': False, 'contains(digit)': False, 'contains(copi)': False, 'contains(saver)': False, 'contains(dark)': False, 'contains(blueray)': False, 'contains(player)': False, 'contains(jason)': False, 'contains(aldean)': False, 'contains(song)': False, 'contains(summer)': False, 'contains(silli)': False, 'contains(zac)': False, 'contains(efron)': False, 'contains(anna)': False, 'contains(kendrick)': False, 'contains(date)': False, 'contains(boy)': False, 'contains(gon)': False, 'contains(broderick)': False, 'contains(garbag)': False, 'contains(forward)': False, 'contains(money)': False, 'contains(person)': False, 'contains(breath)': False, 'contains(air)': False, 'contains(larger)': False, 'contains(spend)': False, 'contains(sat)': False, 'contains(afternoon)': False, 'contains(star)': False, 'contains(chees)': False, 'contains(chester)': False, 'contains(cheesi)': False, 'contains(puffcorn)': False, 'contains(mild)': False, 'contains(water)': False, 'contains(reaction)': False, 'contains(sensit)': False, 'contains(patch)': False, 'contains(eczema)': False, 'contains(plenti)': False, 'contains(interest)': False, 'contains(act)': False, 'contains(second)': False, 'contains(sit)': False, 'contains(popcorn)': False, 'contains(move)': False, 'contains(along)': False, 'contains(kept)': False, 'contains(singl)': False, 'contains(expens)': False, 'contains(older)': False, 'contains(cleaner)': False, 'contains(set)': False, 'contains(classic)': False, 'contains(cheap)': False, 'contains(resid)': False, 'contains(evil)': False, 'contains(instal)': False, 'contains(format)': False, 'contains(grab)': False, 'contains(surround)': False, 'contains(alic)': False, 'contains(lover)': False, 'contains(bean)': False, 'contains(unhappi)': False, 'contains(hint)': False, 'contains(lipstick)': False, 'contains(goe)': False, 'contains(quit)': False, 'contains(peoni)': False, 'contains(nutmeg)': False, 'contains(caramel)': False, 'contains(guess)': False, 'contains(absolut)': False, 'contains(touch)': False, 'contains(peppermint)': False, 'contains(chap)': False, 'contains(regularli)': False, 'contains(clay)': False, 'contains(mask)': False, 'contains(root)': False, 'contains(varieti)': False, 'contains(manag)': False, 'contains(contain)': False, 'contains(avoid)': False, 'contains(influenst)': False, 'contains(cool)': False, 'contains(held)': False, 'contains(charact)': False, 'contains(cranston)': False, 'contains(epic)': False, 'contains(complementari)': False, 'contains(magic)': False, 'contains(sunblock)': False, 'contains(eye)': False, 'contains(trust)': False, 'contains(aveeno)': False, 'contains(tub)': False, 'contains(import)': False, 'contains(superb)': False, 'contains(scrub)': False, 'contains(fit)': False, 'contains(bill)': False, 'contains(name)': False, 'contains(control)': False, 'contains(outsid)': False, 'contains(side)': False, 'contains(kick)': False, 'contains(afraid)': False, 'contains(sick)': False, 'contains(sugar)': False, 'contains(truli)': False, 'contains(lift)': False, 'contains(refresh)': False, 'contains(bonu)': False, 'contains(scalp)': False, 'contains(tingl)': False, 'contains(least)': False, 'contains(weather)': False, 'contains(tube)': False, 'contains(spent)': False, 'contains(alot)': False, 'contains(ran)': False, 'contains(properli)': False, 'contains(carpet)': False, 'contains(shut)': False, 'contains(went)': False, 'contains(dyson)': False, 'contains(dine)': False, 'contains(anywher)': False, 'contains(hard)': False, 'contains(onto)': False, 'contains(base)': False, 'contains(late)': False, 'contains(parti)': False, 'contains(other)': False, 'contains(replac)': False, 'contains(concentr)': False, 'contains(protect)': False, 'contains(reli)': False, 'contains(sanit)': False, 'contains(week)': False, 'contains(local)': False, 'contains(groceri)': False, 'contains(stock)': False, 'contains(case)': False, 'contains(almost)': False, 'contains(finish)': False, 'contains(releas)': False, 'contains(build)': False, 'contains(balanc)': False, 'contains(moment)': False, 'contains(pictur)': False, 'contains(disc)': False, 'contains(rather)': False, 'contains(recip)': False, 'contains(treat)': False, 'contains(next)': False, 'contains(chicken)': False, 'contains(flake)': False, 'contains(wild)': False, 'contains(worri)': False, 'contains(stay)': False, 'contains(took)': False, 'contains(servic)': False, 'contains(paper)': False, 'contains(code)': False, 'contains(sad)': False, 'contains(read)': False, 'contains(soooo)': False, 'contains(big)': False, 'contains(mistak)': False, 'contains(corner)': False, 'contains(cut)': False, 'contains(afford)': False, 'contains(altern)': False, 'contains(meal)': False, 'contains(fell)': False, 'contains(amazon)': False, 'contains(sourc)': False, 'contains(windex)': False, 'contains(lower)': False, 'contains(hormel)': False, 'contains(previous)': False, 'contains(label)': False, 'contains(major)': False, 'contains(goto)': False, 'contains(everywher)': False, 'contains(complimentari)': False, 'contains(cute)': False, 'contains(except)': False, 'contains(ride)': False, 'contains(realist)': False, 'contains(adventur)': False, 'contains(lemoni)': False, 'contains(thoroughli)': False, 'contains(lol)': False, 'contains(handi)': False, 'contains(minut)': False, 'contains(market)': False, 'contains(today)': False, 'contains(weird)': False, 'contains(odor)': False, 'contains(shop)': False, 'contains(delici)': False, 'contains(outstand)': False, 'contains(visual)': False, 'contains(mark)': False, 'contains(word)': False, 'contains(worst)': False, 'contains(gotten)': False, 'contains(rate)': False, 'contains(american)': False, 'contains(sun)': False, 'contains(none)': False, 'contains(bryan)': False, 'contains(mention)': False, 'contains(hurt)': False, 'contains(profession)': False, 'contains(lose)': False, 'contains(search)': False, 'contains(beyond)': False, 'contains(frustrat)': False, 'contains(dollar)': False, 'contains(tire)': False, 'contains(system)': False, 'contains(werent)': False, 'contains(sold)': False, 'contains(music)': False, 'contains(past)': False, 'contains(salon)': False, 'contains(immedi)': False, 'contains(impress)': False, 'contains(perform)': False, 'contains(straight)': False, 'contains(smoother)': False, 'contains(difficult)': False, 'contains(deal)': False, 'contains(cover)': False, 'contains(wors)': False, 'contains(window)': False, 'contains(result)': False, 'contains(worn)': False, 'contains(head)': False, 'contains(shoulder)': False, 'contains(match)': False, 'contains(fav)': False, 'contains(loral)': False, 'contains(def)': False, 'contains(damag)': False, 'contains(surprisingli)': False, 'contains(highli)': False, 'contains(solut)': False, 'contains(suav)': False, 'contains(suspens)': False, 'contains(index)': False, 'contains(fabul)': False, 'contains(averi)': False, 'contains(tab)': False, 'contains(role)': False, 'contains(depart)': False, 'contains(page)': False, 'contains(stand)': False, 'contains(effici)': False, 'contains(skeptic)': False, 'contains(split)': False, 'contains(wrong)': False, 'contains(admit)': False, 'contains(charm)': False, 'contains(cake)': False, 'contains(gold)': False, 'contains(thorough)': False, 'contains(fast)': False, 'contains(comfort)': False, 'contains(chair)': False, 'contains(rock)': False, 'contains(glider)': False, 'contains(chanc)': False, 'contains(knew)': False, 'contains(shape)': False, 'contains(weigh)': False, 'contains(exchang)': False, 'contains(current)': False, 'contains(blockbust)': False, 'contains(unless)': False, 'contains(gener)': False, 'contains(pale)': False, 'contains(stick)': False, 'contains(rest)': False, 'contains(caus)': False, 'contains(peel)': False, 'contains(third)': False, 'contains(raw)': False, 'contains(humor)': False, 'contains(sunscreen)': False, 'contains(gentl)': False, 'contains(mike)': False, 'contains(dave)': False, 'contains(perfum)': False, 'contains(anoth)': False, 'contains(superior)': False, 'contains(suggest)': False, 'contains(call)': False, 'contains(number)': False, 'contains(consid)': False, 'contains(notic)': False, 'contains(voxbox)': False, 'contains(grandmoth)': False, 'contains(wore)': False, 'contains(loos)': False, 'contains(powder)': False, 'contains(inexpens)': False, 'contains(toilet)': False, 'contains(sooth)': False, 'contains(basi)': False, 'contains(although)': False, 'contains(level)': False, 'contains(stronger)': False, 'contains(thicker)': False, 'contains(bore)': False, 'contains(gross)': False, 'contains(your)': False, 'contains(competitor)': False, 'contains(advertis)': False, 'contains(wast)': False, 'contains(lightweight)': False, 'contains(essenti)': False, 'contains(fake)': False, 'contains(nail)': False, 'contains(weak)': False, 'contains(brittl)': False, 'contains(vaselin)': False, 'contains(purs)': False, 'contains(gym)': False, 'contains(bed)': False, 'contains(wet)': False, 'contains(minti)': False, 'contains(moist)': False, 'contains(creami)': False, 'contains(raisin)': False, 'contains(bit)': False, 'contains(pocket)': False, 'contains(certain)': False, 'contains(overwhelm)': False, 'contains(afterward)': False, 'contains(grand)': False, 'contains(shine)': False, 'contains(muto)': False, 'contains(reboot)': False, 'contains(destruct)': False, 'contains(seriou)': False, 'contains(comic)': False, 'contains(theme)': False, 'contains(tree)': False, 'contains(butter)': False, 'contains(write)': False, 'contains(wood)': False, 'contains(fabric)': False, 'contains(cushion)': False, 'contains(fairli)': False, 'contains(asleep)': False, 'contains(arm)': False, 'contains(prior)': False, 'contains(bottom)': False, 'contains(portion)': False, 'contains(loud)': False, 'contains(nurs)': False, 'contains(sleep)': False, 'contains(fix)': False, 'contains(storkcraft)': False, 'contains(send)': False, 'contains(within)': False, 'contains(warranti)': False, 'contains(period)': False, 'contains(normal)': False, 'contains(height)': False, 'contains(weight)': False, 'contains(upon)': False, 'contains(attach)': False, 'contains(instruct)': False, 'contains(state)': False, 'contains(futur)': False, 'contains(sens)': False, 'contains(told)': False, 'contains(there)': False, 'contains(complet)': False, 'contains(neutral)': False, 'contains(luck)': False, 'contains(decis)': False, 'contains(yum)': False, 'contains(doorknob)': False, 'contains(rash)': False, 'contains(weve)': False, 'contains(girl)': False, 'contains(obvious)': False, 'contains(file)': False, 'contains(folder)': False, 'contains(step)': False, 'contains(multipl)': False, 'contains(flimsi)': False, 'contains(document)': False, 'contains(insid)': False, 'contains(workout)': False, 'contains(lost)': False, 'contains(four)': False, 'contains(ten)': False, 'contains(stomach)': False, 'contains(fat)': False, 'contains(practic)': False, 'contains(view)': False, 'contains(johnni)': False, 'contains(written)': False, 'contains(young)': False, 'contains(joke)': False, 'contains(citi)': False, 'contains(burn)': False, 'contains(stove)': False, 'contains(model)': False, 'contains(paid)': False, 'contains(compani)': False, 'contains(excess)': False, 'contains(budget)': False, 'contains(graphic)': False, 'contains(guy)': False, 'contains(relief)': False, 'contains(fall)': False, 'contains(nasti)': False, 'contains(cabinet)': False, 'contains(unexpect)': False, 'contains(childhood)': False, 'contains(meet)': False, 'contains(twice)': False, 'contains(previou)': False, 'contains(averag)': False, 'contains(nurseri)': False, 'contains(ottoman)': False, 'contains(isnt)': False, 'contains(sturdi)': False, 'contains(fine)': False, 'contains(popular)': False, 'contains(tim)': False, 'contains(horror)': False, 'contains(soap)': False, 'contains(green)': False, 'contains(hassl)': False, 'contains(fruit)': False, 'contains(easili)': False, 'contains(apart)': False, 'contains(dishwash)': False, 'contains(seat)': False, 'contains(fig)': False, 'contains(upset)': False, 'contains(toffe)': False, 'contains(site)': False, 'contains(discontinu)': False, 'contains(sometim)': False, 'contains(wear)': False, 'contains(hope)': False, 'contains(confid)': False, 'contains(ridicul)': False, 'contains(shini)': False, 'contains(neg)': False, 'contains(pleasantli)': False, 'contains(preshampoo)': False, 'contains(dryer)': False, 'contains(mean)': False, 'contains(featur)': False, 'contains(elvi)': False, 'contains(man)': False, 'contains(opportun)': False, 'contains(experi)': False, 'contains(solid)': False, 'contains(mainli)': False, 'contains(aubrey)': False, 'contains(plaza)': False, 'contains(happen)': False, 'contains(saturday)': False, 'contains(toddler)': False, 'contains(ton)': False, 'contains(spill)': False, 'contains(dinner)': False, 'contains(sell)': False, 'contains(absorb)': False, 'contains(slight)': False, 'contains(pleasant)': False, 'contains(somewhat)': False, 'contains(nutti)': False, 'contains(crunchi)': False, 'contains(form)': False, 'contains(salti)': False, 'contains(aroma)': False, 'contains(broth)': False, 'contains(alon)': False, 'contains(drama)': False, 'contains(tan)': False, 'contains(later)': False, 'contains(round)': False, 'contains(boat)': False, 'contains(portabl)': False, 'contains(walmart)': False, 'contains(glide)': False, 'contains(throw)': False, 'contains(food)': False, 'contains(whether)': False, 'contains(crazi)': False, 'contains(beat)': False, 'contains(grow)': False, 'contains(melt)': False, 'contains(mouth)': False, 'contains(colleg)': False, 'contains(wrinkl)': False, 'contains(close)': False, 'contains(andor)': False, 'contains(butt)': False, 'contains(answer)': False, 'contains(storylin)': False, 'contains(kind)': False, 'contains(mostli)': False, 'contains(biscuit)': False, 'contains(mother)': False, 'contains(grey)': False, 'contains(coverag)': False, 'contains(forget)': False, 'contains(hate)': False, 'contains(figur)': False, 'contains(frizz)': False, 'contains(needless)': False, 'contains(folk)': False, 'contains(bare)': False, 'contains(friendli)': False, 'contains(laundri)': False, 'contains(visibl)': False, 'contains(sparkl)': False, 'contains(target)': False, 'contains(onlin)': False, 'contains(anyway)': False, 'contains(amazingli)': False, 'contains(suppli)': False, 'contains(retir)': False, 'contains(taken)': False, 'contains(soon)': False, 'contains(decad)': False, 'contains(comment)': False, 'contains(anymor)': False, 'contains(sheet)': False, 'contains(pull)': False, 'contains(greatest)': False, 'contains(omg)': False, 'contains(rubber)': False, 'contains(dirti)': False, 'contains(offer)': False, 'contains(sale)': False, 'contains(vacat)': False, 'contains(regular)': False, 'contains(espresso)': False, 'contains(furnitur)': False, 'contains(trick)': False, 'contains(overpow)': False, 'contains(men)': False, 'contains(women)': False, 'contains(dandruff)': False, 'contains(bay)': False, 'contains(someon)': False, 'contains(rins)': False, 'contains(meat)': False, 'contains(dish)': False, 'contains(updat)': False, 'contains(comput)': False, 'contains(trash)': False, 'contains(remot)': False, 'contains(phone)': False, 'contains(diaper)': False, 'contains(restaur)': False, 'contains(public)': False, 'contains(shoe)': False, 'contains(sci)': False, 'contains(garag)': False, 'contains(sort)': False, 'contains(style)': False, 'contains(leg)': False, 'contains(per)': False, 'contains(short)': False, 'contains(ceil)': False, 'contains(bedroom)': False, 'contains(rough)': False, 'contains(video)': False, 'contains(drink)': False, 'contains(nearli)': False, 'contains(thru)': False, 'contains(tip)': False, 'contains(tend)': False, 'contains(probabl)': False, 'contains(repurchas)': False, 'contains(script)': False, 'contains(album)': False, 'contains(book)': False, 'contains(wheel)': False, 'contains(peac)': False, 'contains(mind)': False, 'contains(cart)': False, 'contains(option)': False, 'contains(ahead)': False, 'contains(deliveri)': False, 'contains(teacher)': False, 'contains(access)': False, 'contains(relat)': False, 'contains(vick)': False, 'contains(vaporub)': False, 'contains(snack)': False, 'contains(cheeto)': False, 'contains(hasnt)': False, 'contains(member)': False, 'contains(vac)': False, 'contains(cord)': False, 'contains(suction)': False, 'contains(multi)': False, 'contains(imagin)': False, 'contains(dirt)': False, 'contains(divid)': False, 'contains(binder)': False, 'contains(support)': False, 'contains(pregnant)': False, 'contains(reciev)': False, 'contains(realiz)': False, 'contains(clear)': False, 'contains(swear)': False, 'contains(shampoocondition)': False, 'contains(winner)': False, 'contains(appreci)': False, 'contains(cheaper)': False, 'contains(thin)': False, 'contains(possibl)': False, 'contains(faster)': False, 'contains(bacteria)': False, 'contains(lifesav)': False, 'contains(print)': False, 'contains(weekli)': False, 'contains(involv)': False, 'contains(ruin)': False, 'contains(shame)': False, 'contains(addict)': False, 'contains(space)': False, 'contains(corn)': False, 'contains(liquid)': False, 'contains(mop)': False, 'contains(youv)': False, 'contains(finger)': False, 'contains(inform)': False, 'contains(pink)': False, 'contains(often)': False, 'contains(buildup)': False, 'contains(hoover)': False, 'contains(platinum)': False, 'contains(specif)': False, 'contains(separ)': False, 'contains(canist)': False, 'contains(blue)': False, 'contains(scari)': False, 'contains(rare)': False, 'contains(diet)': False, 'contains(ginger)': False, 'contains(ale)': False, 'contains(suppos)': False, 'contains(die)': False, 'contains(camp)': False, 'contains(rag)': False, 'contains(streak)': False, 'contains(convien)': False, 'contains(caress)': False, 'contains(bar)': False, 'contains(orang)': False, 'contains(wavi)': False, 'contains(compar)': False, 'contains(aussi)': False, 'contains(okay)': False, 'contains(spf)': False, 'contains(beach)': False, 'contains(reach)': False, 'contains(potti)': False, 'contains(train)': False, 'contains(twist)': False, 'contains(drawback)': False, 'contains(began)': False, 'contains(strength)': False, 'contains(project)': False, 'contains(yellow)': False, 'contains(constantli)': False, 'contains(reappli)': False, 'contains(pain)': False, 'contains(theatr)': False, 'contains(bundl)': False, 'contains(colour)': False, 'contains(combo)': False, 'contains(happier)': False, 'contains(quiet)': False, 'contains(funnier)': False, 'contains(dust)': False, 'contains(discov)': False, 'contains(suit)': False, 'contains(coconut)': False, 'contains(theyv)': False, 'contains(lighter)': False, 'contains(formul)': False, 'contains(conjunct)': False, 'contains(versatil)': False, 'contains(heard)': False, 'contains(note)': False, 'contains(importantli)': False, 'contains(bagless)': False, 'contains(rug)': False, 'contains(dream)': False, 'contains(upright)': False, 'contains(minimum)': False, 'contains(oreck)': False, 'contains(bunch)': False, 'contains(pixar)': False, 'contains(pore)': False, 'contains(user)': False, 'contains(familiar)': False, 'contains(bug)': False, 'contains(creatur)': False, 'contains(earli)': False, 'contains(construct)': False, 'contains(otherwis)': False, 'contains(countri)': False, 'contains(germfre)': False, 'contains(vinegar)': False, 'contains(rid)': False, 'contains(occas)': False, 'contains(wow)': False, 'contains(shouldnt)': False, 'contains(hero)': False, 'contains(obviou)': False, 'contains(kong)': False, 'contains(becam)': False, 'contains(human)': False, 'contains(question)': False, 'contains(hollywood)': False, 'contains(pacif)': False, 'contains(rim)': False, 'contains(franchis)': False, 'contains(cost)': False, 'contains(artist)': False, 'contains(threw)': False, 'contains(clearli)': False, 'contains(hardli)': False, 'contains(cat)': False, 'contains(headach)': False, 'contains(shelf)': False, 'contains(biggest)': False, 'contains(tad)': False, 'contains(exact)': False, 'contains(child)': False, 'contains(panten)': False, 'contains(defi)': False, 'contains(inch)': False, 'contains(disk)': False, 'contains(edg)': False, 'contains(satisfi)': False, 'contains(treatment)': False, 'contains(concept)': False, 'contains(middl)': False, 'contains(upgrad)': False, 'contains(materi)': False, 'contains(gloss)': False, 'contains(kinda)': False, 'contains(applic)': False, 'contains(rose)': False, 'contains(tone)': False, 'contains(heat)': False, 'contains(pass)': False, 'contains(perfectli)': False, 'contains(turn)': False, 'contains(instead)': False, 'contains(believ)': False, 'contains(therapi)': False, 'contains(instantli)': False, 'contains(softer)': False, 'contains(chocol)': False, 'contains(whenev)': False, 'contains(restroom)': False, 'contains(common)': False, 'contains(grime)': False, 'contains(tho)': False, 'contains(brought)': False, 'contains(tint)': False, 'contains(column)': False, 'contains(wake)': False, 'contains(allow)': False, 'contains(neck)': False, 'contains(walk)': False, 'contains(stink)': False, 'contains(windtunnel)': False, 'contains(brush)': False, 'contains(manual)': False, 'contains(requir)': False, 'contains(hepa)': False, 'contains(filter)': False, 'contains(internet)': False, 'contains(tall)': False, 'contains(front)': False, 'contains(lack)': False, 'contains(sleek)': False, 'contains(strap)': False, 'contains(underneath)': False, 'contains(prepar)': False, 'contains(abil)': False, 'contains(dead)': False, 'contains(suck)': False, 'contains(coffe)': False, 'contains(bulk)': False, 'contains(unit)': False, 'contains(terrif)': False, 'contains(game)': False, 'contains(eventu)': False, 'contains(prone)': False, 'contains(acn)': False, 'contains(process)': False, 'contains(imposs)': False, 'contains(transluc)': False, 'contains(foundat)': False, 'contains(downsid)': False, 'contains(remind)': False, 'contains(liter)': False, 'contains(juicer)': False, 'contains(frequent)': False, 'contains(milk)': False, 'contains(count)': False, 'contains(glass)': False, 'contains(learn)': False, 'contains(modern)': False, 'contains(serious)': False, 'contains(gojira)': False, 'contains(built)': False, 'contains(squeez)': False, 'contains(pump)': False, 'contains(hurri)': False, 'contains(dispos)': False, 'contains(sanitari)': False, 'contains(easiest)': False, 'contains(heart)': False, 'contains(toss)': False, 'contains(variou)': False, 'contains(convient)': False, 'contains(promis)': False, 'contains(notch)': False, 'contains(zombi)': False, 'contains(histori)': False, 'contains(contact)': False, 'contains(cooker)': False, 'contains(slow)': False, 'contains(where)': False, 'contains(keyboard)': False, 'contains(washer)': False, 'contains(six)': False, 'contains(attempt)': False, 'contains(mine)': False, 'contains(pay)': False, 'contains(protein)': False, 'contains(talk)': False, 'contains(adam)': False, 'contains(attent)': False, 'contains(length)': False, 'contains(tangl)': False, 'contains(team)': False, 'contains(breez)': False, 'contains(harder)': False, 'contains(punch)': False, 'contains(sorri)': False, 'contains(flick)': False, 'contains(axe)': False, 'contains(phoenix)': False, 'contains(residu)': False, 'contains(activ)': False, 'contains(intens)': False, 'contains(towel)': False, 'contains(crack)': False, 'contains(pair)': False, 'contains(toward)': False, 'contains(fluffi)': False, 'contains(pop)': False, 'contains(chapstick)': False, 'contains(faucet)': False, 'contains(diaz)': False, 'contains(board)': False, 'contains(cooki)': False, 'contains(bake)': False, 'contains(roll)': False, 'contains(pre)': False, 'contains(cowork)': False, 'contains(cgi)': False, 'contains(gray)': False, 'contains(depend)': False, 'contains(thumb)': False, 'contains(applianc)': False, 'contains(itch)': False, 'contains(pile)': False, 'contains(pricey)': False, 'contains(puppi)': False, 'contains(hardwood)': False, 'contains(nongreasi)': False, 'contains(plan)': False, 'contains(numer)': False, 'contains(reccomend)': False, 'contains(giant)': False, 'contains(nephew)': False, 'contains(snap)': False, 'contains(plain)': False, 'contains(understand)': False, 'contains(fridg)': False, 'contains(irrit)': False, 'contains(plum)': False, 'contains(doubt)': False, 'contains(harm)': False, 'contains(student)': False, 'contains(glow)': False, 'contains(recomend)': False, 'contains(spectacular)': False, 'contains(itchi)': False, 'contains(tight)': False, 'contains(flaki)': False, 'contains(prevent)': False, 'contains(jar)': False, 'contains(annoy)': False, 'contains(hear)': False, 'contains(freshen)': False, 'contains(task)': False, 'contains(group)': False, 'contains(anytim)': False, 'contains(introduc)': False, 'contains(greek)': False, 'contains(consist)': False, 'contains(sharp)': False, 'contains(librari)': False, 'contains(boyfriend)': False, 'contains(matthew)': False, 'contains(wide)': False, 'contains(hose)': False, 'contains(wouldv)': False, 'contains(basic)': False, 'contains(deterg)': False, 'contains(harsh)': False, 'contains(pure)': False, 'contains(rang)': False, 'contains(technolog)': False, 'contains(cap)': False, 'contains(runni)': False, 'contains(evenli)': False, 'contains(receipt)': False, 'contains(bargain)': False, 'contains(grapefruit)': False, 'contains(exampl)': False, 'contains(booster)': False, 'contains(creat)': False, 'contains(medic)': False, 'contains(list)': False, 'contains(accid)': False, 'contains(stuck)': False, 'contains(mirror)': False, 'contains(storag)': False, 'contains(tough)': False, 'contains(luv)': False, 'contains(lead)': False, 'contains(alright)': False, 'contains(father)': False, 'contains(battl)': False, 'contains(edit)': False, 'contains(research)': False, 'contains(track)': False, 'contains(firm)': False, 'contains(bright)': False, 'contains(complexion)': False, 'contains(younger)': False, 'contains(crib)': False, 'contains(miracl)': False, 'contains(cup)': False, 'contains(shelv)': False, 'contains(section)': False, 'contains(descript)': False, 'contains(higher)': False, 'contains(standard)': False, 'contains(share)': False, 'contains(greas)': False, 'contains(lint)': False, 'contains(necess)': False, 'contains(thrill)': False, 'contains(dye)': False, 'contains(load)': False, 'contains(sister)': False, 'contains(kaiju)': False, 'contains(catch)': False, 'contains(rocker)': False, 'contains(waffl)': False, 'contains(jame)': False, 'contains(ultim)': False, 'contains(chemistri)': False, 'contains(tyler)': False, 'contains(perri)': False, 'contains(grandchildren)': False, 'contains(keratin)': False, 'contains(soprano)': False, 'contains(bounc)': False, 'contains(refil)': False, 'contains(alex)': False, 'contains(cross)': False, 'contains(scum)': False, 'contains(squar)': False, 'contains(doctor)': False, 'contains(sloper)': False, 'contains(havilland)': False, 'contains(catherin)': False, 'contains(morri)': False, 'contains(rich)': False, 'contains(perhap)': False, 'contains(earlier)': False, 'contains(empti)': False, 'contains(nuclear)': False, 'contains(dad)': False, 'contains(hubbi)': False, 'contains(militari)': False, 'contains(blow)': False, 'contains(chore)': False, 'contains(hesit)': False, 'contains(term)': False, 'contains(shot)': False, 'contains(via)': False, 'contains(microwav)': False, 'contains(parent)': False, 'contains(spi)': False, 'contains(visit)': False, 'contains(healthier)': False, 'contains(chapter)': False, 'contains(iron)': False, 'contains(comfi)': False, 'contains(ador)': False, 'contains(till)': False, 'contains(success)': False, 'contains(necessari)': False, 'contains(what)': False, 'contains(caught)': False, 'contains(secret)': False, 'contains(fulli)': False, 'contains(yogurt)': False, 'contains(bounci)': False, 'contains(hotel)': False, 'contains(swipe)': False, 'contains(attract)': False, 'contains(concern)': False, 'contains(mari)': False, 'contains(brother)': False, 'contains(raunchi)': False, 'contains(whatev)': False, 'contains(besid)': False, 'contains(challeng)': False, 'contains(spong)': False, 'contains(awsom)': False, 'contains(dusti)': False, 'contains(newer)': False, 'contains(button)': False, 'contains(papaya)': False, 'contains(whiten)': False, 'contains(sheer)': False, 'contains(daycar)': False, 'contains(detangl)': False, 'contains(art)': False, 'contains(scienc)': False, 'contains(uniqu)': False, 'contains(chewi)': False, 'contains(sweat)': False, 'contains(drug)': False, 'contains(loreal)': False, 'contains(road)': False, 'contains(deodor)': False, 'contains(develop)': False, 'contains(select)': False, 'contains(soften)': False, 'contains(grew)': False, 'contains(episod)': False, 'contains(center)': False, 'contains(nourish)': False, 'contains(maintain)': False, 'contains(freak)': False, 'contains(obsess)': False, 'contains(complain)': False, 'contains(tini)': False, 'contains(win)': False, 'contains(phenomen)': False, 'contains(limit)': False, 'contains(websit)': False, 'contains(virus)': False, 'contains(granddaught)': False, 'contains(flawless)': False, 'contains(lavend)': False, 'contains(primarili)': False, 'contains(televis)': False, 'contains(transfer)': False, 'contains(stiff)': False, 'contains(thu)': False, 'contains(mixtur)': False, 'contains(rip)': False, 'contains(ladi)': False, 'contains(forc)': False, 'contains(fiction)': False, 'contains(picki)': False, 'contains(choos)': False, 'contains(earth)': False, 'contains(meant)': False, 'contains(minor)': False, 'contains(drop)': False, 'contains(toothach)': False, 'contains(correct)': False, 'contains(subtl)': False, 'contains(focu)': False, 'contains(duti)': False, 'contains(extend)': False, 'contains(dermatologist)': False, 'contains(sweet)': False, 'contains(tooth)': False, 'contains(divideitup)': False, 'contains(wax)': False, 'contains(reduc)': False, 'contains(sushi)': False, 'contains(killer)': False, 'contains(wehani)': False, 'contains(usag)': False, 'contains(birthday)': False, 'contains(fireplac)': False, 'contains(wind)': False, 'contains(lid)': False, 'contains(clorax)': False, 'contains(greatli)': False, 'contains(drawer)': False, 'contains(shimmeri)': False, 'contains(sprayer)': False, 'contains(lizard)': False, 'contains(grandkid)': False, 'contains(crisp)': False, 'contains(lunch)': False, 'contains(dispens)': False, 'contains(freeman)': False, 'contains(adapt)': False, 'contains(bucket)': False, 'contains(sooo)': False, 'contains(audio)': False, 'contains(poorli)': False, 'contains(teeth)': False, 'contains(bowl)': False, 'contains(burton)': False, 'contains(orajel)': False, 'contains(nacho)': False, 'contains(teen)': False, 'contains(disenfect)': False, 'contains(posit)': False, 'contains(download)': False, 'contains(hospit)': False, 'contains(puff)': False, 'contains(memori)': False, 'contains(former)': False, 'contains(cherri)': False, 'contains(salad)': False, 'contains(everytim)': False, 'contains(hole)': False, 'contains(grate)': False, 'contains(knot)': False, 'contains(mint)': False, 'contains(post)': False, 'contains(desir)': False, 'contains(expert)': False, 'contains(ice)': False, 'contains(truck)': False, 'contains(properti)': False, 'contains(trial)': False, 'contains(nexu)': False, 'contains(beig)': False, 'contains(batch)': False, 'contains(breakag)': False, 'contains(prov)': False, 'contains(agedefi)': False, 'contains(crispi)': False}, 0), ({'contains(fresh)': False, 'contains(sent)': False, 'contains(point)': False, 'contains(area)': False, 'contains(improv)': False, 'contains(issu)': False, 'contains(broke)': False, 'contains(sever)': False, 'contains(smaller)': False, 'contains(bag)': False, 'contains(tostito)': False, 'contains(place)': False, 'contains(box)': False, 'contains(can)': False, 'contains(soup)': False, 'contains(seem)': False, 'contains(like)': False, 'contains(bad)': False, 'contains(combin)': False, 'contains(expect)': False, 'contains(broken)': False, 'contains(pretti)': False, 'contains(well)': False, 'contains(one)': False, 'contains(actual)': False, 'contains(open)': False, 'contains(due)': False, 'contains(wont)': False, 'contains(eat)': False, 'contains(sure)': False, 'contains(safe)': False, 'contains(sound)': False, 'contains(left)': False, 'contains(trip)': False, 'contains(overal)': False, 'contains(happi)': False, 'contains(havent)': False, 'contains(seen)': False, 'contains(tortilla)': False, 'contains(chip)': False, 'contains(month)': False, 'contains(awesom)': True, 'contains(great)': True, 'contains(product)': True, 'contains(buy)': True, 'contains(time)': True, 'contains(hous)': True, 'contains(use)': True, 'contains(everyday)': True, 'contains(review)': True, 'contains(collect)': True, 'contains(part)': True, 'contains(promot)': True, 'contains(clorox)': False, 'contains(around)': False, 'contains(forev)': False, 'contains(reliabl)': False, 'contains(love)': False, 'contains(keep)': False, 'contains(everi)': False, 'contains(sink)': False, 'contains(quick)': False, 'contains(clean)': False, 'contains(excel)': False, 'contains(lip)': False, 'contains(shimmer)': False, 'contains(ive)': False, 'contains(burt)': False, 'contains(bee)': False, 'contains(balm)': False, 'contains(oil)': False, 'contains(awhil)': False, 'contains(decid)': False, 'contains(tri)': False, 'contains(even)': False, 'contains(bought)': False, 'contains(champagn)': False, 'contains(watermelon)': False, 'contains(rhubarb)': False, 'contains(color)': False, 'contains(moistur)': False, 'contains(add)': False, 'contains(tradit)': False, 'contains(ragu)': False, 'contains(favorit)': False, 'contains(sauc)': False, 'contains(best)': False, 'contains(flavor)': False, 'contains(right)': False, 'contains(amount)': False, 'contains(worthi)': False, 'contains(sequel)': False, 'contains(arent)': False, 'contains(origin)': False, 'contains(would)': False, 'contains(say)': False, 'contains(that)': False, 'contains(fair)': False, 'contains(effort)': False, 'contains(still)': False, 'contains(worth)': False, 'contains(watch)': False, 'contains(cocoa)': False, 'contains(come)': False, 'contains(back)': False, 'contains(listen)': False, 'contains(custom)': False, 'contains(rememb)': False, 'contains(busi)': False, 'contains(miss)': False, 'contains(shade)': False, 'contains(ask)': False, 'contains(bring)': False, 'contains(movi)': False, 'contains(choic)': False, 'contains(blu)': False, 'contains(ray)': False, 'contains(own)': False, 'contains(dvd)': False, 'contains(found)': False, 'contains(came)': False, 'contains(recommend)': False, 'contains(everyon)': False, 'contains(price)': False, 'contains(reason)': False, 'contains(store)': False, 'contains(good)': False, 'contains(tasti)': False, 'contains(tast)': False, 'contains(textur)': False, 'contains(yummi)': False, 'contains(hot)': False, 'contains(dog)': False, 'contains(youll)': False, 'contains(island)': False, 'contains(excit)': False, 'contains(get)': False, 'contains(look)': False, 'contains(small)': False, 'contains(kitchen)': False, 'contains(stainless)': False, 'contains(steel)': False, 'contains(top)': False, 'contains(assembl)': False, 'contains(direct)': False, 'contains(could)': False, 'contains(better)': False, 'contains(total)': False, 'contains(enjoy)': False, 'contains(wipe)': False, 'contains(near)': False, 'contains(countertop)': False, 'contains(conveni)': False, 'contains(dont)': False, 'contains(dri)': False, 'contains(household)': False, 'contains(lysol)': False, 'contains(bottl)': False, 'contains(pack)': False, 'contains(larg)': False, 'contains(plastic)': False, 'contains(arriv)': False, 'contains(perfect)': False, 'contains(condit)': False, 'contains(quicker)': False, 'contains(thank)': False, 'contains(eas)': False, 'contains(order)': False, 'contains(secur)': False, 'contains(free)': False, 'contains(ship)': False, 'contains(simpl)': False, 'contains(effect)': False, 'contains(full)': False, 'contains(job)': False, 'contains(entir)': False, 'contains(home)': False, 'contains(life)': False, 'contains(need)': False, 'contains(make)': False, 'contains(bathroom)': False, 'contains(work)': False, 'contains(easi)': False, 'contains(cleanup)': False, 'contains(pick)': False, 'contains(steal)': False, 'contains(film)': False, 'contains(individu)': False, 'contains(kid)': False, 'contains(disinfect)': False, 'contains(doesnt)': False, 'contains(natur)': False, 'contains(self)': False, 'contains(tanner)': False, 'contains(nice)': False, 'contains(brown)': False, 'contains(skin)': False, 'contains(smell)': False, 'contains(wash)': False, 'contains(hand)': False, 'contains(appli)': False, 'contains(done)': False, 'contains(purchas)': False, 'contains(hair)': False, 'contains(feel)': False, 'contains(lemon)': False, 'contains(scent)': False, 'contains(never)': False, 'contains(durabl)': False, 'contains(everyth)': False, 'contains(carrot)': False, 'contains(hydrat)': False, 'contains(shower)': False, 'contains(gel)': False, 'contains(bodi)': False, 'contains(lotion)': False, 'contains(alway)': False, 'contains(smooth)': False, 'contains(healthi)': False, 'contains(lot)': False, 'contains(dryness)': False, 'contains(especi)': False, 'contains(winter)': False, 'contains(much)': False, 'contains(sinc)': False, 'contains(day)': False, 'contains(way)': False, 'contains(wish)': False, 'contains(lather)': False, 'contains(made)': False, 'contains(got)': False, 'contains(soft)': False, 'contains(daili)': False, 'contains(leav)': False, 'contains(regenerist)': False, 'contains(olay)': False, 'contains(beauti)': False, 'contains(woman)': False, 'contains(facial)': False, 'contains(age)': False, 'contains(deep)': False, 'contains(cream)': False, 'contains(stapl)': False, 'contains(routin)': False, 'contains(break)': False, 'contains(daughter)': False, 'contains(continu)': False, 'contains(amaz)': False, 'contains(regener)': False, 'contains(year)': False, 'contains(hook)': False, 'contains(famili)': False, 'contains(anyth)': False, 'contains(think)': False, 'contains(either)': False, 'contains(teach)': False, 'contains(school)': False, 'contains(class)': False, 'contains(theyr)': False, 'contains(messi)': False, 'contains(coupl)': False, 'contains(across)': False, 'contains(tabl)': False, 'contains(juic)': False, 'contains(etc)': False, 'contains(gone)': False, 'contains(surfac)': False, 'contains(morn)': False, 'contains(help)': False, 'contains(ever)': False, 'contains(valu)': False, 'contains(must)': False, 'contains(also)': False, 'contains(two)': False, 'contains(pet)': False, 'contains(behind)': False, 'contains(counter)': False, 'contains(chemic)': False, 'contains(night)': False, 'contains(director)': False, 'contains(old)': False, 'contains(godzilla)': False, 'contains(new)': False, 'contains(genr)': False, 'contains(gave)': False, 'contains(instant)': False, 'contains(last)': False, 'contains(see)': False, 'contains(screen)': False, 'contains(formula)': False, 'contains(faith)': False, 'contains(curl)': False, 'contains(frizzi)': False, 'contains(strong)': False, 'contains(pleas)': False, 'contains(cleanli)': False, 'contains(easier)': False, 'contains(spray)': False, 'contains(speed)': False, 'contains(teenag)': False, 'contains(son)': False, 'contains(spot)': False, 'contains(floor)': False, 'contains(terribl)': False, 'contains(know)': False, 'contains(thing)': False, 'contains(funni)': False, 'contains(first)': False, 'contains(three)': False, 'contains(alreadi)': False, 'contains(anyon)': False, 'contains(bisquick)': False, 'contains(particular)': False, 'contains(item)': False, 'contains(pancak)': False, 'contains(brand)': False, 'contains(mix)': False, 'contains(comparison)': False, 'contains(simpli)': False, 'contains(follow)': False, 'contains(titl)': False, 'contains(receiv)': False, 'contains(sampl)': False, 'contains(condition)': False, 'contains(unlik)': False, 'contains(red)': False, 'contains(action)': False, 'contains(comedi)': False, 'contains(plu)': False, 'contains(fan)': False, 'contains(bruce)': False, 'contains(willi)': False, 'contains(helen)': False, 'contains(mirren)': False, 'contains(disney)': False, 'contains(plane)': False, 'contains(fire)': False, 'contains(rescu)': False, 'contains(deliv)': False, 'contains(anim)': False, 'contains(take)': False, 'contains(huge)': False, 'contains(without)': False, 'contains(loyal)': False, 'contains(grandson)': False, 'contains(seri)': False, 'contains(wait)': False, 'contains(john)': False, 'contains(malkovich)': False, 'contains(hilari)': False, 'contains(heater)': False, 'contains(return)': False, 'contains(warm)': False, 'contains(enough)': False, 'contains(put)': False, 'contains(high)': False, 'contains(half)': False, 'contains(hour)': False, 'contains(slightli)': False, 'contains(tile)': False, 'contains(mayb)': False, 'contains(bigger)': False, 'contains(classroom)': False, 'contains(recent)': False, 'contains(chang)': False, 'contains(includ)': False, 'contains(horribl)': False, 'contains(hold)': False, 'contains(differ)': False, 'contains(children)': False, 'contains(adult)': False, 'contains(entertain)': False, 'contains(lesson)': False, 'contains(realli)': False, 'contains(shown)': False, 'contains(wasnt)': False, 'contains(piec)': False, 'contains(bite)': False, 'contains(size)': False, 'contains(exactli)': False, 'contains(guest)': False, 'contains(less)': False, 'contains(doubl)': False, 'contains(dip)': False, 'contains(salt)': False, 'contains(certainli)': False, 'contains(wouldnt)': False, 'contains(fantast)': False, 'contains(definit)': False, 'contains(despit)': False, 'contains(bleach)': False, 'contains(tell)': False, 'contains(vacuum)': False, 'contains(togeth)': False, 'contains(screw)': False, 'contains(handl)': False, 'contains(readi)': False, 'contains(push)': False, 'contains(light)': False, 'contains(carri)': False, 'contains(stair)': False, 'contains(far)': False, 'contains(mani)': False, 'contains(power)': False, 'contains(penni)': False, 'contains(littl)': False, 'contains(thick)': False, 'contains(thinner)': False, 'contains(nan)': False, 'contains(avail)': False, 'contains(glad)': False, 'contains(grown)': False, 'contains(rice)': False, 'contains(type)': False, 'contains(consum)': False, 'contains(report)': False, 'contains(claim)': False, 'contains(may)': False, 'contains(addit)': False, 'contains(blend)': False, 'contains(lundberg)': False, 'contains(incred)': False, 'contains(whole)': False, 'contains(grain)': False, 'contains(version)': False, 'contains(benefit)': False, 'contains(fiber)': False, 'contains(away)': False, 'contains(white)': False, 'contains(longer)': False, 'contains(cook)': False, 'contains(health)': False, 'contains(want)': False, 'contains(fight)': False, 'contains(volum)': False, 'contains(shampoo)': False, 'contains(flat)': False, 'contains(honest)': False, 'contains(surpris)': False, 'contains(wed)': False, 'contains(usual)': False, 'contains(hit)': False, 'contains(actor)': False, 'contains(plot)': False, 'contains(predict)': False, 'contains(fun)': False, 'contains(present)': False, 'contains(prefer)': False, 'contains(offic)': False, 'contains(funniest)': False, 'contains(ben)': False, 'contains(stiller)': False, 'contains(laugh)': False, 'contains(begin)': False, 'contains(end)': False, 'contains(cast)': False, 'contains(stori)': False, 'contains(real)': False, 'contains(extraordinari)': False, 'contains(freecomplimentari)': False, 'contains(test)': False, 'contains(purpos)': False, 'contains(opinion)': False, 'contains(thought)': False, 'contains(felt)': False, 'contains(didnt)': False, 'contains(overli)': False, 'contains(oili)': False, 'contains(howev)': False, 'contains(dislik)': False, 'contains(bother)': False, 'contains(given)': False, 'contains(decent)': False, 'contains(car)': False, 'contains(packag)': False, 'contains(travel)': False, 'contains(mess)': False, 'contains(wife)': False, 'contains(main)': False, 'contains(nexxu)': False, 'contains(start)': False, 'contains(stargat)': False, 'contains(show)': False, 'contains(scifi)': False, 'contains(bluray)': False, 'contains(entri)': False, 'contains(agre)': False, 'contains(king)': False, 'contains(monster)': False, 'contains(said)': False, 'contains(extra)': False, 'contains(content)': False, 'contains(provid)': False, 'contains(cant)': False, 'contains(fragranc)': False, 'contains(long)': False, 'contains(true)': False, 'contains(problem)': False, 'contains(black)': False, 'contains(friday)': False, 'contains(couldnt)': False, 'contains(fill)': False, 'contains(non)': False, 'contains(stop)': False, 'contains(check)': False, 'contains(disappoint)': False, 'contains(super)': False, 'contains(wonder)': False, 'contains(tool)': False, 'contains(room)': False, 'contains(kill)': False, 'contains(germ)': False, 'contains(depp)': False, 'contains(poor)': False, 'contains(saw)': False, 'contains(japanes)': False, 'contains(stupid)': False, 'contains(give)': False, 'contains(special)': False, 'contains(line)': False, 'contains(cold)': False, 'contains(flu)': False, 'contains(season)': False, 'contains(gift)': False, 'contains(christma)': False, 'contains(yet)': False, 'contains(allergi)': False, 'contains(mom)': False, 'contains(merlot)': False, 'contains(might)': False, 'contains(ingredi)': False, 'contains(allerg)': False, 'contains(someth)': False, 'contains(though)': False, 'contains(known)': False, 'contains(unfortun)': False, 'contains(similar)': False, 'contains(radianc)': False, 'contains(peopl)': False, 'contains(dull)': False, 'contains(care)': False, 'contains(exxtra)': False, 'contains(sadli)': False, 'contains(extrem)': False, 'contains(noth)': False, 'contains(curli)': False, 'contains(matter)': False, 'contains(fact)': False, 'contains(wateri)': False, 'contains(alcohol)': False, 'contains(find)': False, 'contains(idea)': False, 'contains(complaint)': False, 'contains(wall)': False, 'contains(desk)': False, 'contains(bath)': False, 'contains(world)': False, 'contains(design)': False, 'contains(honestli)': False, 'contains(scene)': False, 'contains(becom)': False, 'contains(darker)': False, 'contains(shadow)': False, 'contains(final)': False, 'contains(niec)': False, 'contains(ago)': False, 'contains(remov)': False, 'contains(husband)': False, 'contains(stain)': False, 'contains(live)': False, 'contains(qualiti)': False, 'contains(particularli)': False, 'contains(smoothli)': False, 'contains(appear)': False, 'contains(quickli)': False, 'contains(silki)': False, 'contains(makeup)': False, 'contains(friend)': False, 'contains(chili)': False, 'contains(throughout)': False, 'contains(sticki)': False, 'contains(cloth)': False, 'contains(organ)': False, 'contains(machin)': False, 'contains(medium)': False, 'contains(run)': False, 'contains(comb)': False, 'contains(compliment)': False, 'contains(greasi)': False, 'contains(heavi)': False, 'contains(let)': False, 'contains(stuff)': False, 'contains(ill)': False, 'contains(switch)': False, 'contains(tear)': False, 'contains(save)': False, 'contains(troubl)': False, 'contains(remak)': False, 'contains(blast)': False, 'contains(face)': False, 'contains(god)': False, 'contains(cours)': False, 'contains(theater)': False, 'contains(door)': False, 'contains(steer)': False, 'contains(low)': False, 'contains(weekend)': False, 'contains(typic)': False, 'contains(spread)': False, 'contains(five)': False, 'contains(min)': False, 'contains(rub)': False, 'contains(feet)': False, 'contains(nose)': False, 'contains(chest)': False, 'contains(toy)': False, 'contains(babi)': False, 'contains(play)': False, 'contains(knob)': False, 'contains(els)': False, 'contains(experienc)': False, 'contains(abl)': False, 'contains(ultraviolet)': False, 'contains(digit)': False, 'contains(copi)': False, 'contains(saver)': False, 'contains(dark)': False, 'contains(blueray)': False, 'contains(player)': False, 'contains(jason)': False, 'contains(aldean)': False, 'contains(song)': False, 'contains(summer)': False, 'contains(silli)': False, 'contains(zac)': False, 'contains(efron)': False, 'contains(anna)': False, 'contains(kendrick)': False, 'contains(date)': False, 'contains(boy)': False, 'contains(gon)': False, 'contains(broderick)': False, 'contains(garbag)': False, 'contains(forward)': False, 'contains(money)': False, 'contains(person)': False, 'contains(breath)': False, 'contains(air)': False, 'contains(larger)': False, 'contains(spend)': False, 'contains(sat)': False, 'contains(afternoon)': False, 'contains(star)': False, 'contains(chees)': False, 'contains(chester)': False, 'contains(cheesi)': False, 'contains(puffcorn)': False, 'contains(mild)': False, 'contains(water)': False, 'contains(reaction)': False, 'contains(sensit)': False, 'contains(patch)': False, 'contains(eczema)': False, 'contains(plenti)': False, 'contains(interest)': False, 'contains(act)': False, 'contains(second)': False, 'contains(sit)': False, 'contains(popcorn)': False, 'contains(move)': False, 'contains(along)': False, 'contains(kept)': False, 'contains(singl)': False, 'contains(expens)': False, 'contains(older)': False, 'contains(cleaner)': False, 'contains(set)': False, 'contains(classic)': False, 'contains(cheap)': False, 'contains(resid)': False, 'contains(evil)': False, 'contains(instal)': False, 'contains(format)': False, 'contains(grab)': False, 'contains(surround)': False, 'contains(alic)': False, 'contains(lover)': False, 'contains(bean)': False, 'contains(unhappi)': False, 'contains(hint)': False, 'contains(lipstick)': False, 'contains(goe)': False, 'contains(quit)': False, 'contains(peoni)': False, 'contains(nutmeg)': False, 'contains(caramel)': False, 'contains(guess)': False, 'contains(absolut)': False, 'contains(touch)': False, 'contains(peppermint)': False, 'contains(chap)': False, 'contains(regularli)': False, 'contains(clay)': False, 'contains(mask)': False, 'contains(root)': False, 'contains(varieti)': False, 'contains(manag)': False, 'contains(contain)': False, 'contains(avoid)': False, 'contains(influenst)': False, 'contains(cool)': False, 'contains(held)': False, 'contains(charact)': False, 'contains(cranston)': False, 'contains(epic)': False, 'contains(complementari)': False, 'contains(magic)': False, 'contains(sunblock)': False, 'contains(eye)': False, 'contains(trust)': False, 'contains(aveeno)': False, 'contains(tub)': False, 'contains(import)': False, 'contains(superb)': False, 'contains(scrub)': False, 'contains(fit)': False, 'contains(bill)': False, 'contains(name)': False, 'contains(control)': False, 'contains(outsid)': False, 'contains(side)': False, 'contains(kick)': False, 'contains(afraid)': False, 'contains(sick)': False, 'contains(sugar)': False, 'contains(truli)': False, 'contains(lift)': False, 'contains(refresh)': False, 'contains(bonu)': False, 'contains(scalp)': False, 'contains(tingl)': False, 'contains(least)': False, 'contains(weather)': False, 'contains(tube)': False, 'contains(spent)': False, 'contains(alot)': False, 'contains(ran)': False, 'contains(properli)': False, 'contains(carpet)': False, 'contains(shut)': False, 'contains(went)': False, 'contains(dyson)': False, 'contains(dine)': False, 'contains(anywher)': False, 'contains(hard)': False, 'contains(onto)': False, 'contains(base)': False, 'contains(late)': False, 'contains(parti)': False, 'contains(other)': False, 'contains(replac)': False, 'contains(concentr)': False, 'contains(protect)': False, 'contains(reli)': False, 'contains(sanit)': False, 'contains(week)': False, 'contains(local)': False, 'contains(groceri)': False, 'contains(stock)': False, 'contains(case)': False, 'contains(almost)': False, 'contains(finish)': False, 'contains(releas)': False, 'contains(build)': False, 'contains(balanc)': False, 'contains(moment)': False, 'contains(pictur)': False, 'contains(disc)': False, 'contains(rather)': False, 'contains(recip)': False, 'contains(treat)': False, 'contains(next)': False, 'contains(chicken)': False, 'contains(flake)': False, 'contains(wild)': False, 'contains(worri)': False, 'contains(stay)': False, 'contains(took)': False, 'contains(servic)': False, 'contains(paper)': False, 'contains(code)': False, 'contains(sad)': False, 'contains(read)': False, 'contains(soooo)': False, 'contains(big)': False, 'contains(mistak)': False, 'contains(corner)': False, 'contains(cut)': False, 'contains(afford)': False, 'contains(altern)': False, 'contains(meal)': False, 'contains(fell)': False, 'contains(amazon)': False, 'contains(sourc)': False, 'contains(windex)': False, 'contains(lower)': False, 'contains(hormel)': False, 'contains(previous)': False, 'contains(label)': False, 'contains(major)': False, 'contains(goto)': False, 'contains(everywher)': False, 'contains(complimentari)': False, 'contains(cute)': False, 'contains(except)': False, 'contains(ride)': False, 'contains(realist)': False, 'contains(adventur)': False, 'contains(lemoni)': False, 'contains(thoroughli)': False, 'contains(lol)': False, 'contains(handi)': False, 'contains(minut)': False, 'contains(market)': False, 'contains(today)': False, 'contains(weird)': False, 'contains(odor)': False, 'contains(shop)': False, 'contains(delici)': False, 'contains(outstand)': False, 'contains(visual)': False, 'contains(mark)': False, 'contains(word)': False, 'contains(worst)': False, 'contains(gotten)': False, 'contains(rate)': False, 'contains(american)': False, 'contains(sun)': False, 'contains(none)': False, 'contains(bryan)': False, 'contains(mention)': False, 'contains(hurt)': False, 'contains(profession)': False, 'contains(lose)': False, 'contains(search)': False, 'contains(beyond)': False, 'contains(frustrat)': False, 'contains(dollar)': False, 'contains(tire)': False, 'contains(system)': False, 'contains(werent)': False, 'contains(sold)': False, 'contains(music)': False, 'contains(past)': False, 'contains(salon)': False, 'contains(immedi)': False, 'contains(impress)': False, 'contains(perform)': False, 'contains(straight)': False, 'contains(smoother)': False, 'contains(difficult)': False, 'contains(deal)': False, 'contains(cover)': False, 'contains(wors)': False, 'contains(window)': False, 'contains(result)': False, 'contains(worn)': False, 'contains(head)': False, 'contains(shoulder)': False, 'contains(match)': False, 'contains(fav)': False, 'contains(loral)': False, 'contains(def)': False, 'contains(damag)': False, 'contains(surprisingli)': False, 'contains(highli)': False, 'contains(solut)': False, 'contains(suav)': False, 'contains(suspens)': False, 'contains(index)': False, 'contains(fabul)': False, 'contains(averi)': False, 'contains(tab)': False, 'contains(role)': False, 'contains(depart)': False, 'contains(page)': False, 'contains(stand)': False, 'contains(effici)': False, 'contains(skeptic)': False, 'contains(split)': False, 'contains(wrong)': False, 'contains(admit)': False, 'contains(charm)': False, 'contains(cake)': False, 'contains(gold)': False, 'contains(thorough)': False, 'contains(fast)': False, 'contains(comfort)': False, 'contains(chair)': False, 'contains(rock)': False, 'contains(glider)': False, 'contains(chanc)': False, 'contains(knew)': False, 'contains(shape)': False, 'contains(weigh)': False, 'contains(exchang)': False, 'contains(current)': False, 'contains(blockbust)': False, 'contains(unless)': False, 'contains(gener)': False, 'contains(pale)': False, 'contains(stick)': False, 'contains(rest)': False, 'contains(caus)': False, 'contains(peel)': False, 'contains(third)': False, 'contains(raw)': False, 'contains(humor)': False, 'contains(sunscreen)': False, 'contains(gentl)': False, 'contains(mike)': False, 'contains(dave)': False, 'contains(perfum)': False, 'contains(anoth)': False, 'contains(superior)': False, 'contains(suggest)': False, 'contains(call)': False, 'contains(number)': False, 'contains(consid)': False, 'contains(notic)': False, 'contains(voxbox)': False, 'contains(grandmoth)': False, 'contains(wore)': False, 'contains(loos)': False, 'contains(powder)': False, 'contains(inexpens)': False, 'contains(toilet)': False, 'contains(sooth)': False, 'contains(basi)': False, 'contains(although)': False, 'contains(level)': False, 'contains(stronger)': False, 'contains(thicker)': False, 'contains(bore)': False, 'contains(gross)': False, 'contains(your)': False, 'contains(competitor)': False, 'contains(advertis)': False, 'contains(wast)': False, 'contains(lightweight)': False, 'contains(essenti)': False, 'contains(fake)': False, 'contains(nail)': False, 'contains(weak)': False, 'contains(brittl)': False, 'contains(vaselin)': False, 'contains(purs)': False, 'contains(gym)': False, 'contains(bed)': False, 'contains(wet)': False, 'contains(minti)': False, 'contains(moist)': False, 'contains(creami)': False, 'contains(raisin)': False, 'contains(bit)': False, 'contains(pocket)': False, 'contains(certain)': False, 'contains(overwhelm)': False, 'contains(afterward)': False, 'contains(grand)': False, 'contains(shine)': False, 'contains(muto)': False, 'contains(reboot)': False, 'contains(destruct)': False, 'contains(seriou)': False, 'contains(comic)': False, 'contains(theme)': False, 'contains(tree)': False, 'contains(butter)': False, 'contains(write)': False, 'contains(wood)': False, 'contains(fabric)': False, 'contains(cushion)': False, 'contains(fairli)': False, 'contains(asleep)': False, 'contains(arm)': False, 'contains(prior)': False, 'contains(bottom)': False, 'contains(portion)': False, 'contains(loud)': False, 'contains(nurs)': False, 'contains(sleep)': False, 'contains(fix)': False, 'contains(storkcraft)': False, 'contains(send)': False, 'contains(within)': False, 'contains(warranti)': False, 'contains(period)': False, 'contains(normal)': False, 'contains(height)': False, 'contains(weight)': False, 'contains(upon)': False, 'contains(attach)': False, 'contains(instruct)': False, 'contains(state)': False, 'contains(futur)': False, 'contains(sens)': False, 'contains(told)': False, 'contains(there)': False, 'contains(complet)': False, 'contains(neutral)': False, 'contains(luck)': False, 'contains(decis)': False, 'contains(yum)': False, 'contains(doorknob)': False, 'contains(rash)': False, 'contains(weve)': False, 'contains(girl)': False, 'contains(obvious)': False, 'contains(file)': False, 'contains(folder)': False, 'contains(step)': False, 'contains(multipl)': False, 'contains(flimsi)': False, 'contains(document)': False, 'contains(insid)': False, 'contains(workout)': False, 'contains(lost)': False, 'contains(four)': False, 'contains(ten)': False, 'contains(stomach)': False, 'contains(fat)': False, 'contains(practic)': False, 'contains(view)': False, 'contains(johnni)': False, 'contains(written)': False, 'contains(young)': False, 'contains(joke)': False, 'contains(citi)': False, 'contains(burn)': False, 'contains(stove)': False, 'contains(model)': False, 'contains(paid)': False, 'contains(compani)': False, 'contains(excess)': False, 'contains(budget)': False, 'contains(graphic)': False, 'contains(guy)': False, 'contains(relief)': False, 'contains(fall)': False, 'contains(nasti)': False, 'contains(cabinet)': False, 'contains(unexpect)': False, 'contains(childhood)': False, 'contains(meet)': False, 'contains(twice)': False, 'contains(previou)': False, 'contains(averag)': False, 'contains(nurseri)': False, 'contains(ottoman)': False, 'contains(isnt)': False, 'contains(sturdi)': False, 'contains(fine)': False, 'contains(popular)': False, 'contains(tim)': False, 'contains(horror)': False, 'contains(soap)': False, 'contains(green)': False, 'contains(hassl)': False, 'contains(fruit)': False, 'contains(easili)': False, 'contains(apart)': False, 'contains(dishwash)': False, 'contains(seat)': False, 'contains(fig)': False, 'contains(upset)': False, 'contains(toffe)': False, 'contains(site)': False, 'contains(discontinu)': False, 'contains(sometim)': False, 'contains(wear)': False, 'contains(hope)': False, 'contains(confid)': False, 'contains(ridicul)': False, 'contains(shini)': False, 'contains(neg)': False, 'contains(pleasantli)': False, 'contains(preshampoo)': False, 'contains(dryer)': False, 'contains(mean)': False, 'contains(featur)': False, 'contains(elvi)': False, 'contains(man)': False, 'contains(opportun)': False, 'contains(experi)': False, 'contains(solid)': False, 'contains(mainli)': False, 'contains(aubrey)': False, 'contains(plaza)': False, 'contains(happen)': False, 'contains(saturday)': False, 'contains(toddler)': False, 'contains(ton)': False, 'contains(spill)': False, 'contains(dinner)': False, 'contains(sell)': False, 'contains(absorb)': False, 'contains(slight)': False, 'contains(pleasant)': False, 'contains(somewhat)': False, 'contains(nutti)': False, 'contains(crunchi)': False, 'contains(form)': False, 'contains(salti)': False, 'contains(aroma)': False, 'contains(broth)': False, 'contains(alon)': False, 'contains(drama)': False, 'contains(tan)': False, 'contains(later)': False, 'contains(round)': False, 'contains(boat)': False, 'contains(portabl)': False, 'contains(walmart)': False, 'contains(glide)': False, 'contains(throw)': False, 'contains(food)': False, 'contains(whether)': False, 'contains(crazi)': False, 'contains(beat)': False, 'contains(grow)': False, 'contains(melt)': False, 'contains(mouth)': False, 'contains(colleg)': False, 'contains(wrinkl)': False, 'contains(close)': False, 'contains(andor)': False, 'contains(butt)': False, 'contains(answer)': False, 'contains(storylin)': False, 'contains(kind)': False, 'contains(mostli)': False, 'contains(biscuit)': False, 'contains(mother)': False, 'contains(grey)': False, 'contains(coverag)': False, 'contains(forget)': False, 'contains(hate)': False, 'contains(figur)': False, 'contains(frizz)': False, 'contains(needless)': False, 'contains(folk)': False, 'contains(bare)': False, 'contains(friendli)': False, 'contains(laundri)': False, 'contains(visibl)': False, 'contains(sparkl)': False, 'contains(target)': False, 'contains(onlin)': False, 'contains(anyway)': False, 'contains(amazingli)': False, 'contains(suppli)': False, 'contains(retir)': False, 'contains(taken)': False, 'contains(soon)': False, 'contains(decad)': False, 'contains(comment)': False, 'contains(anymor)': False, 'contains(sheet)': False, 'contains(pull)': False, 'contains(greatest)': False, 'contains(omg)': False, 'contains(rubber)': False, 'contains(dirti)': False, 'contains(offer)': False, 'contains(sale)': False, 'contains(vacat)': False, 'contains(regular)': False, 'contains(espresso)': False, 'contains(furnitur)': False, 'contains(trick)': False, 'contains(overpow)': False, 'contains(men)': False, 'contains(women)': False, 'contains(dandruff)': False, 'contains(bay)': False, 'contains(someon)': False, 'contains(rins)': False, 'contains(meat)': False, 'contains(dish)': False, 'contains(updat)': False, 'contains(comput)': False, 'contains(trash)': False, 'contains(remot)': False, 'contains(phone)': False, 'contains(diaper)': False, 'contains(restaur)': False, 'contains(public)': False, 'contains(shoe)': False, 'contains(sci)': False, 'contains(garag)': False, 'contains(sort)': False, 'contains(style)': False, 'contains(leg)': False, 'contains(per)': False, 'contains(short)': False, 'contains(ceil)': False, 'contains(bedroom)': False, 'contains(rough)': False, 'contains(video)': False, 'contains(drink)': False, 'contains(nearli)': False, 'contains(thru)': False, 'contains(tip)': False, 'contains(tend)': False, 'contains(probabl)': False, 'contains(repurchas)': False, 'contains(script)': False, 'contains(album)': False, 'contains(book)': False, 'contains(wheel)': False, 'contains(peac)': False, 'contains(mind)': False, 'contains(cart)': False, 'contains(option)': False, 'contains(ahead)': False, 'contains(deliveri)': False, 'contains(teacher)': False, 'contains(access)': False, 'contains(relat)': False, 'contains(vick)': False, 'contains(vaporub)': False, 'contains(snack)': False, 'contains(cheeto)': False, 'contains(hasnt)': False, 'contains(member)': False, 'contains(vac)': False, 'contains(cord)': False, 'contains(suction)': False, 'contains(multi)': False, 'contains(imagin)': False, 'contains(dirt)': False, 'contains(divid)': False, 'contains(binder)': False, 'contains(support)': False, 'contains(pregnant)': False, 'contains(reciev)': False, 'contains(realiz)': False, 'contains(clear)': False, 'contains(swear)': False, 'contains(shampoocondition)': False, 'contains(winner)': False, 'contains(appreci)': False, 'contains(cheaper)': False, 'contains(thin)': False, 'contains(possibl)': False, 'contains(faster)': False, 'contains(bacteria)': False, 'contains(lifesav)': False, 'contains(print)': False, 'contains(weekli)': False, 'contains(involv)': False, 'contains(ruin)': False, 'contains(shame)': False, 'contains(addict)': False, 'contains(space)': False, 'contains(corn)': False, 'contains(liquid)': False, 'contains(mop)': False, 'contains(youv)': False, 'contains(finger)': False, 'contains(inform)': False, 'contains(pink)': False, 'contains(often)': False, 'contains(buildup)': False, 'contains(hoover)': False, 'contains(platinum)': False, 'contains(specif)': False, 'contains(separ)': False, 'contains(canist)': False, 'contains(blue)': False, 'contains(scari)': False, 'contains(rare)': False, 'contains(diet)': False, 'contains(ginger)': False, 'contains(ale)': False, 'contains(suppos)': False, 'contains(die)': False, 'contains(camp)': False, 'contains(rag)': False, 'contains(streak)': False, 'contains(convien)': False, 'contains(caress)': False, 'contains(bar)': False, 'contains(orang)': False, 'contains(wavi)': False, 'contains(compar)': False, 'contains(aussi)': False, 'contains(okay)': False, 'contains(spf)': False, 'contains(beach)': False, 'contains(reach)': False, 'contains(potti)': False, 'contains(train)': False, 'contains(twist)': False, 'contains(drawback)': False, 'contains(began)': False, 'contains(strength)': False, 'contains(project)': False, 'contains(yellow)': False, 'contains(constantli)': False, 'contains(reappli)': False, 'contains(pain)': False, 'contains(theatr)': False, 'contains(bundl)': False, 'contains(colour)': False, 'contains(combo)': False, 'contains(happier)': False, 'contains(quiet)': False, 'contains(funnier)': False, 'contains(dust)': False, 'contains(discov)': False, 'contains(suit)': False, 'contains(coconut)': False, 'contains(theyv)': False, 'contains(lighter)': False, 'contains(formul)': False, 'contains(conjunct)': False, 'contains(versatil)': False, 'contains(heard)': False, 'contains(note)': False, 'contains(importantli)': False, 'contains(bagless)': False, 'contains(rug)': False, 'contains(dream)': False, 'contains(upright)': False, 'contains(minimum)': False, 'contains(oreck)': False, 'contains(bunch)': False, 'contains(pixar)': False, 'contains(pore)': False, 'contains(user)': False, 'contains(familiar)': False, 'contains(bug)': False, 'contains(creatur)': False, 'contains(earli)': False, 'contains(construct)': False, 'contains(otherwis)': False, 'contains(countri)': False, 'contains(germfre)': False, 'contains(vinegar)': False, 'contains(rid)': False, 'contains(occas)': False, 'contains(wow)': False, 'contains(shouldnt)': False, 'contains(hero)': False, 'contains(obviou)': False, 'contains(kong)': False, 'contains(becam)': False, 'contains(human)': False, 'contains(question)': False, 'contains(hollywood)': False, 'contains(pacif)': False, 'contains(rim)': False, 'contains(franchis)': False, 'contains(cost)': False, 'contains(artist)': False, 'contains(threw)': False, 'contains(clearli)': False, 'contains(hardli)': False, 'contains(cat)': False, 'contains(headach)': False, 'contains(shelf)': False, 'contains(biggest)': False, 'contains(tad)': False, 'contains(exact)': False, 'contains(child)': False, 'contains(panten)': False, 'contains(defi)': False, 'contains(inch)': False, 'contains(disk)': False, 'contains(edg)': False, 'contains(satisfi)': False, 'contains(treatment)': False, 'contains(concept)': False, 'contains(middl)': False, 'contains(upgrad)': False, 'contains(materi)': False, 'contains(gloss)': False, 'contains(kinda)': False, 'contains(applic)': False, 'contains(rose)': False, 'contains(tone)': False, 'contains(heat)': False, 'contains(pass)': False, 'contains(perfectli)': False, 'contains(turn)': False, 'contains(instead)': False, 'contains(believ)': False, 'contains(therapi)': False, 'contains(instantli)': False, 'contains(softer)': False, 'contains(chocol)': False, 'contains(whenev)': False, 'contains(restroom)': False, 'contains(common)': False, 'contains(grime)': False, 'contains(tho)': False, 'contains(brought)': False, 'contains(tint)': False, 'contains(column)': False, 'contains(wake)': False, 'contains(allow)': False, 'contains(neck)': False, 'contains(walk)': False, 'contains(stink)': False, 'contains(windtunnel)': False, 'contains(brush)': False, 'contains(manual)': False, 'contains(requir)': False, 'contains(hepa)': False, 'contains(filter)': False, 'contains(internet)': False, 'contains(tall)': False, 'contains(front)': False, 'contains(lack)': False, 'contains(sleek)': False, 'contains(strap)': False, 'contains(underneath)': False, 'contains(prepar)': False, 'contains(abil)': False, 'contains(dead)': False, 'contains(suck)': False, 'contains(coffe)': False, 'contains(bulk)': False, 'contains(unit)': False, 'contains(terrif)': False, 'contains(game)': False, 'contains(eventu)': False, 'contains(prone)': False, 'contains(acn)': False, 'contains(process)': False, 'contains(imposs)': False, 'contains(transluc)': False, 'contains(foundat)': False, 'contains(downsid)': False, 'contains(remind)': False, 'contains(liter)': False, 'contains(juicer)': False, 'contains(frequent)': False, 'contains(milk)': False, 'contains(count)': False, 'contains(glass)': False, 'contains(learn)': False, 'contains(modern)': False, 'contains(serious)': False, 'contains(gojira)': False, 'contains(built)': False, 'contains(squeez)': False, 'contains(pump)': False, 'contains(hurri)': False, 'contains(dispos)': False, 'contains(sanitari)': False, 'contains(easiest)': False, 'contains(heart)': False, 'contains(toss)': False, 'contains(variou)': False, 'contains(convient)': False, 'contains(promis)': False, 'contains(notch)': False, 'contains(zombi)': False, 'contains(histori)': False, 'contains(contact)': False, 'contains(cooker)': False, 'contains(slow)': False, 'contains(where)': False, 'contains(keyboard)': False, 'contains(washer)': False, 'contains(six)': False, 'contains(attempt)': False, 'contains(mine)': False, 'contains(pay)': False, 'contains(protein)': False, 'contains(talk)': False, 'contains(adam)': False, 'contains(attent)': False, 'contains(length)': False, 'contains(tangl)': False, 'contains(team)': False, 'contains(breez)': False, 'contains(harder)': False, 'contains(punch)': False, 'contains(sorri)': False, 'contains(flick)': False, 'contains(axe)': False, 'contains(phoenix)': False, 'contains(residu)': False, 'contains(activ)': False, 'contains(intens)': False, 'contains(towel)': False, 'contains(crack)': False, 'contains(pair)': False, 'contains(toward)': False, 'contains(fluffi)': False, 'contains(pop)': False, 'contains(chapstick)': False, 'contains(faucet)': False, 'contains(diaz)': False, 'contains(board)': False, 'contains(cooki)': False, 'contains(bake)': False, 'contains(roll)': False, 'contains(pre)': False, 'contains(cowork)': False, 'contains(cgi)': False, 'contains(gray)': False, 'contains(depend)': False, 'contains(thumb)': False, 'contains(applianc)': False, 'contains(itch)': False, 'contains(pile)': False, 'contains(pricey)': False, 'contains(puppi)': False, 'contains(hardwood)': False, 'contains(nongreasi)': False, 'contains(plan)': False, 'contains(numer)': False, 'contains(reccomend)': False, 'contains(giant)': False, 'contains(nephew)': False, 'contains(snap)': False, 'contains(plain)': False, 'contains(understand)': False, 'contains(fridg)': False, 'contains(irrit)': False, 'contains(plum)': False, 'contains(doubt)': False, 'contains(harm)': False, 'contains(student)': False, 'contains(glow)': False, 'contains(recomend)': False, 'contains(spectacular)': False, 'contains(itchi)': False, 'contains(tight)': False, 'contains(flaki)': False, 'contains(prevent)': False, 'contains(jar)': False, 'contains(annoy)': False, 'contains(hear)': False, 'contains(freshen)': False, 'contains(task)': False, 'contains(group)': False, 'contains(anytim)': False, 'contains(introduc)': False, 'contains(greek)': False, 'contains(consist)': False, 'contains(sharp)': False, 'contains(librari)': False, 'contains(boyfriend)': False, 'contains(matthew)': False, 'contains(wide)': False, 'contains(hose)': False, 'contains(wouldv)': False, 'contains(basic)': False, 'contains(deterg)': False, 'contains(harsh)': False, 'contains(pure)': False, 'contains(rang)': False, 'contains(technolog)': False, 'contains(cap)': False, 'contains(runni)': False, 'contains(evenli)': False, 'contains(receipt)': False, 'contains(bargain)': False, 'contains(grapefruit)': False, 'contains(exampl)': False, 'contains(booster)': False, 'contains(creat)': False, 'contains(medic)': False, 'contains(list)': False, 'contains(accid)': False, 'contains(stuck)': False, 'contains(mirror)': False, 'contains(storag)': False, 'contains(tough)': False, 'contains(luv)': False, 'contains(lead)': False, 'contains(alright)': False, 'contains(father)': False, 'contains(battl)': False, 'contains(edit)': False, 'contains(research)': False, 'contains(track)': False, 'contains(firm)': False, 'contains(bright)': False, 'contains(complexion)': False, 'contains(younger)': False, 'contains(crib)': False, 'contains(miracl)': False, 'contains(cup)': False, 'contains(shelv)': False, 'contains(section)': False, 'contains(descript)': False, 'contains(higher)': False, 'contains(standard)': False, 'contains(share)': False, 'contains(greas)': False, 'contains(lint)': False, 'contains(necess)': False, 'contains(thrill)': False, 'contains(dye)': False, 'contains(load)': False, 'contains(sister)': False, 'contains(kaiju)': False, 'contains(catch)': False, 'contains(rocker)': False, 'contains(waffl)': False, 'contains(jame)': False, 'contains(ultim)': False, 'contains(chemistri)': False, 'contains(tyler)': False, 'contains(perri)': False, 'contains(grandchildren)': False, 'contains(keratin)': False, 'contains(soprano)': False, 'contains(bounc)': False, 'contains(refil)': False, 'contains(alex)': False, 'contains(cross)': False, 'contains(scum)': False, 'contains(squar)': False, 'contains(doctor)': False, 'contains(sloper)': False, 'contains(havilland)': False, 'contains(catherin)': False, 'contains(morri)': False, 'contains(rich)': False, 'contains(perhap)': False, 'contains(earlier)': False, 'contains(empti)': False, 'contains(nuclear)': False, 'contains(dad)': False, 'contains(hubbi)': False, 'contains(militari)': False, 'contains(blow)': False, 'contains(chore)': False, 'contains(hesit)': False, 'contains(term)': False, 'contains(shot)': False, 'contains(via)': False, 'contains(microwav)': False, 'contains(parent)': False, 'contains(spi)': False, 'contains(visit)': False, 'contains(healthier)': False, 'contains(chapter)': False, 'contains(iron)': False, 'contains(comfi)': False, 'contains(ador)': False, 'contains(till)': False, 'contains(success)': False, 'contains(necessari)': False, 'contains(what)': False, 'contains(caught)': False, 'contains(secret)': False, 'contains(fulli)': False, 'contains(yogurt)': False, 'contains(bounci)': False, 'contains(hotel)': False, 'contains(swipe)': False, 'contains(attract)': False, 'contains(concern)': False, 'contains(mari)': False, 'contains(brother)': False, 'contains(raunchi)': False, 'contains(whatev)': False, 'contains(besid)': False, 'contains(challeng)': False, 'contains(spong)': False, 'contains(awsom)': False, 'contains(dusti)': False, 'contains(newer)': False, 'contains(button)': False, 'contains(papaya)': False, 'contains(whiten)': False, 'contains(sheer)': False, 'contains(daycar)': False, 'contains(detangl)': False, 'contains(art)': False, 'contains(scienc)': False, 'contains(uniqu)': False, 'contains(chewi)': False, 'contains(sweat)': False, 'contains(drug)': False, 'contains(loreal)': False, 'contains(road)': False, 'contains(deodor)': False, 'contains(develop)': False, 'contains(select)': False, 'contains(soften)': False, 'contains(grew)': False, 'contains(episod)': False, 'contains(center)': False, 'contains(nourish)': False, 'contains(maintain)': False, 'contains(freak)': False, 'contains(obsess)': False, 'contains(complain)': False, 'contains(tini)': False, 'contains(win)': False, 'contains(phenomen)': False, 'contains(limit)': False, 'contains(websit)': False, 'contains(virus)': False, 'contains(granddaught)': False, 'contains(flawless)': False, 'contains(lavend)': False, 'contains(primarili)': False, 'contains(televis)': False, 'contains(transfer)': False, 'contains(stiff)': False, 'contains(thu)': False, 'contains(mixtur)': False, 'contains(rip)': False, 'contains(ladi)': False, 'contains(forc)': False, 'contains(fiction)': False, 'contains(picki)': False, 'contains(choos)': False, 'contains(earth)': False, 'contains(meant)': False, 'contains(minor)': False, 'contains(drop)': False, 'contains(toothach)': False, 'contains(correct)': False, 'contains(subtl)': False, 'contains(focu)': False, 'contains(duti)': False, 'contains(extend)': False, 'contains(dermatologist)': False, 'contains(sweet)': False, 'contains(tooth)': False, 'contains(divideitup)': False, 'contains(wax)': False, 'contains(reduc)': False, 'contains(sushi)': False, 'contains(killer)': False, 'contains(wehani)': False, 'contains(usag)': False, 'contains(birthday)': False, 'contains(fireplac)': False, 'contains(wind)': False, 'contains(lid)': False, 'contains(clorax)': False, 'contains(greatli)': False, 'contains(drawer)': False, 'contains(shimmeri)': False, 'contains(sprayer)': False, 'contains(lizard)': False, 'contains(grandkid)': False, 'contains(crisp)': False, 'contains(lunch)': False, 'contains(dispens)': False, 'contains(freeman)': False, 'contains(adapt)': False, 'contains(bucket)': False, 'contains(sooo)': False, 'contains(audio)': False, 'contains(poorli)': False, 'contains(teeth)': False, 'contains(bowl)': False, 'contains(burton)': False, 'contains(orajel)': False, 'contains(nacho)': False, 'contains(teen)': False, 'contains(disenfect)': False, 'contains(posit)': False, 'contains(download)': False, 'contains(hospit)': False, 'contains(puff)': False, 'contains(memori)': False, 'contains(former)': False, 'contains(cherri)': False, 'contains(salad)': False, 'contains(everytim)': False, 'contains(hole)': False, 'contains(grate)': False, 'contains(knot)': False, 'contains(mint)': False, 'contains(post)': False, 'contains(desir)': False, 'contains(expert)': False, 'contains(ice)': False, 'contains(truck)': False, 'contains(properti)': False, 'contains(trial)': False, 'contains(nexu)': False, 'contains(beig)': False, 'contains(batch)': False, 'contains(breakag)': False, 'contains(prov)': False, 'contains(agedefi)': False, 'contains(crispi)': False}, 1), ...]\n"
          ],
          "name": "stdout"
        }
      ]
    },
    {
      "cell_type": "code",
      "metadata": {
        "id": "_XBSezp6DIA8",
        "colab": {
          "base_uri": "https://localhost:8080/"
        },
        "outputId": "b4203cbc-36c7-4d32-d7d5-c3f2adbe3504"
      },
      "source": [
        "print('Training set size : ', len(training_set))\n",
        "print('Test set size : ', len(testing_set))"
      ],
      "id": "_XBSezp6DIA8",
      "execution_count": 93,
      "outputs": [
        {
          "output_type": "stream",
          "text": [
            "Training set size :  23999\n",
            "Test set size :  6000\n"
          ],
          "name": "stdout"
        }
      ]
    },
    {
      "cell_type": "markdown",
      "metadata": {
        "id": "jAQ6IUD6EiZP"
      },
      "source": [
        "### Training"
      ],
      "id": "jAQ6IUD6EiZP"
    },
    {
      "cell_type": "code",
      "metadata": {
        "id": "agdDwl7_DH7g"
      },
      "source": [
        "## Training the classifier with NaiveBayes algorithm\n",
        "reviewsClassifier = nltk.NaiveBayesClassifier.train(training_set)"
      ],
      "id": "agdDwl7_DH7g",
      "execution_count": 94,
      "outputs": []
    },
    {
      "cell_type": "markdown",
      "metadata": {
        "id": "jXjTajDMEzAC"
      },
      "source": [
        "### Evaluation"
      ],
      "id": "jXjTajDMEzAC"
    },
    {
      "cell_type": "code",
      "metadata": {
        "id": "DuBhncVGdSci",
        "colab": {
          "base_uri": "https://localhost:8080/"
        },
        "outputId": "4b0fa1f0-a0b5-4765-a196-acea9847e085"
      },
      "source": [
        "## - Analyzing the accuracy of the test set\n",
        "print(nltk.classify.accuracy(reviewsClassifier, training_set))"
      ],
      "id": "DuBhncVGdSci",
      "execution_count": 95,
      "outputs": [
        {
          "output_type": "stream",
          "text": [
            "0.8887453643901829\n"
          ],
          "name": "stdout"
        }
      ]
    },
    {
      "cell_type": "code",
      "metadata": {
        "id": "EexfCaKKdSXo",
        "colab": {
          "base_uri": "https://localhost:8080/"
        },
        "outputId": "b9543563-25f1-42f1-c3e5-e6eb3e7a9781"
      },
      "source": [
        "## Analyzing the accuracy of the test set\n",
        "print(nltk.classify.accuracy(reviewsClassifier, testing_set))"
      ],
      "id": "EexfCaKKdSXo",
      "execution_count": 96,
      "outputs": [
        {
          "output_type": "stream",
          "text": [
            "0.879\n"
          ],
          "name": "stdout"
        }
      ]
    },
    {
      "cell_type": "code",
      "metadata": {
        "id": "qFoGSXG8dSSh",
        "colab": {
          "base_uri": "https://localhost:8080/"
        },
        "outputId": "1c205809-dc0d-4695-89d6-b59fb36bbc8a"
      },
      "source": [
        "print(reviewsClassifier.show_most_informative_features(10))"
      ],
      "id": "qFoGSXG8dSSh",
      "execution_count": 97,
      "outputs": [
        {
          "output_type": "stream",
          "text": [
            "Most Informative Features\n",
            "         contains(stink) = True                0 : 1      =     17.9 : 1.0\n",
            "         contains(worst) = True                0 : 1      =     12.6 : 1.0\n",
            "       contains(terribl) = True                0 : 1      =     11.3 : 1.0\n",
            "       contains(horribl) = True                0 : 1      =     11.1 : 1.0\n",
            "       contains(opinion) = True                1 : 0      =     10.2 : 1.0\n",
            "        contains(stupid) = True                0 : 1      =      9.9 : 1.0\n",
            "       contains(unhappi) = True                0 : 1      =      9.5 : 1.0\n",
            "        contains(mistak) = True                0 : 1      =      8.3 : 1.0\n",
            "          contains(ruin) = True                0 : 1      =      7.8 : 1.0\n",
            "         contains(nasti) = True                0 : 1      =      7.4 : 1.0\n",
            "None\n"
          ],
          "name": "stdout"
        }
      ]
    },
    {
      "cell_type": "markdown",
      "metadata": {
        "id": "qglnYwYCyMAl"
      },
      "source": [
        "## Random forest classifier"
      ],
      "id": "qglnYwYCyMAl"
    },
    {
      "cell_type": "markdown",
      "metadata": {
        "id": "-OGHbg1u6F7c"
      },
      "source": [
        "### BOW Model"
      ],
      "id": "-OGHbg1u6F7c"
    },
    {
      "cell_type": "code",
      "metadata": {
        "id": "l392rbNrScvB"
      },
      "source": [
        "rf_bw = RandomForestClassifier(random_state=42\n",
        "                                   , n_jobs=-1\n",
        "                                   , max_depth=30\n",
        "                                   , min_samples_leaf=100)"
      ],
      "id": "l392rbNrScvB",
      "execution_count": 98,
      "outputs": []
    },
    {
      "cell_type": "code",
      "metadata": {
        "id": "Jc_4YVzLdSIo",
        "colab": {
          "base_uri": "https://localhost:8080/"
        },
        "outputId": "659988f6-ca37-43bc-f0e6-1cf9ef622ed6"
      },
      "source": [
        "# Fitting the pca on train data\n",
        "rf_bw.fit(x_train_bw_sm, y_train_bw_sm)"
      ],
      "id": "Jc_4YVzLdSIo",
      "execution_count": 99,
      "outputs": [
        {
          "output_type": "execute_result",
          "data": {
            "text/plain": [
              "RandomForestClassifier(bootstrap=True, ccp_alpha=0.0, class_weight=None,\n",
              "                       criterion='gini', max_depth=30, max_features='auto',\n",
              "                       max_leaf_nodes=None, max_samples=None,\n",
              "                       min_impurity_decrease=0.0, min_impurity_split=None,\n",
              "                       min_samples_leaf=100, min_samples_split=2,\n",
              "                       min_weight_fraction_leaf=0.0, n_estimators=100,\n",
              "                       n_jobs=-1, oob_score=False, random_state=42, verbose=0,\n",
              "                       warm_start=False)"
            ]
          },
          "metadata": {
            "tags": []
          },
          "execution_count": 99
        }
      ]
    },
    {
      "cell_type": "code",
      "metadata": {
        "id": "3nfa8qfMdSDG"
      },
      "source": [
        "# Predicting the train and test\n",
        "y_train_bw_sm_pred = rf_bw.predict(x_train_bw_sm)\n",
        "y_test_bw_pred = rf_bw.predict(X_test_bw)"
      ],
      "id": "3nfa8qfMdSDG",
      "execution_count": 100,
      "outputs": []
    },
    {
      "cell_type": "markdown",
      "metadata": {
        "id": "eUws-A-iBCfo"
      },
      "source": [
        "Model performance on train data"
      ],
      "id": "eUws-A-iBCfo"
    },
    {
      "cell_type": "code",
      "metadata": {
        "id": "J2YlAvHidR-A",
        "colab": {
          "base_uri": "https://localhost:8080/"
        },
        "outputId": "cb9f8cb7-abc3-4860-9dfb-38af3a63cecd"
      },
      "source": [
        "model_performance(y_train_bw_sm,y_train_bw_sm_pred)"
      ],
      "id": "J2YlAvHidR-A",
      "execution_count": 101,
      "outputs": [
        {
          "output_type": "stream",
          "text": [
            "Accuracy score : 0.88\n",
            "Precision      : 0.87\n",
            "Recall         : 0.90\n",
            "F1 score       : 0.88\n"
          ],
          "name": "stdout"
        }
      ]
    },
    {
      "cell_type": "markdown",
      "metadata": {
        "id": "9F0N8dkFBFQj"
      },
      "source": [
        "Model performance on test data"
      ],
      "id": "9F0N8dkFBFQj"
    },
    {
      "cell_type": "code",
      "metadata": {
        "id": "UYm_ohs-dR3l",
        "colab": {
          "base_uri": "https://localhost:8080/"
        },
        "outputId": "17f580d0-a916-4bba-81b6-bb21152d472d"
      },
      "source": [
        "model_performance(y_test_bw,y_test_bw_pred,True,'Random forest classifier','BoW')"
      ],
      "id": "UYm_ohs-dR3l",
      "execution_count": 102,
      "outputs": [
        {
          "output_type": "stream",
          "text": [
            "Accuracy score : 0.85\n",
            "Precision      : 0.93\n",
            "Recall         : 0.89\n",
            "F1 score       : 0.91\n"
          ],
          "name": "stdout"
        }
      ]
    },
    {
      "cell_type": "markdown",
      "metadata": {
        "id": "ZQtjw4-g6PUZ"
      },
      "source": [
        "### TF-IDF model"
      ],
      "id": "ZQtjw4-g6PUZ"
    },
    {
      "cell_type": "code",
      "metadata": {
        "id": "6Zv0jWya6OLV"
      },
      "source": [
        "rf_tf = RandomForestClassifier(random_state=42\n",
        "                               , n_jobs=-1\n",
        "                               , max_depth=30\n",
        "                               , min_samples_leaf=100)"
      ],
      "id": "6Zv0jWya6OLV",
      "execution_count": 103,
      "outputs": []
    },
    {
      "cell_type": "code",
      "metadata": {
        "id": "nybJEReV6OLW",
        "colab": {
          "base_uri": "https://localhost:8080/"
        },
        "outputId": "f11f700a-2abc-4d93-b7a0-26ad3aeb2511"
      },
      "source": [
        "rf_tf.fit(x_train_tf_sm, y_train_tf_sm)"
      ],
      "id": "nybJEReV6OLW",
      "execution_count": 104,
      "outputs": [
        {
          "output_type": "execute_result",
          "data": {
            "text/plain": [
              "RandomForestClassifier(bootstrap=True, ccp_alpha=0.0, class_weight=None,\n",
              "                       criterion='gini', max_depth=30, max_features='auto',\n",
              "                       max_leaf_nodes=None, max_samples=None,\n",
              "                       min_impurity_decrease=0.0, min_impurity_split=None,\n",
              "                       min_samples_leaf=100, min_samples_split=2,\n",
              "                       min_weight_fraction_leaf=0.0, n_estimators=100,\n",
              "                       n_jobs=-1, oob_score=False, random_state=42, verbose=0,\n",
              "                       warm_start=False)"
            ]
          },
          "metadata": {
            "tags": []
          },
          "execution_count": 104
        }
      ]
    },
    {
      "cell_type": "code",
      "metadata": {
        "id": "jhTvtiXx6OLX"
      },
      "source": [
        "# Predicting the train and test\n",
        "y_train_tf_sm_pred = rf_tf.predict(x_train_tf_sm)\n",
        "y_test_tf_pred = rf_tf.predict(X_test_tf)"
      ],
      "id": "jhTvtiXx6OLX",
      "execution_count": 105,
      "outputs": []
    },
    {
      "cell_type": "markdown",
      "metadata": {
        "id": "SsKvDtBYUTh3"
      },
      "source": [
        "Model performance on train data"
      ],
      "id": "SsKvDtBYUTh3"
    },
    {
      "cell_type": "code",
      "metadata": {
        "id": "QhZNZfX_6OLX",
        "colab": {
          "base_uri": "https://localhost:8080/"
        },
        "outputId": "254208c2-fff9-4152-be37-ce147a11f416"
      },
      "source": [
        "model_performance(y_train_tf_sm_pred,y_train_tf_sm)"
      ],
      "id": "QhZNZfX_6OLX",
      "execution_count": 106,
      "outputs": [
        {
          "output_type": "stream",
          "text": [
            "Accuracy score : 0.83\n",
            "Precision      : 0.84\n",
            "Recall         : 0.82\n",
            "F1 score       : 0.83\n"
          ],
          "name": "stdout"
        }
      ]
    },
    {
      "cell_type": "markdown",
      "metadata": {
        "id": "eCEKOJLxUOFc"
      },
      "source": [
        "Model performance on test data"
      ],
      "id": "eCEKOJLxUOFc"
    },
    {
      "cell_type": "code",
      "metadata": {
        "id": "rhvzL-_d6OLX",
        "colab": {
          "base_uri": "https://localhost:8080/"
        },
        "outputId": "1b4804af-6942-41c8-efda-99c7a8ca0c86"
      },
      "source": [
        "model_performance(y_test_tf_pred,y_test_tf,True,'Random forest classifier','TF-IDF')"
      ],
      "id": "rhvzL-_d6OLX",
      "execution_count": 107,
      "outputs": [
        {
          "output_type": "stream",
          "text": [
            "Accuracy score : 0.81\n",
            "Precision      : 0.83\n",
            "Recall         : 0.95\n",
            "F1 score       : 0.88\n"
          ],
          "name": "stdout"
        }
      ]
    },
    {
      "cell_type": "code",
      "metadata": {
        "id": "GTLk3Niv6-4c",
        "colab": {
          "base_uri": "https://localhost:8080/",
          "height": 235
        },
        "outputId": "8a05cb46-afb1-429d-caab-7aa6f7355aea"
      },
      "source": [
        "performance"
      ],
      "id": "GTLk3Niv6-4c",
      "execution_count": 108,
      "outputs": [
        {
          "output_type": "execute_result",
          "data": {
            "text/html": [
              "<div>\n",
              "<style scoped>\n",
              "    .dataframe tbody tr th:only-of-type {\n",
              "        vertical-align: middle;\n",
              "    }\n",
              "\n",
              "    .dataframe tbody tr th {\n",
              "        vertical-align: top;\n",
              "    }\n",
              "\n",
              "    .dataframe thead th {\n",
              "        text-align: right;\n",
              "    }\n",
              "</style>\n",
              "<table border=\"1\" class=\"dataframe\">\n",
              "  <thead>\n",
              "    <tr style=\"text-align: right;\">\n",
              "      <th></th>\n",
              "      <th>Model</th>\n",
              "      <th>Feature vectors</th>\n",
              "      <th>Sampling method</th>\n",
              "      <th>Accuracy</th>\n",
              "      <th>Precision</th>\n",
              "      <th>Recall</th>\n",
              "      <th>F1-Score</th>\n",
              "    </tr>\n",
              "  </thead>\n",
              "  <tbody>\n",
              "    <tr>\n",
              "      <th>0</th>\n",
              "      <td>Logistic Regression</td>\n",
              "      <td>BoW</td>\n",
              "      <td>Smote</td>\n",
              "      <td>0.89</td>\n",
              "      <td>0.95</td>\n",
              "      <td>0.92</td>\n",
              "      <td>0.94</td>\n",
              "    </tr>\n",
              "    <tr>\n",
              "      <th>1</th>\n",
              "      <td>Logistic Regression</td>\n",
              "      <td>BoW</td>\n",
              "      <td>Random Over Sampling</td>\n",
              "      <td>0.87</td>\n",
              "      <td>0.88</td>\n",
              "      <td>0.97</td>\n",
              "      <td>0.92</td>\n",
              "    </tr>\n",
              "    <tr>\n",
              "      <th>2</th>\n",
              "      <td>Logistic Regression</td>\n",
              "      <td>TF-IDF</td>\n",
              "      <td>Smote</td>\n",
              "      <td>0.85</td>\n",
              "      <td>0.97</td>\n",
              "      <td>0.86</td>\n",
              "      <td>0.91</td>\n",
              "    </tr>\n",
              "    <tr>\n",
              "      <th>3</th>\n",
              "      <td>Logistic Regression</td>\n",
              "      <td>TF-IDF</td>\n",
              "      <td>Random OverSampling</td>\n",
              "      <td>0.85</td>\n",
              "      <td>0.97</td>\n",
              "      <td>0.85</td>\n",
              "      <td>0.91</td>\n",
              "    </tr>\n",
              "    <tr>\n",
              "      <th>4</th>\n",
              "      <td>Random forest classifier</td>\n",
              "      <td>BoW</td>\n",
              "      <td>Smote</td>\n",
              "      <td>0.85</td>\n",
              "      <td>0.93</td>\n",
              "      <td>0.89</td>\n",
              "      <td>0.91</td>\n",
              "    </tr>\n",
              "    <tr>\n",
              "      <th>5</th>\n",
              "      <td>Random forest classifier</td>\n",
              "      <td>TF-IDF</td>\n",
              "      <td>Smote</td>\n",
              "      <td>0.81</td>\n",
              "      <td>0.83</td>\n",
              "      <td>0.95</td>\n",
              "      <td>0.88</td>\n",
              "    </tr>\n",
              "  </tbody>\n",
              "</table>\n",
              "</div>"
            ],
            "text/plain": [
              "                      Model Feature vectors  ... Recall F1-Score\n",
              "0       Logistic Regression             BoW  ...   0.92     0.94\n",
              "1       Logistic Regression             BoW  ...   0.97     0.92\n",
              "2       Logistic Regression          TF-IDF  ...   0.86     0.91\n",
              "3       Logistic Regression          TF-IDF  ...   0.85     0.91\n",
              "4  Random forest classifier             BoW  ...   0.89     0.91\n",
              "5  Random forest classifier          TF-IDF  ...   0.95     0.88\n",
              "\n",
              "[6 rows x 7 columns]"
            ]
          },
          "metadata": {
            "tags": []
          },
          "execution_count": 108
        }
      ]
    },
    {
      "cell_type": "markdown",
      "metadata": {
        "id": "CtekIcpw82WI"
      },
      "source": [
        "## GridSearchCV on Random Forrest"
      ],
      "id": "CtekIcpw82WI"
    },
    {
      "cell_type": "markdown",
      "metadata": {
        "id": "4sqnNmN29BZW"
      },
      "source": [
        "### BOW model"
      ],
      "id": "4sqnNmN29BZW"
    },
    {
      "cell_type": "code",
      "metadata": {
        "id": "ueoNrFRg8-P4"
      },
      "source": [
        "rf_bw = RandomForestClassifier(random_state=42, n_jobs=-1)"
      ],
      "id": "ueoNrFRg8-P4",
      "execution_count": 110,
      "outputs": []
    },
    {
      "cell_type": "code",
      "metadata": {
        "id": "duMXVTUb9McX"
      },
      "source": [
        "# Initialising the parameters\n",
        "# Refined these parameters after iterating with multive values\n",
        "params = {\n",
        "    'max_depth': [150,175,200],\n",
        "    'min_samples_leaf': [5,10,20],\n",
        "    'n_estimators': [80,100,125]\n",
        "}"
      ],
      "id": "duMXVTUb9McX",
      "execution_count": 111,
      "outputs": []
    },
    {
      "cell_type": "code",
      "metadata": {
        "id": "cSlGh77d9Mre"
      },
      "source": [
        "# Running the gridsearch cv with estimator as rf_pca \n",
        "random_search = RandomizedSearchCV(estimator=rf_bw\n",
        "                           ,param_distributions =params\n",
        "                           ,cv      = 5\n",
        "                           ,n_jobs  = -1\n",
        "                           ,verbose = 10\n",
        "                           ,scoring = 'recall'\n",
        "                           ,n_iter  = 10\n",
        "                           ,refit   = True\n",
        "                           )"
      ],
      "id": "cSlGh77d9Mre",
      "execution_count": 112,
      "outputs": []
    },
    {
      "cell_type": "code",
      "metadata": {
        "id": "Neq7GyP-9MvQ",
        "colab": {
          "base_uri": "https://localhost:8080/"
        },
        "outputId": "8f1ce584-726e-4cd9-b95e-a019343e3e16"
      },
      "source": [
        "# Fitting the train on the gridsearch \n",
        "random_search.fit(x_train_bw_sm, y_train_bw_sm)"
      ],
      "id": "Neq7GyP-9MvQ",
      "execution_count": 113,
      "outputs": [
        {
          "output_type": "stream",
          "text": [
            "Fitting 5 folds for each of 10 candidates, totalling 50 fits\n"
          ],
          "name": "stdout"
        },
        {
          "output_type": "stream",
          "text": [
            "[Parallel(n_jobs=-1)]: Using backend LokyBackend with 2 concurrent workers.\n",
            "[Parallel(n_jobs=-1)]: Done   1 tasks      | elapsed:    8.6s\n",
            "[Parallel(n_jobs=-1)]: Done   4 tasks      | elapsed:   17.3s\n",
            "[Parallel(n_jobs=-1)]: Done   9 tasks      | elapsed:   43.2s\n",
            "[Parallel(n_jobs=-1)]: Done  14 tasks      | elapsed:   59.2s\n",
            "[Parallel(n_jobs=-1)]: Done  21 tasks      | elapsed:  1.3min\n",
            "[Parallel(n_jobs=-1)]: Done  28 tasks      | elapsed:  1.7min\n",
            "[Parallel(n_jobs=-1)]: Done  37 tasks      | elapsed:  2.3min\n",
            "[Parallel(n_jobs=-1)]: Done  46 tasks      | elapsed:  3.0min\n",
            "[Parallel(n_jobs=-1)]: Done  50 out of  50 | elapsed:  3.1min finished\n"
          ],
          "name": "stderr"
        },
        {
          "output_type": "execute_result",
          "data": {
            "text/plain": [
              "RandomizedSearchCV(cv=5, error_score=nan,\n",
              "                   estimator=RandomForestClassifier(bootstrap=True,\n",
              "                                                    ccp_alpha=0.0,\n",
              "                                                    class_weight=None,\n",
              "                                                    criterion='gini',\n",
              "                                                    max_depth=None,\n",
              "                                                    max_features='auto',\n",
              "                                                    max_leaf_nodes=None,\n",
              "                                                    max_samples=None,\n",
              "                                                    min_impurity_decrease=0.0,\n",
              "                                                    min_impurity_split=None,\n",
              "                                                    min_samples_leaf=1,\n",
              "                                                    min_samples_split=2,\n",
              "                                                    min_weight_fraction_leaf=0.0,\n",
              "                                                    n_estimators=100, n_jobs=-1,\n",
              "                                                    oob_score=False,\n",
              "                                                    random_state=42, verbose=0,\n",
              "                                                    warm_start=False),\n",
              "                   iid='deprecated', n_iter=10, n_jobs=-1,\n",
              "                   param_distributions={'max_depth': [150, 175, 200],\n",
              "                                        'min_samples_leaf': [5, 10, 20],\n",
              "                                        'n_estimators': [80, 100, 125]},\n",
              "                   pre_dispatch='2*n_jobs', random_state=None, refit=True,\n",
              "                   return_train_score=False, scoring='recall', verbose=10)"
            ]
          },
          "metadata": {
            "tags": []
          },
          "execution_count": 113
        }
      ]
    },
    {
      "cell_type": "code",
      "metadata": {
        "id": "0fS06WuNEauV",
        "colab": {
          "base_uri": "https://localhost:8080/"
        },
        "outputId": "e77bdab2-7c01-4f41-c7bd-d3e96cbd34b9"
      },
      "source": [
        "print(random_search.best_params_)\n",
        "print(random_search.best_score_)\n",
        "print(random_search.best_estimator_)\n",
        "rs_bw_best = random_search.best_estimator_"
      ],
      "id": "0fS06WuNEauV",
      "execution_count": 114,
      "outputs": [
        {
          "output_type": "stream",
          "text": [
            "{'n_estimators': 100, 'min_samples_leaf': 5, 'max_depth': 175}\n",
            "0.9508566064304154\n",
            "RandomForestClassifier(bootstrap=True, ccp_alpha=0.0, class_weight=None,\n",
            "                       criterion='gini', max_depth=175, max_features='auto',\n",
            "                       max_leaf_nodes=None, max_samples=None,\n",
            "                       min_impurity_decrease=0.0, min_impurity_split=None,\n",
            "                       min_samples_leaf=5, min_samples_split=2,\n",
            "                       min_weight_fraction_leaf=0.0, n_estimators=100,\n",
            "                       n_jobs=-1, oob_score=False, random_state=42, verbose=0,\n",
            "                       warm_start=False)\n"
          ],
          "name": "stdout"
        }
      ]
    },
    {
      "cell_type": "code",
      "metadata": {
        "id": "d7Qs4WIu9MyW"
      },
      "source": [
        "# Predicting the train and test\n",
        "y_train_bw_sm_pred = rs_bw_best.predict(x_train_bw_sm)\n",
        "y_test_bw_pred = rs_bw_best.predict(X_test_bw)"
      ],
      "id": "d7Qs4WIu9MyW",
      "execution_count": 115,
      "outputs": []
    },
    {
      "cell_type": "markdown",
      "metadata": {
        "id": "ZOtPEzLRVS1r"
      },
      "source": [
        "Model performance on train data"
      ],
      "id": "ZOtPEzLRVS1r"
    },
    {
      "cell_type": "code",
      "metadata": {
        "id": "5r_yI3TV9-6A",
        "colab": {
          "base_uri": "https://localhost:8080/"
        },
        "outputId": "e4970255-4318-46e0-c8d5-4c36534afe8d"
      },
      "source": [
        "model_performance(y_train_bw_sm, y_train_bw_sm_pred)"
      ],
      "id": "5r_yI3TV9-6A",
      "execution_count": 116,
      "outputs": [
        {
          "output_type": "stream",
          "text": [
            "Accuracy score : 0.93\n",
            "Precision      : 0.90\n",
            "Recall         : 0.96\n",
            "F1 score       : 0.93\n"
          ],
          "name": "stdout"
        }
      ]
    },
    {
      "cell_type": "markdown",
      "metadata": {
        "id": "IhO_AdCQVT3T"
      },
      "source": [
        "Model performance on test data"
      ],
      "id": "IhO_AdCQVT3T"
    },
    {
      "cell_type": "code",
      "metadata": {
        "id": "fropponZ9-6U",
        "colab": {
          "base_uri": "https://localhost:8080/"
        },
        "outputId": "10765254-cbfe-4e01-a774-cc573977b175"
      },
      "source": [
        "model_performance(y_test_bw,y_test_bw_pred,True,'Random forest classifier (tuned hyper-parameters)','BoW')"
      ],
      "id": "fropponZ9-6U",
      "execution_count": 117,
      "outputs": [
        {
          "output_type": "stream",
          "text": [
            "Accuracy score : 0.89\n",
            "Precision      : 0.93\n",
            "Recall         : 0.95\n",
            "F1 score       : 0.94\n"
          ],
          "name": "stdout"
        }
      ]
    },
    {
      "cell_type": "markdown",
      "metadata": {
        "id": "wKRc_iv9jnNo"
      },
      "source": [
        "### TF-IDF model"
      ],
      "id": "wKRc_iv9jnNo"
    },
    {
      "cell_type": "code",
      "metadata": {
        "id": "MkN4TdqwjnN4"
      },
      "source": [
        "rf_tf = RandomForestClassifier(random_state=42, n_jobs=-1)"
      ],
      "id": "MkN4TdqwjnN4",
      "execution_count": 118,
      "outputs": []
    },
    {
      "cell_type": "code",
      "metadata": {
        "id": "hP_ucpAxjnN6"
      },
      "source": [
        "# Initialising the parameters\n",
        "# Refined these parameters after iterating with multive values\n",
        "params = {\n",
        "    'max_depth': [180,200,220],\n",
        "    'min_samples_leaf': [5],\n",
        "    'n_estimators': [180,200,220]\n",
        "}"
      ],
      "id": "hP_ucpAxjnN6",
      "execution_count": 119,
      "outputs": []
    },
    {
      "cell_type": "code",
      "metadata": {
        "id": "JpxvldeGjnN8"
      },
      "source": [
        "# Running the gridsearch cv with estimator as rf_pca \n",
        "random_search = RandomizedSearchCV(estimator=rf_bw\n",
        "                           ,param_distributions =params\n",
        "                           ,cv      = 5\n",
        "                           ,n_jobs  = -1    \n",
        "                           ,verbose = 10\n",
        "                           ,scoring = 'recall'\n",
        "                           ,n_iter  = 5\n",
        "                           ,refit   = True\n",
        "                           )"
      ],
      "id": "JpxvldeGjnN8",
      "execution_count": 120,
      "outputs": []
    },
    {
      "cell_type": "code",
      "metadata": {
        "id": "0cTgF9FGjnN9",
        "colab": {
          "base_uri": "https://localhost:8080/"
        },
        "outputId": "b05cbd6d-aafb-4c2e-ca91-32fa73ffddb7"
      },
      "source": [
        "# Fitting the train on the gridsearch \n",
        "random_search.fit(x_train_tf_sm, y_train_tf_sm)"
      ],
      "id": "0cTgF9FGjnN9",
      "execution_count": 121,
      "outputs": [
        {
          "output_type": "stream",
          "text": [
            "Fitting 5 folds for each of 5 candidates, totalling 25 fits\n"
          ],
          "name": "stdout"
        },
        {
          "output_type": "stream",
          "text": [
            "[Parallel(n_jobs=-1)]: Using backend LokyBackend with 2 concurrent workers.\n",
            "[Parallel(n_jobs=-1)]: Done   1 tasks      | elapsed:  2.1min\n",
            "[Parallel(n_jobs=-1)]: Done   4 tasks      | elapsed:  4.5min\n",
            "[Parallel(n_jobs=-1)]: Done   9 tasks      | elapsed: 11.2min\n",
            "[Parallel(n_jobs=-1)]: Done  14 tasks      | elapsed: 16.8min\n",
            "[Parallel(n_jobs=-1)]: Done  21 tasks      | elapsed: 26.2min\n",
            "[Parallel(n_jobs=-1)]: Done  25 out of  25 | elapsed: 30.0min remaining:    0.0s\n",
            "[Parallel(n_jobs=-1)]: Done  25 out of  25 | elapsed: 30.0min finished\n"
          ],
          "name": "stderr"
        },
        {
          "output_type": "execute_result",
          "data": {
            "text/plain": [
              "RandomizedSearchCV(cv=5, error_score=nan,\n",
              "                   estimator=RandomForestClassifier(bootstrap=True,\n",
              "                                                    ccp_alpha=0.0,\n",
              "                                                    class_weight=None,\n",
              "                                                    criterion='gini',\n",
              "                                                    max_depth=None,\n",
              "                                                    max_features='auto',\n",
              "                                                    max_leaf_nodes=None,\n",
              "                                                    max_samples=None,\n",
              "                                                    min_impurity_decrease=0.0,\n",
              "                                                    min_impurity_split=None,\n",
              "                                                    min_samples_leaf=1,\n",
              "                                                    min_samples_split=2,\n",
              "                                                    min_weight_fraction_leaf=0.0,\n",
              "                                                    n_estimators=100, n_jobs=-1,\n",
              "                                                    oob_score=False,\n",
              "                                                    random_state=42, verbose=0,\n",
              "                                                    warm_start=False),\n",
              "                   iid='deprecated', n_iter=5, n_jobs=-1,\n",
              "                   param_distributions={'max_depth': [180, 200, 220],\n",
              "                                        'min_samples_leaf': [5],\n",
              "                                        'n_estimators': [180, 200, 220]},\n",
              "                   pre_dispatch='2*n_jobs', random_state=None, refit=True,\n",
              "                   return_train_score=False, scoring='recall', verbose=10)"
            ]
          },
          "metadata": {
            "tags": []
          },
          "execution_count": 121
        }
      ]
    },
    {
      "cell_type": "code",
      "metadata": {
        "id": "-Vi36FDAjnOA",
        "colab": {
          "base_uri": "https://localhost:8080/"
        },
        "outputId": "182d0568-3c57-4841-f3a4-83f973dd7f37"
      },
      "source": [
        "print(random_search.best_params_)\n",
        "print(random_search.best_score_)\n",
        "print(random_search.best_estimator_)\n",
        "rs_tf_best = random_search.best_estimator_"
      ],
      "id": "-Vi36FDAjnOA",
      "execution_count": 122,
      "outputs": [
        {
          "output_type": "stream",
          "text": [
            "{'n_estimators': 200, 'min_samples_leaf': 5, 'max_depth': 180}\n",
            "0.9166392865524525\n",
            "RandomForestClassifier(bootstrap=True, ccp_alpha=0.0, class_weight=None,\n",
            "                       criterion='gini', max_depth=180, max_features='auto',\n",
            "                       max_leaf_nodes=None, max_samples=None,\n",
            "                       min_impurity_decrease=0.0, min_impurity_split=None,\n",
            "                       min_samples_leaf=5, min_samples_split=2,\n",
            "                       min_weight_fraction_leaf=0.0, n_estimators=200,\n",
            "                       n_jobs=-1, oob_score=False, random_state=42, verbose=0,\n",
            "                       warm_start=False)\n"
          ],
          "name": "stdout"
        }
      ]
    },
    {
      "cell_type": "code",
      "metadata": {
        "id": "vRBBB7oPjnOC"
      },
      "source": [
        "# Predicting the train and test\n",
        "y_train_tf_sm_pred = rs_tf_best.predict(x_train_tf_sm)\n",
        "y_test_tf_pred = rs_tf_best.predict(X_test_tf)"
      ],
      "id": "vRBBB7oPjnOC",
      "execution_count": 123,
      "outputs": []
    },
    {
      "cell_type": "markdown",
      "metadata": {
        "id": "DaSzP7rOVZWd"
      },
      "source": [
        "Model performance on train data"
      ],
      "id": "DaSzP7rOVZWd"
    },
    {
      "cell_type": "code",
      "metadata": {
        "id": "LtWa_jmQjnOD",
        "colab": {
          "base_uri": "https://localhost:8080/"
        },
        "outputId": "51d4195a-33b6-479f-fcef-862729408a23"
      },
      "source": [
        "model_performance(y_train_tf_sm, y_train_tf_sm_pred)"
      ],
      "id": "LtWa_jmQjnOD",
      "execution_count": 124,
      "outputs": [
        {
          "output_type": "stream",
          "text": [
            "Accuracy score : 0.96\n",
            "Precision      : 0.96\n",
            "Recall         : 0.96\n",
            "F1 score       : 0.96\n"
          ],
          "name": "stdout"
        }
      ]
    },
    {
      "cell_type": "markdown",
      "metadata": {
        "id": "4ipCHjpUVaZs"
      },
      "source": [
        "Model performance on test data"
      ],
      "id": "4ipCHjpUVaZs"
    },
    {
      "cell_type": "code",
      "metadata": {
        "id": "qLNkUDhgjnOE",
        "colab": {
          "base_uri": "https://localhost:8080/"
        },
        "outputId": "b43e57f5-fdda-4854-8e70-05aafefd2ea4"
      },
      "source": [
        "model_performance(y_test_tf,y_test_tf_pred,True,'Random forest classifier (tuned hyper-parameters)','TF-IDF')"
      ],
      "id": "qLNkUDhgjnOE",
      "execution_count": 125,
      "outputs": [
        {
          "output_type": "stream",
          "text": [
            "Accuracy score : 0.88\n",
            "Precision      : 0.94\n",
            "Recall         : 0.92\n",
            "F1 score       : 0.93\n"
          ],
          "name": "stdout"
        }
      ]
    },
    {
      "cell_type": "code",
      "metadata": {
        "id": "NidoNMOA9NDj",
        "colab": {
          "base_uri": "https://localhost:8080/",
          "height": 382
        },
        "outputId": "76c601d6-3acd-4a57-e177-922871248a05"
      },
      "source": [
        "performance"
      ],
      "id": "NidoNMOA9NDj",
      "execution_count": 126,
      "outputs": [
        {
          "output_type": "execute_result",
          "data": {
            "text/html": [
              "<div>\n",
              "<style scoped>\n",
              "    .dataframe tbody tr th:only-of-type {\n",
              "        vertical-align: middle;\n",
              "    }\n",
              "\n",
              "    .dataframe tbody tr th {\n",
              "        vertical-align: top;\n",
              "    }\n",
              "\n",
              "    .dataframe thead th {\n",
              "        text-align: right;\n",
              "    }\n",
              "</style>\n",
              "<table border=\"1\" class=\"dataframe\">\n",
              "  <thead>\n",
              "    <tr style=\"text-align: right;\">\n",
              "      <th></th>\n",
              "      <th>Model</th>\n",
              "      <th>Feature vectors</th>\n",
              "      <th>Sampling method</th>\n",
              "      <th>Accuracy</th>\n",
              "      <th>Precision</th>\n",
              "      <th>Recall</th>\n",
              "      <th>F1-Score</th>\n",
              "    </tr>\n",
              "  </thead>\n",
              "  <tbody>\n",
              "    <tr>\n",
              "      <th>0</th>\n",
              "      <td>Logistic Regression</td>\n",
              "      <td>BoW</td>\n",
              "      <td>Smote</td>\n",
              "      <td>0.89</td>\n",
              "      <td>0.95</td>\n",
              "      <td>0.92</td>\n",
              "      <td>0.94</td>\n",
              "    </tr>\n",
              "    <tr>\n",
              "      <th>1</th>\n",
              "      <td>Logistic Regression</td>\n",
              "      <td>BoW</td>\n",
              "      <td>Random Over Sampling</td>\n",
              "      <td>0.87</td>\n",
              "      <td>0.88</td>\n",
              "      <td>0.97</td>\n",
              "      <td>0.92</td>\n",
              "    </tr>\n",
              "    <tr>\n",
              "      <th>2</th>\n",
              "      <td>Logistic Regression</td>\n",
              "      <td>TF-IDF</td>\n",
              "      <td>Smote</td>\n",
              "      <td>0.85</td>\n",
              "      <td>0.97</td>\n",
              "      <td>0.86</td>\n",
              "      <td>0.91</td>\n",
              "    </tr>\n",
              "    <tr>\n",
              "      <th>3</th>\n",
              "      <td>Logistic Regression</td>\n",
              "      <td>TF-IDF</td>\n",
              "      <td>Random OverSampling</td>\n",
              "      <td>0.85</td>\n",
              "      <td>0.97</td>\n",
              "      <td>0.85</td>\n",
              "      <td>0.91</td>\n",
              "    </tr>\n",
              "    <tr>\n",
              "      <th>4</th>\n",
              "      <td>Random forest classifier</td>\n",
              "      <td>BoW</td>\n",
              "      <td>Smote</td>\n",
              "      <td>0.85</td>\n",
              "      <td>0.93</td>\n",
              "      <td>0.89</td>\n",
              "      <td>0.91</td>\n",
              "    </tr>\n",
              "    <tr>\n",
              "      <th>5</th>\n",
              "      <td>Random forest classifier</td>\n",
              "      <td>TF-IDF</td>\n",
              "      <td>Smote</td>\n",
              "      <td>0.81</td>\n",
              "      <td>0.83</td>\n",
              "      <td>0.95</td>\n",
              "      <td>0.88</td>\n",
              "    </tr>\n",
              "    <tr>\n",
              "      <th>6</th>\n",
              "      <td>Random forest classifier (tuned hyper-parameters)</td>\n",
              "      <td>BoW</td>\n",
              "      <td>Smote</td>\n",
              "      <td>0.89</td>\n",
              "      <td>0.93</td>\n",
              "      <td>0.95</td>\n",
              "      <td>0.94</td>\n",
              "    </tr>\n",
              "    <tr>\n",
              "      <th>7</th>\n",
              "      <td>Random forest classifier (tuned hyper-parameters)</td>\n",
              "      <td>TF-IDF</td>\n",
              "      <td>Smote</td>\n",
              "      <td>0.88</td>\n",
              "      <td>0.94</td>\n",
              "      <td>0.92</td>\n",
              "      <td>0.93</td>\n",
              "    </tr>\n",
              "  </tbody>\n",
              "</table>\n",
              "</div>"
            ],
            "text/plain": [
              "                                               Model  ... F1-Score\n",
              "0                                Logistic Regression  ...     0.94\n",
              "1                                Logistic Regression  ...     0.92\n",
              "2                                Logistic Regression  ...     0.91\n",
              "3                                Logistic Regression  ...     0.91\n",
              "4                           Random forest classifier  ...     0.91\n",
              "5                           Random forest classifier  ...     0.88\n",
              "6  Random forest classifier (tuned hyper-parameters)  ...     0.94\n",
              "7  Random forest classifier (tuned hyper-parameters)  ...     0.93\n",
              "\n",
              "[8 rows x 7 columns]"
            ]
          },
          "metadata": {
            "tags": []
          },
          "execution_count": 126
        }
      ]
    },
    {
      "cell_type": "markdown",
      "metadata": {
        "id": "FcXiB2qw701R"
      },
      "source": [
        "## XGBoost Classification\n"
      ],
      "id": "FcXiB2qw701R"
    },
    {
      "cell_type": "markdown",
      "metadata": {
        "id": "WFi6dPHH701T"
      },
      "source": [
        "### BOW Model"
      ],
      "id": "WFi6dPHH701T"
    },
    {
      "cell_type": "code",
      "metadata": {
        "id": "iGvvNQrR701U"
      },
      "source": [
        "xgb_bw = XGBClassifier(random_state=42\n",
        "                                   , n_jobs=-1\n",
        "                                   , max_depth=30\n",
        "                                   , verbose = 10\n",
        "                                   , min_samples_leaf=100)"
      ],
      "id": "iGvvNQrR701U",
      "execution_count": 127,
      "outputs": []
    },
    {
      "cell_type": "code",
      "metadata": {
        "id": "wOiIMj6M701V",
        "colab": {
          "base_uri": "https://localhost:8080/"
        },
        "outputId": "6e0db48c-ab91-404b-b19b-36bb448e1ab3"
      },
      "source": [
        "# Fitting the pca on train data\n",
        "xgb_bw.fit(x_train_bw_sm, y_train_bw_sm)"
      ],
      "id": "wOiIMj6M701V",
      "execution_count": 128,
      "outputs": [
        {
          "output_type": "execute_result",
          "data": {
            "text/plain": [
              "XGBClassifier(base_score=0.5, booster='gbtree', colsample_bylevel=1,\n",
              "              colsample_bynode=1, colsample_bytree=1, gamma=0,\n",
              "              learning_rate=0.1, max_delta_step=0, max_depth=30,\n",
              "              min_child_weight=1, min_samples_leaf=100, missing=None,\n",
              "              n_estimators=100, n_jobs=-1, nthread=None,\n",
              "              objective='binary:logistic', random_state=42, reg_alpha=0,\n",
              "              reg_lambda=1, scale_pos_weight=1, seed=None, silent=None,\n",
              "              subsample=1, verbose=10, verbosity=1)"
            ]
          },
          "metadata": {
            "tags": []
          },
          "execution_count": 128
        }
      ]
    },
    {
      "cell_type": "code",
      "metadata": {
        "id": "hsvU4q3F701X"
      },
      "source": [
        "# Predicting the train and test\n",
        "y_train_bw_sm_pred = xgb_bw.predict(x_train_bw_sm)\n",
        "y_test_bw_pred = xgb_bw.predict(X_test_bw)"
      ],
      "id": "hsvU4q3F701X",
      "execution_count": 129,
      "outputs": []
    },
    {
      "cell_type": "code",
      "metadata": {
        "id": "UKL4nDSQ701Y",
        "colab": {
          "base_uri": "https://localhost:8080/"
        },
        "outputId": "0360cfa7-e84b-4703-9bb5-2043c8229097"
      },
      "source": [
        "model_performance(y_train_bw_sm,y_train_bw_sm_pred)"
      ],
      "id": "UKL4nDSQ701Y",
      "execution_count": 130,
      "outputs": [
        {
          "output_type": "stream",
          "text": [
            "Accuracy score : 0.98\n",
            "Precision      : 0.97\n",
            "Recall         : 0.98\n",
            "F1 score       : 0.98\n"
          ],
          "name": "stdout"
        }
      ]
    },
    {
      "cell_type": "code",
      "metadata": {
        "id": "l1dC2Hu9701Z",
        "colab": {
          "base_uri": "https://localhost:8080/"
        },
        "outputId": "01350f16-6f4e-4c08-8aa2-701abd961def"
      },
      "source": [
        "model_performance(y_test_bw,y_test_bw_pred,True, 'XGBoost classifier','BoW')"
      ],
      "id": "l1dC2Hu9701Z",
      "execution_count": 131,
      "outputs": [
        {
          "output_type": "stream",
          "text": [
            "Accuracy score : 0.91\n",
            "Precision      : 0.94\n",
            "Recall         : 0.97\n",
            "F1 score       : 0.95\n"
          ],
          "name": "stdout"
        }
      ]
    },
    {
      "cell_type": "markdown",
      "metadata": {
        "id": "fu7LYV36701a"
      },
      "source": [
        "### TF-IDF model"
      ],
      "id": "fu7LYV36701a"
    },
    {
      "cell_type": "code",
      "metadata": {
        "id": "lLxfJAYM701b"
      },
      "source": [
        "xgb_tf = XGBClassifier(random_state=42\n",
        "                       , n_jobs=-1\n",
        "                       , verbose=10\n",
        "                       , max_depth=30\n",
        "                       , min_samples_leaf=100)"
      ],
      "id": "lLxfJAYM701b",
      "execution_count": 133,
      "outputs": []
    },
    {
      "cell_type": "code",
      "metadata": {
        "id": "bqtZde11701b",
        "colab": {
          "base_uri": "https://localhost:8080/"
        },
        "outputId": "5bdc2860-add8-47ad-a41f-777dbd02fa81"
      },
      "source": [
        "xgb_tf.fit(x_train_tf_sm, y_train_tf_sm)"
      ],
      "id": "bqtZde11701b",
      "execution_count": 134,
      "outputs": [
        {
          "output_type": "execute_result",
          "data": {
            "text/plain": [
              "XGBClassifier(base_score=0.5, booster='gbtree', colsample_bylevel=1,\n",
              "              colsample_bynode=1, colsample_bytree=1, gamma=0,\n",
              "              learning_rate=0.1, max_delta_step=0, max_depth=30,\n",
              "              min_child_weight=1, min_samples_leaf=100, missing=None,\n",
              "              n_estimators=100, n_jobs=-1, nthread=None,\n",
              "              objective='binary:logistic', random_state=42, reg_alpha=0,\n",
              "              reg_lambda=1, scale_pos_weight=1, seed=None, silent=None,\n",
              "              subsample=1, verbose=10, verbosity=1)"
            ]
          },
          "metadata": {
            "tags": []
          },
          "execution_count": 134
        }
      ]
    },
    {
      "cell_type": "code",
      "metadata": {
        "id": "8ZrWu0CX701d"
      },
      "source": [
        "# Predicting the train and test\n",
        "y_train_tf_sm_pred = xgb_tf.predict(x_train_tf_sm)\n",
        "y_test_tf_pred = xgb_tf.predict(X_test_tf.to_numpy())"
      ],
      "id": "8ZrWu0CX701d",
      "execution_count": 135,
      "outputs": []
    },
    {
      "cell_type": "markdown",
      "metadata": {
        "id": "ozZpHXyr701d"
      },
      "source": [
        "Model performance on train data"
      ],
      "id": "ozZpHXyr701d"
    },
    {
      "cell_type": "code",
      "metadata": {
        "id": "eqXAsXQE701e",
        "colab": {
          "base_uri": "https://localhost:8080/"
        },
        "outputId": "d762427b-97ae-46ec-f3c4-8780bb8bcae3"
      },
      "source": [
        "model_performance(y_train_tf_sm_pred,y_train_tf_sm)"
      ],
      "id": "eqXAsXQE701e",
      "execution_count": 136,
      "outputs": [
        {
          "output_type": "stream",
          "text": [
            "Accuracy score : 0.99\n",
            "Precision      : 0.99\n",
            "Recall         : 1.00\n",
            "F1 score       : 0.99\n"
          ],
          "name": "stdout"
        }
      ]
    },
    {
      "cell_type": "markdown",
      "metadata": {
        "id": "MaxLKjHz701f"
      },
      "source": [
        "Model performance on test data"
      ],
      "id": "MaxLKjHz701f"
    },
    {
      "cell_type": "code",
      "metadata": {
        "id": "P6NBZHRi701g",
        "colab": {
          "base_uri": "https://localhost:8080/"
        },
        "outputId": "ef90e941-021c-492c-fc00-8f4272524b32"
      },
      "source": [
        "model_performance(y_test_tf_pred,y_test_tf,True,'XGBoost classifier','TF-IDF')"
      ],
      "id": "P6NBZHRi701g",
      "execution_count": 137,
      "outputs": [
        {
          "output_type": "stream",
          "text": [
            "Accuracy score : 0.90\n",
            "Precision      : 0.94\n",
            "Recall         : 0.95\n",
            "F1 score       : 0.95\n"
          ],
          "name": "stdout"
        }
      ]
    },
    {
      "cell_type": "code",
      "metadata": {
        "id": "YPDb4GbE701h",
        "colab": {
          "base_uri": "https://localhost:8080/",
          "height": 444
        },
        "outputId": "9cfd5730-3c12-42a7-abfd-76694f923fc6"
      },
      "source": [
        "performance"
      ],
      "id": "YPDb4GbE701h",
      "execution_count": 138,
      "outputs": [
        {
          "output_type": "execute_result",
          "data": {
            "text/html": [
              "<div>\n",
              "<style scoped>\n",
              "    .dataframe tbody tr th:only-of-type {\n",
              "        vertical-align: middle;\n",
              "    }\n",
              "\n",
              "    .dataframe tbody tr th {\n",
              "        vertical-align: top;\n",
              "    }\n",
              "\n",
              "    .dataframe thead th {\n",
              "        text-align: right;\n",
              "    }\n",
              "</style>\n",
              "<table border=\"1\" class=\"dataframe\">\n",
              "  <thead>\n",
              "    <tr style=\"text-align: right;\">\n",
              "      <th></th>\n",
              "      <th>Model</th>\n",
              "      <th>Feature vectors</th>\n",
              "      <th>Sampling method</th>\n",
              "      <th>Accuracy</th>\n",
              "      <th>Precision</th>\n",
              "      <th>Recall</th>\n",
              "      <th>F1-Score</th>\n",
              "    </tr>\n",
              "  </thead>\n",
              "  <tbody>\n",
              "    <tr>\n",
              "      <th>0</th>\n",
              "      <td>Logistic Regression</td>\n",
              "      <td>BoW</td>\n",
              "      <td>Smote</td>\n",
              "      <td>0.89</td>\n",
              "      <td>0.95</td>\n",
              "      <td>0.92</td>\n",
              "      <td>0.94</td>\n",
              "    </tr>\n",
              "    <tr>\n",
              "      <th>1</th>\n",
              "      <td>Logistic Regression</td>\n",
              "      <td>BoW</td>\n",
              "      <td>Random Over Sampling</td>\n",
              "      <td>0.87</td>\n",
              "      <td>0.88</td>\n",
              "      <td>0.97</td>\n",
              "      <td>0.92</td>\n",
              "    </tr>\n",
              "    <tr>\n",
              "      <th>2</th>\n",
              "      <td>Logistic Regression</td>\n",
              "      <td>TF-IDF</td>\n",
              "      <td>Smote</td>\n",
              "      <td>0.85</td>\n",
              "      <td>0.97</td>\n",
              "      <td>0.86</td>\n",
              "      <td>0.91</td>\n",
              "    </tr>\n",
              "    <tr>\n",
              "      <th>3</th>\n",
              "      <td>Logistic Regression</td>\n",
              "      <td>TF-IDF</td>\n",
              "      <td>Random OverSampling</td>\n",
              "      <td>0.85</td>\n",
              "      <td>0.97</td>\n",
              "      <td>0.85</td>\n",
              "      <td>0.91</td>\n",
              "    </tr>\n",
              "    <tr>\n",
              "      <th>4</th>\n",
              "      <td>Random forest classifier</td>\n",
              "      <td>BoW</td>\n",
              "      <td>Smote</td>\n",
              "      <td>0.85</td>\n",
              "      <td>0.93</td>\n",
              "      <td>0.89</td>\n",
              "      <td>0.91</td>\n",
              "    </tr>\n",
              "    <tr>\n",
              "      <th>5</th>\n",
              "      <td>Random forest classifier</td>\n",
              "      <td>TF-IDF</td>\n",
              "      <td>Smote</td>\n",
              "      <td>0.81</td>\n",
              "      <td>0.83</td>\n",
              "      <td>0.95</td>\n",
              "      <td>0.88</td>\n",
              "    </tr>\n",
              "    <tr>\n",
              "      <th>6</th>\n",
              "      <td>Random forest classifier (tuned hyper-parameters)</td>\n",
              "      <td>BoW</td>\n",
              "      <td>Smote</td>\n",
              "      <td>0.89</td>\n",
              "      <td>0.93</td>\n",
              "      <td>0.95</td>\n",
              "      <td>0.94</td>\n",
              "    </tr>\n",
              "    <tr>\n",
              "      <th>7</th>\n",
              "      <td>Random forest classifier (tuned hyper-parameters)</td>\n",
              "      <td>TF-IDF</td>\n",
              "      <td>Smote</td>\n",
              "      <td>0.88</td>\n",
              "      <td>0.94</td>\n",
              "      <td>0.92</td>\n",
              "      <td>0.93</td>\n",
              "    </tr>\n",
              "    <tr>\n",
              "      <th>8</th>\n",
              "      <td>XGBoost classifier</td>\n",
              "      <td>BoW</td>\n",
              "      <td>Smote</td>\n",
              "      <td>0.91</td>\n",
              "      <td>0.94</td>\n",
              "      <td>0.97</td>\n",
              "      <td>0.95</td>\n",
              "    </tr>\n",
              "    <tr>\n",
              "      <th>9</th>\n",
              "      <td>XGBoost classifier</td>\n",
              "      <td>TF-IDF</td>\n",
              "      <td>Smote</td>\n",
              "      <td>0.90</td>\n",
              "      <td>0.94</td>\n",
              "      <td>0.95</td>\n",
              "      <td>0.95</td>\n",
              "    </tr>\n",
              "  </tbody>\n",
              "</table>\n",
              "</div>"
            ],
            "text/plain": [
              "                                               Model  ... F1-Score\n",
              "0                                Logistic Regression  ...     0.94\n",
              "1                                Logistic Regression  ...     0.92\n",
              "2                                Logistic Regression  ...     0.91\n",
              "3                                Logistic Regression  ...     0.91\n",
              "4                           Random forest classifier  ...     0.91\n",
              "5                           Random forest classifier  ...     0.88\n",
              "6  Random forest classifier (tuned hyper-parameters)  ...     0.94\n",
              "7  Random forest classifier (tuned hyper-parameters)  ...     0.93\n",
              "8                                 XGBoost classifier  ...     0.95\n",
              "9                                 XGBoost classifier  ...     0.95\n",
              "\n",
              "[10 rows x 7 columns]"
            ]
          },
          "metadata": {
            "tags": []
          },
          "execution_count": 138
        }
      ]
    },
    {
      "cell_type": "markdown",
      "metadata": {
        "id": "jtYnU-LE7ra6"
      },
      "source": [
        "## GridSearchCV on XGBoost Classification"
      ],
      "id": "jtYnU-LE7ra6"
    },
    {
      "cell_type": "markdown",
      "metadata": {
        "id": "fQudSzSh7rbq"
      },
      "source": [
        "### BOW model"
      ],
      "id": "fQudSzSh7rbq"
    },
    {
      "cell_type": "code",
      "metadata": {
        "id": "EbCjgWt67rbs"
      },
      "source": [
        "xgb_bw = XGBClassifier(random_state=42, n_jobs=-1)"
      ],
      "id": "EbCjgWt67rbs",
      "execution_count": 139,
      "outputs": []
    },
    {
      "cell_type": "code",
      "metadata": {
        "id": "Rsy7yXQ67rbu"
      },
      "source": [
        "# Initialising the parameters\n",
        "# Refined these parameters after iterating with multive values\n",
        "params = {\n",
        "    'max_depth': [50,70,90],\n",
        "    'min_samples_leaf': [5],\n",
        "    'n_estimators': [80,100,125]\n",
        "}"
      ],
      "id": "Rsy7yXQ67rbu",
      "execution_count": 140,
      "outputs": []
    },
    {
      "cell_type": "code",
      "metadata": {
        "id": "TNGYNrIt7rbw"
      },
      "source": [
        "# Running the gridsearch cv with estimator as rf_pca \n",
        "random_search = RandomizedSearchCV(estimator=xgb_bw\n",
        "                                  ,param_distributions =params\n",
        "                                  ,cv      = 5\n",
        "                                  ,n_jobs  = -1\n",
        "                                  ,verbose = 10\n",
        "                                  ,scoring = 'recall'\n",
        "                                  ,n_iter  = 6\n",
        "                                  ,refit   = True\n",
        "                                  )"
      ],
      "id": "TNGYNrIt7rbw",
      "execution_count": 141,
      "outputs": []
    },
    {
      "cell_type": "code",
      "metadata": {
        "id": "ivULylGP7rbx",
        "colab": {
          "base_uri": "https://localhost:8080/"
        },
        "outputId": "ec1f3de7-e063-4e9f-de57-433a39dc2efd"
      },
      "source": [
        "# Fitting the train on the gridsearch \n",
        "random_search.fit(x_train_bw_sm, y_train_bw_sm)"
      ],
      "id": "ivULylGP7rbx",
      "execution_count": 142,
      "outputs": [
        {
          "output_type": "stream",
          "text": [
            "Fitting 5 folds for each of 6 candidates, totalling 30 fits\n"
          ],
          "name": "stdout"
        },
        {
          "output_type": "stream",
          "text": [
            "[Parallel(n_jobs=-1)]: Using backend LokyBackend with 2 concurrent workers.\n",
            "[Parallel(n_jobs=-1)]: Done   1 tasks      | elapsed:  1.1min\n",
            "[Parallel(n_jobs=-1)]: Done   4 tasks      | elapsed:  2.5min\n",
            "[Parallel(n_jobs=-1)]: Done   9 tasks      | elapsed:  7.2min\n",
            "[Parallel(n_jobs=-1)]: Done  14 tasks      | elapsed:  9.5min\n",
            "[Parallel(n_jobs=-1)]: Done  21 tasks      | elapsed: 14.6min\n",
            "[Parallel(n_jobs=-1)]: Done  30 out of  30 | elapsed: 21.7min finished\n"
          ],
          "name": "stderr"
        },
        {
          "output_type": "execute_result",
          "data": {
            "text/plain": [
              "RandomizedSearchCV(cv=5, error_score=nan,\n",
              "                   estimator=XGBClassifier(base_score=0.5, booster='gbtree',\n",
              "                                           colsample_bylevel=1,\n",
              "                                           colsample_bynode=1,\n",
              "                                           colsample_bytree=1, gamma=0,\n",
              "                                           learning_rate=0.1, max_delta_step=0,\n",
              "                                           max_depth=3, min_child_weight=1,\n",
              "                                           missing=None, n_estimators=100,\n",
              "                                           n_jobs=-1, nthread=None,\n",
              "                                           objective='binary:logistic',\n",
              "                                           random_state=42, reg_alpha=0,\n",
              "                                           reg_lambda=1, scale_pos_weight=1,\n",
              "                                           seed=None, silent=None, subsample=1,\n",
              "                                           verbosity=1),\n",
              "                   iid='deprecated', n_iter=6, n_jobs=-1,\n",
              "                   param_distributions={'max_depth': [50, 70, 90],\n",
              "                                        'min_samples_leaf': [5],\n",
              "                                        'n_estimators': [80, 100, 125]},\n",
              "                   pre_dispatch='2*n_jobs', random_state=None, refit=True,\n",
              "                   return_train_score=False, scoring='recall', verbose=10)"
            ]
          },
          "metadata": {
            "tags": []
          },
          "execution_count": 142
        }
      ]
    },
    {
      "cell_type": "code",
      "metadata": {
        "id": "Af4Iqwym7rb0",
        "colab": {
          "base_uri": "https://localhost:8080/"
        },
        "outputId": "c2c1b4a5-0fa6-466d-be6e-fa46b0f7213b"
      },
      "source": [
        "print(random_search.best_params_)\n",
        "print(random_search.best_score_)\n",
        "print(random_search.best_estimator_)\n",
        "xgb_bw_best = random_search.best_estimator_"
      ],
      "id": "Af4Iqwym7rb0",
      "execution_count": 143,
      "outputs": [
        {
          "output_type": "stream",
          "text": [
            "{'n_estimators': 100, 'min_samples_leaf': 5, 'max_depth': 90}\n",
            "0.9743252757568646\n",
            "XGBClassifier(base_score=0.5, booster='gbtree', colsample_bylevel=1,\n",
            "              colsample_bynode=1, colsample_bytree=1, gamma=0,\n",
            "              learning_rate=0.1, max_delta_step=0, max_depth=90,\n",
            "              min_child_weight=1, min_samples_leaf=5, missing=None,\n",
            "              n_estimators=100, n_jobs=-1, nthread=None,\n",
            "              objective='binary:logistic', random_state=42, reg_alpha=0,\n",
            "              reg_lambda=1, scale_pos_weight=1, seed=None, silent=None,\n",
            "              subsample=1, verbosity=1)\n"
          ],
          "name": "stdout"
        }
      ]
    },
    {
      "cell_type": "code",
      "metadata": {
        "id": "cgIz9nWH7rb2"
      },
      "source": [
        "# Predicting the train and test\n",
        "y_train_bw_sm_pred = xgb_bw_best.predict(x_train_bw_sm)\n",
        "y_test_bw_pred = xgb_bw_best.predict(X_test_bw)"
      ],
      "id": "cgIz9nWH7rb2",
      "execution_count": 144,
      "outputs": []
    },
    {
      "cell_type": "markdown",
      "metadata": {
        "id": "-V382EFU7rb3"
      },
      "source": [
        "Model performance on train data"
      ],
      "id": "-V382EFU7rb3"
    },
    {
      "cell_type": "code",
      "metadata": {
        "id": "FdUI1HkJ7rb5",
        "colab": {
          "base_uri": "https://localhost:8080/"
        },
        "outputId": "50a20d73-67c1-4a89-a317-6685f0cace01"
      },
      "source": [
        "model_performance(y_train_bw_sm, y_train_bw_sm_pred)"
      ],
      "id": "FdUI1HkJ7rb5",
      "execution_count": 145,
      "outputs": [
        {
          "output_type": "stream",
          "text": [
            "Accuracy score : 0.99\n",
            "Precision      : 0.99\n",
            "Recall         : 1.00\n",
            "F1 score       : 0.99\n"
          ],
          "name": "stdout"
        }
      ]
    },
    {
      "cell_type": "markdown",
      "metadata": {
        "id": "xEwH-R2b7rb7"
      },
      "source": [
        "Model performance on test data"
      ],
      "id": "xEwH-R2b7rb7"
    },
    {
      "cell_type": "code",
      "metadata": {
        "id": "Sm2-tgz07rb8",
        "colab": {
          "base_uri": "https://localhost:8080/"
        },
        "outputId": "7c13046d-cc75-41a2-9760-235c52646730"
      },
      "source": [
        "model_performance(y_test_bw,y_test_bw_pred,True,'XGBoost classifier (tuned hyper-parameters)','BoW')"
      ],
      "id": "Sm2-tgz07rb8",
      "execution_count": 146,
      "outputs": [
        {
          "output_type": "stream",
          "text": [
            "Accuracy score : 0.92\n",
            "Precision      : 0.94\n",
            "Recall         : 0.98\n",
            "F1 score       : 0.96\n"
          ],
          "name": "stdout"
        }
      ]
    },
    {
      "cell_type": "markdown",
      "metadata": {
        "id": "-dz3LpBc7rb9"
      },
      "source": [
        "### TF-IDF model"
      ],
      "id": "-dz3LpBc7rb9"
    },
    {
      "cell_type": "code",
      "metadata": {
        "id": "1EhM6Pch7rb-"
      },
      "source": [
        "xgb_tf = XGBClassifier(random_state=42, n_jobs=-1)"
      ],
      "id": "1EhM6Pch7rb-",
      "execution_count": 147,
      "outputs": []
    },
    {
      "cell_type": "code",
      "metadata": {
        "id": "GC-QEN797rb_"
      },
      "source": [
        "# Initialising the parameters\n",
        "# Refined these parameters after iterating with multive values\n",
        "params = {\n",
        "    'max_depth': [90],\n",
        "    'min_samples_leaf': [5],\n",
        "    'n_estimators': [120]\n",
        "}"
      ],
      "id": "GC-QEN797rb_",
      "execution_count": 148,
      "outputs": []
    },
    {
      "cell_type": "code",
      "metadata": {
        "id": "gUgiRh9-7rcA"
      },
      "source": [
        "# Running the gridsearch cv with estimator as rf_pca \n",
        "random_search = RandomizedSearchCV(estimator=xgb_tf\n",
        "                           ,param_distributions =params\n",
        "                           ,cv      = 5\n",
        "                           ,n_jobs  = -1\n",
        "                           ,verbose = 10\n",
        "                           ,scoring = 'recall'\n",
        "                           ,refit   = True)"
      ],
      "id": "gUgiRh9-7rcA",
      "execution_count": 149,
      "outputs": []
    },
    {
      "cell_type": "code",
      "metadata": {
        "id": "atOLPSkEd4bF"
      },
      "source": [
        ""
      ],
      "id": "atOLPSkEd4bF",
      "execution_count": null,
      "outputs": []
    },
    {
      "cell_type": "code",
      "metadata": {
        "colab": {
          "base_uri": "https://localhost:8080/"
        },
        "id": "WQ2ehJ8od4vM",
        "outputId": "ec78bbaa-6254-49ba-f4c1-ec547ccf1c63"
      },
      "source": [
        "# Fitting the train on the gridsearch \n",
        "random_search.fit(x_train_tf_sm, y_train_tf_sm)"
      ],
      "id": "WQ2ehJ8od4vM",
      "execution_count": null,
      "outputs": [
        {
          "output_type": "execute_result",
          "data": {
            "text/plain": [
              "XGBClassifier(base_score=0.5, booster='gbtree', colsample_bylevel=1,\n",
              "              colsample_bynode=1, colsample_bytree=1, gamma=0,\n",
              "              learning_rate=0.1, max_delta_step=0, max_depth=90,\n",
              "              min_child_weight=1, min_samples_leaf=5, missing=None,\n",
              "              n_estimators=120, n_jobs=-1, nthread=None,\n",
              "              objective='binary:logistic', random_state=42, reg_alpha=0,\n",
              "              reg_lambda=1, scale_pos_weight=1, seed=None, silent=None,\n",
              "              subsample=1, verbose=10, verbosity=1)"
            ]
          },
          "metadata": {
            "tags": []
          },
          "execution_count": 67
        }
      ]
    },
    {
      "cell_type": "code",
      "metadata": {
        "id": "_LcJCZqqeDdq"
      },
      "source": [
        "print(random_search.best_params_)\n",
        "print(random_search.best_score_)\n",
        "print(random_search.best_estimator_)\n",
        "xgb_tf_best = random_search.best_estimator_"
      ],
      "id": "_LcJCZqqeDdq",
      "execution_count": null,
      "outputs": []
    },
    {
      "cell_type": "code",
      "metadata": {
        "id": "vUZ0OncZd4vO"
      },
      "source": [
        "# Predicting the train and test\n",
        "y_train_tf_sm_pred = xgb_tf_best.predict(x_train_tf_sm)\n",
        "y_test_tf_pred = xgb_tf_best.predict(X_test_tf)"
      ],
      "id": "vUZ0OncZd4vO",
      "execution_count": null,
      "outputs": []
    },
    {
      "cell_type": "markdown",
      "metadata": {
        "id": "kvLg6fvJd4vO"
      },
      "source": [
        "Model performance on train data"
      ],
      "id": "kvLg6fvJd4vO"
    },
    {
      "cell_type": "code",
      "metadata": {
        "colab": {
          "base_uri": "https://localhost:8080/"
        },
        "id": "XGoLGi78d4vO",
        "outputId": "3690e215-27a5-47d6-c66b-e866970904c9"
      },
      "source": [
        "model_performance(y_train_tf_sm, y_train_tf_pred)"
      ],
      "id": "XGoLGi78d4vO",
      "execution_count": null,
      "outputs": [
        {
          "output_type": "stream",
          "text": [
            "Accuracy score : 1.00\n",
            "Precision      : 0.99\n",
            "Recall         : 1.00\n",
            "F1 score       : 1.00\n"
          ],
          "name": "stdout"
        }
      ]
    },
    {
      "cell_type": "markdown",
      "metadata": {
        "id": "YJ2BQ3xod4vP"
      },
      "source": [
        "Model performance on test data"
      ],
      "id": "YJ2BQ3xod4vP"
    },
    {
      "cell_type": "code",
      "metadata": {
        "colab": {
          "base_uri": "https://localhost:8080/"
        },
        "id": "2uk4Ve5ud4vP",
        "outputId": "597f74d0-7c10-4362-d8fd-6ab6a6bcebc8"
      },
      "source": [
        "model_performance(y_test_tf,y_test_tf_pred,True,'XGBoost classifier (tuned hyper-parameters)','TF-IDF')"
      ],
      "id": "2uk4Ve5ud4vP",
      "execution_count": null,
      "outputs": [
        {
          "output_type": "stream",
          "text": [
            "Accuracy score : 0.91\n",
            "Precision      : 0.95\n",
            "Recall         : 0.95\n",
            "F1 score       : 0.95\n"
          ],
          "name": "stdout"
        }
      ]
    },
    {
      "cell_type": "code",
      "metadata": {
        "id": "KNliOiqH9NUW",
        "colab": {
          "base_uri": "https://localhost:8080/",
          "height": 540
        },
        "outputId": "e40e7dd3-cd7b-4e35-972b-e26849b2117b"
      },
      "source": [
        "performance"
      ],
      "id": "KNliOiqH9NUW",
      "execution_count": 152,
      "outputs": [
        {
          "output_type": "execute_result",
          "data": {
            "text/html": [
              "<div>\n",
              "<style scoped>\n",
              "    .dataframe tbody tr th:only-of-type {\n",
              "        vertical-align: middle;\n",
              "    }\n",
              "\n",
              "    .dataframe tbody tr th {\n",
              "        vertical-align: top;\n",
              "    }\n",
              "\n",
              "    .dataframe thead th {\n",
              "        text-align: right;\n",
              "    }\n",
              "</style>\n",
              "<table border=\"1\" class=\"dataframe\">\n",
              "  <thead>\n",
              "    <tr style=\"text-align: right;\">\n",
              "      <th></th>\n",
              "      <th>Model</th>\n",
              "      <th>Feature vectors</th>\n",
              "      <th>Sampling method</th>\n",
              "      <th>Accuracy</th>\n",
              "      <th>Precision</th>\n",
              "      <th>Recall</th>\n",
              "      <th>F1-Score</th>\n",
              "    </tr>\n",
              "  </thead>\n",
              "  <tbody>\n",
              "    <tr>\n",
              "      <th>0</th>\n",
              "      <td>Logistic Regression</td>\n",
              "      <td>BoW</td>\n",
              "      <td>Smote</td>\n",
              "      <td>0.89</td>\n",
              "      <td>0.95</td>\n",
              "      <td>0.92</td>\n",
              "      <td>0.94</td>\n",
              "    </tr>\n",
              "    <tr>\n",
              "      <th>1</th>\n",
              "      <td>Logistic Regression</td>\n",
              "      <td>BoW</td>\n",
              "      <td>Random Over Sampling</td>\n",
              "      <td>0.87</td>\n",
              "      <td>0.88</td>\n",
              "      <td>0.97</td>\n",
              "      <td>0.92</td>\n",
              "    </tr>\n",
              "    <tr>\n",
              "      <th>2</th>\n",
              "      <td>Logistic Regression</td>\n",
              "      <td>TF-IDF</td>\n",
              "      <td>Smote</td>\n",
              "      <td>0.85</td>\n",
              "      <td>0.97</td>\n",
              "      <td>0.86</td>\n",
              "      <td>0.91</td>\n",
              "    </tr>\n",
              "    <tr>\n",
              "      <th>3</th>\n",
              "      <td>Logistic Regression</td>\n",
              "      <td>TF-IDF</td>\n",
              "      <td>Random OverSampling</td>\n",
              "      <td>0.85</td>\n",
              "      <td>0.97</td>\n",
              "      <td>0.85</td>\n",
              "      <td>0.91</td>\n",
              "    </tr>\n",
              "    <tr>\n",
              "      <th>4</th>\n",
              "      <td>Random forest classifier</td>\n",
              "      <td>BoW</td>\n",
              "      <td>Smote</td>\n",
              "      <td>0.85</td>\n",
              "      <td>0.93</td>\n",
              "      <td>0.89</td>\n",
              "      <td>0.91</td>\n",
              "    </tr>\n",
              "    <tr>\n",
              "      <th>5</th>\n",
              "      <td>Random forest classifier</td>\n",
              "      <td>TF-IDF</td>\n",
              "      <td>Smote</td>\n",
              "      <td>0.81</td>\n",
              "      <td>0.83</td>\n",
              "      <td>0.95</td>\n",
              "      <td>0.88</td>\n",
              "    </tr>\n",
              "    <tr>\n",
              "      <th>6</th>\n",
              "      <td>Random forest classifier (tuned hyper-parameters)</td>\n",
              "      <td>BoW</td>\n",
              "      <td>Smote</td>\n",
              "      <td>0.89</td>\n",
              "      <td>0.93</td>\n",
              "      <td>0.95</td>\n",
              "      <td>0.94</td>\n",
              "    </tr>\n",
              "    <tr>\n",
              "      <th>7</th>\n",
              "      <td>Random forest classifier (tuned hyper-parameters)</td>\n",
              "      <td>TF-IDF</td>\n",
              "      <td>Smote</td>\n",
              "      <td>0.88</td>\n",
              "      <td>0.94</td>\n",
              "      <td>0.92</td>\n",
              "      <td>0.93</td>\n",
              "    </tr>\n",
              "    <tr>\n",
              "      <th>8</th>\n",
              "      <td>XGBoost classifier</td>\n",
              "      <td>BoW</td>\n",
              "      <td>Smote</td>\n",
              "      <td>0.91</td>\n",
              "      <td>0.94</td>\n",
              "      <td>0.97</td>\n",
              "      <td>0.95</td>\n",
              "    </tr>\n",
              "    <tr>\n",
              "      <th>9</th>\n",
              "      <td>XGBoost classifier</td>\n",
              "      <td>TF-IDF</td>\n",
              "      <td>Smote</td>\n",
              "      <td>0.90</td>\n",
              "      <td>0.94</td>\n",
              "      <td>0.95</td>\n",
              "      <td>0.95</td>\n",
              "    </tr>\n",
              "    <tr>\n",
              "      <th>10</th>\n",
              "      <td>XGBoost classifier (tuned hyper-parameters)</td>\n",
              "      <td>BoW</td>\n",
              "      <td>Smote</td>\n",
              "      <td>0.92</td>\n",
              "      <td>0.94</td>\n",
              "      <td>0.98</td>\n",
              "      <td>0.96</td>\n",
              "    </tr>\n",
              "    <tr>\n",
              "      <th>11</th>\n",
              "      <td>XGBoost classifier (tuned hyper-parameters)</td>\n",
              "      <td>TF-IDF</td>\n",
              "      <td>Smote</td>\n",
              "      <td>0.91</td>\n",
              "      <td>0.95</td>\n",
              "      <td>0.95</td>\n",
              "      <td>0.95</td>\n",
              "    </tr>\n",
              "  </tbody>\n",
              "</table>\n",
              "</div>"
            ],
            "text/plain": [
              "                                                Model  ... F1-Score\n",
              "0                                 Logistic Regression  ...     0.94\n",
              "1                                 Logistic Regression  ...     0.92\n",
              "2                                 Logistic Regression  ...     0.91\n",
              "3                                 Logistic Regression  ...     0.91\n",
              "4                            Random forest classifier  ...     0.91\n",
              "5                            Random forest classifier  ...     0.88\n",
              "6   Random forest classifier (tuned hyper-parameters)  ...     0.94\n",
              "7   Random forest classifier (tuned hyper-parameters)  ...     0.93\n",
              "8                                  XGBoost classifier  ...     0.95\n",
              "9                                  XGBoost classifier  ...     0.95\n",
              "10        XGBoost classifier (tuned hyper-parameters)  ...     0.96\n",
              "11        XGBoost classifier (tuned hyper-parameters)  ...     0.95\n",
              "\n",
              "[12 rows x 7 columns]"
            ]
          },
          "metadata": {
            "tags": []
          },
          "execution_count": 152
        }
      ]
    },
    {
      "cell_type": "markdown",
      "metadata": {
        "id": "3L0DFUd4lKts"
      },
      "source": [
        "# Summary\n",
        "\n",
        "Out of all the models XGB classifier has shown more accurate results on test data. So XGB classifier will be used for sentiment analysis"
      ],
      "id": "3L0DFUd4lKts"
    },
    {
      "cell_type": "markdown",
      "metadata": {
        "id": "vG0E5zxFe_lm"
      },
      "source": [
        "# Recommendation Model"
      ],
      "id": "vG0E5zxFe_lm"
    },
    {
      "cell_type": "code",
      "metadata": {
        "id": "DpRzC1nXe_lv"
      },
      "source": [
        "# Reading data file from csv.\n",
        "df = pd.read_csv('https://raw.githubusercontent.com/GangamRitesh/Capstone/main/sample30.csv')"
      ],
      "id": "DpRzC1nXe_lv",
      "execution_count": 2,
      "outputs": []
    },
    {
      "cell_type": "code",
      "metadata": {
        "id": "VnnLxYZje_lv",
        "colab": {
          "base_uri": "https://localhost:8080/"
        },
        "outputId": "ac49076c-cfa8-4c94-c502-77fcbab8b91b"
      },
      "source": [
        "# Checking the shape of dataframe\n",
        "df.shape"
      ],
      "id": "VnnLxYZje_lv",
      "execution_count": 3,
      "outputs": [
        {
          "output_type": "execute_result",
          "data": {
            "text/plain": [
              "(30000, 15)"
            ]
          },
          "metadata": {
            "tags": []
          },
          "execution_count": 3
        }
      ]
    },
    {
      "cell_type": "code",
      "metadata": {
        "id": "VEQK0D5Ee_lw",
        "colab": {
          "base_uri": "https://localhost:8080/"
        },
        "outputId": "86acee9d-7eaa-48b7-ee80-ea3b00aca9f0"
      },
      "source": [
        "# Checking the columns \n",
        "df.columns.values"
      ],
      "id": "VEQK0D5Ee_lw",
      "execution_count": 4,
      "outputs": [
        {
          "output_type": "execute_result",
          "data": {
            "text/plain": [
              "array(['id', 'brand', 'categories', 'manufacturer', 'name',\n",
              "       'reviews_date', 'reviews_didPurchase', 'reviews_doRecommend',\n",
              "       'reviews_rating', 'reviews_text', 'reviews_title',\n",
              "       'reviews_userCity', 'reviews_userProvince', 'reviews_username',\n",
              "       'user_sentiment'], dtype=object)"
            ]
          },
          "metadata": {
            "tags": []
          },
          "execution_count": 4
        }
      ]
    },
    {
      "cell_type": "code",
      "metadata": {
        "id": "8QwQ_39We_lz",
        "colab": {
          "base_uri": "https://localhost:8080/"
        },
        "outputId": "1b9f7478-d251-4a91-bdcb-71454016bc5d"
      },
      "source": [
        "# Checking columns decription \n",
        "df.info()"
      ],
      "id": "8QwQ_39We_lz",
      "execution_count": 5,
      "outputs": [
        {
          "output_type": "stream",
          "text": [
            "<class 'pandas.core.frame.DataFrame'>\n",
            "RangeIndex: 30000 entries, 0 to 29999\n",
            "Data columns (total 15 columns):\n",
            " #   Column                Non-Null Count  Dtype \n",
            "---  ------                --------------  ----- \n",
            " 0   id                    30000 non-null  object\n",
            " 1   brand                 30000 non-null  object\n",
            " 2   categories            30000 non-null  object\n",
            " 3   manufacturer          29859 non-null  object\n",
            " 4   name                  30000 non-null  object\n",
            " 5   reviews_date          29954 non-null  object\n",
            " 6   reviews_didPurchase   15932 non-null  object\n",
            " 7   reviews_doRecommend   27430 non-null  object\n",
            " 8   reviews_rating        30000 non-null  int64 \n",
            " 9   reviews_text          30000 non-null  object\n",
            " 10  reviews_title         29810 non-null  object\n",
            " 11  reviews_userCity      1929 non-null   object\n",
            " 12  reviews_userProvince  170 non-null    object\n",
            " 13  reviews_username      29937 non-null  object\n",
            " 14  user_sentiment        29999 non-null  object\n",
            "dtypes: int64(1), object(14)\n",
            "memory usage: 3.4+ MB\n"
          ],
          "name": "stdout"
        }
      ]
    },
    {
      "cell_type": "code",
      "metadata": {
        "id": "EY5EUfCde_l0",
        "colab": {
          "base_uri": "https://localhost:8080/",
          "height": 297
        },
        "outputId": "65debeaa-a024-4ce9-a063-7674cb9c9fdb"
      },
      "source": [
        "# Checking the distribution of numeric columns\n",
        "df.describe()"
      ],
      "id": "EY5EUfCde_l0",
      "execution_count": 6,
      "outputs": [
        {
          "output_type": "execute_result",
          "data": {
            "text/html": [
              "<div>\n",
              "<style scoped>\n",
              "    .dataframe tbody tr th:only-of-type {\n",
              "        vertical-align: middle;\n",
              "    }\n",
              "\n",
              "    .dataframe tbody tr th {\n",
              "        vertical-align: top;\n",
              "    }\n",
              "\n",
              "    .dataframe thead th {\n",
              "        text-align: right;\n",
              "    }\n",
              "</style>\n",
              "<table border=\"1\" class=\"dataframe\">\n",
              "  <thead>\n",
              "    <tr style=\"text-align: right;\">\n",
              "      <th></th>\n",
              "      <th>reviews_rating</th>\n",
              "    </tr>\n",
              "  </thead>\n",
              "  <tbody>\n",
              "    <tr>\n",
              "      <th>count</th>\n",
              "      <td>30000.000000</td>\n",
              "    </tr>\n",
              "    <tr>\n",
              "      <th>mean</th>\n",
              "      <td>4.483133</td>\n",
              "    </tr>\n",
              "    <tr>\n",
              "      <th>std</th>\n",
              "      <td>0.988441</td>\n",
              "    </tr>\n",
              "    <tr>\n",
              "      <th>min</th>\n",
              "      <td>1.000000</td>\n",
              "    </tr>\n",
              "    <tr>\n",
              "      <th>25%</th>\n",
              "      <td>4.000000</td>\n",
              "    </tr>\n",
              "    <tr>\n",
              "      <th>50%</th>\n",
              "      <td>5.000000</td>\n",
              "    </tr>\n",
              "    <tr>\n",
              "      <th>75%</th>\n",
              "      <td>5.000000</td>\n",
              "    </tr>\n",
              "    <tr>\n",
              "      <th>max</th>\n",
              "      <td>5.000000</td>\n",
              "    </tr>\n",
              "  </tbody>\n",
              "</table>\n",
              "</div>"
            ],
            "text/plain": [
              "       reviews_rating\n",
              "count    30000.000000\n",
              "mean         4.483133\n",
              "std          0.988441\n",
              "min          1.000000\n",
              "25%          4.000000\n",
              "50%          5.000000\n",
              "75%          5.000000\n",
              "max          5.000000"
            ]
          },
          "metadata": {
            "tags": []
          },
          "execution_count": 6
        }
      ]
    },
    {
      "cell_type": "code",
      "metadata": {
        "id": "n2HF8pO3e_l0",
        "colab": {
          "base_uri": "https://localhost:8080/",
          "height": 471
        },
        "outputId": "dce7cede-151d-4cab-95a1-fad939908303"
      },
      "source": [
        "# Checking top 2 columns of data frame\n",
        "df.head(2)"
      ],
      "id": "n2HF8pO3e_l0",
      "execution_count": 7,
      "outputs": [
        {
          "output_type": "execute_result",
          "data": {
            "text/html": [
              "<div>\n",
              "<style scoped>\n",
              "    .dataframe tbody tr th:only-of-type {\n",
              "        vertical-align: middle;\n",
              "    }\n",
              "\n",
              "    .dataframe tbody tr th {\n",
              "        vertical-align: top;\n",
              "    }\n",
              "\n",
              "    .dataframe thead th {\n",
              "        text-align: right;\n",
              "    }\n",
              "</style>\n",
              "<table border=\"1\" class=\"dataframe\">\n",
              "  <thead>\n",
              "    <tr style=\"text-align: right;\">\n",
              "      <th></th>\n",
              "      <th>id</th>\n",
              "      <th>brand</th>\n",
              "      <th>categories</th>\n",
              "      <th>manufacturer</th>\n",
              "      <th>name</th>\n",
              "      <th>reviews_date</th>\n",
              "      <th>reviews_didPurchase</th>\n",
              "      <th>reviews_doRecommend</th>\n",
              "      <th>reviews_rating</th>\n",
              "      <th>reviews_text</th>\n",
              "      <th>reviews_title</th>\n",
              "      <th>reviews_userCity</th>\n",
              "      <th>reviews_userProvince</th>\n",
              "      <th>reviews_username</th>\n",
              "      <th>user_sentiment</th>\n",
              "    </tr>\n",
              "  </thead>\n",
              "  <tbody>\n",
              "    <tr>\n",
              "      <th>0</th>\n",
              "      <td>AV13O1A8GV-KLJ3akUyj</td>\n",
              "      <td>Universal Music</td>\n",
              "      <td>Movies, Music &amp; Books,Music,R&amp;b,Movies &amp; TV,Movie Bundles &amp; Collections,CDs &amp; Vinyl,Rap &amp; Hip-Hop,Bass,Music on CD or Vinyl,Rap,Hip-Hop,Mainstream Rap,Pop Rap</td>\n",
              "      <td>Universal Music Group / Cash Money</td>\n",
              "      <td>Pink Friday: Roman Reloaded Re-Up (w/dvd)</td>\n",
              "      <td>2012-11-30T06:21:45.000Z</td>\n",
              "      <td>NaN</td>\n",
              "      <td>NaN</td>\n",
              "      <td>5</td>\n",
              "      <td>i love this album. it's very good. more to the hip hop side than her current pop sound.. SO HYPE! i listen to this everyday at the gym! i give it 5star rating all the way. her metaphors are just crazy.</td>\n",
              "      <td>Just Awesome</td>\n",
              "      <td>Los Angeles</td>\n",
              "      <td>NaN</td>\n",
              "      <td>joshua</td>\n",
              "      <td>Positive</td>\n",
              "    </tr>\n",
              "    <tr>\n",
              "      <th>1</th>\n",
              "      <td>AV14LG0R-jtxr-f38QfS</td>\n",
              "      <td>Lundberg</td>\n",
              "      <td>Food,Packaged Foods,Snacks,Crackers,Snacks, Cookies &amp; Chips,Rice Cakes,Cakes</td>\n",
              "      <td>Lundberg</td>\n",
              "      <td>Lundberg Organic Cinnamon Toast Rice Cakes</td>\n",
              "      <td>2017-07-09T00:00:00.000Z</td>\n",
              "      <td>True</td>\n",
              "      <td>NaN</td>\n",
              "      <td>5</td>\n",
              "      <td>Good flavor. This review was collected as part of a promotion.</td>\n",
              "      <td>Good</td>\n",
              "      <td>NaN</td>\n",
              "      <td>NaN</td>\n",
              "      <td>dorothy w</td>\n",
              "      <td>Positive</td>\n",
              "    </tr>\n",
              "  </tbody>\n",
              "</table>\n",
              "</div>"
            ],
            "text/plain": [
              "                     id            brand  ... reviews_username user_sentiment\n",
              "0  AV13O1A8GV-KLJ3akUyj  Universal Music  ...           joshua       Positive\n",
              "1  AV14LG0R-jtxr-f38QfS         Lundberg  ...        dorothy w       Positive\n",
              "\n",
              "[2 rows x 15 columns]"
            ]
          },
          "metadata": {
            "tags": []
          },
          "execution_count": 7
        }
      ]
    },
    {
      "cell_type": "markdown",
      "metadata": {
        "id": "NtGIHLEee_l1"
      },
      "source": [
        "## Preparing Data from recommender system\n"
      ],
      "id": "NtGIHLEee_l1"
    },
    {
      "cell_type": "code",
      "metadata": {
        "id": "ec8EXadDfUFc",
        "colab": {
          "base_uri": "https://localhost:8080/",
          "height": 204
        },
        "outputId": "8e8ada95-aa4c-4f2d-acd8-21714217d29f"
      },
      "source": [
        "# Filtering the columns required for building recommendation model\n",
        "df= df[['name','reviews_username','reviews_rating']]\n",
        "df.head()"
      ],
      "id": "ec8EXadDfUFc",
      "execution_count": 8,
      "outputs": [
        {
          "output_type": "execute_result",
          "data": {
            "text/html": [
              "<div>\n",
              "<style scoped>\n",
              "    .dataframe tbody tr th:only-of-type {\n",
              "        vertical-align: middle;\n",
              "    }\n",
              "\n",
              "    .dataframe tbody tr th {\n",
              "        vertical-align: top;\n",
              "    }\n",
              "\n",
              "    .dataframe thead th {\n",
              "        text-align: right;\n",
              "    }\n",
              "</style>\n",
              "<table border=\"1\" class=\"dataframe\">\n",
              "  <thead>\n",
              "    <tr style=\"text-align: right;\">\n",
              "      <th></th>\n",
              "      <th>name</th>\n",
              "      <th>reviews_username</th>\n",
              "      <th>reviews_rating</th>\n",
              "    </tr>\n",
              "  </thead>\n",
              "  <tbody>\n",
              "    <tr>\n",
              "      <th>0</th>\n",
              "      <td>Pink Friday: Roman Reloaded Re-Up (w/dvd)</td>\n",
              "      <td>joshua</td>\n",
              "      <td>5</td>\n",
              "    </tr>\n",
              "    <tr>\n",
              "      <th>1</th>\n",
              "      <td>Lundberg Organic Cinnamon Toast Rice Cakes</td>\n",
              "      <td>dorothy w</td>\n",
              "      <td>5</td>\n",
              "    </tr>\n",
              "    <tr>\n",
              "      <th>2</th>\n",
              "      <td>Lundberg Organic Cinnamon Toast Rice Cakes</td>\n",
              "      <td>dorothy w</td>\n",
              "      <td>5</td>\n",
              "    </tr>\n",
              "    <tr>\n",
              "      <th>3</th>\n",
              "      <td>K-Y Love Sensuality Pleasure Gel</td>\n",
              "      <td>rebecca</td>\n",
              "      <td>1</td>\n",
              "    </tr>\n",
              "    <tr>\n",
              "      <th>4</th>\n",
              "      <td>K-Y Love Sensuality Pleasure Gel</td>\n",
              "      <td>walker557</td>\n",
              "      <td>1</td>\n",
              "    </tr>\n",
              "  </tbody>\n",
              "</table>\n",
              "</div>"
            ],
            "text/plain": [
              "                                         name reviews_username  reviews_rating\n",
              "0   Pink Friday: Roman Reloaded Re-Up (w/dvd)           joshua               5\n",
              "1  Lundberg Organic Cinnamon Toast Rice Cakes        dorothy w               5\n",
              "2  Lundberg Organic Cinnamon Toast Rice Cakes        dorothy w               5\n",
              "3            K-Y Love Sensuality Pleasure Gel          rebecca               1\n",
              "4            K-Y Love Sensuality Pleasure Gel        walker557               1"
            ]
          },
          "metadata": {
            "tags": []
          },
          "execution_count": 8
        }
      ]
    },
    {
      "cell_type": "code",
      "metadata": {
        "id": "566o35gB3YPN",
        "colab": {
          "base_uri": "https://localhost:8080/"
        },
        "outputId": "48d36fd0-c763-4a60-ef47-2e0c2d4f711a"
      },
      "source": [
        "# Checking the distribution of ratings \n",
        "df.reviews_rating.value_counts()"
      ],
      "id": "566o35gB3YPN",
      "execution_count": 9,
      "outputs": [
        {
          "output_type": "execute_result",
          "data": {
            "text/plain": [
              "5    20831\n",
              "4     6020\n",
              "1     1384\n",
              "3     1345\n",
              "2      420\n",
              "Name: reviews_rating, dtype: int64"
            ]
          },
          "metadata": {
            "tags": []
          },
          "execution_count": 9
        }
      ]
    },
    {
      "cell_type": "code",
      "metadata": {
        "id": "DBiVYkkPh9MY",
        "colab": {
          "base_uri": "https://localhost:8080/"
        },
        "outputId": "15ca4126-2b26-418c-aaf1-f470f8d85bec"
      },
      "source": [
        "# Checking columns decription \n",
        "df.info()"
      ],
      "id": "DBiVYkkPh9MY",
      "execution_count": 10,
      "outputs": [
        {
          "output_type": "stream",
          "text": [
            "<class 'pandas.core.frame.DataFrame'>\n",
            "RangeIndex: 30000 entries, 0 to 29999\n",
            "Data columns (total 3 columns):\n",
            " #   Column            Non-Null Count  Dtype \n",
            "---  ------            --------------  ----- \n",
            " 0   name              30000 non-null  object\n",
            " 1   reviews_username  29937 non-null  object\n",
            " 2   reviews_rating    30000 non-null  int64 \n",
            "dtypes: int64(1), object(2)\n",
            "memory usage: 703.2+ KB\n"
          ],
          "name": "stdout"
        }
      ]
    },
    {
      "cell_type": "markdown",
      "metadata": {
        "id": "M5XEoM5vfSnI"
      },
      "source": [
        "### Missing value treatment"
      ],
      "id": "M5XEoM5vfSnI"
    },
    {
      "cell_type": "code",
      "metadata": {
        "id": "yKOa7__oe_l1"
      },
      "source": [
        "# Function for building missing values df\n",
        "def missing_values(df):\n",
        "    missing_data  = pd.DataFrame(columns=['Column','Type','Missing_count','Missing_percentage'])\n",
        "    for i in df.columns:\n",
        "        null_count = df[i].isna().sum()\n",
        "        null_perc  = null_count/len(df)*100\n",
        "        if null_count != 0:\n",
        "            df2={'Column':i\n",
        "            ,'Type': df[i].dtype\n",
        "            ,'Missing_count': null_count\n",
        "            ,'Missing_percentage' : null_perc\n",
        "            }\n",
        "            missing_data = missing_data.append(df2,ignore_index=True)\n",
        "    return missing_data.sort_values(by = 'Missing_percentage',ascending= False)"
      ],
      "id": "yKOa7__oe_l1",
      "execution_count": 11,
      "outputs": []
    },
    {
      "cell_type": "code",
      "metadata": {
        "id": "oOaqTg1Le_l2",
        "colab": {
          "base_uri": "https://localhost:8080/",
          "height": 80
        },
        "outputId": "3c894441-d188-42c3-b0f5-2a30d32e3f71"
      },
      "source": [
        "# Checking the missing values in the data frame\n",
        "missing_values(df)"
      ],
      "id": "oOaqTg1Le_l2",
      "execution_count": 12,
      "outputs": [
        {
          "output_type": "execute_result",
          "data": {
            "text/html": [
              "<div>\n",
              "<style scoped>\n",
              "    .dataframe tbody tr th:only-of-type {\n",
              "        vertical-align: middle;\n",
              "    }\n",
              "\n",
              "    .dataframe tbody tr th {\n",
              "        vertical-align: top;\n",
              "    }\n",
              "\n",
              "    .dataframe thead th {\n",
              "        text-align: right;\n",
              "    }\n",
              "</style>\n",
              "<table border=\"1\" class=\"dataframe\">\n",
              "  <thead>\n",
              "    <tr style=\"text-align: right;\">\n",
              "      <th></th>\n",
              "      <th>Column</th>\n",
              "      <th>Type</th>\n",
              "      <th>Missing_count</th>\n",
              "      <th>Missing_percentage</th>\n",
              "    </tr>\n",
              "  </thead>\n",
              "  <tbody>\n",
              "    <tr>\n",
              "      <th>0</th>\n",
              "      <td>reviews_username</td>\n",
              "      <td>object</td>\n",
              "      <td>63</td>\n",
              "      <td>0.21</td>\n",
              "    </tr>\n",
              "  </tbody>\n",
              "</table>\n",
              "</div>"
            ],
            "text/plain": [
              "             Column    Type Missing_count  Missing_percentage\n",
              "0  reviews_username  object            63                0.21"
            ]
          },
          "metadata": {
            "tags": []
          },
          "execution_count": 12
        }
      ]
    },
    {
      "cell_type": "code",
      "metadata": {
        "id": "72-yO8fie_l3",
        "colab": {
          "base_uri": "https://localhost:8080/"
        },
        "outputId": "d4884b14-63b9-4e4d-f9d9-a2f29e5352a9"
      },
      "source": [
        "# Dropping rows with no username\n",
        "ratings = df[~df.reviews_username.isna()]\n",
        "ratings.shape"
      ],
      "id": "72-yO8fie_l3",
      "execution_count": 13,
      "outputs": [
        {
          "output_type": "execute_result",
          "data": {
            "text/plain": [
              "(29937, 3)"
            ]
          },
          "metadata": {
            "tags": []
          },
          "execution_count": 13
        }
      ]
    },
    {
      "cell_type": "code",
      "metadata": {
        "id": "APNmLmEre_l3",
        "colab": {
          "base_uri": "https://localhost:8080/",
          "height": 49
        },
        "outputId": "585b7eb2-74a5-4ce6-d3ff-51622ca3394e"
      },
      "source": [
        "# Checking the missing values in df\n",
        "missing_values(ratings)"
      ],
      "id": "APNmLmEre_l3",
      "execution_count": 14,
      "outputs": [
        {
          "output_type": "execute_result",
          "data": {
            "text/html": [
              "<div>\n",
              "<style scoped>\n",
              "    .dataframe tbody tr th:only-of-type {\n",
              "        vertical-align: middle;\n",
              "    }\n",
              "\n",
              "    .dataframe tbody tr th {\n",
              "        vertical-align: top;\n",
              "    }\n",
              "\n",
              "    .dataframe thead th {\n",
              "        text-align: right;\n",
              "    }\n",
              "</style>\n",
              "<table border=\"1\" class=\"dataframe\">\n",
              "  <thead>\n",
              "    <tr style=\"text-align: right;\">\n",
              "      <th></th>\n",
              "      <th>Column</th>\n",
              "      <th>Type</th>\n",
              "      <th>Missing_count</th>\n",
              "      <th>Missing_percentage</th>\n",
              "    </tr>\n",
              "  </thead>\n",
              "  <tbody>\n",
              "  </tbody>\n",
              "</table>\n",
              "</div>"
            ],
            "text/plain": [
              "Empty DataFrame\n",
              "Columns: [Column, Type, Missing_count, Missing_percentage]\n",
              "Index: []"
            ]
          },
          "metadata": {
            "tags": []
          },
          "execution_count": 14
        }
      ]
    },
    {
      "cell_type": "code",
      "metadata": {
        "id": "8TNJ8qIqoAV1"
      },
      "source": [
        "# Grouping the rows where user has rated the item more than once and calculating mean\n",
        "ratings = ratings.groupby(by = ['name','reviews_username']).mean()\n",
        "ratings.reset_index(inplace = True)"
      ],
      "id": "8TNJ8qIqoAV1",
      "execution_count": 15,
      "outputs": []
    },
    {
      "cell_type": "code",
      "metadata": {
        "id": "yzakmz5QnHoo",
        "colab": {
          "base_uri": "https://localhost:8080/"
        },
        "outputId": "b3146090-ae6b-4da9-902a-09186dd9f4fd"
      },
      "source": [
        "# Checking ratings info\n",
        "ratings.info()"
      ],
      "id": "yzakmz5QnHoo",
      "execution_count": 16,
      "outputs": [
        {
          "output_type": "stream",
          "text": [
            "<class 'pandas.core.frame.DataFrame'>\n",
            "RangeIndex: 27588 entries, 0 to 27587\n",
            "Data columns (total 3 columns):\n",
            " #   Column            Non-Null Count  Dtype  \n",
            "---  ------            --------------  -----  \n",
            " 0   name              27588 non-null  object \n",
            " 1   reviews_username  27588 non-null  object \n",
            " 2   reviews_rating    27588 non-null  float64\n",
            "dtypes: float64(1), object(2)\n",
            "memory usage: 646.7+ KB\n"
          ],
          "name": "stdout"
        }
      ]
    },
    {
      "cell_type": "code",
      "metadata": {
        "id": "rgfoRC9BsRtk"
      },
      "source": [
        "# Renaming the columns\n",
        "ratings.columns = ['item','user','rating']"
      ],
      "id": "rgfoRC9BsRtk",
      "execution_count": 17,
      "outputs": []
    },
    {
      "cell_type": "markdown",
      "metadata": {
        "id": "4_at5NUxKLSF"
      },
      "source": [
        "## Model building"
      ],
      "id": "4_at5NUxKLSF"
    },
    {
      "cell_type": "markdown",
      "metadata": {
        "id": "TAkoOYP2gDfW"
      },
      "source": [
        "### Splitting data into train and test"
      ],
      "id": "TAkoOYP2gDfW"
    },
    {
      "cell_type": "code",
      "metadata": {
        "id": "ahs1Pr-ve_l4"
      },
      "source": [
        "# Test and Train split of the dataset.\n",
        "train, test = train_test_split(ratings, test_size=0.20, random_state=100)"
      ],
      "id": "ahs1Pr-ve_l4",
      "execution_count": 18,
      "outputs": []
    },
    {
      "cell_type": "code",
      "metadata": {
        "id": "sSaJOl_he_l4",
        "colab": {
          "base_uri": "https://localhost:8080/"
        },
        "outputId": "fc7208dd-5f56-461e-da8a-cc782d3cb8ea"
      },
      "source": [
        "# Checking shape of train and test data sets\n",
        "print(train.shape)\n",
        "print(test.shape)"
      ],
      "id": "sSaJOl_he_l4",
      "execution_count": 19,
      "outputs": [
        {
          "output_type": "stream",
          "text": [
            "(22070, 3)\n",
            "(5518, 3)\n"
          ],
          "name": "stdout"
        }
      ]
    },
    {
      "cell_type": "code",
      "metadata": {
        "id": "L2Mxfosagif6",
        "colab": {
          "base_uri": "https://localhost:8080/",
          "height": 443
        },
        "outputId": "cf144ce8-0857-4c3a-d3a3-a1be9e8bccea"
      },
      "source": [
        "# Pivot the train ratings dataset into matrix format in which columns are items \n",
        "# and the rows are users.\n",
        "df_pivot = train.pivot(index= 'user'\n",
        "                      ,columns='item'\n",
        "                      ,values='rating').fillna(0)\n",
        "df_pivot.head(3)"
      ],
      "id": "L2Mxfosagif6",
      "execution_count": 20,
      "outputs": [
        {
          "output_type": "execute_result",
          "data": {
            "text/html": [
              "<div>\n",
              "<style scoped>\n",
              "    .dataframe tbody tr th:only-of-type {\n",
              "        vertical-align: middle;\n",
              "    }\n",
              "\n",
              "    .dataframe tbody tr th {\n",
              "        vertical-align: top;\n",
              "    }\n",
              "\n",
              "    .dataframe thead th {\n",
              "        text-align: right;\n",
              "    }\n",
              "</style>\n",
              "<table border=\"1\" class=\"dataframe\">\n",
              "  <thead>\n",
              "    <tr style=\"text-align: right;\">\n",
              "      <th>item</th>\n",
              "      <th>0.6 Cu. Ft. Letter A4 Size Waterproof 30 Min. Fire File Chest</th>\n",
              "      <th>100:Complete First Season (blu-Ray)</th>\n",
              "      <th>2017-2018 Brownline174 Duraflex 14-Month Planner 8 1/2 X 11 Black</th>\n",
              "      <th>2x Ultra Era with Oxi Booster, 50fl oz</th>\n",
              "      <th>42 Dual Drop Leaf Table with 2 Madrid Chairs\"</th>\n",
              "      <th>4C Grated Parmesan Cheese 100% Natural 8oz Shaker</th>\n",
              "      <th>5302050 15/16 FCT/HOSE ADAPTOR</th>\n",
              "      <th>Africa's Best No-Lye Dual Conditioning Relaxer System Super</th>\n",
              "      <th>Alberto VO5 Salon Series Smooth Plus Sleek Shampoo</th>\n",
              "      <th>Alex Cross (dvdvideo)</th>\n",
              "      <th>All,bran Complete Wheat Flakes, 18 Oz.</th>\n",
              "      <th>Ambi Complexion Cleansing Bar</th>\n",
              "      <th>Annie's Homegrown Deluxe Elbows &amp; Four Cheese Sauce</th>\n",
              "      <th>Annie's Homegrown Gluten Free Double Chocolate Chip Granola Bars</th>\n",
              "      <th>Arrid Extra Dry Anti-Perspirant Deodorant Spray Regular</th>\n",
              "      <th>Aussie Aussome Volume Shampoo, 13.5 Oz</th>\n",
              "      <th>Australian Gold Exotic Blend Lotion, SPF 4</th>\n",
              "      <th>Aveeno Baby Continuous Protection Lotion Sunscreen with Broad Spectrum SPF 55, 4oz</th>\n",
              "      <th>Avery174 11-1/4 X 9-1/4 Index Maker Extra Wide Label Dividers With 5 Tab - Clear (5 Sets Per Pack)</th>\n",
              "      <th>Avery174 Ready Index Contemporary Table Of Contents Divider, 1-8, Multi, Letter</th>\n",
              "      <th>Axe Dry Anti-Perspirant Deodorant Invisible Solid Phoenix</th>\n",
              "      <th>BRIDGESTONE 130/70ZR18M/C(63W)FRONT EXEDRA G851, CRUISER RADL</th>\n",
              "      <th>Banana Boat Sunless Summer Color Self Tanning Lotion, Light To Medium</th>\n",
              "      <th>Barielle Nail Rebuilding Protein</th>\n",
              "      <th>Batherapy Natural Mineral Bath Sport Liquid, 16 oz</th>\n",
              "      <th>Baxter Of California Cream Pomade</th>\n",
              "      <th>Beanitos Bean Chips, Simply Pinto Bean</th>\n",
              "      <th>Bedtime Originals Pinkie Musical Mobile</th>\n",
              "      <th>Ben &amp; Jerry's Coffee, Coffee Buzzbuzzbuzz! Ice Cream, Pint</th>\n",
              "      <th>Better Built 74010862 Bet74010862 60In Crossover Two Lid, Deep, Truck Tool Box</th>\n",
              "      <th>Bi-O-kleen Spray &amp; Wipe All Purpose Cleaner</th>\n",
              "      <th>Bilbao Nightstand Gray Oak - South Shore</th>\n",
              "      <th>Bill Glor Gaither - Church In The Wildwood (cd)</th>\n",
              "      <th>Bisquick Original Pancake And Baking Mix - 40oz</th>\n",
              "      <th>Black Front Loading Frame Set (8.5x11) Set Of 12</th>\n",
              "      <th>Blue Anchor Design Throw Pillow (18x18) - Rizzy Home</th>\n",
              "      <th>Bodycology Nourishing Body Cream, Pretty In Paris</th>\n",
              "      <th>Boraam Sonoma Kitchen Cart With Wire Brush Gray - Maaya Home</th>\n",
              "      <th>Bounce Dryer Sheets, Fresh Linen, 160 sheets</th>\n",
              "      <th>Bumble Bee Solid White Albacore In Water - 5 Oz</th>\n",
              "      <th>...</th>\n",
              "      <th>Starbucks Iced Expresso Classics Vanilla Latte Coffee Beverage - 40oz</th>\n",
              "      <th>Starbucks153 Doubleshot Protein Coffee - 11 Fl Oz</th>\n",
              "      <th>Stargate (ws) (ultimate Edition) (director's Cut) (dvdvideo)</th>\n",
              "      <th>Storkcraft Tuscany Glider and Ottoman, Beige Cushions, Espresso Finish</th>\n",
              "      <th>Suave Professionals Hair Conditioner, Sleek</th>\n",
              "      <th>Sunflower Swag With Metal Frame - Nearly Natural</th>\n",
              "      <th>Super Poligrip Denture Adhesive Cream, Ultra Fresh - 2.4 Oz</th>\n",
              "      <th>Switchmas (dvd)</th>\n",
              "      <th>Tai Pei Sweet &amp; Sour Chicken</th>\n",
              "      <th>The Honest Company Laundry Detergent</th>\n",
              "      <th>The Resident Evil Collection 5 Discs (blu-Ray)</th>\n",
              "      <th>The Script - No Sound Without Silence (cd)</th>\n",
              "      <th>The Seaweed Bath Co. Argan Conditioner, Smoothing Citrus</th>\n",
              "      <th>There's Something About Mary (dvd)</th>\n",
              "      <th>Tim Holtz Retractable Craft Pick-Red 6x.5</th>\n",
              "      <th>Tostitos Bite Size Tortilla Chips</th>\n",
              "      <th>Tostitos Simply Blue Corn Tortilla Chips</th>\n",
              "      <th>Toy Story Kids' Woody Accessory Kit</th>\n",
              "      <th>Tramontina Ceramica 10 Piece Cookware Set - Red</th>\n",
              "      <th>Tree Hut Shea Body Butters, Coconut Lime, 7 oz</th>\n",
              "      <th>Trend Lab Park Nursing Cover - Paisley</th>\n",
              "      <th>Tresemme Kertatin Smooth Infusing Conditioning</th>\n",
              "      <th>Udi's Pepperoni Pizza</th>\n",
              "      <th>Various - Red Hot Blue:Tribute To Cole Porter (cd)</th>\n",
              "      <th>Various Artists - Choo Choo Soul (cd)</th>\n",
              "      <th>Vaseline Intensive Care Healthy Hands Stronger Nails</th>\n",
              "      <th>Vaseline Intensive Care Lip Therapy Cocoa Butter</th>\n",
              "      <th>Vicks Vaporub, Regular, 3.53oz</th>\n",
              "      <th>Voortman Sugar Free Fudge Chocolate Chip Cookies</th>\n",
              "      <th>Wagan Smartac 80watt Inverter With Usb</th>\n",
              "      <th>Walkers Stem Ginger Shortbread</th>\n",
              "      <th>Wallmount Server Cabinet (450mm, 9 RU)</th>\n",
              "      <th>Way Basics 3-Shelf Eco Narrow Bookcase Storage Shelf, Espresso - Formaldehyde Free - Lifetime Guarantee</th>\n",
              "      <th>WeatherTech 40647 14-15 Outlander Cargo Liners Behind 2nd Row, Black</th>\n",
              "      <th>Wedding Wishes Wedding Guest Book</th>\n",
              "      <th>Weleda Everon Lip Balm</th>\n",
              "      <th>Wilton Black Dots Standard Baking Cups</th>\n",
              "      <th>Windex Original Glass Cleaner Refill 67.6oz (2 Liter)</th>\n",
              "      <th>Yes To Carrots Nourishing Body Wash</th>\n",
              "      <th>Yes To Grapefruit Rejuvenating Body Wash</th>\n",
              "    </tr>\n",
              "    <tr>\n",
              "      <th>user</th>\n",
              "      <th></th>\n",
              "      <th></th>\n",
              "      <th></th>\n",
              "      <th></th>\n",
              "      <th></th>\n",
              "      <th></th>\n",
              "      <th></th>\n",
              "      <th></th>\n",
              "      <th></th>\n",
              "      <th></th>\n",
              "      <th></th>\n",
              "      <th></th>\n",
              "      <th></th>\n",
              "      <th></th>\n",
              "      <th></th>\n",
              "      <th></th>\n",
              "      <th></th>\n",
              "      <th></th>\n",
              "      <th></th>\n",
              "      <th></th>\n",
              "      <th></th>\n",
              "      <th></th>\n",
              "      <th></th>\n",
              "      <th></th>\n",
              "      <th></th>\n",
              "      <th></th>\n",
              "      <th></th>\n",
              "      <th></th>\n",
              "      <th></th>\n",
              "      <th></th>\n",
              "      <th></th>\n",
              "      <th></th>\n",
              "      <th></th>\n",
              "      <th></th>\n",
              "      <th></th>\n",
              "      <th></th>\n",
              "      <th></th>\n",
              "      <th></th>\n",
              "      <th></th>\n",
              "      <th></th>\n",
              "      <th></th>\n",
              "      <th></th>\n",
              "      <th></th>\n",
              "      <th></th>\n",
              "      <th></th>\n",
              "      <th></th>\n",
              "      <th></th>\n",
              "      <th></th>\n",
              "      <th></th>\n",
              "      <th></th>\n",
              "      <th></th>\n",
              "      <th></th>\n",
              "      <th></th>\n",
              "      <th></th>\n",
              "      <th></th>\n",
              "      <th></th>\n",
              "      <th></th>\n",
              "      <th></th>\n",
              "      <th></th>\n",
              "      <th></th>\n",
              "      <th></th>\n",
              "      <th></th>\n",
              "      <th></th>\n",
              "      <th></th>\n",
              "      <th></th>\n",
              "      <th></th>\n",
              "      <th></th>\n",
              "      <th></th>\n",
              "      <th></th>\n",
              "      <th></th>\n",
              "      <th></th>\n",
              "      <th></th>\n",
              "      <th></th>\n",
              "      <th></th>\n",
              "      <th></th>\n",
              "      <th></th>\n",
              "      <th></th>\n",
              "      <th></th>\n",
              "      <th></th>\n",
              "      <th></th>\n",
              "      <th></th>\n",
              "    </tr>\n",
              "  </thead>\n",
              "  <tbody>\n",
              "    <tr>\n",
              "      <th>00sab00</th>\n",
              "      <td>0.0</td>\n",
              "      <td>0.0</td>\n",
              "      <td>0.0</td>\n",
              "      <td>0.0</td>\n",
              "      <td>0.0</td>\n",
              "      <td>0.0</td>\n",
              "      <td>0.0</td>\n",
              "      <td>0.0</td>\n",
              "      <td>0.0</td>\n",
              "      <td>0.0</td>\n",
              "      <td>0.0</td>\n",
              "      <td>0.0</td>\n",
              "      <td>0.0</td>\n",
              "      <td>0.0</td>\n",
              "      <td>0.0</td>\n",
              "      <td>0.0</td>\n",
              "      <td>0.0</td>\n",
              "      <td>0.0</td>\n",
              "      <td>0.0</td>\n",
              "      <td>0.0</td>\n",
              "      <td>0.0</td>\n",
              "      <td>0.0</td>\n",
              "      <td>0.0</td>\n",
              "      <td>0.0</td>\n",
              "      <td>0.0</td>\n",
              "      <td>0.0</td>\n",
              "      <td>0.0</td>\n",
              "      <td>0.0</td>\n",
              "      <td>0.0</td>\n",
              "      <td>0.0</td>\n",
              "      <td>0.0</td>\n",
              "      <td>0.0</td>\n",
              "      <td>0.0</td>\n",
              "      <td>0.0</td>\n",
              "      <td>0.0</td>\n",
              "      <td>0.0</td>\n",
              "      <td>0.0</td>\n",
              "      <td>0.0</td>\n",
              "      <td>0.0</td>\n",
              "      <td>0.0</td>\n",
              "      <td>...</td>\n",
              "      <td>0.0</td>\n",
              "      <td>0.0</td>\n",
              "      <td>0.0</td>\n",
              "      <td>0.0</td>\n",
              "      <td>0.0</td>\n",
              "      <td>0.0</td>\n",
              "      <td>0.0</td>\n",
              "      <td>0.0</td>\n",
              "      <td>0.0</td>\n",
              "      <td>0.0</td>\n",
              "      <td>0.0</td>\n",
              "      <td>0.0</td>\n",
              "      <td>0.0</td>\n",
              "      <td>0.0</td>\n",
              "      <td>0.0</td>\n",
              "      <td>0.0</td>\n",
              "      <td>0.0</td>\n",
              "      <td>0.0</td>\n",
              "      <td>0.0</td>\n",
              "      <td>0.0</td>\n",
              "      <td>0.0</td>\n",
              "      <td>0.0</td>\n",
              "      <td>0.0</td>\n",
              "      <td>0.0</td>\n",
              "      <td>0.0</td>\n",
              "      <td>0.0</td>\n",
              "      <td>0.0</td>\n",
              "      <td>0.0</td>\n",
              "      <td>0.0</td>\n",
              "      <td>0.0</td>\n",
              "      <td>0.0</td>\n",
              "      <td>0.0</td>\n",
              "      <td>0.0</td>\n",
              "      <td>0.0</td>\n",
              "      <td>0.0</td>\n",
              "      <td>0.0</td>\n",
              "      <td>0.0</td>\n",
              "      <td>0.0</td>\n",
              "      <td>0.0</td>\n",
              "      <td>0.0</td>\n",
              "    </tr>\n",
              "    <tr>\n",
              "      <th>01impala</th>\n",
              "      <td>0.0</td>\n",
              "      <td>0.0</td>\n",
              "      <td>0.0</td>\n",
              "      <td>0.0</td>\n",
              "      <td>0.0</td>\n",
              "      <td>0.0</td>\n",
              "      <td>0.0</td>\n",
              "      <td>0.0</td>\n",
              "      <td>0.0</td>\n",
              "      <td>0.0</td>\n",
              "      <td>0.0</td>\n",
              "      <td>0.0</td>\n",
              "      <td>0.0</td>\n",
              "      <td>0.0</td>\n",
              "      <td>0.0</td>\n",
              "      <td>0.0</td>\n",
              "      <td>0.0</td>\n",
              "      <td>0.0</td>\n",
              "      <td>0.0</td>\n",
              "      <td>0.0</td>\n",
              "      <td>0.0</td>\n",
              "      <td>0.0</td>\n",
              "      <td>0.0</td>\n",
              "      <td>0.0</td>\n",
              "      <td>0.0</td>\n",
              "      <td>0.0</td>\n",
              "      <td>0.0</td>\n",
              "      <td>0.0</td>\n",
              "      <td>0.0</td>\n",
              "      <td>0.0</td>\n",
              "      <td>0.0</td>\n",
              "      <td>0.0</td>\n",
              "      <td>0.0</td>\n",
              "      <td>0.0</td>\n",
              "      <td>0.0</td>\n",
              "      <td>0.0</td>\n",
              "      <td>0.0</td>\n",
              "      <td>0.0</td>\n",
              "      <td>0.0</td>\n",
              "      <td>0.0</td>\n",
              "      <td>...</td>\n",
              "      <td>0.0</td>\n",
              "      <td>0.0</td>\n",
              "      <td>0.0</td>\n",
              "      <td>0.0</td>\n",
              "      <td>0.0</td>\n",
              "      <td>0.0</td>\n",
              "      <td>0.0</td>\n",
              "      <td>0.0</td>\n",
              "      <td>0.0</td>\n",
              "      <td>0.0</td>\n",
              "      <td>0.0</td>\n",
              "      <td>0.0</td>\n",
              "      <td>0.0</td>\n",
              "      <td>0.0</td>\n",
              "      <td>0.0</td>\n",
              "      <td>0.0</td>\n",
              "      <td>0.0</td>\n",
              "      <td>0.0</td>\n",
              "      <td>0.0</td>\n",
              "      <td>0.0</td>\n",
              "      <td>0.0</td>\n",
              "      <td>0.0</td>\n",
              "      <td>0.0</td>\n",
              "      <td>0.0</td>\n",
              "      <td>0.0</td>\n",
              "      <td>0.0</td>\n",
              "      <td>0.0</td>\n",
              "      <td>0.0</td>\n",
              "      <td>0.0</td>\n",
              "      <td>0.0</td>\n",
              "      <td>0.0</td>\n",
              "      <td>0.0</td>\n",
              "      <td>0.0</td>\n",
              "      <td>0.0</td>\n",
              "      <td>0.0</td>\n",
              "      <td>0.0</td>\n",
              "      <td>0.0</td>\n",
              "      <td>0.0</td>\n",
              "      <td>0.0</td>\n",
              "      <td>0.0</td>\n",
              "    </tr>\n",
              "    <tr>\n",
              "      <th>02deuce</th>\n",
              "      <td>0.0</td>\n",
              "      <td>0.0</td>\n",
              "      <td>0.0</td>\n",
              "      <td>0.0</td>\n",
              "      <td>0.0</td>\n",
              "      <td>0.0</td>\n",
              "      <td>0.0</td>\n",
              "      <td>0.0</td>\n",
              "      <td>0.0</td>\n",
              "      <td>0.0</td>\n",
              "      <td>0.0</td>\n",
              "      <td>0.0</td>\n",
              "      <td>0.0</td>\n",
              "      <td>0.0</td>\n",
              "      <td>0.0</td>\n",
              "      <td>0.0</td>\n",
              "      <td>0.0</td>\n",
              "      <td>0.0</td>\n",
              "      <td>0.0</td>\n",
              "      <td>0.0</td>\n",
              "      <td>0.0</td>\n",
              "      <td>0.0</td>\n",
              "      <td>0.0</td>\n",
              "      <td>0.0</td>\n",
              "      <td>0.0</td>\n",
              "      <td>0.0</td>\n",
              "      <td>0.0</td>\n",
              "      <td>0.0</td>\n",
              "      <td>0.0</td>\n",
              "      <td>0.0</td>\n",
              "      <td>0.0</td>\n",
              "      <td>0.0</td>\n",
              "      <td>0.0</td>\n",
              "      <td>0.0</td>\n",
              "      <td>0.0</td>\n",
              "      <td>0.0</td>\n",
              "      <td>0.0</td>\n",
              "      <td>0.0</td>\n",
              "      <td>0.0</td>\n",
              "      <td>0.0</td>\n",
              "      <td>...</td>\n",
              "      <td>0.0</td>\n",
              "      <td>0.0</td>\n",
              "      <td>0.0</td>\n",
              "      <td>0.0</td>\n",
              "      <td>0.0</td>\n",
              "      <td>0.0</td>\n",
              "      <td>0.0</td>\n",
              "      <td>0.0</td>\n",
              "      <td>0.0</td>\n",
              "      <td>0.0</td>\n",
              "      <td>0.0</td>\n",
              "      <td>0.0</td>\n",
              "      <td>0.0</td>\n",
              "      <td>0.0</td>\n",
              "      <td>0.0</td>\n",
              "      <td>0.0</td>\n",
              "      <td>0.0</td>\n",
              "      <td>0.0</td>\n",
              "      <td>0.0</td>\n",
              "      <td>0.0</td>\n",
              "      <td>0.0</td>\n",
              "      <td>0.0</td>\n",
              "      <td>0.0</td>\n",
              "      <td>0.0</td>\n",
              "      <td>0.0</td>\n",
              "      <td>0.0</td>\n",
              "      <td>0.0</td>\n",
              "      <td>0.0</td>\n",
              "      <td>0.0</td>\n",
              "      <td>0.0</td>\n",
              "      <td>0.0</td>\n",
              "      <td>0.0</td>\n",
              "      <td>0.0</td>\n",
              "      <td>0.0</td>\n",
              "      <td>0.0</td>\n",
              "      <td>0.0</td>\n",
              "      <td>0.0</td>\n",
              "      <td>0.0</td>\n",
              "      <td>0.0</td>\n",
              "      <td>0.0</td>\n",
              "    </tr>\n",
              "  </tbody>\n",
              "</table>\n",
              "<p>3 rows × 255 columns</p>\n",
              "</div>"
            ],
            "text/plain": [
              "item      0.6 Cu. Ft. Letter A4 Size Waterproof 30 Min. Fire File Chest  ...  Yes To Grapefruit Rejuvenating Body Wash\n",
              "user                                                                     ...                                          \n",
              "00sab00                                                             0.0  ...                                       0.0\n",
              "01impala                                                            0.0  ...                                       0.0\n",
              "02deuce                                                             0.0  ...                                       0.0\n",
              "\n",
              "[3 rows x 255 columns]"
            ]
          },
          "metadata": {
            "tags": []
          },
          "execution_count": 20
        }
      ]
    },
    {
      "cell_type": "markdown",
      "metadata": {
        "id": "SpU39Kt_sAxB"
      },
      "source": [
        "### Creating dummy train & dummy test dataset\n",
        "These dataset will be used for prediction \n",
        "- Dummy train will be used later for prediction of the movies which has not been rated by the user. To ignore the movies rated by the user, we will mark it as 0 during prediction. The movies not rated by user is marked as 1 for prediction in dummy train dataset. \n",
        "\n",
        "- Dummy test will be used for evaluation. To evaluate, we will only make prediction on the movies rated by the user. So, this is marked as 1. This is just opposite of dummy_train."
      ],
      "id": "SpU39Kt_sAxB"
    },
    {
      "cell_type": "code",
      "metadata": {
        "id": "3uJtCLHxgic6"
      },
      "source": [
        "# Copy the train dataset into dummy_train\n",
        "dummy_train = train.copy()"
      ],
      "id": "3uJtCLHxgic6",
      "execution_count": 21,
      "outputs": []
    },
    {
      "cell_type": "code",
      "metadata": {
        "id": "49wzgOshgiaF"
      },
      "source": [
        "# The items not rated by user is marked as 1 for prediction. \n",
        "dummy_train['rating'] = dummy_train['rating'].apply(lambda x: 0 if x>=1 else 1)"
      ],
      "id": "49wzgOshgiaF",
      "execution_count": 22,
      "outputs": []
    },
    {
      "cell_type": "code",
      "metadata": {
        "id": "hOGKN6crgiW1",
        "colab": {
          "base_uri": "https://localhost:8080/"
        },
        "outputId": "c76161e1-5872-4234-c287-b3e78190b718"
      },
      "source": [
        "# Checking shape of dummy_train\n",
        "dummy_train.shape"
      ],
      "id": "hOGKN6crgiW1",
      "execution_count": 23,
      "outputs": [
        {
          "output_type": "execute_result",
          "data": {
            "text/plain": [
              "(22070, 3)"
            ]
          },
          "metadata": {
            "tags": []
          },
          "execution_count": 23
        }
      ]
    },
    {
      "cell_type": "code",
      "metadata": {
        "id": "Htxelsqewo3U"
      },
      "source": [
        "# Convert the dummy train dataset into matrix format.\n",
        "dummy_train = dummy_train.pivot(index='user'\n",
        "                               ,columns='item'\n",
        "                              ,values='rating').fillna(1)"
      ],
      "id": "Htxelsqewo3U",
      "execution_count": 24,
      "outputs": []
    },
    {
      "cell_type": "code",
      "metadata": {
        "id": "n-ETzNGOufK5",
        "colab": {
          "base_uri": "https://localhost:8080/"
        },
        "outputId": "e6858970-fbba-4c6f-a25d-303dea93d023"
      },
      "source": [
        "dummy_train.shape"
      ],
      "id": "n-ETzNGOufK5",
      "execution_count": 25,
      "outputs": [
        {
          "output_type": "execute_result",
          "data": {
            "text/plain": [
              "(20229, 255)"
            ]
          },
          "metadata": {
            "tags": []
          },
          "execution_count": 25
        }
      ]
    },
    {
      "cell_type": "markdown",
      "metadata": {
        "id": "oCdK7iO8ssDz"
      },
      "source": [
        "### Building User Similarity Matrix"
      ],
      "id": "oCdK7iO8ssDz"
    },
    {
      "cell_type": "markdown",
      "metadata": {
        "id": "R8wjhstTsvm2"
      },
      "source": [
        "#### Building Cosine Similarity Matrix"
      ],
      "id": "R8wjhstTsvm2"
    },
    {
      "cell_type": "code",
      "metadata": {
        "id": "pyjQ9vs5giUh",
        "colab": {
          "base_uri": "https://localhost:8080/"
        },
        "outputId": "67e6b38a-8a37-4acd-8617-e4ac92742c7d"
      },
      "source": [
        "# Creating the User Similarity Matrix using pairwise_distance function.\n",
        "user_correlation = 1 - pairwise_distances(df_pivot, metric='cosine')\n",
        "user_correlation[np.isnan(user_correlation)] = 0\n",
        "user_correlation"
      ],
      "id": "pyjQ9vs5giUh",
      "execution_count": 26,
      "outputs": [
        {
          "output_type": "execute_result",
          "data": {
            "text/plain": [
              "array([[1., 0., 0., ..., 0., 0., 0.],\n",
              "       [0., 1., 1., ..., 0., 0., 0.],\n",
              "       [0., 1., 1., ..., 0., 0., 0.],\n",
              "       ...,\n",
              "       [0., 0., 0., ..., 1., 0., 0.],\n",
              "       [0., 0., 0., ..., 0., 1., 1.],\n",
              "       [0., 0., 0., ..., 0., 1., 1.]])"
            ]
          },
          "metadata": {
            "tags": []
          },
          "execution_count": 26
        }
      ]
    },
    {
      "cell_type": "code",
      "metadata": {
        "id": "ZGyCED9SgiRR",
        "colab": {
          "base_uri": "https://localhost:8080/"
        },
        "outputId": "aa51360c-75dc-49b7-c0bc-1f57b6cdbf1d"
      },
      "source": [
        "user_correlation.shape"
      ],
      "id": "ZGyCED9SgiRR",
      "execution_count": 27,
      "outputs": [
        {
          "output_type": "execute_result",
          "data": {
            "text/plain": [
              "(20229, 20229)"
            ]
          },
          "metadata": {
            "tags": []
          },
          "execution_count": 27
        }
      ]
    },
    {
      "cell_type": "code",
      "metadata": {
        "colab": {
          "base_uri": "https://localhost:8080/"
        },
        "id": "3Ov0y6Z7ySCz",
        "outputId": "baf78322-23c6-4337-8696-5576c4683177"
      },
      "source": [
        "sum(user_correlation[0])"
      ],
      "id": "3Ov0y6Z7ySCz",
      "execution_count": 28,
      "outputs": [
        {
          "output_type": "execute_result",
          "data": {
            "text/plain": [
              "611.7755723102795"
            ]
          },
          "metadata": {
            "tags": []
          },
          "execution_count": 28
        }
      ]
    },
    {
      "cell_type": "markdown",
      "metadata": {
        "id": "4EyNaiFts77n"
      },
      "source": [
        "#### Using adjusted Cosine "
      ],
      "id": "4EyNaiFts77n"
    },
    {
      "cell_type": "code",
      "metadata": {
        "id": "7-9HHzpQgiPK",
        "colab": {
          "base_uri": "https://localhost:8080/",
          "height": 505
        },
        "outputId": "457d6fbd-3269-4649-9ffa-d57e0b81bd14"
      },
      "source": [
        "# Create a user-movie matrix.\n",
        "df_pivot = train.pivot(index='user'\n",
        "                      ,columns='item'\n",
        "                      ,values='rating')\n",
        "df_pivot.head()"
      ],
      "id": "7-9HHzpQgiPK",
      "execution_count": 29,
      "outputs": [
        {
          "output_type": "execute_result",
          "data": {
            "text/html": [
              "<div>\n",
              "<style scoped>\n",
              "    .dataframe tbody tr th:only-of-type {\n",
              "        vertical-align: middle;\n",
              "    }\n",
              "\n",
              "    .dataframe tbody tr th {\n",
              "        vertical-align: top;\n",
              "    }\n",
              "\n",
              "    .dataframe thead th {\n",
              "        text-align: right;\n",
              "    }\n",
              "</style>\n",
              "<table border=\"1\" class=\"dataframe\">\n",
              "  <thead>\n",
              "    <tr style=\"text-align: right;\">\n",
              "      <th>item</th>\n",
              "      <th>0.6 Cu. Ft. Letter A4 Size Waterproof 30 Min. Fire File Chest</th>\n",
              "      <th>100:Complete First Season (blu-Ray)</th>\n",
              "      <th>2017-2018 Brownline174 Duraflex 14-Month Planner 8 1/2 X 11 Black</th>\n",
              "      <th>2x Ultra Era with Oxi Booster, 50fl oz</th>\n",
              "      <th>42 Dual Drop Leaf Table with 2 Madrid Chairs\"</th>\n",
              "      <th>4C Grated Parmesan Cheese 100% Natural 8oz Shaker</th>\n",
              "      <th>5302050 15/16 FCT/HOSE ADAPTOR</th>\n",
              "      <th>Africa's Best No-Lye Dual Conditioning Relaxer System Super</th>\n",
              "      <th>Alberto VO5 Salon Series Smooth Plus Sleek Shampoo</th>\n",
              "      <th>Alex Cross (dvdvideo)</th>\n",
              "      <th>All,bran Complete Wheat Flakes, 18 Oz.</th>\n",
              "      <th>Ambi Complexion Cleansing Bar</th>\n",
              "      <th>Annie's Homegrown Deluxe Elbows &amp; Four Cheese Sauce</th>\n",
              "      <th>Annie's Homegrown Gluten Free Double Chocolate Chip Granola Bars</th>\n",
              "      <th>Arrid Extra Dry Anti-Perspirant Deodorant Spray Regular</th>\n",
              "      <th>Aussie Aussome Volume Shampoo, 13.5 Oz</th>\n",
              "      <th>Australian Gold Exotic Blend Lotion, SPF 4</th>\n",
              "      <th>Aveeno Baby Continuous Protection Lotion Sunscreen with Broad Spectrum SPF 55, 4oz</th>\n",
              "      <th>Avery174 11-1/4 X 9-1/4 Index Maker Extra Wide Label Dividers With 5 Tab - Clear (5 Sets Per Pack)</th>\n",
              "      <th>Avery174 Ready Index Contemporary Table Of Contents Divider, 1-8, Multi, Letter</th>\n",
              "      <th>Axe Dry Anti-Perspirant Deodorant Invisible Solid Phoenix</th>\n",
              "      <th>BRIDGESTONE 130/70ZR18M/C(63W)FRONT EXEDRA G851, CRUISER RADL</th>\n",
              "      <th>Banana Boat Sunless Summer Color Self Tanning Lotion, Light To Medium</th>\n",
              "      <th>Barielle Nail Rebuilding Protein</th>\n",
              "      <th>Batherapy Natural Mineral Bath Sport Liquid, 16 oz</th>\n",
              "      <th>Baxter Of California Cream Pomade</th>\n",
              "      <th>Beanitos Bean Chips, Simply Pinto Bean</th>\n",
              "      <th>Bedtime Originals Pinkie Musical Mobile</th>\n",
              "      <th>Ben &amp; Jerry's Coffee, Coffee Buzzbuzzbuzz! Ice Cream, Pint</th>\n",
              "      <th>Better Built 74010862 Bet74010862 60In Crossover Two Lid, Deep, Truck Tool Box</th>\n",
              "      <th>Bi-O-kleen Spray &amp; Wipe All Purpose Cleaner</th>\n",
              "      <th>Bilbao Nightstand Gray Oak - South Shore</th>\n",
              "      <th>Bill Glor Gaither - Church In The Wildwood (cd)</th>\n",
              "      <th>Bisquick Original Pancake And Baking Mix - 40oz</th>\n",
              "      <th>Black Front Loading Frame Set (8.5x11) Set Of 12</th>\n",
              "      <th>Blue Anchor Design Throw Pillow (18x18) - Rizzy Home</th>\n",
              "      <th>Bodycology Nourishing Body Cream, Pretty In Paris</th>\n",
              "      <th>Boraam Sonoma Kitchen Cart With Wire Brush Gray - Maaya Home</th>\n",
              "      <th>Bounce Dryer Sheets, Fresh Linen, 160 sheets</th>\n",
              "      <th>Bumble Bee Solid White Albacore In Water - 5 Oz</th>\n",
              "      <th>...</th>\n",
              "      <th>Starbucks Iced Expresso Classics Vanilla Latte Coffee Beverage - 40oz</th>\n",
              "      <th>Starbucks153 Doubleshot Protein Coffee - 11 Fl Oz</th>\n",
              "      <th>Stargate (ws) (ultimate Edition) (director's Cut) (dvdvideo)</th>\n",
              "      <th>Storkcraft Tuscany Glider and Ottoman, Beige Cushions, Espresso Finish</th>\n",
              "      <th>Suave Professionals Hair Conditioner, Sleek</th>\n",
              "      <th>Sunflower Swag With Metal Frame - Nearly Natural</th>\n",
              "      <th>Super Poligrip Denture Adhesive Cream, Ultra Fresh - 2.4 Oz</th>\n",
              "      <th>Switchmas (dvd)</th>\n",
              "      <th>Tai Pei Sweet &amp; Sour Chicken</th>\n",
              "      <th>The Honest Company Laundry Detergent</th>\n",
              "      <th>The Resident Evil Collection 5 Discs (blu-Ray)</th>\n",
              "      <th>The Script - No Sound Without Silence (cd)</th>\n",
              "      <th>The Seaweed Bath Co. Argan Conditioner, Smoothing Citrus</th>\n",
              "      <th>There's Something About Mary (dvd)</th>\n",
              "      <th>Tim Holtz Retractable Craft Pick-Red 6x.5</th>\n",
              "      <th>Tostitos Bite Size Tortilla Chips</th>\n",
              "      <th>Tostitos Simply Blue Corn Tortilla Chips</th>\n",
              "      <th>Toy Story Kids' Woody Accessory Kit</th>\n",
              "      <th>Tramontina Ceramica 10 Piece Cookware Set - Red</th>\n",
              "      <th>Tree Hut Shea Body Butters, Coconut Lime, 7 oz</th>\n",
              "      <th>Trend Lab Park Nursing Cover - Paisley</th>\n",
              "      <th>Tresemme Kertatin Smooth Infusing Conditioning</th>\n",
              "      <th>Udi's Pepperoni Pizza</th>\n",
              "      <th>Various - Red Hot Blue:Tribute To Cole Porter (cd)</th>\n",
              "      <th>Various Artists - Choo Choo Soul (cd)</th>\n",
              "      <th>Vaseline Intensive Care Healthy Hands Stronger Nails</th>\n",
              "      <th>Vaseline Intensive Care Lip Therapy Cocoa Butter</th>\n",
              "      <th>Vicks Vaporub, Regular, 3.53oz</th>\n",
              "      <th>Voortman Sugar Free Fudge Chocolate Chip Cookies</th>\n",
              "      <th>Wagan Smartac 80watt Inverter With Usb</th>\n",
              "      <th>Walkers Stem Ginger Shortbread</th>\n",
              "      <th>Wallmount Server Cabinet (450mm, 9 RU)</th>\n",
              "      <th>Way Basics 3-Shelf Eco Narrow Bookcase Storage Shelf, Espresso - Formaldehyde Free - Lifetime Guarantee</th>\n",
              "      <th>WeatherTech 40647 14-15 Outlander Cargo Liners Behind 2nd Row, Black</th>\n",
              "      <th>Wedding Wishes Wedding Guest Book</th>\n",
              "      <th>Weleda Everon Lip Balm</th>\n",
              "      <th>Wilton Black Dots Standard Baking Cups</th>\n",
              "      <th>Windex Original Glass Cleaner Refill 67.6oz (2 Liter)</th>\n",
              "      <th>Yes To Carrots Nourishing Body Wash</th>\n",
              "      <th>Yes To Grapefruit Rejuvenating Body Wash</th>\n",
              "    </tr>\n",
              "    <tr>\n",
              "      <th>user</th>\n",
              "      <th></th>\n",
              "      <th></th>\n",
              "      <th></th>\n",
              "      <th></th>\n",
              "      <th></th>\n",
              "      <th></th>\n",
              "      <th></th>\n",
              "      <th></th>\n",
              "      <th></th>\n",
              "      <th></th>\n",
              "      <th></th>\n",
              "      <th></th>\n",
              "      <th></th>\n",
              "      <th></th>\n",
              "      <th></th>\n",
              "      <th></th>\n",
              "      <th></th>\n",
              "      <th></th>\n",
              "      <th></th>\n",
              "      <th></th>\n",
              "      <th></th>\n",
              "      <th></th>\n",
              "      <th></th>\n",
              "      <th></th>\n",
              "      <th></th>\n",
              "      <th></th>\n",
              "      <th></th>\n",
              "      <th></th>\n",
              "      <th></th>\n",
              "      <th></th>\n",
              "      <th></th>\n",
              "      <th></th>\n",
              "      <th></th>\n",
              "      <th></th>\n",
              "      <th></th>\n",
              "      <th></th>\n",
              "      <th></th>\n",
              "      <th></th>\n",
              "      <th></th>\n",
              "      <th></th>\n",
              "      <th></th>\n",
              "      <th></th>\n",
              "      <th></th>\n",
              "      <th></th>\n",
              "      <th></th>\n",
              "      <th></th>\n",
              "      <th></th>\n",
              "      <th></th>\n",
              "      <th></th>\n",
              "      <th></th>\n",
              "      <th></th>\n",
              "      <th></th>\n",
              "      <th></th>\n",
              "      <th></th>\n",
              "      <th></th>\n",
              "      <th></th>\n",
              "      <th></th>\n",
              "      <th></th>\n",
              "      <th></th>\n",
              "      <th></th>\n",
              "      <th></th>\n",
              "      <th></th>\n",
              "      <th></th>\n",
              "      <th></th>\n",
              "      <th></th>\n",
              "      <th></th>\n",
              "      <th></th>\n",
              "      <th></th>\n",
              "      <th></th>\n",
              "      <th></th>\n",
              "      <th></th>\n",
              "      <th></th>\n",
              "      <th></th>\n",
              "      <th></th>\n",
              "      <th></th>\n",
              "      <th></th>\n",
              "      <th></th>\n",
              "      <th></th>\n",
              "      <th></th>\n",
              "      <th></th>\n",
              "      <th></th>\n",
              "    </tr>\n",
              "  </thead>\n",
              "  <tbody>\n",
              "    <tr>\n",
              "      <th>00sab00</th>\n",
              "      <td>NaN</td>\n",
              "      <td>NaN</td>\n",
              "      <td>NaN</td>\n",
              "      <td>NaN</td>\n",
              "      <td>NaN</td>\n",
              "      <td>NaN</td>\n",
              "      <td>NaN</td>\n",
              "      <td>NaN</td>\n",
              "      <td>NaN</td>\n",
              "      <td>NaN</td>\n",
              "      <td>NaN</td>\n",
              "      <td>NaN</td>\n",
              "      <td>NaN</td>\n",
              "      <td>NaN</td>\n",
              "      <td>NaN</td>\n",
              "      <td>NaN</td>\n",
              "      <td>NaN</td>\n",
              "      <td>NaN</td>\n",
              "      <td>NaN</td>\n",
              "      <td>NaN</td>\n",
              "      <td>NaN</td>\n",
              "      <td>NaN</td>\n",
              "      <td>NaN</td>\n",
              "      <td>NaN</td>\n",
              "      <td>NaN</td>\n",
              "      <td>NaN</td>\n",
              "      <td>NaN</td>\n",
              "      <td>NaN</td>\n",
              "      <td>NaN</td>\n",
              "      <td>NaN</td>\n",
              "      <td>NaN</td>\n",
              "      <td>NaN</td>\n",
              "      <td>NaN</td>\n",
              "      <td>NaN</td>\n",
              "      <td>NaN</td>\n",
              "      <td>NaN</td>\n",
              "      <td>NaN</td>\n",
              "      <td>NaN</td>\n",
              "      <td>NaN</td>\n",
              "      <td>NaN</td>\n",
              "      <td>...</td>\n",
              "      <td>NaN</td>\n",
              "      <td>NaN</td>\n",
              "      <td>NaN</td>\n",
              "      <td>NaN</td>\n",
              "      <td>NaN</td>\n",
              "      <td>NaN</td>\n",
              "      <td>NaN</td>\n",
              "      <td>NaN</td>\n",
              "      <td>NaN</td>\n",
              "      <td>NaN</td>\n",
              "      <td>NaN</td>\n",
              "      <td>NaN</td>\n",
              "      <td>NaN</td>\n",
              "      <td>NaN</td>\n",
              "      <td>NaN</td>\n",
              "      <td>NaN</td>\n",
              "      <td>NaN</td>\n",
              "      <td>NaN</td>\n",
              "      <td>NaN</td>\n",
              "      <td>NaN</td>\n",
              "      <td>NaN</td>\n",
              "      <td>NaN</td>\n",
              "      <td>NaN</td>\n",
              "      <td>NaN</td>\n",
              "      <td>NaN</td>\n",
              "      <td>NaN</td>\n",
              "      <td>NaN</td>\n",
              "      <td>NaN</td>\n",
              "      <td>NaN</td>\n",
              "      <td>NaN</td>\n",
              "      <td>NaN</td>\n",
              "      <td>NaN</td>\n",
              "      <td>NaN</td>\n",
              "      <td>NaN</td>\n",
              "      <td>NaN</td>\n",
              "      <td>NaN</td>\n",
              "      <td>NaN</td>\n",
              "      <td>NaN</td>\n",
              "      <td>NaN</td>\n",
              "      <td>NaN</td>\n",
              "    </tr>\n",
              "    <tr>\n",
              "      <th>01impala</th>\n",
              "      <td>NaN</td>\n",
              "      <td>NaN</td>\n",
              "      <td>NaN</td>\n",
              "      <td>NaN</td>\n",
              "      <td>NaN</td>\n",
              "      <td>NaN</td>\n",
              "      <td>NaN</td>\n",
              "      <td>NaN</td>\n",
              "      <td>NaN</td>\n",
              "      <td>NaN</td>\n",
              "      <td>NaN</td>\n",
              "      <td>NaN</td>\n",
              "      <td>NaN</td>\n",
              "      <td>NaN</td>\n",
              "      <td>NaN</td>\n",
              "      <td>NaN</td>\n",
              "      <td>NaN</td>\n",
              "      <td>NaN</td>\n",
              "      <td>NaN</td>\n",
              "      <td>NaN</td>\n",
              "      <td>NaN</td>\n",
              "      <td>NaN</td>\n",
              "      <td>NaN</td>\n",
              "      <td>NaN</td>\n",
              "      <td>NaN</td>\n",
              "      <td>NaN</td>\n",
              "      <td>NaN</td>\n",
              "      <td>NaN</td>\n",
              "      <td>NaN</td>\n",
              "      <td>NaN</td>\n",
              "      <td>NaN</td>\n",
              "      <td>NaN</td>\n",
              "      <td>NaN</td>\n",
              "      <td>NaN</td>\n",
              "      <td>NaN</td>\n",
              "      <td>NaN</td>\n",
              "      <td>NaN</td>\n",
              "      <td>NaN</td>\n",
              "      <td>NaN</td>\n",
              "      <td>NaN</td>\n",
              "      <td>...</td>\n",
              "      <td>NaN</td>\n",
              "      <td>NaN</td>\n",
              "      <td>NaN</td>\n",
              "      <td>NaN</td>\n",
              "      <td>NaN</td>\n",
              "      <td>NaN</td>\n",
              "      <td>NaN</td>\n",
              "      <td>NaN</td>\n",
              "      <td>NaN</td>\n",
              "      <td>NaN</td>\n",
              "      <td>NaN</td>\n",
              "      <td>NaN</td>\n",
              "      <td>NaN</td>\n",
              "      <td>NaN</td>\n",
              "      <td>NaN</td>\n",
              "      <td>NaN</td>\n",
              "      <td>NaN</td>\n",
              "      <td>NaN</td>\n",
              "      <td>NaN</td>\n",
              "      <td>NaN</td>\n",
              "      <td>NaN</td>\n",
              "      <td>NaN</td>\n",
              "      <td>NaN</td>\n",
              "      <td>NaN</td>\n",
              "      <td>NaN</td>\n",
              "      <td>NaN</td>\n",
              "      <td>NaN</td>\n",
              "      <td>NaN</td>\n",
              "      <td>NaN</td>\n",
              "      <td>NaN</td>\n",
              "      <td>NaN</td>\n",
              "      <td>NaN</td>\n",
              "      <td>NaN</td>\n",
              "      <td>NaN</td>\n",
              "      <td>NaN</td>\n",
              "      <td>NaN</td>\n",
              "      <td>NaN</td>\n",
              "      <td>NaN</td>\n",
              "      <td>NaN</td>\n",
              "      <td>NaN</td>\n",
              "    </tr>\n",
              "    <tr>\n",
              "      <th>02deuce</th>\n",
              "      <td>NaN</td>\n",
              "      <td>NaN</td>\n",
              "      <td>NaN</td>\n",
              "      <td>NaN</td>\n",
              "      <td>NaN</td>\n",
              "      <td>NaN</td>\n",
              "      <td>NaN</td>\n",
              "      <td>NaN</td>\n",
              "      <td>NaN</td>\n",
              "      <td>NaN</td>\n",
              "      <td>NaN</td>\n",
              "      <td>NaN</td>\n",
              "      <td>NaN</td>\n",
              "      <td>NaN</td>\n",
              "      <td>NaN</td>\n",
              "      <td>NaN</td>\n",
              "      <td>NaN</td>\n",
              "      <td>NaN</td>\n",
              "      <td>NaN</td>\n",
              "      <td>NaN</td>\n",
              "      <td>NaN</td>\n",
              "      <td>NaN</td>\n",
              "      <td>NaN</td>\n",
              "      <td>NaN</td>\n",
              "      <td>NaN</td>\n",
              "      <td>NaN</td>\n",
              "      <td>NaN</td>\n",
              "      <td>NaN</td>\n",
              "      <td>NaN</td>\n",
              "      <td>NaN</td>\n",
              "      <td>NaN</td>\n",
              "      <td>NaN</td>\n",
              "      <td>NaN</td>\n",
              "      <td>NaN</td>\n",
              "      <td>NaN</td>\n",
              "      <td>NaN</td>\n",
              "      <td>NaN</td>\n",
              "      <td>NaN</td>\n",
              "      <td>NaN</td>\n",
              "      <td>NaN</td>\n",
              "      <td>...</td>\n",
              "      <td>NaN</td>\n",
              "      <td>NaN</td>\n",
              "      <td>NaN</td>\n",
              "      <td>NaN</td>\n",
              "      <td>NaN</td>\n",
              "      <td>NaN</td>\n",
              "      <td>NaN</td>\n",
              "      <td>NaN</td>\n",
              "      <td>NaN</td>\n",
              "      <td>NaN</td>\n",
              "      <td>NaN</td>\n",
              "      <td>NaN</td>\n",
              "      <td>NaN</td>\n",
              "      <td>NaN</td>\n",
              "      <td>NaN</td>\n",
              "      <td>NaN</td>\n",
              "      <td>NaN</td>\n",
              "      <td>NaN</td>\n",
              "      <td>NaN</td>\n",
              "      <td>NaN</td>\n",
              "      <td>NaN</td>\n",
              "      <td>NaN</td>\n",
              "      <td>NaN</td>\n",
              "      <td>NaN</td>\n",
              "      <td>NaN</td>\n",
              "      <td>NaN</td>\n",
              "      <td>NaN</td>\n",
              "      <td>NaN</td>\n",
              "      <td>NaN</td>\n",
              "      <td>NaN</td>\n",
              "      <td>NaN</td>\n",
              "      <td>NaN</td>\n",
              "      <td>NaN</td>\n",
              "      <td>NaN</td>\n",
              "      <td>NaN</td>\n",
              "      <td>NaN</td>\n",
              "      <td>NaN</td>\n",
              "      <td>NaN</td>\n",
              "      <td>NaN</td>\n",
              "      <td>NaN</td>\n",
              "    </tr>\n",
              "    <tr>\n",
              "      <th>0325home</th>\n",
              "      <td>NaN</td>\n",
              "      <td>NaN</td>\n",
              "      <td>NaN</td>\n",
              "      <td>NaN</td>\n",
              "      <td>NaN</td>\n",
              "      <td>NaN</td>\n",
              "      <td>NaN</td>\n",
              "      <td>NaN</td>\n",
              "      <td>NaN</td>\n",
              "      <td>NaN</td>\n",
              "      <td>NaN</td>\n",
              "      <td>NaN</td>\n",
              "      <td>NaN</td>\n",
              "      <td>NaN</td>\n",
              "      <td>NaN</td>\n",
              "      <td>NaN</td>\n",
              "      <td>NaN</td>\n",
              "      <td>NaN</td>\n",
              "      <td>NaN</td>\n",
              "      <td>NaN</td>\n",
              "      <td>NaN</td>\n",
              "      <td>NaN</td>\n",
              "      <td>NaN</td>\n",
              "      <td>NaN</td>\n",
              "      <td>NaN</td>\n",
              "      <td>NaN</td>\n",
              "      <td>NaN</td>\n",
              "      <td>NaN</td>\n",
              "      <td>NaN</td>\n",
              "      <td>NaN</td>\n",
              "      <td>NaN</td>\n",
              "      <td>NaN</td>\n",
              "      <td>NaN</td>\n",
              "      <td>NaN</td>\n",
              "      <td>NaN</td>\n",
              "      <td>NaN</td>\n",
              "      <td>NaN</td>\n",
              "      <td>NaN</td>\n",
              "      <td>NaN</td>\n",
              "      <td>NaN</td>\n",
              "      <td>...</td>\n",
              "      <td>NaN</td>\n",
              "      <td>NaN</td>\n",
              "      <td>NaN</td>\n",
              "      <td>NaN</td>\n",
              "      <td>NaN</td>\n",
              "      <td>NaN</td>\n",
              "      <td>NaN</td>\n",
              "      <td>NaN</td>\n",
              "      <td>NaN</td>\n",
              "      <td>NaN</td>\n",
              "      <td>NaN</td>\n",
              "      <td>NaN</td>\n",
              "      <td>NaN</td>\n",
              "      <td>NaN</td>\n",
              "      <td>NaN</td>\n",
              "      <td>NaN</td>\n",
              "      <td>NaN</td>\n",
              "      <td>NaN</td>\n",
              "      <td>NaN</td>\n",
              "      <td>NaN</td>\n",
              "      <td>NaN</td>\n",
              "      <td>NaN</td>\n",
              "      <td>NaN</td>\n",
              "      <td>NaN</td>\n",
              "      <td>NaN</td>\n",
              "      <td>NaN</td>\n",
              "      <td>NaN</td>\n",
              "      <td>NaN</td>\n",
              "      <td>NaN</td>\n",
              "      <td>NaN</td>\n",
              "      <td>NaN</td>\n",
              "      <td>NaN</td>\n",
              "      <td>NaN</td>\n",
              "      <td>NaN</td>\n",
              "      <td>NaN</td>\n",
              "      <td>NaN</td>\n",
              "      <td>NaN</td>\n",
              "      <td>NaN</td>\n",
              "      <td>NaN</td>\n",
              "      <td>NaN</td>\n",
              "    </tr>\n",
              "    <tr>\n",
              "      <th>09mommy11</th>\n",
              "      <td>NaN</td>\n",
              "      <td>NaN</td>\n",
              "      <td>NaN</td>\n",
              "      <td>NaN</td>\n",
              "      <td>NaN</td>\n",
              "      <td>NaN</td>\n",
              "      <td>NaN</td>\n",
              "      <td>NaN</td>\n",
              "      <td>NaN</td>\n",
              "      <td>NaN</td>\n",
              "      <td>NaN</td>\n",
              "      <td>NaN</td>\n",
              "      <td>NaN</td>\n",
              "      <td>NaN</td>\n",
              "      <td>NaN</td>\n",
              "      <td>NaN</td>\n",
              "      <td>NaN</td>\n",
              "      <td>NaN</td>\n",
              "      <td>NaN</td>\n",
              "      <td>NaN</td>\n",
              "      <td>NaN</td>\n",
              "      <td>NaN</td>\n",
              "      <td>NaN</td>\n",
              "      <td>NaN</td>\n",
              "      <td>NaN</td>\n",
              "      <td>NaN</td>\n",
              "      <td>NaN</td>\n",
              "      <td>NaN</td>\n",
              "      <td>NaN</td>\n",
              "      <td>NaN</td>\n",
              "      <td>NaN</td>\n",
              "      <td>NaN</td>\n",
              "      <td>NaN</td>\n",
              "      <td>NaN</td>\n",
              "      <td>NaN</td>\n",
              "      <td>NaN</td>\n",
              "      <td>NaN</td>\n",
              "      <td>NaN</td>\n",
              "      <td>NaN</td>\n",
              "      <td>NaN</td>\n",
              "      <td>...</td>\n",
              "      <td>NaN</td>\n",
              "      <td>NaN</td>\n",
              "      <td>NaN</td>\n",
              "      <td>NaN</td>\n",
              "      <td>NaN</td>\n",
              "      <td>NaN</td>\n",
              "      <td>NaN</td>\n",
              "      <td>NaN</td>\n",
              "      <td>NaN</td>\n",
              "      <td>NaN</td>\n",
              "      <td>NaN</td>\n",
              "      <td>NaN</td>\n",
              "      <td>NaN</td>\n",
              "      <td>NaN</td>\n",
              "      <td>NaN</td>\n",
              "      <td>NaN</td>\n",
              "      <td>NaN</td>\n",
              "      <td>NaN</td>\n",
              "      <td>NaN</td>\n",
              "      <td>NaN</td>\n",
              "      <td>NaN</td>\n",
              "      <td>NaN</td>\n",
              "      <td>NaN</td>\n",
              "      <td>NaN</td>\n",
              "      <td>NaN</td>\n",
              "      <td>NaN</td>\n",
              "      <td>NaN</td>\n",
              "      <td>NaN</td>\n",
              "      <td>NaN</td>\n",
              "      <td>NaN</td>\n",
              "      <td>NaN</td>\n",
              "      <td>NaN</td>\n",
              "      <td>NaN</td>\n",
              "      <td>NaN</td>\n",
              "      <td>NaN</td>\n",
              "      <td>NaN</td>\n",
              "      <td>NaN</td>\n",
              "      <td>NaN</td>\n",
              "      <td>NaN</td>\n",
              "      <td>NaN</td>\n",
              "    </tr>\n",
              "  </tbody>\n",
              "</table>\n",
              "<p>5 rows × 255 columns</p>\n",
              "</div>"
            ],
            "text/plain": [
              "item       0.6 Cu. Ft. Letter A4 Size Waterproof 30 Min. Fire File Chest  ...  Yes To Grapefruit Rejuvenating Body Wash\n",
              "user                                                                      ...                                          \n",
              "00sab00                                                              NaN  ...                                       NaN\n",
              "01impala                                                             NaN  ...                                       NaN\n",
              "02deuce                                                              NaN  ...                                       NaN\n",
              "0325home                                                             NaN  ...                                       NaN\n",
              "09mommy11                                                            NaN  ...                                       NaN\n",
              "\n",
              "[5 rows x 255 columns]"
            ]
          },
          "metadata": {
            "tags": []
          },
          "execution_count": 29
        }
      ]
    },
    {
      "cell_type": "code",
      "metadata": {
        "id": "X4Ew_Hx5giMR",
        "colab": {
          "base_uri": "https://localhost:8080/"
        },
        "outputId": "996d212f-d230-4b43-ce6d-6980c797d371"
      },
      "source": [
        "# Checking the shape of df_pivot\n",
        "df_pivot.shape"
      ],
      "id": "X4Ew_Hx5giMR",
      "execution_count": 30,
      "outputs": [
        {
          "output_type": "execute_result",
          "data": {
            "text/plain": [
              "(20229, 255)"
            ]
          },
          "metadata": {
            "tags": []
          },
          "execution_count": 30
        }
      ]
    },
    {
      "cell_type": "markdown",
      "metadata": {
        "id": "0ZncojUQt5H2"
      },
      "source": [
        "##### Normalising the rating of the item for each user"
      ],
      "id": "0ZncojUQt5H2"
    },
    {
      "cell_type": "code",
      "metadata": {
        "id": "hYOhLZTmgiKO"
      },
      "source": [
        "mean = np.nanmean(df_pivot, axis=1)\n",
        "df_subtracted = (df_pivot.T-mean).T"
      ],
      "id": "hYOhLZTmgiKO",
      "execution_count": 31,
      "outputs": []
    },
    {
      "cell_type": "code",
      "metadata": {
        "id": "p6CQ53XYt68R",
        "colab": {
          "base_uri": "https://localhost:8080/"
        },
        "outputId": "e14792dd-f227-497c-ff56-92a5e0201c19"
      },
      "source": [
        "df_subtracted.shape"
      ],
      "id": "p6CQ53XYt68R",
      "execution_count": 32,
      "outputs": [
        {
          "output_type": "execute_result",
          "data": {
            "text/plain": [
              "(20229, 255)"
            ]
          },
          "metadata": {
            "tags": []
          },
          "execution_count": 32
        }
      ]
    },
    {
      "cell_type": "markdown",
      "metadata": {
        "id": "sobe9H29t-IY"
      },
      "source": [
        "##### Finding cosine similarity"
      ],
      "id": "sobe9H29t-IY"
    },
    {
      "cell_type": "code",
      "metadata": {
        "id": "st56550EuCDb",
        "colab": {
          "base_uri": "https://localhost:8080/"
        },
        "outputId": "e01855d2-fcc4-4803-d7f2-980bd08a8009"
      },
      "source": [
        "# Creating the User Similarity Matrix using pairwise_distance function.\n",
        "user_correlation = 1 - pairwise_distances(df_subtracted.fillna(0), metric='cosine')\n",
        "user_correlation[np.isnan(user_correlation)] = 0\n",
        "print(user_correlation)"
      ],
      "id": "st56550EuCDb",
      "execution_count": 33,
      "outputs": [
        {
          "output_type": "stream",
          "text": [
            "[[1. 0. 0. ... 0. 0. 0.]\n",
            " [0. 0. 0. ... 0. 0. 0.]\n",
            " [0. 0. 0. ... 0. 0. 0.]\n",
            " ...\n",
            " [0. 0. 0. ... 0. 0. 0.]\n",
            " [0. 0. 0. ... 0. 0. 0.]\n",
            " [0. 0. 0. ... 0. 0. 0.]]\n"
          ],
          "name": "stdout"
        }
      ]
    },
    {
      "cell_type": "code",
      "metadata": {
        "colab": {
          "base_uri": "https://localhost:8080/"
        },
        "id": "0Y6mc4qeyvQJ",
        "outputId": "1bf13fe5-6baf-42c3-b8f7-535e3745fdb1"
      },
      "source": [
        "sum(user_correlation[0])"
      ],
      "id": "0Y6mc4qeyvQJ",
      "execution_count": 34,
      "outputs": [
        {
          "output_type": "execute_result",
          "data": {
            "text/plain": [
              "1.1135577700026658"
            ]
          },
          "metadata": {
            "tags": []
          },
          "execution_count": 34
        }
      ]
    },
    {
      "cell_type": "markdown",
      "metadata": {
        "id": "IUAI_vq7uGq6"
      },
      "source": [
        "### Prediction - User User"
      ],
      "id": "IUAI_vq7uGq6"
    },
    {
      "cell_type": "code",
      "metadata": {
        "id": "0_pJXztFuDak",
        "colab": {
          "base_uri": "https://localhost:8080/"
        },
        "outputId": "1299dea1-e4fc-4358-94ed-2b78f2bb7a26"
      },
      "source": [
        "user_correlation[user_correlation<0]=0\n",
        "user_correlation"
      ],
      "id": "0_pJXztFuDak",
      "execution_count": 35,
      "outputs": [
        {
          "output_type": "execute_result",
          "data": {
            "text/plain": [
              "array([[1., 0., 0., ..., 0., 0., 0.],\n",
              "       [0., 0., 0., ..., 0., 0., 0.],\n",
              "       [0., 0., 0., ..., 0., 0., 0.],\n",
              "       ...,\n",
              "       [0., 0., 0., ..., 0., 0., 0.],\n",
              "       [0., 0., 0., ..., 0., 0., 0.],\n",
              "       [0., 0., 0., ..., 0., 0., 0.]])"
            ]
          },
          "metadata": {
            "tags": []
          },
          "execution_count": 35
        }
      ]
    },
    {
      "cell_type": "code",
      "metadata": {
        "colab": {
          "base_uri": "https://localhost:8080/"
        },
        "id": "mfKnSDtizO-0",
        "outputId": "f3afc011-eca8-4595-aa44-262ec258d179"
      },
      "source": [
        "sum(user_correlation[0])"
      ],
      "id": "mfKnSDtizO-0",
      "execution_count": 36,
      "outputs": [
        {
          "output_type": "execute_result",
          "data": {
            "text/plain": [
              "29.958430808285716"
            ]
          },
          "metadata": {
            "tags": []
          },
          "execution_count": 36
        }
      ]
    },
    {
      "cell_type": "code",
      "metadata": {
        "id": "J-z3MbUfuIzz",
        "colab": {
          "base_uri": "https://localhost:8080/"
        },
        "outputId": "cd226c94-e04a-4207-fbc6-98bad6d91162"
      },
      "source": [
        "user_predicted_ratings = np.dot(user_correlation, df_pivot.fillna(0))\n",
        "user_predicted_ratings"
      ],
      "id": "J-z3MbUfuIzz",
      "execution_count": 37,
      "outputs": [
        {
          "output_type": "execute_result",
          "data": {
            "text/plain": [
              "array([[0.        , 3.42242549, 0.        , ..., 4.00107723, 0.42640143,\n",
              "        0.        ],\n",
              "       [0.        , 0.        , 0.        , ..., 0.        , 0.        ,\n",
              "        0.        ],\n",
              "       [0.        , 0.        , 0.        , ..., 0.        , 0.        ,\n",
              "        0.        ],\n",
              "       ...,\n",
              "       [0.        , 0.        , 0.        , ..., 0.        , 0.        ,\n",
              "        0.        ],\n",
              "       [0.        , 0.        , 0.        , ..., 0.        , 0.        ,\n",
              "        0.        ],\n",
              "       [0.        , 0.        , 0.        , ..., 0.        , 0.        ,\n",
              "        0.        ]])"
            ]
          },
          "metadata": {
            "tags": []
          },
          "execution_count": 37
        }
      ]
    },
    {
      "cell_type": "code",
      "metadata": {
        "id": "ukF4vgIPuK3H",
        "colab": {
          "base_uri": "https://localhost:8080/"
        },
        "outputId": "32f85425-a697-4a4e-e6d5-a6d925bc54af"
      },
      "source": [
        "user_predicted_ratings.shape"
      ],
      "id": "ukF4vgIPuK3H",
      "execution_count": 38,
      "outputs": [
        {
          "output_type": "execute_result",
          "data": {
            "text/plain": [
              "(20229, 255)"
            ]
          },
          "metadata": {
            "tags": []
          },
          "execution_count": 38
        }
      ]
    },
    {
      "cell_type": "code",
      "metadata": {
        "id": "1L8IXMq2uOe8",
        "colab": {
          "base_uri": "https://localhost:8080/",
          "height": 505
        },
        "outputId": "72f0f1aa-d3d6-4f9c-c4fe-2e7b1e0b1c10"
      },
      "source": [
        "user_final_rating = np.multiply(user_predicted_ratings,dummy_train)\n",
        "user_final_rating.head()\n"
      ],
      "id": "1L8IXMq2uOe8",
      "execution_count": 39,
      "outputs": [
        {
          "output_type": "execute_result",
          "data": {
            "text/html": [
              "<div>\n",
              "<style scoped>\n",
              "    .dataframe tbody tr th:only-of-type {\n",
              "        vertical-align: middle;\n",
              "    }\n",
              "\n",
              "    .dataframe tbody tr th {\n",
              "        vertical-align: top;\n",
              "    }\n",
              "\n",
              "    .dataframe thead th {\n",
              "        text-align: right;\n",
              "    }\n",
              "</style>\n",
              "<table border=\"1\" class=\"dataframe\">\n",
              "  <thead>\n",
              "    <tr style=\"text-align: right;\">\n",
              "      <th>item</th>\n",
              "      <th>0.6 Cu. Ft. Letter A4 Size Waterproof 30 Min. Fire File Chest</th>\n",
              "      <th>100:Complete First Season (blu-Ray)</th>\n",
              "      <th>2017-2018 Brownline174 Duraflex 14-Month Planner 8 1/2 X 11 Black</th>\n",
              "      <th>2x Ultra Era with Oxi Booster, 50fl oz</th>\n",
              "      <th>42 Dual Drop Leaf Table with 2 Madrid Chairs\"</th>\n",
              "      <th>4C Grated Parmesan Cheese 100% Natural 8oz Shaker</th>\n",
              "      <th>5302050 15/16 FCT/HOSE ADAPTOR</th>\n",
              "      <th>Africa's Best No-Lye Dual Conditioning Relaxer System Super</th>\n",
              "      <th>Alberto VO5 Salon Series Smooth Plus Sleek Shampoo</th>\n",
              "      <th>Alex Cross (dvdvideo)</th>\n",
              "      <th>All,bran Complete Wheat Flakes, 18 Oz.</th>\n",
              "      <th>Ambi Complexion Cleansing Bar</th>\n",
              "      <th>Annie's Homegrown Deluxe Elbows &amp; Four Cheese Sauce</th>\n",
              "      <th>Annie's Homegrown Gluten Free Double Chocolate Chip Granola Bars</th>\n",
              "      <th>Arrid Extra Dry Anti-Perspirant Deodorant Spray Regular</th>\n",
              "      <th>Aussie Aussome Volume Shampoo, 13.5 Oz</th>\n",
              "      <th>Australian Gold Exotic Blend Lotion, SPF 4</th>\n",
              "      <th>Aveeno Baby Continuous Protection Lotion Sunscreen with Broad Spectrum SPF 55, 4oz</th>\n",
              "      <th>Avery174 11-1/4 X 9-1/4 Index Maker Extra Wide Label Dividers With 5 Tab - Clear (5 Sets Per Pack)</th>\n",
              "      <th>Avery174 Ready Index Contemporary Table Of Contents Divider, 1-8, Multi, Letter</th>\n",
              "      <th>Axe Dry Anti-Perspirant Deodorant Invisible Solid Phoenix</th>\n",
              "      <th>BRIDGESTONE 130/70ZR18M/C(63W)FRONT EXEDRA G851, CRUISER RADL</th>\n",
              "      <th>Banana Boat Sunless Summer Color Self Tanning Lotion, Light To Medium</th>\n",
              "      <th>Barielle Nail Rebuilding Protein</th>\n",
              "      <th>Batherapy Natural Mineral Bath Sport Liquid, 16 oz</th>\n",
              "      <th>Baxter Of California Cream Pomade</th>\n",
              "      <th>Beanitos Bean Chips, Simply Pinto Bean</th>\n",
              "      <th>Bedtime Originals Pinkie Musical Mobile</th>\n",
              "      <th>Ben &amp; Jerry's Coffee, Coffee Buzzbuzzbuzz! Ice Cream, Pint</th>\n",
              "      <th>Better Built 74010862 Bet74010862 60In Crossover Two Lid, Deep, Truck Tool Box</th>\n",
              "      <th>Bi-O-kleen Spray &amp; Wipe All Purpose Cleaner</th>\n",
              "      <th>Bilbao Nightstand Gray Oak - South Shore</th>\n",
              "      <th>Bill Glor Gaither - Church In The Wildwood (cd)</th>\n",
              "      <th>Bisquick Original Pancake And Baking Mix - 40oz</th>\n",
              "      <th>Black Front Loading Frame Set (8.5x11) Set Of 12</th>\n",
              "      <th>Blue Anchor Design Throw Pillow (18x18) - Rizzy Home</th>\n",
              "      <th>Bodycology Nourishing Body Cream, Pretty In Paris</th>\n",
              "      <th>Boraam Sonoma Kitchen Cart With Wire Brush Gray - Maaya Home</th>\n",
              "      <th>Bounce Dryer Sheets, Fresh Linen, 160 sheets</th>\n",
              "      <th>Bumble Bee Solid White Albacore In Water - 5 Oz</th>\n",
              "      <th>...</th>\n",
              "      <th>Starbucks Iced Expresso Classics Vanilla Latte Coffee Beverage - 40oz</th>\n",
              "      <th>Starbucks153 Doubleshot Protein Coffee - 11 Fl Oz</th>\n",
              "      <th>Stargate (ws) (ultimate Edition) (director's Cut) (dvdvideo)</th>\n",
              "      <th>Storkcraft Tuscany Glider and Ottoman, Beige Cushions, Espresso Finish</th>\n",
              "      <th>Suave Professionals Hair Conditioner, Sleek</th>\n",
              "      <th>Sunflower Swag With Metal Frame - Nearly Natural</th>\n",
              "      <th>Super Poligrip Denture Adhesive Cream, Ultra Fresh - 2.4 Oz</th>\n",
              "      <th>Switchmas (dvd)</th>\n",
              "      <th>Tai Pei Sweet &amp; Sour Chicken</th>\n",
              "      <th>The Honest Company Laundry Detergent</th>\n",
              "      <th>The Resident Evil Collection 5 Discs (blu-Ray)</th>\n",
              "      <th>The Script - No Sound Without Silence (cd)</th>\n",
              "      <th>The Seaweed Bath Co. Argan Conditioner, Smoothing Citrus</th>\n",
              "      <th>There's Something About Mary (dvd)</th>\n",
              "      <th>Tim Holtz Retractable Craft Pick-Red 6x.5</th>\n",
              "      <th>Tostitos Bite Size Tortilla Chips</th>\n",
              "      <th>Tostitos Simply Blue Corn Tortilla Chips</th>\n",
              "      <th>Toy Story Kids' Woody Accessory Kit</th>\n",
              "      <th>Tramontina Ceramica 10 Piece Cookware Set - Red</th>\n",
              "      <th>Tree Hut Shea Body Butters, Coconut Lime, 7 oz</th>\n",
              "      <th>Trend Lab Park Nursing Cover - Paisley</th>\n",
              "      <th>Tresemme Kertatin Smooth Infusing Conditioning</th>\n",
              "      <th>Udi's Pepperoni Pizza</th>\n",
              "      <th>Various - Red Hot Blue:Tribute To Cole Porter (cd)</th>\n",
              "      <th>Various Artists - Choo Choo Soul (cd)</th>\n",
              "      <th>Vaseline Intensive Care Healthy Hands Stronger Nails</th>\n",
              "      <th>Vaseline Intensive Care Lip Therapy Cocoa Butter</th>\n",
              "      <th>Vicks Vaporub, Regular, 3.53oz</th>\n",
              "      <th>Voortman Sugar Free Fudge Chocolate Chip Cookies</th>\n",
              "      <th>Wagan Smartac 80watt Inverter With Usb</th>\n",
              "      <th>Walkers Stem Ginger Shortbread</th>\n",
              "      <th>Wallmount Server Cabinet (450mm, 9 RU)</th>\n",
              "      <th>Way Basics 3-Shelf Eco Narrow Bookcase Storage Shelf, Espresso - Formaldehyde Free - Lifetime Guarantee</th>\n",
              "      <th>WeatherTech 40647 14-15 Outlander Cargo Liners Behind 2nd Row, Black</th>\n",
              "      <th>Wedding Wishes Wedding Guest Book</th>\n",
              "      <th>Weleda Everon Lip Balm</th>\n",
              "      <th>Wilton Black Dots Standard Baking Cups</th>\n",
              "      <th>Windex Original Glass Cleaner Refill 67.6oz (2 Liter)</th>\n",
              "      <th>Yes To Carrots Nourishing Body Wash</th>\n",
              "      <th>Yes To Grapefruit Rejuvenating Body Wash</th>\n",
              "    </tr>\n",
              "    <tr>\n",
              "      <th>user</th>\n",
              "      <th></th>\n",
              "      <th></th>\n",
              "      <th></th>\n",
              "      <th></th>\n",
              "      <th></th>\n",
              "      <th></th>\n",
              "      <th></th>\n",
              "      <th></th>\n",
              "      <th></th>\n",
              "      <th></th>\n",
              "      <th></th>\n",
              "      <th></th>\n",
              "      <th></th>\n",
              "      <th></th>\n",
              "      <th></th>\n",
              "      <th></th>\n",
              "      <th></th>\n",
              "      <th></th>\n",
              "      <th></th>\n",
              "      <th></th>\n",
              "      <th></th>\n",
              "      <th></th>\n",
              "      <th></th>\n",
              "      <th></th>\n",
              "      <th></th>\n",
              "      <th></th>\n",
              "      <th></th>\n",
              "      <th></th>\n",
              "      <th></th>\n",
              "      <th></th>\n",
              "      <th></th>\n",
              "      <th></th>\n",
              "      <th></th>\n",
              "      <th></th>\n",
              "      <th></th>\n",
              "      <th></th>\n",
              "      <th></th>\n",
              "      <th></th>\n",
              "      <th></th>\n",
              "      <th></th>\n",
              "      <th></th>\n",
              "      <th></th>\n",
              "      <th></th>\n",
              "      <th></th>\n",
              "      <th></th>\n",
              "      <th></th>\n",
              "      <th></th>\n",
              "      <th></th>\n",
              "      <th></th>\n",
              "      <th></th>\n",
              "      <th></th>\n",
              "      <th></th>\n",
              "      <th></th>\n",
              "      <th></th>\n",
              "      <th></th>\n",
              "      <th></th>\n",
              "      <th></th>\n",
              "      <th></th>\n",
              "      <th></th>\n",
              "      <th></th>\n",
              "      <th></th>\n",
              "      <th></th>\n",
              "      <th></th>\n",
              "      <th></th>\n",
              "      <th></th>\n",
              "      <th></th>\n",
              "      <th></th>\n",
              "      <th></th>\n",
              "      <th></th>\n",
              "      <th></th>\n",
              "      <th></th>\n",
              "      <th></th>\n",
              "      <th></th>\n",
              "      <th></th>\n",
              "      <th></th>\n",
              "      <th></th>\n",
              "      <th></th>\n",
              "      <th></th>\n",
              "      <th></th>\n",
              "      <th></th>\n",
              "      <th></th>\n",
              "    </tr>\n",
              "  </thead>\n",
              "  <tbody>\n",
              "    <tr>\n",
              "      <th>00sab00</th>\n",
              "      <td>0.0</td>\n",
              "      <td>3.422425</td>\n",
              "      <td>0.0</td>\n",
              "      <td>0.0</td>\n",
              "      <td>0.0</td>\n",
              "      <td>0.0</td>\n",
              "      <td>0.0</td>\n",
              "      <td>0.0</td>\n",
              "      <td>0.0</td>\n",
              "      <td>1.40028</td>\n",
              "      <td>0.0</td>\n",
              "      <td>0.0</td>\n",
              "      <td>0.0</td>\n",
              "      <td>0.0</td>\n",
              "      <td>0.0</td>\n",
              "      <td>0.749669</td>\n",
              "      <td>0.0</td>\n",
              "      <td>0.0</td>\n",
              "      <td>0.0</td>\n",
              "      <td>0.0</td>\n",
              "      <td>0.0</td>\n",
              "      <td>0.0</td>\n",
              "      <td>0.0</td>\n",
              "      <td>0.0</td>\n",
              "      <td>0.0</td>\n",
              "      <td>0.0</td>\n",
              "      <td>0.0</td>\n",
              "      <td>0.0</td>\n",
              "      <td>0.0</td>\n",
              "      <td>0.0</td>\n",
              "      <td>2.643482</td>\n",
              "      <td>0.0</td>\n",
              "      <td>0.0</td>\n",
              "      <td>6.049402</td>\n",
              "      <td>0.0</td>\n",
              "      <td>0.0</td>\n",
              "      <td>0.0</td>\n",
              "      <td>0.0</td>\n",
              "      <td>0.0</td>\n",
              "      <td>0.0</td>\n",
              "      <td>...</td>\n",
              "      <td>0.0</td>\n",
              "      <td>0.0</td>\n",
              "      <td>5.555762</td>\n",
              "      <td>0.0</td>\n",
              "      <td>0.0</td>\n",
              "      <td>0.0</td>\n",
              "      <td>0.0</td>\n",
              "      <td>0.0</td>\n",
              "      <td>0.0</td>\n",
              "      <td>0.0</td>\n",
              "      <td>20.130342</td>\n",
              "      <td>0.0</td>\n",
              "      <td>0.0</td>\n",
              "      <td>4.93975</td>\n",
              "      <td>0.0</td>\n",
              "      <td>9.455497</td>\n",
              "      <td>0.0</td>\n",
              "      <td>0.0</td>\n",
              "      <td>0.0</td>\n",
              "      <td>2.43975</td>\n",
              "      <td>1.020621</td>\n",
              "      <td>0.0</td>\n",
              "      <td>0.0</td>\n",
              "      <td>1.812573</td>\n",
              "      <td>0.0</td>\n",
              "      <td>2.77424</td>\n",
              "      <td>2.165064</td>\n",
              "      <td>0.0</td>\n",
              "      <td>0.0</td>\n",
              "      <td>0.0</td>\n",
              "      <td>0.0</td>\n",
              "      <td>0.0</td>\n",
              "      <td>0.0</td>\n",
              "      <td>0.0</td>\n",
              "      <td>0.0</td>\n",
              "      <td>0.0</td>\n",
              "      <td>0.0</td>\n",
              "      <td>4.001077</td>\n",
              "      <td>0.426401</td>\n",
              "      <td>0.0</td>\n",
              "    </tr>\n",
              "    <tr>\n",
              "      <th>01impala</th>\n",
              "      <td>0.0</td>\n",
              "      <td>0.000000</td>\n",
              "      <td>0.0</td>\n",
              "      <td>0.0</td>\n",
              "      <td>0.0</td>\n",
              "      <td>0.0</td>\n",
              "      <td>0.0</td>\n",
              "      <td>0.0</td>\n",
              "      <td>0.0</td>\n",
              "      <td>0.00000</td>\n",
              "      <td>0.0</td>\n",
              "      <td>0.0</td>\n",
              "      <td>0.0</td>\n",
              "      <td>0.0</td>\n",
              "      <td>0.0</td>\n",
              "      <td>0.000000</td>\n",
              "      <td>0.0</td>\n",
              "      <td>0.0</td>\n",
              "      <td>0.0</td>\n",
              "      <td>0.0</td>\n",
              "      <td>0.0</td>\n",
              "      <td>0.0</td>\n",
              "      <td>0.0</td>\n",
              "      <td>0.0</td>\n",
              "      <td>0.0</td>\n",
              "      <td>0.0</td>\n",
              "      <td>0.0</td>\n",
              "      <td>0.0</td>\n",
              "      <td>0.0</td>\n",
              "      <td>0.0</td>\n",
              "      <td>0.000000</td>\n",
              "      <td>0.0</td>\n",
              "      <td>0.0</td>\n",
              "      <td>0.000000</td>\n",
              "      <td>0.0</td>\n",
              "      <td>0.0</td>\n",
              "      <td>0.0</td>\n",
              "      <td>0.0</td>\n",
              "      <td>0.0</td>\n",
              "      <td>0.0</td>\n",
              "      <td>...</td>\n",
              "      <td>0.0</td>\n",
              "      <td>0.0</td>\n",
              "      <td>0.000000</td>\n",
              "      <td>0.0</td>\n",
              "      <td>0.0</td>\n",
              "      <td>0.0</td>\n",
              "      <td>0.0</td>\n",
              "      <td>0.0</td>\n",
              "      <td>0.0</td>\n",
              "      <td>0.0</td>\n",
              "      <td>0.000000</td>\n",
              "      <td>0.0</td>\n",
              "      <td>0.0</td>\n",
              "      <td>0.00000</td>\n",
              "      <td>0.0</td>\n",
              "      <td>0.000000</td>\n",
              "      <td>0.0</td>\n",
              "      <td>0.0</td>\n",
              "      <td>0.0</td>\n",
              "      <td>0.00000</td>\n",
              "      <td>0.000000</td>\n",
              "      <td>0.0</td>\n",
              "      <td>0.0</td>\n",
              "      <td>0.000000</td>\n",
              "      <td>0.0</td>\n",
              "      <td>0.00000</td>\n",
              "      <td>0.000000</td>\n",
              "      <td>0.0</td>\n",
              "      <td>0.0</td>\n",
              "      <td>0.0</td>\n",
              "      <td>0.0</td>\n",
              "      <td>0.0</td>\n",
              "      <td>0.0</td>\n",
              "      <td>0.0</td>\n",
              "      <td>0.0</td>\n",
              "      <td>0.0</td>\n",
              "      <td>0.0</td>\n",
              "      <td>0.000000</td>\n",
              "      <td>0.000000</td>\n",
              "      <td>0.0</td>\n",
              "    </tr>\n",
              "    <tr>\n",
              "      <th>02deuce</th>\n",
              "      <td>0.0</td>\n",
              "      <td>0.000000</td>\n",
              "      <td>0.0</td>\n",
              "      <td>0.0</td>\n",
              "      <td>0.0</td>\n",
              "      <td>0.0</td>\n",
              "      <td>0.0</td>\n",
              "      <td>0.0</td>\n",
              "      <td>0.0</td>\n",
              "      <td>0.00000</td>\n",
              "      <td>0.0</td>\n",
              "      <td>0.0</td>\n",
              "      <td>0.0</td>\n",
              "      <td>0.0</td>\n",
              "      <td>0.0</td>\n",
              "      <td>0.000000</td>\n",
              "      <td>0.0</td>\n",
              "      <td>0.0</td>\n",
              "      <td>0.0</td>\n",
              "      <td>0.0</td>\n",
              "      <td>0.0</td>\n",
              "      <td>0.0</td>\n",
              "      <td>0.0</td>\n",
              "      <td>0.0</td>\n",
              "      <td>0.0</td>\n",
              "      <td>0.0</td>\n",
              "      <td>0.0</td>\n",
              "      <td>0.0</td>\n",
              "      <td>0.0</td>\n",
              "      <td>0.0</td>\n",
              "      <td>0.000000</td>\n",
              "      <td>0.0</td>\n",
              "      <td>0.0</td>\n",
              "      <td>0.000000</td>\n",
              "      <td>0.0</td>\n",
              "      <td>0.0</td>\n",
              "      <td>0.0</td>\n",
              "      <td>0.0</td>\n",
              "      <td>0.0</td>\n",
              "      <td>0.0</td>\n",
              "      <td>...</td>\n",
              "      <td>0.0</td>\n",
              "      <td>0.0</td>\n",
              "      <td>0.000000</td>\n",
              "      <td>0.0</td>\n",
              "      <td>0.0</td>\n",
              "      <td>0.0</td>\n",
              "      <td>0.0</td>\n",
              "      <td>0.0</td>\n",
              "      <td>0.0</td>\n",
              "      <td>0.0</td>\n",
              "      <td>0.000000</td>\n",
              "      <td>0.0</td>\n",
              "      <td>0.0</td>\n",
              "      <td>0.00000</td>\n",
              "      <td>0.0</td>\n",
              "      <td>0.000000</td>\n",
              "      <td>0.0</td>\n",
              "      <td>0.0</td>\n",
              "      <td>0.0</td>\n",
              "      <td>0.00000</td>\n",
              "      <td>0.000000</td>\n",
              "      <td>0.0</td>\n",
              "      <td>0.0</td>\n",
              "      <td>0.000000</td>\n",
              "      <td>0.0</td>\n",
              "      <td>0.00000</td>\n",
              "      <td>0.000000</td>\n",
              "      <td>0.0</td>\n",
              "      <td>0.0</td>\n",
              "      <td>0.0</td>\n",
              "      <td>0.0</td>\n",
              "      <td>0.0</td>\n",
              "      <td>0.0</td>\n",
              "      <td>0.0</td>\n",
              "      <td>0.0</td>\n",
              "      <td>0.0</td>\n",
              "      <td>0.0</td>\n",
              "      <td>0.000000</td>\n",
              "      <td>0.000000</td>\n",
              "      <td>0.0</td>\n",
              "    </tr>\n",
              "    <tr>\n",
              "      <th>0325home</th>\n",
              "      <td>0.0</td>\n",
              "      <td>0.000000</td>\n",
              "      <td>0.0</td>\n",
              "      <td>0.0</td>\n",
              "      <td>0.0</td>\n",
              "      <td>0.0</td>\n",
              "      <td>0.0</td>\n",
              "      <td>0.0</td>\n",
              "      <td>0.0</td>\n",
              "      <td>0.00000</td>\n",
              "      <td>0.0</td>\n",
              "      <td>0.0</td>\n",
              "      <td>0.0</td>\n",
              "      <td>0.0</td>\n",
              "      <td>0.0</td>\n",
              "      <td>0.000000</td>\n",
              "      <td>0.0</td>\n",
              "      <td>0.0</td>\n",
              "      <td>0.0</td>\n",
              "      <td>0.0</td>\n",
              "      <td>0.0</td>\n",
              "      <td>0.0</td>\n",
              "      <td>0.0</td>\n",
              "      <td>0.0</td>\n",
              "      <td>0.0</td>\n",
              "      <td>0.0</td>\n",
              "      <td>0.0</td>\n",
              "      <td>0.0</td>\n",
              "      <td>0.0</td>\n",
              "      <td>0.0</td>\n",
              "      <td>0.000000</td>\n",
              "      <td>0.0</td>\n",
              "      <td>0.0</td>\n",
              "      <td>0.000000</td>\n",
              "      <td>0.0</td>\n",
              "      <td>0.0</td>\n",
              "      <td>0.0</td>\n",
              "      <td>0.0</td>\n",
              "      <td>0.0</td>\n",
              "      <td>0.0</td>\n",
              "      <td>...</td>\n",
              "      <td>0.0</td>\n",
              "      <td>0.0</td>\n",
              "      <td>0.000000</td>\n",
              "      <td>0.0</td>\n",
              "      <td>0.0</td>\n",
              "      <td>0.0</td>\n",
              "      <td>0.0</td>\n",
              "      <td>0.0</td>\n",
              "      <td>0.0</td>\n",
              "      <td>0.0</td>\n",
              "      <td>0.000000</td>\n",
              "      <td>0.0</td>\n",
              "      <td>0.0</td>\n",
              "      <td>0.00000</td>\n",
              "      <td>0.0</td>\n",
              "      <td>0.000000</td>\n",
              "      <td>0.0</td>\n",
              "      <td>0.0</td>\n",
              "      <td>0.0</td>\n",
              "      <td>0.00000</td>\n",
              "      <td>0.000000</td>\n",
              "      <td>0.0</td>\n",
              "      <td>0.0</td>\n",
              "      <td>0.000000</td>\n",
              "      <td>0.0</td>\n",
              "      <td>0.00000</td>\n",
              "      <td>0.000000</td>\n",
              "      <td>0.0</td>\n",
              "      <td>0.0</td>\n",
              "      <td>0.0</td>\n",
              "      <td>0.0</td>\n",
              "      <td>0.0</td>\n",
              "      <td>0.0</td>\n",
              "      <td>0.0</td>\n",
              "      <td>0.0</td>\n",
              "      <td>0.0</td>\n",
              "      <td>0.0</td>\n",
              "      <td>0.000000</td>\n",
              "      <td>0.000000</td>\n",
              "      <td>0.0</td>\n",
              "    </tr>\n",
              "    <tr>\n",
              "      <th>09mommy11</th>\n",
              "      <td>0.0</td>\n",
              "      <td>0.000000</td>\n",
              "      <td>0.0</td>\n",
              "      <td>0.0</td>\n",
              "      <td>0.0</td>\n",
              "      <td>0.0</td>\n",
              "      <td>0.0</td>\n",
              "      <td>0.0</td>\n",
              "      <td>0.0</td>\n",
              "      <td>0.00000</td>\n",
              "      <td>0.0</td>\n",
              "      <td>0.0</td>\n",
              "      <td>0.0</td>\n",
              "      <td>0.0</td>\n",
              "      <td>0.0</td>\n",
              "      <td>0.000000</td>\n",
              "      <td>0.0</td>\n",
              "      <td>0.0</td>\n",
              "      <td>0.0</td>\n",
              "      <td>0.0</td>\n",
              "      <td>0.0</td>\n",
              "      <td>0.0</td>\n",
              "      <td>0.0</td>\n",
              "      <td>0.0</td>\n",
              "      <td>0.0</td>\n",
              "      <td>0.0</td>\n",
              "      <td>0.0</td>\n",
              "      <td>0.0</td>\n",
              "      <td>0.0</td>\n",
              "      <td>0.0</td>\n",
              "      <td>0.000000</td>\n",
              "      <td>0.0</td>\n",
              "      <td>0.0</td>\n",
              "      <td>0.000000</td>\n",
              "      <td>0.0</td>\n",
              "      <td>0.0</td>\n",
              "      <td>0.0</td>\n",
              "      <td>0.0</td>\n",
              "      <td>0.0</td>\n",
              "      <td>0.0</td>\n",
              "      <td>...</td>\n",
              "      <td>0.0</td>\n",
              "      <td>0.0</td>\n",
              "      <td>0.000000</td>\n",
              "      <td>0.0</td>\n",
              "      <td>0.0</td>\n",
              "      <td>0.0</td>\n",
              "      <td>0.0</td>\n",
              "      <td>0.0</td>\n",
              "      <td>0.0</td>\n",
              "      <td>0.0</td>\n",
              "      <td>0.000000</td>\n",
              "      <td>0.0</td>\n",
              "      <td>0.0</td>\n",
              "      <td>0.00000</td>\n",
              "      <td>0.0</td>\n",
              "      <td>0.000000</td>\n",
              "      <td>0.0</td>\n",
              "      <td>0.0</td>\n",
              "      <td>0.0</td>\n",
              "      <td>0.00000</td>\n",
              "      <td>0.000000</td>\n",
              "      <td>0.0</td>\n",
              "      <td>0.0</td>\n",
              "      <td>0.000000</td>\n",
              "      <td>0.0</td>\n",
              "      <td>0.00000</td>\n",
              "      <td>0.000000</td>\n",
              "      <td>0.0</td>\n",
              "      <td>0.0</td>\n",
              "      <td>0.0</td>\n",
              "      <td>0.0</td>\n",
              "      <td>0.0</td>\n",
              "      <td>0.0</td>\n",
              "      <td>0.0</td>\n",
              "      <td>0.0</td>\n",
              "      <td>0.0</td>\n",
              "      <td>0.0</td>\n",
              "      <td>0.000000</td>\n",
              "      <td>0.000000</td>\n",
              "      <td>0.0</td>\n",
              "    </tr>\n",
              "  </tbody>\n",
              "</table>\n",
              "<p>5 rows × 255 columns</p>\n",
              "</div>"
            ],
            "text/plain": [
              "item       0.6 Cu. Ft. Letter A4 Size Waterproof 30 Min. Fire File Chest  ...  Yes To Grapefruit Rejuvenating Body Wash\n",
              "user                                                                      ...                                          \n",
              "00sab00                                                              0.0  ...                                       0.0\n",
              "01impala                                                             0.0  ...                                       0.0\n",
              "02deuce                                                              0.0  ...                                       0.0\n",
              "0325home                                                             0.0  ...                                       0.0\n",
              "09mommy11                                                            0.0  ...                                       0.0\n",
              "\n",
              "[5 rows x 255 columns]"
            ]
          },
          "metadata": {
            "tags": []
          },
          "execution_count": 39
        }
      ]
    },
    {
      "cell_type": "markdown",
      "metadata": {
        "id": "xPdpJCg3w8Oe"
      },
      "source": [
        "##### Finding the top 20 recommendation for the *user*"
      ],
      "id": "xPdpJCg3w8Oe"
    },
    {
      "cell_type": "code",
      "metadata": {
        "id": "LEwNTeU1uQfl",
        "colab": {
          "base_uri": "https://localhost:8080/"
        },
        "outputId": "063b2b8f-b7a0-46f3-efa8-50eeae28c468"
      },
      "source": [
        "# Take the user ID as input.\n",
        "user_input = 'joshua'#(input(\"Enter your user name : \"))\n",
        "top_20_recommended = user_final_rating.loc[user_input].sort_values(ascending=False)[0:20]\n",
        "top_20_recommended"
      ],
      "id": "LEwNTeU1uQfl",
      "execution_count": 40,
      "outputs": [
        {
          "output_type": "execute_result",
          "data": {
            "text/plain": [
              "item\n",
              "The Resident Evil Collection 5 Discs (blu-Ray)                                     9.860504\n",
              "Clorox Disinfecting Wipes Value Pack Scented 150 Ct Total                          7.214464\n",
              "My Big Fat Greek Wedding 2 (blu-Ray + Dvd + Digital)                               7.206043\n",
              "Planes: Fire Rescue (2 Discs) (includes Digital Copy) (blu-Ray/dvd)                6.347669\n",
              "Godzilla 3d Includes Digital Copy Ultraviolet 3d/2d Blu-Ray/dvd                    4.500056\n",
              "Bounce Dryer Sheets, Fresh Linen, 160 sheets                                       3.077287\n",
              "Head & Shoulders Dandruff Shampoo Ocean Lift 2 In 1                                3.077287\n",
              "Meguiar's Ultimate Quik Detailer 22-Oz.                                            2.525900\n",
              "Tostitos Bite Size Tortilla Chips                                                  1.993174\n",
              "Stargate (ws) (ultimate Edition) (director's Cut) (dvdvideo)                       1.343526\n",
              "Olay Regenerist Deep Hydration Regenerating Cream                                  1.279204\n",
              "Alex Cross (dvdvideo)                                                              0.988633\n",
              "Diet Canada Dry Ginger Ale - 12pk/12 Fl Oz Cans                                    0.794873\n",
              "Pendaflex174 Divide It Up File Folder, Multi Section, Letter, Assorted, 12/pack    0.711595\n",
              "Spam Single Classic                                                                0.652791\n",
              "Jolly Time Select Premium Yellow Pop Corn                                          0.652791\n",
              "Windex Original Glass Cleaner Refill 67.6oz (2 Liter)                              0.615457\n",
              "Bisquick Original Pancake And Baking Mix - 40oz                                    0.562252\n",
              "Mike Dave Need Wedding Dates (dvd + Digital)                                       0.552697\n",
              "Chester's Cheese Flavored Puffcorn Snacks                                          0.540562\n",
              "Name: joshua, dtype: float64"
            ]
          },
          "metadata": {
            "tags": []
          },
          "execution_count": 40
        }
      ]
    },
    {
      "cell_type": "code",
      "metadata": {
        "id": "eY0zI5offUZ_",
        "colab": {
          "base_uri": "https://localhost:8080/"
        },
        "outputId": "c638a412-7915-44a6-9f20-7a8c76d80bbb"
      },
      "source": [
        "users_pred = list(top_20_recommended.index.values)\n",
        "users_pred"
      ],
      "id": "eY0zI5offUZ_",
      "execution_count": 41,
      "outputs": [
        {
          "output_type": "execute_result",
          "data": {
            "text/plain": [
              "['The Resident Evil Collection 5 Discs (blu-Ray)',\n",
              " 'Clorox Disinfecting Wipes Value Pack Scented 150 Ct Total',\n",
              " 'My Big Fat Greek Wedding 2 (blu-Ray + Dvd + Digital)',\n",
              " 'Planes: Fire Rescue (2 Discs) (includes Digital Copy) (blu-Ray/dvd)',\n",
              " 'Godzilla 3d Includes Digital Copy Ultraviolet 3d/2d Blu-Ray/dvd',\n",
              " 'Bounce Dryer Sheets, Fresh Linen, 160 sheets',\n",
              " 'Head & Shoulders Dandruff Shampoo Ocean Lift 2 In 1',\n",
              " \"Meguiar's Ultimate Quik Detailer 22-Oz.\",\n",
              " 'Tostitos Bite Size Tortilla Chips',\n",
              " \"Stargate (ws) (ultimate Edition) (director's Cut) (dvdvideo)\",\n",
              " 'Olay Regenerist Deep Hydration Regenerating Cream',\n",
              " 'Alex Cross (dvdvideo)',\n",
              " 'Diet Canada Dry Ginger Ale - 12pk/12 Fl Oz Cans',\n",
              " 'Pendaflex174 Divide It Up File Folder, Multi Section, Letter, Assorted, 12/pack',\n",
              " 'Spam Single Classic',\n",
              " 'Jolly Time Select Premium Yellow Pop Corn',\n",
              " 'Windex Original Glass Cleaner Refill 67.6oz (2 Liter)',\n",
              " 'Bisquick Original Pancake And Baking Mix - 40oz',\n",
              " 'Mike Dave Need Wedding Dates (dvd + Digital)',\n",
              " \"Chester's Cheese Flavored Puffcorn Snacks\"]"
            ]
          },
          "metadata": {
            "tags": []
          },
          "execution_count": 41
        }
      ]
    },
    {
      "cell_type": "markdown",
      "metadata": {
        "id": "-pA4CMdwycJW"
      },
      "source": [
        "### Evaluation - User User "
      ],
      "id": "-pA4CMdwycJW"
    },
    {
      "cell_type": "code",
      "metadata": {
        "id": "UHaWARKOxFeu",
        "colab": {
          "base_uri": "https://localhost:8080/"
        },
        "outputId": "9b774cb0-65f6-4801-98fb-c3d06f01735f"
      },
      "source": [
        "# Find out the common users of test and train dataset.\n",
        "common = test[test.user.isin(train.user)]\n",
        "common.shape"
      ],
      "id": "UHaWARKOxFeu",
      "execution_count": 43,
      "outputs": [
        {
          "output_type": "execute_result",
          "data": {
            "text/plain": [
              "(768, 3)"
            ]
          },
          "metadata": {
            "tags": []
          },
          "execution_count": 43
        }
      ]
    },
    {
      "cell_type": "code",
      "metadata": {
        "id": "rtHCiG8syeRx",
        "colab": {
          "base_uri": "https://localhost:8080/",
          "height": 204
        },
        "outputId": "50a3759f-cf55-4740-edc3-5a1eca7f5026"
      },
      "source": [
        "common.head()"
      ],
      "id": "rtHCiG8syeRx",
      "execution_count": 44,
      "outputs": [
        {
          "output_type": "execute_result",
          "data": {
            "text/html": [
              "<div>\n",
              "<style scoped>\n",
              "    .dataframe tbody tr th:only-of-type {\n",
              "        vertical-align: middle;\n",
              "    }\n",
              "\n",
              "    .dataframe tbody tr th {\n",
              "        vertical-align: top;\n",
              "    }\n",
              "\n",
              "    .dataframe thead th {\n",
              "        text-align: right;\n",
              "    }\n",
              "</style>\n",
              "<table border=\"1\" class=\"dataframe\">\n",
              "  <thead>\n",
              "    <tr style=\"text-align: right;\">\n",
              "      <th></th>\n",
              "      <th>item</th>\n",
              "      <th>user</th>\n",
              "      <th>rating</th>\n",
              "    </tr>\n",
              "  </thead>\n",
              "  <tbody>\n",
              "    <tr>\n",
              "      <th>19602</th>\n",
              "      <td>Mike Dave Need Wedding Dates (dvd + Digital)</td>\n",
              "      <td>bill</td>\n",
              "      <td>5.0</td>\n",
              "    </tr>\n",
              "    <tr>\n",
              "      <th>3270</th>\n",
              "      <td>Clorox Disinfecting Bathroom Cleaner</td>\n",
              "      <td>brandy</td>\n",
              "      <td>4.0</td>\n",
              "    </tr>\n",
              "    <tr>\n",
              "      <th>20593</th>\n",
              "      <td>My Big Fat Greek Wedding 2 (blu-Ray + Dvd + Digital)</td>\n",
              "      <td>jssmith</td>\n",
              "      <td>4.0</td>\n",
              "    </tr>\n",
              "    <tr>\n",
              "      <th>2898</th>\n",
              "      <td>Clear Scalp &amp; Hair Therapy Total Care Nourishing Shampoo</td>\n",
              "      <td>holly15</td>\n",
              "      <td>1.0</td>\n",
              "    </tr>\n",
              "    <tr>\n",
              "      <th>15198</th>\n",
              "      <td>Godzilla 3d Includes Digital Copy Ultraviolet 3d/2d Blu-Ray/dvd</td>\n",
              "      <td>loulou</td>\n",
              "      <td>4.0</td>\n",
              "    </tr>\n",
              "  </tbody>\n",
              "</table>\n",
              "</div>"
            ],
            "text/plain": [
              "                                                                  item  ... rating\n",
              "19602                     Mike Dave Need Wedding Dates (dvd + Digital)  ...    5.0\n",
              "3270                              Clorox Disinfecting Bathroom Cleaner  ...    4.0\n",
              "20593             My Big Fat Greek Wedding 2 (blu-Ray + Dvd + Digital)  ...    4.0\n",
              "2898          Clear Scalp & Hair Therapy Total Care Nourishing Shampoo  ...    1.0\n",
              "15198  Godzilla 3d Includes Digital Copy Ultraviolet 3d/2d Blu-Ray/dvd  ...    4.0\n",
              "\n",
              "[5 rows x 3 columns]"
            ]
          },
          "metadata": {
            "tags": []
          },
          "execution_count": 44
        }
      ]
    },
    {
      "cell_type": "code",
      "metadata": {
        "id": "0dyWyU6XyjUB"
      },
      "source": [
        "# convert into the user-movie matrix.\n",
        "common_user_based_matrix = common.pivot_table(index='user', columns='item', values='rating')"
      ],
      "id": "0dyWyU6XyjUB",
      "execution_count": 45,
      "outputs": []
    },
    {
      "cell_type": "code",
      "metadata": {
        "id": "DSfghmcWyo_C"
      },
      "source": [
        "# Convert the user_correlation matrix into dataframe.\n",
        "user_correlation_df = pd.DataFrame(user_correlation)"
      ],
      "id": "DSfghmcWyo_C",
      "execution_count": 46,
      "outputs": []
    },
    {
      "cell_type": "code",
      "metadata": {
        "id": "1AhsJmEiyo3S",
        "colab": {
          "base_uri": "https://localhost:8080/",
          "height": 284
        },
        "outputId": "2a558ec5-76fc-45ad-ab7d-d638b2abdc43"
      },
      "source": [
        "# Adding user column to df and setting the index\n",
        "user_correlation_df['user'] = df_subtracted.index\n",
        "user_correlation_df.set_index('user',inplace=True)\n",
        "user_correlation_df.head()"
      ],
      "id": "1AhsJmEiyo3S",
      "execution_count": 47,
      "outputs": [
        {
          "output_type": "execute_result",
          "data": {
            "text/html": [
              "<div>\n",
              "<style scoped>\n",
              "    .dataframe tbody tr th:only-of-type {\n",
              "        vertical-align: middle;\n",
              "    }\n",
              "\n",
              "    .dataframe tbody tr th {\n",
              "        vertical-align: top;\n",
              "    }\n",
              "\n",
              "    .dataframe thead th {\n",
              "        text-align: right;\n",
              "    }\n",
              "</style>\n",
              "<table border=\"1\" class=\"dataframe\">\n",
              "  <thead>\n",
              "    <tr style=\"text-align: right;\">\n",
              "      <th></th>\n",
              "      <th>0</th>\n",
              "      <th>1</th>\n",
              "      <th>2</th>\n",
              "      <th>3</th>\n",
              "      <th>4</th>\n",
              "      <th>5</th>\n",
              "      <th>6</th>\n",
              "      <th>7</th>\n",
              "      <th>8</th>\n",
              "      <th>9</th>\n",
              "      <th>10</th>\n",
              "      <th>11</th>\n",
              "      <th>12</th>\n",
              "      <th>13</th>\n",
              "      <th>14</th>\n",
              "      <th>15</th>\n",
              "      <th>16</th>\n",
              "      <th>17</th>\n",
              "      <th>18</th>\n",
              "      <th>19</th>\n",
              "      <th>20</th>\n",
              "      <th>21</th>\n",
              "      <th>22</th>\n",
              "      <th>23</th>\n",
              "      <th>24</th>\n",
              "      <th>25</th>\n",
              "      <th>26</th>\n",
              "      <th>27</th>\n",
              "      <th>28</th>\n",
              "      <th>29</th>\n",
              "      <th>30</th>\n",
              "      <th>31</th>\n",
              "      <th>32</th>\n",
              "      <th>33</th>\n",
              "      <th>34</th>\n",
              "      <th>35</th>\n",
              "      <th>36</th>\n",
              "      <th>37</th>\n",
              "      <th>38</th>\n",
              "      <th>39</th>\n",
              "      <th>...</th>\n",
              "      <th>20189</th>\n",
              "      <th>20190</th>\n",
              "      <th>20191</th>\n",
              "      <th>20192</th>\n",
              "      <th>20193</th>\n",
              "      <th>20194</th>\n",
              "      <th>20195</th>\n",
              "      <th>20196</th>\n",
              "      <th>20197</th>\n",
              "      <th>20198</th>\n",
              "      <th>20199</th>\n",
              "      <th>20200</th>\n",
              "      <th>20201</th>\n",
              "      <th>20202</th>\n",
              "      <th>20203</th>\n",
              "      <th>20204</th>\n",
              "      <th>20205</th>\n",
              "      <th>20206</th>\n",
              "      <th>20207</th>\n",
              "      <th>20208</th>\n",
              "      <th>20209</th>\n",
              "      <th>20210</th>\n",
              "      <th>20211</th>\n",
              "      <th>20212</th>\n",
              "      <th>20213</th>\n",
              "      <th>20214</th>\n",
              "      <th>20215</th>\n",
              "      <th>20216</th>\n",
              "      <th>20217</th>\n",
              "      <th>20218</th>\n",
              "      <th>20219</th>\n",
              "      <th>20220</th>\n",
              "      <th>20221</th>\n",
              "      <th>20222</th>\n",
              "      <th>20223</th>\n",
              "      <th>20224</th>\n",
              "      <th>20225</th>\n",
              "      <th>20226</th>\n",
              "      <th>20227</th>\n",
              "      <th>20228</th>\n",
              "    </tr>\n",
              "    <tr>\n",
              "      <th>user</th>\n",
              "      <th></th>\n",
              "      <th></th>\n",
              "      <th></th>\n",
              "      <th></th>\n",
              "      <th></th>\n",
              "      <th></th>\n",
              "      <th></th>\n",
              "      <th></th>\n",
              "      <th></th>\n",
              "      <th></th>\n",
              "      <th></th>\n",
              "      <th></th>\n",
              "      <th></th>\n",
              "      <th></th>\n",
              "      <th></th>\n",
              "      <th></th>\n",
              "      <th></th>\n",
              "      <th></th>\n",
              "      <th></th>\n",
              "      <th></th>\n",
              "      <th></th>\n",
              "      <th></th>\n",
              "      <th></th>\n",
              "      <th></th>\n",
              "      <th></th>\n",
              "      <th></th>\n",
              "      <th></th>\n",
              "      <th></th>\n",
              "      <th></th>\n",
              "      <th></th>\n",
              "      <th></th>\n",
              "      <th></th>\n",
              "      <th></th>\n",
              "      <th></th>\n",
              "      <th></th>\n",
              "      <th></th>\n",
              "      <th></th>\n",
              "      <th></th>\n",
              "      <th></th>\n",
              "      <th></th>\n",
              "      <th></th>\n",
              "      <th></th>\n",
              "      <th></th>\n",
              "      <th></th>\n",
              "      <th></th>\n",
              "      <th></th>\n",
              "      <th></th>\n",
              "      <th></th>\n",
              "      <th></th>\n",
              "      <th></th>\n",
              "      <th></th>\n",
              "      <th></th>\n",
              "      <th></th>\n",
              "      <th></th>\n",
              "      <th></th>\n",
              "      <th></th>\n",
              "      <th></th>\n",
              "      <th></th>\n",
              "      <th></th>\n",
              "      <th></th>\n",
              "      <th></th>\n",
              "      <th></th>\n",
              "      <th></th>\n",
              "      <th></th>\n",
              "      <th></th>\n",
              "      <th></th>\n",
              "      <th></th>\n",
              "      <th></th>\n",
              "      <th></th>\n",
              "      <th></th>\n",
              "      <th></th>\n",
              "      <th></th>\n",
              "      <th></th>\n",
              "      <th></th>\n",
              "      <th></th>\n",
              "      <th></th>\n",
              "      <th></th>\n",
              "      <th></th>\n",
              "      <th></th>\n",
              "      <th></th>\n",
              "      <th></th>\n",
              "    </tr>\n",
              "  </thead>\n",
              "  <tbody>\n",
              "    <tr>\n",
              "      <th>00sab00</th>\n",
              "      <td>1.0</td>\n",
              "      <td>0.0</td>\n",
              "      <td>0.0</td>\n",
              "      <td>0.0</td>\n",
              "      <td>0.0</td>\n",
              "      <td>0.0</td>\n",
              "      <td>0.0</td>\n",
              "      <td>0.0</td>\n",
              "      <td>0.0</td>\n",
              "      <td>0.0</td>\n",
              "      <td>0.0</td>\n",
              "      <td>0.0</td>\n",
              "      <td>0.0</td>\n",
              "      <td>0.0</td>\n",
              "      <td>0.0</td>\n",
              "      <td>0.0</td>\n",
              "      <td>0.0</td>\n",
              "      <td>0.0</td>\n",
              "      <td>0.0</td>\n",
              "      <td>0.0</td>\n",
              "      <td>0.0</td>\n",
              "      <td>0.0</td>\n",
              "      <td>0.0</td>\n",
              "      <td>0.0</td>\n",
              "      <td>0.0</td>\n",
              "      <td>0.0</td>\n",
              "      <td>0.0</td>\n",
              "      <td>0.0</td>\n",
              "      <td>0.0</td>\n",
              "      <td>0.0</td>\n",
              "      <td>0.0</td>\n",
              "      <td>0.0</td>\n",
              "      <td>0.0</td>\n",
              "      <td>0.0</td>\n",
              "      <td>0.0</td>\n",
              "      <td>0.0</td>\n",
              "      <td>0.0</td>\n",
              "      <td>0.0</td>\n",
              "      <td>0.0</td>\n",
              "      <td>0.0</td>\n",
              "      <td>...</td>\n",
              "      <td>0.0</td>\n",
              "      <td>0.0</td>\n",
              "      <td>0.0</td>\n",
              "      <td>0.0</td>\n",
              "      <td>0.0</td>\n",
              "      <td>0.0</td>\n",
              "      <td>0.0</td>\n",
              "      <td>0.0</td>\n",
              "      <td>0.0</td>\n",
              "      <td>0.0</td>\n",
              "      <td>0.0</td>\n",
              "      <td>0.0</td>\n",
              "      <td>0.0</td>\n",
              "      <td>0.0</td>\n",
              "      <td>0.0</td>\n",
              "      <td>0.0</td>\n",
              "      <td>0.0</td>\n",
              "      <td>0.0</td>\n",
              "      <td>0.0</td>\n",
              "      <td>0.0</td>\n",
              "      <td>0.0</td>\n",
              "      <td>0.0</td>\n",
              "      <td>0.0</td>\n",
              "      <td>0.0</td>\n",
              "      <td>0.0</td>\n",
              "      <td>0.0</td>\n",
              "      <td>0.0</td>\n",
              "      <td>0.0</td>\n",
              "      <td>0.0</td>\n",
              "      <td>0.0</td>\n",
              "      <td>0.0</td>\n",
              "      <td>0.0</td>\n",
              "      <td>0.0</td>\n",
              "      <td>0.0</td>\n",
              "      <td>0.0</td>\n",
              "      <td>0.0</td>\n",
              "      <td>0.0</td>\n",
              "      <td>0.0</td>\n",
              "      <td>0.0</td>\n",
              "      <td>0.0</td>\n",
              "    </tr>\n",
              "    <tr>\n",
              "      <th>01impala</th>\n",
              "      <td>0.0</td>\n",
              "      <td>0.0</td>\n",
              "      <td>0.0</td>\n",
              "      <td>0.0</td>\n",
              "      <td>0.0</td>\n",
              "      <td>0.0</td>\n",
              "      <td>0.0</td>\n",
              "      <td>0.0</td>\n",
              "      <td>0.0</td>\n",
              "      <td>0.0</td>\n",
              "      <td>0.0</td>\n",
              "      <td>0.0</td>\n",
              "      <td>0.0</td>\n",
              "      <td>0.0</td>\n",
              "      <td>0.0</td>\n",
              "      <td>0.0</td>\n",
              "      <td>0.0</td>\n",
              "      <td>0.0</td>\n",
              "      <td>0.0</td>\n",
              "      <td>0.0</td>\n",
              "      <td>0.0</td>\n",
              "      <td>0.0</td>\n",
              "      <td>0.0</td>\n",
              "      <td>0.0</td>\n",
              "      <td>0.0</td>\n",
              "      <td>0.0</td>\n",
              "      <td>0.0</td>\n",
              "      <td>0.0</td>\n",
              "      <td>0.0</td>\n",
              "      <td>0.0</td>\n",
              "      <td>0.0</td>\n",
              "      <td>0.0</td>\n",
              "      <td>0.0</td>\n",
              "      <td>0.0</td>\n",
              "      <td>0.0</td>\n",
              "      <td>0.0</td>\n",
              "      <td>0.0</td>\n",
              "      <td>0.0</td>\n",
              "      <td>0.0</td>\n",
              "      <td>0.0</td>\n",
              "      <td>...</td>\n",
              "      <td>0.0</td>\n",
              "      <td>0.0</td>\n",
              "      <td>0.0</td>\n",
              "      <td>0.0</td>\n",
              "      <td>0.0</td>\n",
              "      <td>0.0</td>\n",
              "      <td>0.0</td>\n",
              "      <td>0.0</td>\n",
              "      <td>0.0</td>\n",
              "      <td>0.0</td>\n",
              "      <td>0.0</td>\n",
              "      <td>0.0</td>\n",
              "      <td>0.0</td>\n",
              "      <td>0.0</td>\n",
              "      <td>0.0</td>\n",
              "      <td>0.0</td>\n",
              "      <td>0.0</td>\n",
              "      <td>0.0</td>\n",
              "      <td>0.0</td>\n",
              "      <td>0.0</td>\n",
              "      <td>0.0</td>\n",
              "      <td>0.0</td>\n",
              "      <td>0.0</td>\n",
              "      <td>0.0</td>\n",
              "      <td>0.0</td>\n",
              "      <td>0.0</td>\n",
              "      <td>0.0</td>\n",
              "      <td>0.0</td>\n",
              "      <td>0.0</td>\n",
              "      <td>0.0</td>\n",
              "      <td>0.0</td>\n",
              "      <td>0.0</td>\n",
              "      <td>0.0</td>\n",
              "      <td>0.0</td>\n",
              "      <td>0.0</td>\n",
              "      <td>0.0</td>\n",
              "      <td>0.0</td>\n",
              "      <td>0.0</td>\n",
              "      <td>0.0</td>\n",
              "      <td>0.0</td>\n",
              "    </tr>\n",
              "    <tr>\n",
              "      <th>02deuce</th>\n",
              "      <td>0.0</td>\n",
              "      <td>0.0</td>\n",
              "      <td>0.0</td>\n",
              "      <td>0.0</td>\n",
              "      <td>0.0</td>\n",
              "      <td>0.0</td>\n",
              "      <td>0.0</td>\n",
              "      <td>0.0</td>\n",
              "      <td>0.0</td>\n",
              "      <td>0.0</td>\n",
              "      <td>0.0</td>\n",
              "      <td>0.0</td>\n",
              "      <td>0.0</td>\n",
              "      <td>0.0</td>\n",
              "      <td>0.0</td>\n",
              "      <td>0.0</td>\n",
              "      <td>0.0</td>\n",
              "      <td>0.0</td>\n",
              "      <td>0.0</td>\n",
              "      <td>0.0</td>\n",
              "      <td>0.0</td>\n",
              "      <td>0.0</td>\n",
              "      <td>0.0</td>\n",
              "      <td>0.0</td>\n",
              "      <td>0.0</td>\n",
              "      <td>0.0</td>\n",
              "      <td>0.0</td>\n",
              "      <td>0.0</td>\n",
              "      <td>0.0</td>\n",
              "      <td>0.0</td>\n",
              "      <td>0.0</td>\n",
              "      <td>0.0</td>\n",
              "      <td>0.0</td>\n",
              "      <td>0.0</td>\n",
              "      <td>0.0</td>\n",
              "      <td>0.0</td>\n",
              "      <td>0.0</td>\n",
              "      <td>0.0</td>\n",
              "      <td>0.0</td>\n",
              "      <td>0.0</td>\n",
              "      <td>...</td>\n",
              "      <td>0.0</td>\n",
              "      <td>0.0</td>\n",
              "      <td>0.0</td>\n",
              "      <td>0.0</td>\n",
              "      <td>0.0</td>\n",
              "      <td>0.0</td>\n",
              "      <td>0.0</td>\n",
              "      <td>0.0</td>\n",
              "      <td>0.0</td>\n",
              "      <td>0.0</td>\n",
              "      <td>0.0</td>\n",
              "      <td>0.0</td>\n",
              "      <td>0.0</td>\n",
              "      <td>0.0</td>\n",
              "      <td>0.0</td>\n",
              "      <td>0.0</td>\n",
              "      <td>0.0</td>\n",
              "      <td>0.0</td>\n",
              "      <td>0.0</td>\n",
              "      <td>0.0</td>\n",
              "      <td>0.0</td>\n",
              "      <td>0.0</td>\n",
              "      <td>0.0</td>\n",
              "      <td>0.0</td>\n",
              "      <td>0.0</td>\n",
              "      <td>0.0</td>\n",
              "      <td>0.0</td>\n",
              "      <td>0.0</td>\n",
              "      <td>0.0</td>\n",
              "      <td>0.0</td>\n",
              "      <td>0.0</td>\n",
              "      <td>0.0</td>\n",
              "      <td>0.0</td>\n",
              "      <td>0.0</td>\n",
              "      <td>0.0</td>\n",
              "      <td>0.0</td>\n",
              "      <td>0.0</td>\n",
              "      <td>0.0</td>\n",
              "      <td>0.0</td>\n",
              "      <td>0.0</td>\n",
              "    </tr>\n",
              "    <tr>\n",
              "      <th>0325home</th>\n",
              "      <td>0.0</td>\n",
              "      <td>0.0</td>\n",
              "      <td>0.0</td>\n",
              "      <td>0.0</td>\n",
              "      <td>0.0</td>\n",
              "      <td>0.0</td>\n",
              "      <td>0.0</td>\n",
              "      <td>0.0</td>\n",
              "      <td>0.0</td>\n",
              "      <td>0.0</td>\n",
              "      <td>0.0</td>\n",
              "      <td>0.0</td>\n",
              "      <td>0.0</td>\n",
              "      <td>0.0</td>\n",
              "      <td>0.0</td>\n",
              "      <td>0.0</td>\n",
              "      <td>0.0</td>\n",
              "      <td>0.0</td>\n",
              "      <td>0.0</td>\n",
              "      <td>0.0</td>\n",
              "      <td>0.0</td>\n",
              "      <td>0.0</td>\n",
              "      <td>0.0</td>\n",
              "      <td>0.0</td>\n",
              "      <td>0.0</td>\n",
              "      <td>0.0</td>\n",
              "      <td>0.0</td>\n",
              "      <td>0.0</td>\n",
              "      <td>0.0</td>\n",
              "      <td>0.0</td>\n",
              "      <td>0.0</td>\n",
              "      <td>0.0</td>\n",
              "      <td>0.0</td>\n",
              "      <td>0.0</td>\n",
              "      <td>0.0</td>\n",
              "      <td>0.0</td>\n",
              "      <td>0.0</td>\n",
              "      <td>0.0</td>\n",
              "      <td>0.0</td>\n",
              "      <td>0.0</td>\n",
              "      <td>...</td>\n",
              "      <td>0.0</td>\n",
              "      <td>0.0</td>\n",
              "      <td>0.0</td>\n",
              "      <td>0.0</td>\n",
              "      <td>0.0</td>\n",
              "      <td>0.0</td>\n",
              "      <td>0.0</td>\n",
              "      <td>0.0</td>\n",
              "      <td>0.0</td>\n",
              "      <td>0.0</td>\n",
              "      <td>0.0</td>\n",
              "      <td>0.0</td>\n",
              "      <td>0.0</td>\n",
              "      <td>0.0</td>\n",
              "      <td>0.0</td>\n",
              "      <td>0.0</td>\n",
              "      <td>0.0</td>\n",
              "      <td>0.0</td>\n",
              "      <td>0.0</td>\n",
              "      <td>0.0</td>\n",
              "      <td>0.0</td>\n",
              "      <td>0.0</td>\n",
              "      <td>0.0</td>\n",
              "      <td>0.0</td>\n",
              "      <td>0.0</td>\n",
              "      <td>0.0</td>\n",
              "      <td>0.0</td>\n",
              "      <td>0.0</td>\n",
              "      <td>0.0</td>\n",
              "      <td>0.0</td>\n",
              "      <td>0.0</td>\n",
              "      <td>0.0</td>\n",
              "      <td>0.0</td>\n",
              "      <td>0.0</td>\n",
              "      <td>0.0</td>\n",
              "      <td>0.0</td>\n",
              "      <td>0.0</td>\n",
              "      <td>0.0</td>\n",
              "      <td>0.0</td>\n",
              "      <td>0.0</td>\n",
              "    </tr>\n",
              "    <tr>\n",
              "      <th>09mommy11</th>\n",
              "      <td>0.0</td>\n",
              "      <td>0.0</td>\n",
              "      <td>0.0</td>\n",
              "      <td>0.0</td>\n",
              "      <td>0.0</td>\n",
              "      <td>0.0</td>\n",
              "      <td>0.0</td>\n",
              "      <td>0.0</td>\n",
              "      <td>0.0</td>\n",
              "      <td>0.0</td>\n",
              "      <td>0.0</td>\n",
              "      <td>0.0</td>\n",
              "      <td>0.0</td>\n",
              "      <td>0.0</td>\n",
              "      <td>0.0</td>\n",
              "      <td>0.0</td>\n",
              "      <td>0.0</td>\n",
              "      <td>0.0</td>\n",
              "      <td>0.0</td>\n",
              "      <td>0.0</td>\n",
              "      <td>0.0</td>\n",
              "      <td>0.0</td>\n",
              "      <td>0.0</td>\n",
              "      <td>0.0</td>\n",
              "      <td>0.0</td>\n",
              "      <td>0.0</td>\n",
              "      <td>0.0</td>\n",
              "      <td>0.0</td>\n",
              "      <td>0.0</td>\n",
              "      <td>0.0</td>\n",
              "      <td>0.0</td>\n",
              "      <td>0.0</td>\n",
              "      <td>0.0</td>\n",
              "      <td>0.0</td>\n",
              "      <td>0.0</td>\n",
              "      <td>0.0</td>\n",
              "      <td>0.0</td>\n",
              "      <td>0.0</td>\n",
              "      <td>0.0</td>\n",
              "      <td>0.0</td>\n",
              "      <td>...</td>\n",
              "      <td>0.0</td>\n",
              "      <td>0.0</td>\n",
              "      <td>0.0</td>\n",
              "      <td>0.0</td>\n",
              "      <td>0.0</td>\n",
              "      <td>0.0</td>\n",
              "      <td>0.0</td>\n",
              "      <td>0.0</td>\n",
              "      <td>0.0</td>\n",
              "      <td>0.0</td>\n",
              "      <td>0.0</td>\n",
              "      <td>0.0</td>\n",
              "      <td>0.0</td>\n",
              "      <td>0.0</td>\n",
              "      <td>0.0</td>\n",
              "      <td>0.0</td>\n",
              "      <td>0.0</td>\n",
              "      <td>0.0</td>\n",
              "      <td>0.0</td>\n",
              "      <td>0.0</td>\n",
              "      <td>0.0</td>\n",
              "      <td>0.0</td>\n",
              "      <td>0.0</td>\n",
              "      <td>0.0</td>\n",
              "      <td>0.0</td>\n",
              "      <td>0.0</td>\n",
              "      <td>0.0</td>\n",
              "      <td>0.0</td>\n",
              "      <td>0.0</td>\n",
              "      <td>0.0</td>\n",
              "      <td>0.0</td>\n",
              "      <td>0.0</td>\n",
              "      <td>0.0</td>\n",
              "      <td>0.0</td>\n",
              "      <td>0.0</td>\n",
              "      <td>0.0</td>\n",
              "      <td>0.0</td>\n",
              "      <td>0.0</td>\n",
              "      <td>0.0</td>\n",
              "      <td>0.0</td>\n",
              "    </tr>\n",
              "  </tbody>\n",
              "</table>\n",
              "<p>5 rows × 20229 columns</p>\n",
              "</div>"
            ],
            "text/plain": [
              "           0      1      2      3      4      ...  20224  20225  20226  20227  20228\n",
              "user                                          ...                                   \n",
              "00sab00      1.0    0.0    0.0    0.0    0.0  ...    0.0    0.0    0.0    0.0    0.0\n",
              "01impala     0.0    0.0    0.0    0.0    0.0  ...    0.0    0.0    0.0    0.0    0.0\n",
              "02deuce      0.0    0.0    0.0    0.0    0.0  ...    0.0    0.0    0.0    0.0    0.0\n",
              "0325home     0.0    0.0    0.0    0.0    0.0  ...    0.0    0.0    0.0    0.0    0.0\n",
              "09mommy11    0.0    0.0    0.0    0.0    0.0  ...    0.0    0.0    0.0    0.0    0.0\n",
              "\n",
              "[5 rows x 20229 columns]"
            ]
          },
          "metadata": {
            "tags": []
          },
          "execution_count": 47
        }
      ]
    },
    {
      "cell_type": "code",
      "metadata": {
        "id": "osivuMKJyou9",
        "colab": {
          "base_uri": "https://localhost:8080/",
          "height": 284
        },
        "outputId": "f09f0b32-8058-4785-86e9-f6d02bd3e83a"
      },
      "source": [
        "# Updating the column names\n",
        "list_name = common.user.tolist()\n",
        "user_correlation_df.columns = df_subtracted.index.tolist()\n",
        "user_correlation_df_1 =  user_correlation_df[user_correlation_df.index.isin(list_name)]\n",
        "user_correlation_df_1.head()"
      ],
      "id": "osivuMKJyou9",
      "execution_count": 48,
      "outputs": [
        {
          "output_type": "execute_result",
          "data": {
            "text/html": [
              "<div>\n",
              "<style scoped>\n",
              "    .dataframe tbody tr th:only-of-type {\n",
              "        vertical-align: middle;\n",
              "    }\n",
              "\n",
              "    .dataframe tbody tr th {\n",
              "        vertical-align: top;\n",
              "    }\n",
              "\n",
              "    .dataframe thead th {\n",
              "        text-align: right;\n",
              "    }\n",
              "</style>\n",
              "<table border=\"1\" class=\"dataframe\">\n",
              "  <thead>\n",
              "    <tr style=\"text-align: right;\">\n",
              "      <th></th>\n",
              "      <th>00sab00</th>\n",
              "      <th>01impala</th>\n",
              "      <th>02deuce</th>\n",
              "      <th>0325home</th>\n",
              "      <th>09mommy11</th>\n",
              "      <th>1.11E+24</th>\n",
              "      <th>1085</th>\n",
              "      <th>10ten</th>\n",
              "      <th>11111111aaaaaaaaaaaaaaaaa</th>\n",
              "      <th>1143mom</th>\n",
              "      <th>1234</th>\n",
              "      <th>1234561</th>\n",
              "      <th>1234567</th>\n",
              "      <th>1234asdf</th>\n",
              "      <th>123cat123</th>\n",
              "      <th>123charlie</th>\n",
              "      <th>123numbers</th>\n",
              "      <th>123rs</th>\n",
              "      <th>123soccermom</th>\n",
              "      <th>123too</th>\n",
              "      <th>12cass12</th>\n",
              "      <th>12gage</th>\n",
              "      <th>13dani</th>\n",
              "      <th>13ld</th>\n",
              "      <th>13ram</th>\n",
              "      <th>13thfaerie</th>\n",
              "      <th>1421nikki</th>\n",
              "      <th>143st</th>\n",
              "      <th>148maine</th>\n",
              "      <th>1515</th>\n",
              "      <th>15425shopper</th>\n",
              "      <th>1616</th>\n",
              "      <th>170361eggs</th>\n",
              "      <th>1753</th>\n",
              "      <th>17roses</th>\n",
              "      <th>18612</th>\n",
              "      <th>1863philly</th>\n",
              "      <th>1943</th>\n",
              "      <th>1950rmm</th>\n",
              "      <th>1968bear</th>\n",
              "      <th>...</th>\n",
              "      <th>zimmeyb</th>\n",
              "      <th>zina911</th>\n",
              "      <th>zinnian</th>\n",
              "      <th>zipflip</th>\n",
              "      <th>zipp</th>\n",
              "      <th>zipper</th>\n",
              "      <th>zipperdoo</th>\n",
              "      <th>zippity</th>\n",
              "      <th>zippy</th>\n",
              "      <th>zitro</th>\n",
              "      <th>zkondrk</th>\n",
              "      <th>zman69</th>\n",
              "      <th>zmikez</th>\n",
              "      <th>zmom</th>\n",
              "      <th>znxfyt</th>\n",
              "      <th>zod10</th>\n",
              "      <th>zodness</th>\n",
              "      <th>zoeellasca</th>\n",
              "      <th>zoey</th>\n",
              "      <th>zoeyny</th>\n",
              "      <th>zokhid</th>\n",
              "      <th>zombie</th>\n",
              "      <th>zombiegirl22</th>\n",
              "      <th>zombiekiller</th>\n",
              "      <th>zombiekiller14</th>\n",
              "      <th>zone</th>\n",
              "      <th>zoney86</th>\n",
              "      <th>zooey_57</th>\n",
              "      <th>zoomin76</th>\n",
              "      <th>zotox</th>\n",
              "      <th>zowie</th>\n",
              "      <th>zozo0o</th>\n",
              "      <th>zpalma</th>\n",
              "      <th>zsarah</th>\n",
              "      <th>zt313</th>\n",
              "      <th>zubb</th>\n",
              "      <th>zulaa118</th>\n",
              "      <th>zuttle</th>\n",
              "      <th>zxcsdfd</th>\n",
              "      <th>zzz1127</th>\n",
              "    </tr>\n",
              "    <tr>\n",
              "      <th>user</th>\n",
              "      <th></th>\n",
              "      <th></th>\n",
              "      <th></th>\n",
              "      <th></th>\n",
              "      <th></th>\n",
              "      <th></th>\n",
              "      <th></th>\n",
              "      <th></th>\n",
              "      <th></th>\n",
              "      <th></th>\n",
              "      <th></th>\n",
              "      <th></th>\n",
              "      <th></th>\n",
              "      <th></th>\n",
              "      <th></th>\n",
              "      <th></th>\n",
              "      <th></th>\n",
              "      <th></th>\n",
              "      <th></th>\n",
              "      <th></th>\n",
              "      <th></th>\n",
              "      <th></th>\n",
              "      <th></th>\n",
              "      <th></th>\n",
              "      <th></th>\n",
              "      <th></th>\n",
              "      <th></th>\n",
              "      <th></th>\n",
              "      <th></th>\n",
              "      <th></th>\n",
              "      <th></th>\n",
              "      <th></th>\n",
              "      <th></th>\n",
              "      <th></th>\n",
              "      <th></th>\n",
              "      <th></th>\n",
              "      <th></th>\n",
              "      <th></th>\n",
              "      <th></th>\n",
              "      <th></th>\n",
              "      <th></th>\n",
              "      <th></th>\n",
              "      <th></th>\n",
              "      <th></th>\n",
              "      <th></th>\n",
              "      <th></th>\n",
              "      <th></th>\n",
              "      <th></th>\n",
              "      <th></th>\n",
              "      <th></th>\n",
              "      <th></th>\n",
              "      <th></th>\n",
              "      <th></th>\n",
              "      <th></th>\n",
              "      <th></th>\n",
              "      <th></th>\n",
              "      <th></th>\n",
              "      <th></th>\n",
              "      <th></th>\n",
              "      <th></th>\n",
              "      <th></th>\n",
              "      <th></th>\n",
              "      <th></th>\n",
              "      <th></th>\n",
              "      <th></th>\n",
              "      <th></th>\n",
              "      <th></th>\n",
              "      <th></th>\n",
              "      <th></th>\n",
              "      <th></th>\n",
              "      <th></th>\n",
              "      <th></th>\n",
              "      <th></th>\n",
              "      <th></th>\n",
              "      <th></th>\n",
              "      <th></th>\n",
              "      <th></th>\n",
              "      <th></th>\n",
              "      <th></th>\n",
              "      <th></th>\n",
              "      <th></th>\n",
              "    </tr>\n",
              "  </thead>\n",
              "  <tbody>\n",
              "    <tr>\n",
              "      <th>1234</th>\n",
              "      <td>0.0</td>\n",
              "      <td>0.0</td>\n",
              "      <td>0.0</td>\n",
              "      <td>0.0</td>\n",
              "      <td>0.0</td>\n",
              "      <td>0.0</td>\n",
              "      <td>0.0</td>\n",
              "      <td>0.0</td>\n",
              "      <td>0.0</td>\n",
              "      <td>0.0</td>\n",
              "      <td>1.0</td>\n",
              "      <td>0.0</td>\n",
              "      <td>0.0</td>\n",
              "      <td>0.0</td>\n",
              "      <td>0.0</td>\n",
              "      <td>0.0</td>\n",
              "      <td>0.0</td>\n",
              "      <td>0.0</td>\n",
              "      <td>0.0</td>\n",
              "      <td>0.0</td>\n",
              "      <td>0.0</td>\n",
              "      <td>0.0</td>\n",
              "      <td>0.0</td>\n",
              "      <td>0.0</td>\n",
              "      <td>0.0</td>\n",
              "      <td>0.0</td>\n",
              "      <td>0.0</td>\n",
              "      <td>0.0</td>\n",
              "      <td>0.0</td>\n",
              "      <td>0.0</td>\n",
              "      <td>0.0</td>\n",
              "      <td>0.0</td>\n",
              "      <td>0.0</td>\n",
              "      <td>0.0</td>\n",
              "      <td>0.0</td>\n",
              "      <td>0.0</td>\n",
              "      <td>0.0</td>\n",
              "      <td>0.0</td>\n",
              "      <td>0.0</td>\n",
              "      <td>0.0</td>\n",
              "      <td>...</td>\n",
              "      <td>0.0</td>\n",
              "      <td>0.0</td>\n",
              "      <td>0.0</td>\n",
              "      <td>0.0</td>\n",
              "      <td>0.0</td>\n",
              "      <td>0.0</td>\n",
              "      <td>0.0</td>\n",
              "      <td>0.0</td>\n",
              "      <td>0.0</td>\n",
              "      <td>0.0</td>\n",
              "      <td>0.0</td>\n",
              "      <td>0.0</td>\n",
              "      <td>0.0</td>\n",
              "      <td>0.0</td>\n",
              "      <td>0.0</td>\n",
              "      <td>0.0</td>\n",
              "      <td>0.0</td>\n",
              "      <td>0.0</td>\n",
              "      <td>0.0</td>\n",
              "      <td>0.0</td>\n",
              "      <td>0.0</td>\n",
              "      <td>0.0</td>\n",
              "      <td>0.0</td>\n",
              "      <td>0.0</td>\n",
              "      <td>0.0</td>\n",
              "      <td>0.0</td>\n",
              "      <td>0.0</td>\n",
              "      <td>0.0</td>\n",
              "      <td>0.0</td>\n",
              "      <td>0.0</td>\n",
              "      <td>0.0</td>\n",
              "      <td>0.0</td>\n",
              "      <td>0.0</td>\n",
              "      <td>0.0</td>\n",
              "      <td>0.0</td>\n",
              "      <td>0.0</td>\n",
              "      <td>0.0</td>\n",
              "      <td>0.0</td>\n",
              "      <td>0.0</td>\n",
              "      <td>0.0</td>\n",
              "    </tr>\n",
              "    <tr>\n",
              "      <th>123charlie</th>\n",
              "      <td>0.0</td>\n",
              "      <td>0.0</td>\n",
              "      <td>0.0</td>\n",
              "      <td>0.0</td>\n",
              "      <td>0.0</td>\n",
              "      <td>0.0</td>\n",
              "      <td>0.0</td>\n",
              "      <td>0.0</td>\n",
              "      <td>0.0</td>\n",
              "      <td>0.0</td>\n",
              "      <td>0.0</td>\n",
              "      <td>0.0</td>\n",
              "      <td>0.0</td>\n",
              "      <td>0.0</td>\n",
              "      <td>0.0</td>\n",
              "      <td>0.0</td>\n",
              "      <td>0.0</td>\n",
              "      <td>0.0</td>\n",
              "      <td>0.0</td>\n",
              "      <td>0.0</td>\n",
              "      <td>0.0</td>\n",
              "      <td>0.0</td>\n",
              "      <td>0.0</td>\n",
              "      <td>0.0</td>\n",
              "      <td>0.0</td>\n",
              "      <td>0.0</td>\n",
              "      <td>0.0</td>\n",
              "      <td>0.0</td>\n",
              "      <td>0.0</td>\n",
              "      <td>0.0</td>\n",
              "      <td>0.0</td>\n",
              "      <td>0.0</td>\n",
              "      <td>0.0</td>\n",
              "      <td>0.0</td>\n",
              "      <td>0.0</td>\n",
              "      <td>0.0</td>\n",
              "      <td>0.0</td>\n",
              "      <td>0.0</td>\n",
              "      <td>0.0</td>\n",
              "      <td>0.0</td>\n",
              "      <td>...</td>\n",
              "      <td>0.0</td>\n",
              "      <td>0.0</td>\n",
              "      <td>0.0</td>\n",
              "      <td>0.0</td>\n",
              "      <td>0.0</td>\n",
              "      <td>0.0</td>\n",
              "      <td>0.0</td>\n",
              "      <td>0.0</td>\n",
              "      <td>0.0</td>\n",
              "      <td>0.0</td>\n",
              "      <td>0.0</td>\n",
              "      <td>0.0</td>\n",
              "      <td>0.0</td>\n",
              "      <td>0.0</td>\n",
              "      <td>0.0</td>\n",
              "      <td>0.0</td>\n",
              "      <td>0.0</td>\n",
              "      <td>0.0</td>\n",
              "      <td>0.0</td>\n",
              "      <td>0.0</td>\n",
              "      <td>0.0</td>\n",
              "      <td>0.0</td>\n",
              "      <td>0.0</td>\n",
              "      <td>0.0</td>\n",
              "      <td>0.0</td>\n",
              "      <td>0.0</td>\n",
              "      <td>0.0</td>\n",
              "      <td>0.0</td>\n",
              "      <td>0.0</td>\n",
              "      <td>0.0</td>\n",
              "      <td>0.0</td>\n",
              "      <td>0.0</td>\n",
              "      <td>0.0</td>\n",
              "      <td>0.0</td>\n",
              "      <td>0.0</td>\n",
              "      <td>0.0</td>\n",
              "      <td>0.0</td>\n",
              "      <td>0.0</td>\n",
              "      <td>0.0</td>\n",
              "      <td>0.0</td>\n",
              "    </tr>\n",
              "    <tr>\n",
              "      <th>1943</th>\n",
              "      <td>0.0</td>\n",
              "      <td>0.0</td>\n",
              "      <td>0.0</td>\n",
              "      <td>0.0</td>\n",
              "      <td>0.0</td>\n",
              "      <td>0.0</td>\n",
              "      <td>0.0</td>\n",
              "      <td>0.0</td>\n",
              "      <td>0.0</td>\n",
              "      <td>0.0</td>\n",
              "      <td>0.0</td>\n",
              "      <td>0.0</td>\n",
              "      <td>0.0</td>\n",
              "      <td>0.0</td>\n",
              "      <td>0.0</td>\n",
              "      <td>0.0</td>\n",
              "      <td>0.0</td>\n",
              "      <td>0.0</td>\n",
              "      <td>0.0</td>\n",
              "      <td>0.0</td>\n",
              "      <td>0.0</td>\n",
              "      <td>0.0</td>\n",
              "      <td>0.0</td>\n",
              "      <td>0.0</td>\n",
              "      <td>0.0</td>\n",
              "      <td>0.0</td>\n",
              "      <td>0.0</td>\n",
              "      <td>0.0</td>\n",
              "      <td>0.0</td>\n",
              "      <td>0.0</td>\n",
              "      <td>0.0</td>\n",
              "      <td>0.0</td>\n",
              "      <td>0.0</td>\n",
              "      <td>0.0</td>\n",
              "      <td>0.0</td>\n",
              "      <td>0.0</td>\n",
              "      <td>0.0</td>\n",
              "      <td>0.0</td>\n",
              "      <td>0.0</td>\n",
              "      <td>0.0</td>\n",
              "      <td>...</td>\n",
              "      <td>0.0</td>\n",
              "      <td>0.0</td>\n",
              "      <td>0.0</td>\n",
              "      <td>0.0</td>\n",
              "      <td>0.0</td>\n",
              "      <td>0.0</td>\n",
              "      <td>0.0</td>\n",
              "      <td>0.0</td>\n",
              "      <td>0.0</td>\n",
              "      <td>0.0</td>\n",
              "      <td>0.0</td>\n",
              "      <td>0.0</td>\n",
              "      <td>0.0</td>\n",
              "      <td>0.0</td>\n",
              "      <td>0.0</td>\n",
              "      <td>0.0</td>\n",
              "      <td>0.0</td>\n",
              "      <td>0.0</td>\n",
              "      <td>0.0</td>\n",
              "      <td>0.0</td>\n",
              "      <td>0.0</td>\n",
              "      <td>0.0</td>\n",
              "      <td>0.0</td>\n",
              "      <td>0.0</td>\n",
              "      <td>0.0</td>\n",
              "      <td>0.0</td>\n",
              "      <td>0.0</td>\n",
              "      <td>0.0</td>\n",
              "      <td>0.0</td>\n",
              "      <td>0.0</td>\n",
              "      <td>0.0</td>\n",
              "      <td>0.0</td>\n",
              "      <td>0.0</td>\n",
              "      <td>0.0</td>\n",
              "      <td>0.0</td>\n",
              "      <td>0.0</td>\n",
              "      <td>0.0</td>\n",
              "      <td>0.0</td>\n",
              "      <td>0.0</td>\n",
              "      <td>0.0</td>\n",
              "    </tr>\n",
              "    <tr>\n",
              "      <th>37f5p</th>\n",
              "      <td>0.0</td>\n",
              "      <td>0.0</td>\n",
              "      <td>0.0</td>\n",
              "      <td>0.0</td>\n",
              "      <td>0.0</td>\n",
              "      <td>0.0</td>\n",
              "      <td>0.0</td>\n",
              "      <td>0.0</td>\n",
              "      <td>0.0</td>\n",
              "      <td>0.0</td>\n",
              "      <td>0.0</td>\n",
              "      <td>0.0</td>\n",
              "      <td>0.0</td>\n",
              "      <td>0.0</td>\n",
              "      <td>0.0</td>\n",
              "      <td>0.0</td>\n",
              "      <td>0.0</td>\n",
              "      <td>0.0</td>\n",
              "      <td>0.0</td>\n",
              "      <td>0.0</td>\n",
              "      <td>0.0</td>\n",
              "      <td>0.0</td>\n",
              "      <td>0.0</td>\n",
              "      <td>0.0</td>\n",
              "      <td>0.0</td>\n",
              "      <td>0.0</td>\n",
              "      <td>0.0</td>\n",
              "      <td>0.0</td>\n",
              "      <td>0.0</td>\n",
              "      <td>0.0</td>\n",
              "      <td>0.0</td>\n",
              "      <td>0.0</td>\n",
              "      <td>0.0</td>\n",
              "      <td>0.0</td>\n",
              "      <td>0.0</td>\n",
              "      <td>0.0</td>\n",
              "      <td>0.0</td>\n",
              "      <td>0.0</td>\n",
              "      <td>0.0</td>\n",
              "      <td>0.0</td>\n",
              "      <td>...</td>\n",
              "      <td>0.0</td>\n",
              "      <td>0.0</td>\n",
              "      <td>0.0</td>\n",
              "      <td>0.0</td>\n",
              "      <td>0.0</td>\n",
              "      <td>0.0</td>\n",
              "      <td>0.0</td>\n",
              "      <td>0.0</td>\n",
              "      <td>0.0</td>\n",
              "      <td>0.0</td>\n",
              "      <td>0.0</td>\n",
              "      <td>0.0</td>\n",
              "      <td>0.0</td>\n",
              "      <td>0.0</td>\n",
              "      <td>0.0</td>\n",
              "      <td>0.0</td>\n",
              "      <td>0.0</td>\n",
              "      <td>0.0</td>\n",
              "      <td>0.0</td>\n",
              "      <td>0.0</td>\n",
              "      <td>0.0</td>\n",
              "      <td>0.0</td>\n",
              "      <td>0.0</td>\n",
              "      <td>0.0</td>\n",
              "      <td>0.0</td>\n",
              "      <td>0.0</td>\n",
              "      <td>0.0</td>\n",
              "      <td>0.0</td>\n",
              "      <td>0.0</td>\n",
              "      <td>0.0</td>\n",
              "      <td>0.0</td>\n",
              "      <td>0.0</td>\n",
              "      <td>0.0</td>\n",
              "      <td>0.0</td>\n",
              "      <td>0.0</td>\n",
              "      <td>0.0</td>\n",
              "      <td>0.0</td>\n",
              "      <td>0.0</td>\n",
              "      <td>0.0</td>\n",
              "      <td>0.0</td>\n",
              "    </tr>\n",
              "    <tr>\n",
              "      <th>abby</th>\n",
              "      <td>0.0</td>\n",
              "      <td>0.0</td>\n",
              "      <td>0.0</td>\n",
              "      <td>0.0</td>\n",
              "      <td>0.0</td>\n",
              "      <td>0.0</td>\n",
              "      <td>0.0</td>\n",
              "      <td>0.0</td>\n",
              "      <td>0.0</td>\n",
              "      <td>0.0</td>\n",
              "      <td>0.0</td>\n",
              "      <td>0.0</td>\n",
              "      <td>0.0</td>\n",
              "      <td>0.0</td>\n",
              "      <td>0.0</td>\n",
              "      <td>0.0</td>\n",
              "      <td>0.0</td>\n",
              "      <td>0.0</td>\n",
              "      <td>0.0</td>\n",
              "      <td>0.0</td>\n",
              "      <td>0.0</td>\n",
              "      <td>0.0</td>\n",
              "      <td>0.0</td>\n",
              "      <td>0.0</td>\n",
              "      <td>0.0</td>\n",
              "      <td>0.0</td>\n",
              "      <td>0.0</td>\n",
              "      <td>0.0</td>\n",
              "      <td>0.0</td>\n",
              "      <td>0.0</td>\n",
              "      <td>0.0</td>\n",
              "      <td>0.0</td>\n",
              "      <td>0.0</td>\n",
              "      <td>0.0</td>\n",
              "      <td>0.0</td>\n",
              "      <td>0.0</td>\n",
              "      <td>0.0</td>\n",
              "      <td>0.0</td>\n",
              "      <td>0.0</td>\n",
              "      <td>0.0</td>\n",
              "      <td>...</td>\n",
              "      <td>0.0</td>\n",
              "      <td>0.0</td>\n",
              "      <td>0.0</td>\n",
              "      <td>0.0</td>\n",
              "      <td>0.0</td>\n",
              "      <td>0.0</td>\n",
              "      <td>0.0</td>\n",
              "      <td>0.0</td>\n",
              "      <td>0.0</td>\n",
              "      <td>0.0</td>\n",
              "      <td>0.0</td>\n",
              "      <td>0.0</td>\n",
              "      <td>0.0</td>\n",
              "      <td>0.0</td>\n",
              "      <td>0.0</td>\n",
              "      <td>0.0</td>\n",
              "      <td>0.0</td>\n",
              "      <td>0.0</td>\n",
              "      <td>0.0</td>\n",
              "      <td>0.0</td>\n",
              "      <td>0.0</td>\n",
              "      <td>0.0</td>\n",
              "      <td>0.0</td>\n",
              "      <td>0.0</td>\n",
              "      <td>0.0</td>\n",
              "      <td>0.0</td>\n",
              "      <td>0.0</td>\n",
              "      <td>0.0</td>\n",
              "      <td>0.0</td>\n",
              "      <td>0.0</td>\n",
              "      <td>0.0</td>\n",
              "      <td>0.0</td>\n",
              "      <td>0.0</td>\n",
              "      <td>0.0</td>\n",
              "      <td>0.0</td>\n",
              "      <td>0.0</td>\n",
              "      <td>0.0</td>\n",
              "      <td>0.0</td>\n",
              "      <td>0.0</td>\n",
              "      <td>0.0</td>\n",
              "    </tr>\n",
              "  </tbody>\n",
              "</table>\n",
              "<p>5 rows × 20229 columns</p>\n",
              "</div>"
            ],
            "text/plain": [
              "            00sab00  01impala  02deuce  ...  zuttle  zxcsdfd  zzz1127\n",
              "user                                    ...                          \n",
              "1234            0.0       0.0      0.0  ...     0.0      0.0      0.0\n",
              "123charlie      0.0       0.0      0.0  ...     0.0      0.0      0.0\n",
              "1943            0.0       0.0      0.0  ...     0.0      0.0      0.0\n",
              "37f5p           0.0       0.0      0.0  ...     0.0      0.0      0.0\n",
              "abby            0.0       0.0      0.0  ...     0.0      0.0      0.0\n",
              "\n",
              "[5 rows x 20229 columns]"
            ]
          },
          "metadata": {
            "tags": []
          },
          "execution_count": 48
        }
      ]
    },
    {
      "cell_type": "code",
      "metadata": {
        "id": "pyjpXF-dyorY",
        "colab": {
          "base_uri": "https://localhost:8080/"
        },
        "outputId": "3ddd5226-58ec-4a3c-f945-6c6a5b20f10b"
      },
      "source": [
        "# Checking the shape of dataframe\n",
        "user_correlation_df_1.shape"
      ],
      "id": "pyjpXF-dyorY",
      "execution_count": 49,
      "outputs": [
        {
          "output_type": "execute_result",
          "data": {
            "text/plain": [
              "(675, 20229)"
            ]
          },
          "metadata": {
            "tags": []
          },
          "execution_count": 49
        }
      ]
    },
    {
      "cell_type": "code",
      "metadata": {
        "id": "em4jKnXPyoK8",
        "colab": {
          "base_uri": "https://localhost:8080/",
          "height": 270
        },
        "outputId": "13758690-1dc9-47ff-c40c-7baa65e9a62a"
      },
      "source": [
        "# Filtering the columns (Removinf the columns which are not used for evaluation)\n",
        "user_correlation_df_2 = user_correlation_df_1.T[user_correlation_df_1.T.index.isin(list_name)]\n",
        "user_correlation_df_2.head()"
      ],
      "id": "em4jKnXPyoK8",
      "execution_count": 50,
      "outputs": [
        {
          "output_type": "execute_result",
          "data": {
            "text/html": [
              "<div>\n",
              "<style scoped>\n",
              "    .dataframe tbody tr th:only-of-type {\n",
              "        vertical-align: middle;\n",
              "    }\n",
              "\n",
              "    .dataframe tbody tr th {\n",
              "        vertical-align: top;\n",
              "    }\n",
              "\n",
              "    .dataframe thead th {\n",
              "        text-align: right;\n",
              "    }\n",
              "</style>\n",
              "<table border=\"1\" class=\"dataframe\">\n",
              "  <thead>\n",
              "    <tr style=\"text-align: right;\">\n",
              "      <th>user</th>\n",
              "      <th>1234</th>\n",
              "      <th>123charlie</th>\n",
              "      <th>1943</th>\n",
              "      <th>37f5p</th>\n",
              "      <th>abby</th>\n",
              "      <th>ac94</th>\n",
              "      <th>acv4217</th>\n",
              "      <th>aimee</th>\n",
              "      <th>ajackson75</th>\n",
              "      <th>ajay</th>\n",
              "      <th>alexis</th>\n",
              "      <th>allan6048</th>\n",
              "      <th>allison33</th>\n",
              "      <th>ally</th>\n",
              "      <th>amanda13</th>\n",
              "      <th>amazing</th>\n",
              "      <th>amazon customer</th>\n",
              "      <th>amcomber</th>\n",
              "      <th>ammcam</th>\n",
              "      <th>ammi</th>\n",
              "      <th>amor</th>\n",
              "      <th>amsmes26</th>\n",
              "      <th>andrea</th>\n",
              "      <th>andy</th>\n",
              "      <th>ang32</th>\n",
              "      <th>angel</th>\n",
              "      <th>angela</th>\n",
              "      <th>angie</th>\n",
              "      <th>angie2</th>\n",
              "      <th>angiesmessykids</th>\n",
              "      <th>anita</th>\n",
              "      <th>anne</th>\n",
              "      <th>anon</th>\n",
              "      <th>anthony</th>\n",
              "      <th>april</th>\n",
              "      <th>arlingtondonna</th>\n",
              "      <th>arob</th>\n",
              "      <th>artlile</th>\n",
              "      <th>as123</th>\n",
              "      <th>asaump</th>\n",
              "      <th>...</th>\n",
              "      <th>toni</th>\n",
              "      <th>tony</th>\n",
              "      <th>tooney38</th>\n",
              "      <th>toots</th>\n",
              "      <th>tootsie23</th>\n",
              "      <th>trisha</th>\n",
              "      <th>tstarr</th>\n",
              "      <th>ttdebbi</th>\n",
              "      <th>turi</th>\n",
              "      <th>turtle</th>\n",
              "      <th>twiggy575</th>\n",
              "      <th>tycr</th>\n",
              "      <th>tyler</th>\n",
              "      <th>unnamed</th>\n",
              "      <th>valerie</th>\n",
              "      <th>vccaan</th>\n",
              "      <th>vet323tech</th>\n",
              "      <th>vicki</th>\n",
              "      <th>vickie456</th>\n",
              "      <th>vicky</th>\n",
              "      <th>victoria</th>\n",
              "      <th>viewer</th>\n",
              "      <th>viking80</th>\n",
              "      <th>vikki</th>\n",
              "      <th>vivi37</th>\n",
              "      <th>vivian</th>\n",
              "      <th>want297z</th>\n",
              "      <th>wendy</th>\n",
              "      <th>whome</th>\n",
              "      <th>wil27</th>\n",
              "      <th>willy</th>\n",
              "      <th>wimbly</th>\n",
              "      <th>wonster67</th>\n",
              "      <th>worm</th>\n",
              "      <th>wvshopaholic</th>\n",
              "      <th>xstr8edgex</th>\n",
              "      <th>yummy</th>\n",
              "      <th>zipper</th>\n",
              "      <th>zippy</th>\n",
              "      <th>zitro</th>\n",
              "    </tr>\n",
              "  </thead>\n",
              "  <tbody>\n",
              "    <tr>\n",
              "      <th>1234</th>\n",
              "      <td>1.0</td>\n",
              "      <td>0.0</td>\n",
              "      <td>0.0</td>\n",
              "      <td>0.0</td>\n",
              "      <td>0.0</td>\n",
              "      <td>0.0</td>\n",
              "      <td>0.0</td>\n",
              "      <td>0.0</td>\n",
              "      <td>0.0</td>\n",
              "      <td>0.0</td>\n",
              "      <td>0.0</td>\n",
              "      <td>0.0</td>\n",
              "      <td>0.0</td>\n",
              "      <td>0.0</td>\n",
              "      <td>0.0</td>\n",
              "      <td>0.0</td>\n",
              "      <td>0.0</td>\n",
              "      <td>0.0</td>\n",
              "      <td>0.0</td>\n",
              "      <td>0.0</td>\n",
              "      <td>0.0</td>\n",
              "      <td>0.0</td>\n",
              "      <td>0.0</td>\n",
              "      <td>0.288675</td>\n",
              "      <td>0.0</td>\n",
              "      <td>0.0</td>\n",
              "      <td>0.0</td>\n",
              "      <td>0.852803</td>\n",
              "      <td>0.0</td>\n",
              "      <td>0.0</td>\n",
              "      <td>0.0</td>\n",
              "      <td>0.0</td>\n",
              "      <td>0.0</td>\n",
              "      <td>0.5</td>\n",
              "      <td>0.0</td>\n",
              "      <td>0.0</td>\n",
              "      <td>0.0</td>\n",
              "      <td>0.0</td>\n",
              "      <td>0.0</td>\n",
              "      <td>0.0</td>\n",
              "      <td>...</td>\n",
              "      <td>0.0</td>\n",
              "      <td>0.0</td>\n",
              "      <td>0.0</td>\n",
              "      <td>0.0</td>\n",
              "      <td>0.0</td>\n",
              "      <td>0.0</td>\n",
              "      <td>0.0</td>\n",
              "      <td>0.0</td>\n",
              "      <td>0.0</td>\n",
              "      <td>0.0</td>\n",
              "      <td>0.0</td>\n",
              "      <td>0.0</td>\n",
              "      <td>0.0</td>\n",
              "      <td>0.0</td>\n",
              "      <td>0.0</td>\n",
              "      <td>0.0</td>\n",
              "      <td>0.0</td>\n",
              "      <td>0.0</td>\n",
              "      <td>0.0</td>\n",
              "      <td>0.0</td>\n",
              "      <td>0.0</td>\n",
              "      <td>0.0</td>\n",
              "      <td>0.0</td>\n",
              "      <td>0.0</td>\n",
              "      <td>0.0</td>\n",
              "      <td>0.0</td>\n",
              "      <td>0.0</td>\n",
              "      <td>0.0</td>\n",
              "      <td>0.0</td>\n",
              "      <td>0.0</td>\n",
              "      <td>0.0</td>\n",
              "      <td>0.0</td>\n",
              "      <td>0.0</td>\n",
              "      <td>0.0</td>\n",
              "      <td>0.0</td>\n",
              "      <td>0.0</td>\n",
              "      <td>0.0</td>\n",
              "      <td>0.0</td>\n",
              "      <td>0.0</td>\n",
              "      <td>0.0</td>\n",
              "    </tr>\n",
              "    <tr>\n",
              "      <th>123charlie</th>\n",
              "      <td>0.0</td>\n",
              "      <td>0.0</td>\n",
              "      <td>0.0</td>\n",
              "      <td>0.0</td>\n",
              "      <td>0.0</td>\n",
              "      <td>0.0</td>\n",
              "      <td>0.0</td>\n",
              "      <td>0.0</td>\n",
              "      <td>0.0</td>\n",
              "      <td>0.0</td>\n",
              "      <td>0.0</td>\n",
              "      <td>0.0</td>\n",
              "      <td>0.0</td>\n",
              "      <td>0.0</td>\n",
              "      <td>0.0</td>\n",
              "      <td>0.0</td>\n",
              "      <td>0.0</td>\n",
              "      <td>0.0</td>\n",
              "      <td>0.0</td>\n",
              "      <td>0.0</td>\n",
              "      <td>0.0</td>\n",
              "      <td>0.0</td>\n",
              "      <td>0.0</td>\n",
              "      <td>0.000000</td>\n",
              "      <td>0.0</td>\n",
              "      <td>0.0</td>\n",
              "      <td>0.0</td>\n",
              "      <td>0.000000</td>\n",
              "      <td>0.0</td>\n",
              "      <td>0.0</td>\n",
              "      <td>0.0</td>\n",
              "      <td>0.0</td>\n",
              "      <td>0.0</td>\n",
              "      <td>0.0</td>\n",
              "      <td>0.0</td>\n",
              "      <td>0.0</td>\n",
              "      <td>0.0</td>\n",
              "      <td>0.0</td>\n",
              "      <td>0.0</td>\n",
              "      <td>0.0</td>\n",
              "      <td>...</td>\n",
              "      <td>0.0</td>\n",
              "      <td>0.0</td>\n",
              "      <td>0.0</td>\n",
              "      <td>0.0</td>\n",
              "      <td>0.0</td>\n",
              "      <td>0.0</td>\n",
              "      <td>0.0</td>\n",
              "      <td>0.0</td>\n",
              "      <td>0.0</td>\n",
              "      <td>0.0</td>\n",
              "      <td>0.0</td>\n",
              "      <td>0.0</td>\n",
              "      <td>0.0</td>\n",
              "      <td>0.0</td>\n",
              "      <td>0.0</td>\n",
              "      <td>0.0</td>\n",
              "      <td>0.0</td>\n",
              "      <td>0.0</td>\n",
              "      <td>0.0</td>\n",
              "      <td>0.0</td>\n",
              "      <td>0.0</td>\n",
              "      <td>0.0</td>\n",
              "      <td>0.0</td>\n",
              "      <td>0.0</td>\n",
              "      <td>0.0</td>\n",
              "      <td>0.0</td>\n",
              "      <td>0.0</td>\n",
              "      <td>0.0</td>\n",
              "      <td>0.0</td>\n",
              "      <td>0.0</td>\n",
              "      <td>0.0</td>\n",
              "      <td>0.0</td>\n",
              "      <td>0.0</td>\n",
              "      <td>0.0</td>\n",
              "      <td>0.0</td>\n",
              "      <td>0.0</td>\n",
              "      <td>0.0</td>\n",
              "      <td>0.0</td>\n",
              "      <td>0.0</td>\n",
              "      <td>0.0</td>\n",
              "    </tr>\n",
              "    <tr>\n",
              "      <th>1943</th>\n",
              "      <td>0.0</td>\n",
              "      <td>0.0</td>\n",
              "      <td>0.0</td>\n",
              "      <td>0.0</td>\n",
              "      <td>0.0</td>\n",
              "      <td>0.0</td>\n",
              "      <td>0.0</td>\n",
              "      <td>0.0</td>\n",
              "      <td>0.0</td>\n",
              "      <td>0.0</td>\n",
              "      <td>0.0</td>\n",
              "      <td>0.0</td>\n",
              "      <td>0.0</td>\n",
              "      <td>0.0</td>\n",
              "      <td>0.0</td>\n",
              "      <td>0.0</td>\n",
              "      <td>0.0</td>\n",
              "      <td>0.0</td>\n",
              "      <td>0.0</td>\n",
              "      <td>0.0</td>\n",
              "      <td>0.0</td>\n",
              "      <td>0.0</td>\n",
              "      <td>0.0</td>\n",
              "      <td>0.000000</td>\n",
              "      <td>0.0</td>\n",
              "      <td>0.0</td>\n",
              "      <td>0.0</td>\n",
              "      <td>0.000000</td>\n",
              "      <td>0.0</td>\n",
              "      <td>0.0</td>\n",
              "      <td>0.0</td>\n",
              "      <td>0.0</td>\n",
              "      <td>0.0</td>\n",
              "      <td>0.0</td>\n",
              "      <td>0.0</td>\n",
              "      <td>0.0</td>\n",
              "      <td>0.0</td>\n",
              "      <td>0.0</td>\n",
              "      <td>0.0</td>\n",
              "      <td>0.0</td>\n",
              "      <td>...</td>\n",
              "      <td>0.0</td>\n",
              "      <td>0.0</td>\n",
              "      <td>0.0</td>\n",
              "      <td>0.0</td>\n",
              "      <td>0.0</td>\n",
              "      <td>0.0</td>\n",
              "      <td>0.0</td>\n",
              "      <td>0.0</td>\n",
              "      <td>0.0</td>\n",
              "      <td>0.0</td>\n",
              "      <td>0.0</td>\n",
              "      <td>0.0</td>\n",
              "      <td>0.0</td>\n",
              "      <td>0.0</td>\n",
              "      <td>0.0</td>\n",
              "      <td>0.0</td>\n",
              "      <td>0.0</td>\n",
              "      <td>0.0</td>\n",
              "      <td>0.0</td>\n",
              "      <td>0.0</td>\n",
              "      <td>0.0</td>\n",
              "      <td>0.0</td>\n",
              "      <td>0.0</td>\n",
              "      <td>0.0</td>\n",
              "      <td>0.0</td>\n",
              "      <td>0.0</td>\n",
              "      <td>0.0</td>\n",
              "      <td>0.0</td>\n",
              "      <td>0.0</td>\n",
              "      <td>0.0</td>\n",
              "      <td>0.0</td>\n",
              "      <td>0.0</td>\n",
              "      <td>0.0</td>\n",
              "      <td>0.0</td>\n",
              "      <td>0.0</td>\n",
              "      <td>0.0</td>\n",
              "      <td>0.0</td>\n",
              "      <td>0.0</td>\n",
              "      <td>0.0</td>\n",
              "      <td>0.0</td>\n",
              "    </tr>\n",
              "    <tr>\n",
              "      <th>37f5p</th>\n",
              "      <td>0.0</td>\n",
              "      <td>0.0</td>\n",
              "      <td>0.0</td>\n",
              "      <td>0.0</td>\n",
              "      <td>0.0</td>\n",
              "      <td>0.0</td>\n",
              "      <td>0.0</td>\n",
              "      <td>0.0</td>\n",
              "      <td>0.0</td>\n",
              "      <td>0.0</td>\n",
              "      <td>0.0</td>\n",
              "      <td>0.0</td>\n",
              "      <td>0.0</td>\n",
              "      <td>0.0</td>\n",
              "      <td>0.0</td>\n",
              "      <td>0.0</td>\n",
              "      <td>0.0</td>\n",
              "      <td>0.0</td>\n",
              "      <td>0.0</td>\n",
              "      <td>0.0</td>\n",
              "      <td>0.0</td>\n",
              "      <td>0.0</td>\n",
              "      <td>0.0</td>\n",
              "      <td>0.000000</td>\n",
              "      <td>0.0</td>\n",
              "      <td>0.0</td>\n",
              "      <td>0.0</td>\n",
              "      <td>0.000000</td>\n",
              "      <td>0.0</td>\n",
              "      <td>0.0</td>\n",
              "      <td>0.0</td>\n",
              "      <td>0.0</td>\n",
              "      <td>0.0</td>\n",
              "      <td>0.0</td>\n",
              "      <td>0.0</td>\n",
              "      <td>0.0</td>\n",
              "      <td>0.0</td>\n",
              "      <td>0.0</td>\n",
              "      <td>0.0</td>\n",
              "      <td>0.0</td>\n",
              "      <td>...</td>\n",
              "      <td>0.0</td>\n",
              "      <td>0.0</td>\n",
              "      <td>0.0</td>\n",
              "      <td>0.0</td>\n",
              "      <td>0.0</td>\n",
              "      <td>0.0</td>\n",
              "      <td>0.0</td>\n",
              "      <td>0.0</td>\n",
              "      <td>0.0</td>\n",
              "      <td>0.0</td>\n",
              "      <td>0.0</td>\n",
              "      <td>0.0</td>\n",
              "      <td>0.0</td>\n",
              "      <td>0.0</td>\n",
              "      <td>0.0</td>\n",
              "      <td>0.0</td>\n",
              "      <td>0.0</td>\n",
              "      <td>0.0</td>\n",
              "      <td>0.0</td>\n",
              "      <td>0.0</td>\n",
              "      <td>0.0</td>\n",
              "      <td>0.0</td>\n",
              "      <td>0.0</td>\n",
              "      <td>0.0</td>\n",
              "      <td>0.0</td>\n",
              "      <td>0.0</td>\n",
              "      <td>0.0</td>\n",
              "      <td>0.0</td>\n",
              "      <td>0.0</td>\n",
              "      <td>0.0</td>\n",
              "      <td>0.0</td>\n",
              "      <td>0.0</td>\n",
              "      <td>0.0</td>\n",
              "      <td>0.0</td>\n",
              "      <td>0.0</td>\n",
              "      <td>0.0</td>\n",
              "      <td>0.0</td>\n",
              "      <td>0.0</td>\n",
              "      <td>0.0</td>\n",
              "      <td>0.0</td>\n",
              "    </tr>\n",
              "    <tr>\n",
              "      <th>abby</th>\n",
              "      <td>0.0</td>\n",
              "      <td>0.0</td>\n",
              "      <td>0.0</td>\n",
              "      <td>0.0</td>\n",
              "      <td>1.0</td>\n",
              "      <td>0.0</td>\n",
              "      <td>0.0</td>\n",
              "      <td>0.0</td>\n",
              "      <td>0.0</td>\n",
              "      <td>0.0</td>\n",
              "      <td>0.0</td>\n",
              "      <td>0.0</td>\n",
              "      <td>0.0</td>\n",
              "      <td>0.0</td>\n",
              "      <td>0.0</td>\n",
              "      <td>0.0</td>\n",
              "      <td>0.0</td>\n",
              "      <td>0.0</td>\n",
              "      <td>0.0</td>\n",
              "      <td>0.0</td>\n",
              "      <td>0.0</td>\n",
              "      <td>0.0</td>\n",
              "      <td>0.0</td>\n",
              "      <td>0.000000</td>\n",
              "      <td>0.0</td>\n",
              "      <td>0.0</td>\n",
              "      <td>0.0</td>\n",
              "      <td>0.000000</td>\n",
              "      <td>0.0</td>\n",
              "      <td>0.0</td>\n",
              "      <td>0.0</td>\n",
              "      <td>0.0</td>\n",
              "      <td>0.0</td>\n",
              "      <td>0.0</td>\n",
              "      <td>0.0</td>\n",
              "      <td>0.0</td>\n",
              "      <td>0.0</td>\n",
              "      <td>0.0</td>\n",
              "      <td>0.0</td>\n",
              "      <td>0.0</td>\n",
              "      <td>...</td>\n",
              "      <td>0.0</td>\n",
              "      <td>0.0</td>\n",
              "      <td>0.0</td>\n",
              "      <td>0.0</td>\n",
              "      <td>0.0</td>\n",
              "      <td>0.0</td>\n",
              "      <td>0.0</td>\n",
              "      <td>0.0</td>\n",
              "      <td>0.0</td>\n",
              "      <td>0.0</td>\n",
              "      <td>0.0</td>\n",
              "      <td>0.0</td>\n",
              "      <td>0.0</td>\n",
              "      <td>0.0</td>\n",
              "      <td>0.0</td>\n",
              "      <td>0.0</td>\n",
              "      <td>0.0</td>\n",
              "      <td>0.0</td>\n",
              "      <td>0.0</td>\n",
              "      <td>0.0</td>\n",
              "      <td>0.0</td>\n",
              "      <td>0.0</td>\n",
              "      <td>0.0</td>\n",
              "      <td>0.0</td>\n",
              "      <td>0.0</td>\n",
              "      <td>0.0</td>\n",
              "      <td>0.0</td>\n",
              "      <td>0.0</td>\n",
              "      <td>0.0</td>\n",
              "      <td>0.0</td>\n",
              "      <td>0.0</td>\n",
              "      <td>0.0</td>\n",
              "      <td>0.0</td>\n",
              "      <td>0.0</td>\n",
              "      <td>0.0</td>\n",
              "      <td>0.0</td>\n",
              "      <td>0.0</td>\n",
              "      <td>0.0</td>\n",
              "      <td>0.0</td>\n",
              "      <td>0.0</td>\n",
              "    </tr>\n",
              "  </tbody>\n",
              "</table>\n",
              "<p>5 rows × 675 columns</p>\n",
              "</div>"
            ],
            "text/plain": [
              "user        1234  123charlie  1943  37f5p  ...  yummy  zipper  zippy  zitro\n",
              "1234         1.0         0.0   0.0    0.0  ...    0.0     0.0    0.0    0.0\n",
              "123charlie   0.0         0.0   0.0    0.0  ...    0.0     0.0    0.0    0.0\n",
              "1943         0.0         0.0   0.0    0.0  ...    0.0     0.0    0.0    0.0\n",
              "37f5p        0.0         0.0   0.0    0.0  ...    0.0     0.0    0.0    0.0\n",
              "abby         0.0         0.0   0.0    0.0  ...    0.0     0.0    0.0    0.0\n",
              "\n",
              "[5 rows x 675 columns]"
            ]
          },
          "metadata": {
            "tags": []
          },
          "execution_count": 50
        }
      ]
    },
    {
      "cell_type": "code",
      "metadata": {
        "id": "v5TLlUz1zGhm",
        "colab": {
          "base_uri": "https://localhost:8080/",
          "height": 301
        },
        "outputId": "b11facb3-9cba-4afe-881e-c48592bcccb8"
      },
      "source": [
        "# Transpose the matrix\n",
        "user_correlation_df_3 = user_correlation_df_2.T\n",
        "user_correlation_df_3.head()"
      ],
      "id": "v5TLlUz1zGhm",
      "execution_count": 51,
      "outputs": [
        {
          "output_type": "execute_result",
          "data": {
            "text/html": [
              "<div>\n",
              "<style scoped>\n",
              "    .dataframe tbody tr th:only-of-type {\n",
              "        vertical-align: middle;\n",
              "    }\n",
              "\n",
              "    .dataframe tbody tr th {\n",
              "        vertical-align: top;\n",
              "    }\n",
              "\n",
              "    .dataframe thead th {\n",
              "        text-align: right;\n",
              "    }\n",
              "</style>\n",
              "<table border=\"1\" class=\"dataframe\">\n",
              "  <thead>\n",
              "    <tr style=\"text-align: right;\">\n",
              "      <th></th>\n",
              "      <th>1234</th>\n",
              "      <th>123charlie</th>\n",
              "      <th>1943</th>\n",
              "      <th>37f5p</th>\n",
              "      <th>abby</th>\n",
              "      <th>ac94</th>\n",
              "      <th>acv4217</th>\n",
              "      <th>aimee</th>\n",
              "      <th>ajackson75</th>\n",
              "      <th>ajay</th>\n",
              "      <th>alexis</th>\n",
              "      <th>allan6048</th>\n",
              "      <th>allison33</th>\n",
              "      <th>ally</th>\n",
              "      <th>amanda13</th>\n",
              "      <th>amazing</th>\n",
              "      <th>amazon customer</th>\n",
              "      <th>amcomber</th>\n",
              "      <th>ammcam</th>\n",
              "      <th>ammi</th>\n",
              "      <th>amor</th>\n",
              "      <th>amsmes26</th>\n",
              "      <th>andrea</th>\n",
              "      <th>andy</th>\n",
              "      <th>ang32</th>\n",
              "      <th>angel</th>\n",
              "      <th>angela</th>\n",
              "      <th>angie</th>\n",
              "      <th>angie2</th>\n",
              "      <th>angiesmessykids</th>\n",
              "      <th>anita</th>\n",
              "      <th>anne</th>\n",
              "      <th>anon</th>\n",
              "      <th>anthony</th>\n",
              "      <th>april</th>\n",
              "      <th>arlingtondonna</th>\n",
              "      <th>arob</th>\n",
              "      <th>artlile</th>\n",
              "      <th>as123</th>\n",
              "      <th>asaump</th>\n",
              "      <th>...</th>\n",
              "      <th>toni</th>\n",
              "      <th>tony</th>\n",
              "      <th>tooney38</th>\n",
              "      <th>toots</th>\n",
              "      <th>tootsie23</th>\n",
              "      <th>trisha</th>\n",
              "      <th>tstarr</th>\n",
              "      <th>ttdebbi</th>\n",
              "      <th>turi</th>\n",
              "      <th>turtle</th>\n",
              "      <th>twiggy575</th>\n",
              "      <th>tycr</th>\n",
              "      <th>tyler</th>\n",
              "      <th>unnamed</th>\n",
              "      <th>valerie</th>\n",
              "      <th>vccaan</th>\n",
              "      <th>vet323tech</th>\n",
              "      <th>vicki</th>\n",
              "      <th>vickie456</th>\n",
              "      <th>vicky</th>\n",
              "      <th>victoria</th>\n",
              "      <th>viewer</th>\n",
              "      <th>viking80</th>\n",
              "      <th>vikki</th>\n",
              "      <th>vivi37</th>\n",
              "      <th>vivian</th>\n",
              "      <th>want297z</th>\n",
              "      <th>wendy</th>\n",
              "      <th>whome</th>\n",
              "      <th>wil27</th>\n",
              "      <th>willy</th>\n",
              "      <th>wimbly</th>\n",
              "      <th>wonster67</th>\n",
              "      <th>worm</th>\n",
              "      <th>wvshopaholic</th>\n",
              "      <th>xstr8edgex</th>\n",
              "      <th>yummy</th>\n",
              "      <th>zipper</th>\n",
              "      <th>zippy</th>\n",
              "      <th>zitro</th>\n",
              "    </tr>\n",
              "    <tr>\n",
              "      <th>user</th>\n",
              "      <th></th>\n",
              "      <th></th>\n",
              "      <th></th>\n",
              "      <th></th>\n",
              "      <th></th>\n",
              "      <th></th>\n",
              "      <th></th>\n",
              "      <th></th>\n",
              "      <th></th>\n",
              "      <th></th>\n",
              "      <th></th>\n",
              "      <th></th>\n",
              "      <th></th>\n",
              "      <th></th>\n",
              "      <th></th>\n",
              "      <th></th>\n",
              "      <th></th>\n",
              "      <th></th>\n",
              "      <th></th>\n",
              "      <th></th>\n",
              "      <th></th>\n",
              "      <th></th>\n",
              "      <th></th>\n",
              "      <th></th>\n",
              "      <th></th>\n",
              "      <th></th>\n",
              "      <th></th>\n",
              "      <th></th>\n",
              "      <th></th>\n",
              "      <th></th>\n",
              "      <th></th>\n",
              "      <th></th>\n",
              "      <th></th>\n",
              "      <th></th>\n",
              "      <th></th>\n",
              "      <th></th>\n",
              "      <th></th>\n",
              "      <th></th>\n",
              "      <th></th>\n",
              "      <th></th>\n",
              "      <th></th>\n",
              "      <th></th>\n",
              "      <th></th>\n",
              "      <th></th>\n",
              "      <th></th>\n",
              "      <th></th>\n",
              "      <th></th>\n",
              "      <th></th>\n",
              "      <th></th>\n",
              "      <th></th>\n",
              "      <th></th>\n",
              "      <th></th>\n",
              "      <th></th>\n",
              "      <th></th>\n",
              "      <th></th>\n",
              "      <th></th>\n",
              "      <th></th>\n",
              "      <th></th>\n",
              "      <th></th>\n",
              "      <th></th>\n",
              "      <th></th>\n",
              "      <th></th>\n",
              "      <th></th>\n",
              "      <th></th>\n",
              "      <th></th>\n",
              "      <th></th>\n",
              "      <th></th>\n",
              "      <th></th>\n",
              "      <th></th>\n",
              "      <th></th>\n",
              "      <th></th>\n",
              "      <th></th>\n",
              "      <th></th>\n",
              "      <th></th>\n",
              "      <th></th>\n",
              "      <th></th>\n",
              "      <th></th>\n",
              "      <th></th>\n",
              "      <th></th>\n",
              "      <th></th>\n",
              "      <th></th>\n",
              "    </tr>\n",
              "  </thead>\n",
              "  <tbody>\n",
              "    <tr>\n",
              "      <th>1234</th>\n",
              "      <td>1.0</td>\n",
              "      <td>0.0</td>\n",
              "      <td>0.0</td>\n",
              "      <td>0.0</td>\n",
              "      <td>0.0</td>\n",
              "      <td>0.0</td>\n",
              "      <td>0.0</td>\n",
              "      <td>0.0</td>\n",
              "      <td>0.0</td>\n",
              "      <td>0.0</td>\n",
              "      <td>0.0</td>\n",
              "      <td>0.0</td>\n",
              "      <td>0.0</td>\n",
              "      <td>0.0</td>\n",
              "      <td>0.0</td>\n",
              "      <td>0.0</td>\n",
              "      <td>0.0</td>\n",
              "      <td>0.0</td>\n",
              "      <td>0.0</td>\n",
              "      <td>0.0</td>\n",
              "      <td>0.0</td>\n",
              "      <td>0.0</td>\n",
              "      <td>0.0</td>\n",
              "      <td>0.288675</td>\n",
              "      <td>0.0</td>\n",
              "      <td>0.0</td>\n",
              "      <td>0.0</td>\n",
              "      <td>0.852803</td>\n",
              "      <td>0.0</td>\n",
              "      <td>0.0</td>\n",
              "      <td>0.0</td>\n",
              "      <td>0.0</td>\n",
              "      <td>0.0</td>\n",
              "      <td>0.5</td>\n",
              "      <td>0.0</td>\n",
              "      <td>0.0</td>\n",
              "      <td>0.0</td>\n",
              "      <td>0.0</td>\n",
              "      <td>0.0</td>\n",
              "      <td>0.0</td>\n",
              "      <td>...</td>\n",
              "      <td>0.0</td>\n",
              "      <td>0.0</td>\n",
              "      <td>0.0</td>\n",
              "      <td>0.0</td>\n",
              "      <td>0.0</td>\n",
              "      <td>0.0</td>\n",
              "      <td>0.0</td>\n",
              "      <td>0.0</td>\n",
              "      <td>0.0</td>\n",
              "      <td>0.0</td>\n",
              "      <td>0.0</td>\n",
              "      <td>0.0</td>\n",
              "      <td>0.0</td>\n",
              "      <td>0.0</td>\n",
              "      <td>0.0</td>\n",
              "      <td>0.0</td>\n",
              "      <td>0.0</td>\n",
              "      <td>0.0</td>\n",
              "      <td>0.0</td>\n",
              "      <td>0.0</td>\n",
              "      <td>0.0</td>\n",
              "      <td>0.0</td>\n",
              "      <td>0.0</td>\n",
              "      <td>0.0</td>\n",
              "      <td>0.0</td>\n",
              "      <td>0.0</td>\n",
              "      <td>0.0</td>\n",
              "      <td>0.0</td>\n",
              "      <td>0.0</td>\n",
              "      <td>0.0</td>\n",
              "      <td>0.0</td>\n",
              "      <td>0.0</td>\n",
              "      <td>0.0</td>\n",
              "      <td>0.0</td>\n",
              "      <td>0.0</td>\n",
              "      <td>0.0</td>\n",
              "      <td>0.0</td>\n",
              "      <td>0.0</td>\n",
              "      <td>0.0</td>\n",
              "      <td>0.0</td>\n",
              "    </tr>\n",
              "    <tr>\n",
              "      <th>123charlie</th>\n",
              "      <td>0.0</td>\n",
              "      <td>0.0</td>\n",
              "      <td>0.0</td>\n",
              "      <td>0.0</td>\n",
              "      <td>0.0</td>\n",
              "      <td>0.0</td>\n",
              "      <td>0.0</td>\n",
              "      <td>0.0</td>\n",
              "      <td>0.0</td>\n",
              "      <td>0.0</td>\n",
              "      <td>0.0</td>\n",
              "      <td>0.0</td>\n",
              "      <td>0.0</td>\n",
              "      <td>0.0</td>\n",
              "      <td>0.0</td>\n",
              "      <td>0.0</td>\n",
              "      <td>0.0</td>\n",
              "      <td>0.0</td>\n",
              "      <td>0.0</td>\n",
              "      <td>0.0</td>\n",
              "      <td>0.0</td>\n",
              "      <td>0.0</td>\n",
              "      <td>0.0</td>\n",
              "      <td>0.000000</td>\n",
              "      <td>0.0</td>\n",
              "      <td>0.0</td>\n",
              "      <td>0.0</td>\n",
              "      <td>0.000000</td>\n",
              "      <td>0.0</td>\n",
              "      <td>0.0</td>\n",
              "      <td>0.0</td>\n",
              "      <td>0.0</td>\n",
              "      <td>0.0</td>\n",
              "      <td>0.0</td>\n",
              "      <td>0.0</td>\n",
              "      <td>0.0</td>\n",
              "      <td>0.0</td>\n",
              "      <td>0.0</td>\n",
              "      <td>0.0</td>\n",
              "      <td>0.0</td>\n",
              "      <td>...</td>\n",
              "      <td>0.0</td>\n",
              "      <td>0.0</td>\n",
              "      <td>0.0</td>\n",
              "      <td>0.0</td>\n",
              "      <td>0.0</td>\n",
              "      <td>0.0</td>\n",
              "      <td>0.0</td>\n",
              "      <td>0.0</td>\n",
              "      <td>0.0</td>\n",
              "      <td>0.0</td>\n",
              "      <td>0.0</td>\n",
              "      <td>0.0</td>\n",
              "      <td>0.0</td>\n",
              "      <td>0.0</td>\n",
              "      <td>0.0</td>\n",
              "      <td>0.0</td>\n",
              "      <td>0.0</td>\n",
              "      <td>0.0</td>\n",
              "      <td>0.0</td>\n",
              "      <td>0.0</td>\n",
              "      <td>0.0</td>\n",
              "      <td>0.0</td>\n",
              "      <td>0.0</td>\n",
              "      <td>0.0</td>\n",
              "      <td>0.0</td>\n",
              "      <td>0.0</td>\n",
              "      <td>0.0</td>\n",
              "      <td>0.0</td>\n",
              "      <td>0.0</td>\n",
              "      <td>0.0</td>\n",
              "      <td>0.0</td>\n",
              "      <td>0.0</td>\n",
              "      <td>0.0</td>\n",
              "      <td>0.0</td>\n",
              "      <td>0.0</td>\n",
              "      <td>0.0</td>\n",
              "      <td>0.0</td>\n",
              "      <td>0.0</td>\n",
              "      <td>0.0</td>\n",
              "      <td>0.0</td>\n",
              "    </tr>\n",
              "    <tr>\n",
              "      <th>1943</th>\n",
              "      <td>0.0</td>\n",
              "      <td>0.0</td>\n",
              "      <td>0.0</td>\n",
              "      <td>0.0</td>\n",
              "      <td>0.0</td>\n",
              "      <td>0.0</td>\n",
              "      <td>0.0</td>\n",
              "      <td>0.0</td>\n",
              "      <td>0.0</td>\n",
              "      <td>0.0</td>\n",
              "      <td>0.0</td>\n",
              "      <td>0.0</td>\n",
              "      <td>0.0</td>\n",
              "      <td>0.0</td>\n",
              "      <td>0.0</td>\n",
              "      <td>0.0</td>\n",
              "      <td>0.0</td>\n",
              "      <td>0.0</td>\n",
              "      <td>0.0</td>\n",
              "      <td>0.0</td>\n",
              "      <td>0.0</td>\n",
              "      <td>0.0</td>\n",
              "      <td>0.0</td>\n",
              "      <td>0.000000</td>\n",
              "      <td>0.0</td>\n",
              "      <td>0.0</td>\n",
              "      <td>0.0</td>\n",
              "      <td>0.000000</td>\n",
              "      <td>0.0</td>\n",
              "      <td>0.0</td>\n",
              "      <td>0.0</td>\n",
              "      <td>0.0</td>\n",
              "      <td>0.0</td>\n",
              "      <td>0.0</td>\n",
              "      <td>0.0</td>\n",
              "      <td>0.0</td>\n",
              "      <td>0.0</td>\n",
              "      <td>0.0</td>\n",
              "      <td>0.0</td>\n",
              "      <td>0.0</td>\n",
              "      <td>...</td>\n",
              "      <td>0.0</td>\n",
              "      <td>0.0</td>\n",
              "      <td>0.0</td>\n",
              "      <td>0.0</td>\n",
              "      <td>0.0</td>\n",
              "      <td>0.0</td>\n",
              "      <td>0.0</td>\n",
              "      <td>0.0</td>\n",
              "      <td>0.0</td>\n",
              "      <td>0.0</td>\n",
              "      <td>0.0</td>\n",
              "      <td>0.0</td>\n",
              "      <td>0.0</td>\n",
              "      <td>0.0</td>\n",
              "      <td>0.0</td>\n",
              "      <td>0.0</td>\n",
              "      <td>0.0</td>\n",
              "      <td>0.0</td>\n",
              "      <td>0.0</td>\n",
              "      <td>0.0</td>\n",
              "      <td>0.0</td>\n",
              "      <td>0.0</td>\n",
              "      <td>0.0</td>\n",
              "      <td>0.0</td>\n",
              "      <td>0.0</td>\n",
              "      <td>0.0</td>\n",
              "      <td>0.0</td>\n",
              "      <td>0.0</td>\n",
              "      <td>0.0</td>\n",
              "      <td>0.0</td>\n",
              "      <td>0.0</td>\n",
              "      <td>0.0</td>\n",
              "      <td>0.0</td>\n",
              "      <td>0.0</td>\n",
              "      <td>0.0</td>\n",
              "      <td>0.0</td>\n",
              "      <td>0.0</td>\n",
              "      <td>0.0</td>\n",
              "      <td>0.0</td>\n",
              "      <td>0.0</td>\n",
              "    </tr>\n",
              "    <tr>\n",
              "      <th>37f5p</th>\n",
              "      <td>0.0</td>\n",
              "      <td>0.0</td>\n",
              "      <td>0.0</td>\n",
              "      <td>0.0</td>\n",
              "      <td>0.0</td>\n",
              "      <td>0.0</td>\n",
              "      <td>0.0</td>\n",
              "      <td>0.0</td>\n",
              "      <td>0.0</td>\n",
              "      <td>0.0</td>\n",
              "      <td>0.0</td>\n",
              "      <td>0.0</td>\n",
              "      <td>0.0</td>\n",
              "      <td>0.0</td>\n",
              "      <td>0.0</td>\n",
              "      <td>0.0</td>\n",
              "      <td>0.0</td>\n",
              "      <td>0.0</td>\n",
              "      <td>0.0</td>\n",
              "      <td>0.0</td>\n",
              "      <td>0.0</td>\n",
              "      <td>0.0</td>\n",
              "      <td>0.0</td>\n",
              "      <td>0.000000</td>\n",
              "      <td>0.0</td>\n",
              "      <td>0.0</td>\n",
              "      <td>0.0</td>\n",
              "      <td>0.000000</td>\n",
              "      <td>0.0</td>\n",
              "      <td>0.0</td>\n",
              "      <td>0.0</td>\n",
              "      <td>0.0</td>\n",
              "      <td>0.0</td>\n",
              "      <td>0.0</td>\n",
              "      <td>0.0</td>\n",
              "      <td>0.0</td>\n",
              "      <td>0.0</td>\n",
              "      <td>0.0</td>\n",
              "      <td>0.0</td>\n",
              "      <td>0.0</td>\n",
              "      <td>...</td>\n",
              "      <td>0.0</td>\n",
              "      <td>0.0</td>\n",
              "      <td>0.0</td>\n",
              "      <td>0.0</td>\n",
              "      <td>0.0</td>\n",
              "      <td>0.0</td>\n",
              "      <td>0.0</td>\n",
              "      <td>0.0</td>\n",
              "      <td>0.0</td>\n",
              "      <td>0.0</td>\n",
              "      <td>0.0</td>\n",
              "      <td>0.0</td>\n",
              "      <td>0.0</td>\n",
              "      <td>0.0</td>\n",
              "      <td>0.0</td>\n",
              "      <td>0.0</td>\n",
              "      <td>0.0</td>\n",
              "      <td>0.0</td>\n",
              "      <td>0.0</td>\n",
              "      <td>0.0</td>\n",
              "      <td>0.0</td>\n",
              "      <td>0.0</td>\n",
              "      <td>0.0</td>\n",
              "      <td>0.0</td>\n",
              "      <td>0.0</td>\n",
              "      <td>0.0</td>\n",
              "      <td>0.0</td>\n",
              "      <td>0.0</td>\n",
              "      <td>0.0</td>\n",
              "      <td>0.0</td>\n",
              "      <td>0.0</td>\n",
              "      <td>0.0</td>\n",
              "      <td>0.0</td>\n",
              "      <td>0.0</td>\n",
              "      <td>0.0</td>\n",
              "      <td>0.0</td>\n",
              "      <td>0.0</td>\n",
              "      <td>0.0</td>\n",
              "      <td>0.0</td>\n",
              "      <td>0.0</td>\n",
              "    </tr>\n",
              "    <tr>\n",
              "      <th>abby</th>\n",
              "      <td>0.0</td>\n",
              "      <td>0.0</td>\n",
              "      <td>0.0</td>\n",
              "      <td>0.0</td>\n",
              "      <td>1.0</td>\n",
              "      <td>0.0</td>\n",
              "      <td>0.0</td>\n",
              "      <td>0.0</td>\n",
              "      <td>0.0</td>\n",
              "      <td>0.0</td>\n",
              "      <td>0.0</td>\n",
              "      <td>0.0</td>\n",
              "      <td>0.0</td>\n",
              "      <td>0.0</td>\n",
              "      <td>0.0</td>\n",
              "      <td>0.0</td>\n",
              "      <td>0.0</td>\n",
              "      <td>0.0</td>\n",
              "      <td>0.0</td>\n",
              "      <td>0.0</td>\n",
              "      <td>0.0</td>\n",
              "      <td>0.0</td>\n",
              "      <td>0.0</td>\n",
              "      <td>0.000000</td>\n",
              "      <td>0.0</td>\n",
              "      <td>0.0</td>\n",
              "      <td>0.0</td>\n",
              "      <td>0.000000</td>\n",
              "      <td>0.0</td>\n",
              "      <td>0.0</td>\n",
              "      <td>0.0</td>\n",
              "      <td>0.0</td>\n",
              "      <td>0.0</td>\n",
              "      <td>0.0</td>\n",
              "      <td>0.0</td>\n",
              "      <td>0.0</td>\n",
              "      <td>0.0</td>\n",
              "      <td>0.0</td>\n",
              "      <td>0.0</td>\n",
              "      <td>0.0</td>\n",
              "      <td>...</td>\n",
              "      <td>0.0</td>\n",
              "      <td>0.0</td>\n",
              "      <td>0.0</td>\n",
              "      <td>0.0</td>\n",
              "      <td>0.0</td>\n",
              "      <td>0.0</td>\n",
              "      <td>0.0</td>\n",
              "      <td>0.0</td>\n",
              "      <td>0.0</td>\n",
              "      <td>0.0</td>\n",
              "      <td>0.0</td>\n",
              "      <td>0.0</td>\n",
              "      <td>0.0</td>\n",
              "      <td>0.0</td>\n",
              "      <td>0.0</td>\n",
              "      <td>0.0</td>\n",
              "      <td>0.0</td>\n",
              "      <td>0.0</td>\n",
              "      <td>0.0</td>\n",
              "      <td>0.0</td>\n",
              "      <td>0.0</td>\n",
              "      <td>0.0</td>\n",
              "      <td>0.0</td>\n",
              "      <td>0.0</td>\n",
              "      <td>0.0</td>\n",
              "      <td>0.0</td>\n",
              "      <td>0.0</td>\n",
              "      <td>0.0</td>\n",
              "      <td>0.0</td>\n",
              "      <td>0.0</td>\n",
              "      <td>0.0</td>\n",
              "      <td>0.0</td>\n",
              "      <td>0.0</td>\n",
              "      <td>0.0</td>\n",
              "      <td>0.0</td>\n",
              "      <td>0.0</td>\n",
              "      <td>0.0</td>\n",
              "      <td>0.0</td>\n",
              "      <td>0.0</td>\n",
              "      <td>0.0</td>\n",
              "    </tr>\n",
              "  </tbody>\n",
              "</table>\n",
              "<p>5 rows × 675 columns</p>\n",
              "</div>"
            ],
            "text/plain": [
              "            1234  123charlie  1943  37f5p  ...  yummy  zipper  zippy  zitro\n",
              "user                                       ...                             \n",
              "1234         1.0         0.0   0.0    0.0  ...    0.0     0.0    0.0    0.0\n",
              "123charlie   0.0         0.0   0.0    0.0  ...    0.0     0.0    0.0    0.0\n",
              "1943         0.0         0.0   0.0    0.0  ...    0.0     0.0    0.0    0.0\n",
              "37f5p        0.0         0.0   0.0    0.0  ...    0.0     0.0    0.0    0.0\n",
              "abby         0.0         0.0   0.0    0.0  ...    0.0     0.0    0.0    0.0\n",
              "\n",
              "[5 rows x 675 columns]"
            ]
          },
          "metadata": {
            "tags": []
          },
          "execution_count": 51
        }
      ]
    },
    {
      "cell_type": "code",
      "metadata": {
        "id": "Ut-XYH6yzGZu",
        "colab": {
          "base_uri": "https://localhost:8080/"
        },
        "outputId": "610121d8-66a6-4545-c8d8-11435b2d85de"
      },
      "source": [
        "# Checking the shape of final test matrix\n",
        "user_correlation_df_3.shape"
      ],
      "id": "Ut-XYH6yzGZu",
      "execution_count": 52,
      "outputs": [
        {
          "output_type": "execute_result",
          "data": {
            "text/plain": [
              "(675, 675)"
            ]
          },
          "metadata": {
            "tags": []
          },
          "execution_count": 52
        }
      ]
    },
    {
      "cell_type": "code",
      "metadata": {
        "id": "uIZBmT_jzGV7",
        "colab": {
          "base_uri": "https://localhost:8080/"
        },
        "outputId": "363a5825-a646-4c72-9e84-e9e0919bc58e"
      },
      "source": [
        "# Updating the negative values in df with 0\n",
        "user_correlation_df_3[user_correlation_df_3<0]=0\n",
        "# Pridicting the ratings\n",
        "common_user_predicted_ratings = np.dot(user_correlation_df_3, common_user_based_matrix.fillna(0))\n",
        "common_user_predicted_ratings"
      ],
      "id": "uIZBmT_jzGV7",
      "execution_count": 53,
      "outputs": [
        {
          "output_type": "execute_result",
          "data": {
            "text/plain": [
              "array([[0.        , 0.        , 0.        , ..., 0.        , 2.40317024,\n",
              "        0.8660254 ],\n",
              "       [0.        , 0.        , 0.        , ..., 0.        , 0.        ,\n",
              "        0.        ],\n",
              "       [0.        , 0.        , 0.        , ..., 0.        , 0.        ,\n",
              "        0.        ],\n",
              "       ...,\n",
              "       [0.        , 0.        , 0.        , ..., 0.        , 0.        ,\n",
              "        0.        ],\n",
              "       [0.        , 0.        , 0.        , ..., 0.        , 0.        ,\n",
              "        0.        ],\n",
              "       [0.        , 0.        , 0.        , ..., 0.        , 0.        ,\n",
              "        0.        ]])"
            ]
          },
          "metadata": {
            "tags": []
          },
          "execution_count": 53
        }
      ]
    },
    {
      "cell_type": "code",
      "metadata": {
        "id": "lpjsioIPzGR6"
      },
      "source": [
        "# Copying the test data to dummy test\n",
        "dummy_test = common.copy()\n",
        "dummy_test['rating'] = dummy_test['rating'].apply(lambda x: 1 if x>=1 else 0)\n",
        "dummy_test = dummy_test.pivot_table(index='user', columns='item', values='rating').fillna(0)"
      ],
      "id": "lpjsioIPzGR6",
      "execution_count": 54,
      "outputs": []
    },
    {
      "cell_type": "code",
      "metadata": {
        "id": "D6dRvKfuzGNw",
        "colab": {
          "base_uri": "https://localhost:8080/"
        },
        "outputId": "8e9b06f5-3319-4c5d-d1f0-c7855029dd19"
      },
      "source": [
        "# Checking shape of test dataframe\n",
        "dummy_test.shape"
      ],
      "id": "D6dRvKfuzGNw",
      "execution_count": 55,
      "outputs": [
        {
          "output_type": "execute_result",
          "data": {
            "text/plain": [
              "(675, 98)"
            ]
          },
          "metadata": {
            "tags": []
          },
          "execution_count": 55
        }
      ]
    },
    {
      "cell_type": "code",
      "metadata": {
        "id": "urdxgpzozGJ1",
        "colab": {
          "base_uri": "https://localhost:8080/",
          "height": 361
        },
        "outputId": "768f5717-f3ff-431e-c3e3-13988673bb26"
      },
      "source": [
        "common_user_predicted_ratings = np.multiply(common_user_predicted_ratings,dummy_test)\n",
        "common_user_predicted_ratings.head(2)"
      ],
      "id": "urdxgpzozGJ1",
      "execution_count": 56,
      "outputs": [
        {
          "output_type": "execute_result",
          "data": {
            "text/html": [
              "<div>\n",
              "<style scoped>\n",
              "    .dataframe tbody tr th:only-of-type {\n",
              "        vertical-align: middle;\n",
              "    }\n",
              "\n",
              "    .dataframe tbody tr th {\n",
              "        vertical-align: top;\n",
              "    }\n",
              "\n",
              "    .dataframe thead th {\n",
              "        text-align: right;\n",
              "    }\n",
              "</style>\n",
              "<table border=\"1\" class=\"dataframe\">\n",
              "  <thead>\n",
              "    <tr style=\"text-align: right;\">\n",
              "      <th>item</th>\n",
              "      <th>100:Complete First Season (blu-Ray)</th>\n",
              "      <th>Alex Cross (dvdvideo)</th>\n",
              "      <th>All,bran Complete Wheat Flakes, 18 Oz.</th>\n",
              "      <th>Ambi Complexion Cleansing Bar</th>\n",
              "      <th>Aussie Aussome Volume Shampoo, 13.5 Oz</th>\n",
              "      <th>Aveeno Baby Continuous Protection Lotion Sunscreen with Broad Spectrum SPF 55, 4oz</th>\n",
              "      <th>Avery174 Ready Index Contemporary Table Of Contents Divider, 1-8, Multi, Letter</th>\n",
              "      <th>Bi-O-kleen Spray &amp; Wipe All Purpose Cleaner</th>\n",
              "      <th>Bisquick Original Pancake And Baking Mix - 40oz</th>\n",
              "      <th>Black Front Loading Frame Set (8.5x11) Set Of 12</th>\n",
              "      <th>Burt's Bees Lip Shimmer, Raisin</th>\n",
              "      <th>Caress Moisturizing Body Bar Natural Silk, 4.75oz</th>\n",
              "      <th>Cars Toon: Mater's Tall Tales</th>\n",
              "      <th>Ceiling Fan With Light White 14.2 X 29.9 X 9.2 - Hunter Fan</th>\n",
              "      <th>CeraVe SA Renewing Cream</th>\n",
              "      <th>Cheetos Crunchy Flamin' Hot Cheese Flavored Snacks</th>\n",
              "      <th>Chester's Cheese Flavored Puffcorn Snacks</th>\n",
              "      <th>Chex Muddy Buddies Brownie Supreme Snack Mix</th>\n",
              "      <th>Chips Ahoy! Original Chocolate Chip - Cookies - Family Size 18.2oz</th>\n",
              "      <th>Chips Deluxe Soft 'n Chewy Cookies</th>\n",
              "      <th>Chobani174 Strawberry On The Bottom Non-Fat Greek Yogurt - 5.3oz</th>\n",
              "      <th>Clear Scalp &amp; Hair Therapy Total Care Nourishing Shampoo</th>\n",
              "      <th>Clorox Disinfecting Bathroom Cleaner</th>\n",
              "      <th>Clorox Disinfecting Wipes Value Pack Scented 150 Ct Total</th>\n",
              "      <th>Coty Airspun Face Powder, Translucent Extra Coverage</th>\n",
              "      <th>Creme Of Nature Intensive Conditioning Treatment, 32</th>\n",
              "      <th>Cuisinart174 Electric Juicer - Stainless Steel Cje-1000</th>\n",
              "      <th>Dark Shadows (includes Digital Copy) (ultraviolet) (dvdvideo)</th>\n",
              "      <th>Delta Single Handle Shower Faucet</th>\n",
              "      <th>Diet Canada Dry Ginger Ale - 12pk/12 Fl Oz Cans</th>\n",
              "      <th>Eagle Fat Free Sweetened Condensed Milk</th>\n",
              "      <th>Equals (blu-Ray)</th>\n",
              "      <th>Godzilla 3d Includes Digital Copy Ultraviolet 3d/2d Blu-Ray/dvd</th>\n",
              "      <th>Hawaiian Punch Berry Limeade Blast Juice</th>\n",
              "      <th>Hoover174 Platinum Collection153 Lightweight Bagged Upright Vacuum With Canister - Uh30010com</th>\n",
              "      <th>Hormel Chili, No Beans</th>\n",
              "      <th>Iman Second To None Stick Foundation, Clay 1</th>\n",
              "      <th>Jason Aldean - They Don't Know</th>\n",
              "      <th>Just For Men Touch Of Gray Gray Hair Treatment, Black T-55</th>\n",
              "      <th>K-Y Love Sensuality Pleasure Gel</th>\n",
              "      <th>...</th>\n",
              "      <th>Olay Regenerist Deep Hydration Regenerating Cream</th>\n",
              "      <th>Pantene Pro-V Expert Collection Age Defy Conditioner</th>\n",
              "      <th>Pendaflex174 Divide It Up File Folder, Multi Section, Letter, Assorted, 12/pack</th>\n",
              "      <th>Pink Friday: Roman Reloaded Re-Up (w/dvd)</th>\n",
              "      <th>Planes: Fire Rescue (2 Discs) (includes Digital Copy) (blu-Ray/dvd)</th>\n",
              "      <th>Pleasant Hearth 1,800 sq ft Wood Burning Stove with Blower, Medium, LWS-127201</th>\n",
              "      <th>Pleasant Hearth 7.5 Steel Grate, 30 5 Bar - Black</th>\n",
              "      <th>Pleasant Hearth Diamond Fireplace Screen - Espresso</th>\n",
              "      <th>Power Crunch Protein Energy Bar Peanut Butter Creme Original</th>\n",
              "      <th>Progresso Light Vegetable &amp; Noodle Soup</th>\n",
              "      <th>Queen Helene Cocoa Butter Solid</th>\n",
              "      <th>Ragu Roasted Garlic Parmesan Pasta Sauce</th>\n",
              "      <th>Ragu Traditional Pasta Sauce</th>\n",
              "      <th>Red (special Edition) (dvdvideo)</th>\n",
              "      <th>Reebok Classic Leather Running Shoes - White (Men)</th>\n",
              "      <th>Solo Foods Poppy Seed Cake and Pastry Filling</th>\n",
              "      <th>Soothing Touch Lemon Cardamom Vegan Lip Balm .25 Oz</th>\n",
              "      <th>Sopranos:Season 6 Part 1 (blu-Ray)</th>\n",
              "      <th>Stacy's Simply Naked Bagel Chips</th>\n",
              "      <th>Stander Pt Bedcane - Bed Handle</th>\n",
              "      <th>Stargate (ws) (ultimate Edition) (director's Cut) (dvdvideo)</th>\n",
              "      <th>Storkcraft Tuscany Glider and Ottoman, Beige Cushions, Espresso Finish</th>\n",
              "      <th>Suave Professionals Hair Conditioner, Sleek</th>\n",
              "      <th>Tai Pei Sweet &amp; Sour Chicken</th>\n",
              "      <th>The Honest Company Laundry Detergent</th>\n",
              "      <th>The Resident Evil Collection 5 Discs (blu-Ray)</th>\n",
              "      <th>The Seaweed Bath Co. Argan Conditioner, Smoothing Citrus</th>\n",
              "      <th>There's Something About Mary (dvd)</th>\n",
              "      <th>Tostitos Bite Size Tortilla Chips</th>\n",
              "      <th>Tostitos Original Restaurant Style Tortilla Chips</th>\n",
              "      <th>Trend Lab Park Nursing Cover - Paisley</th>\n",
              "      <th>Tresemme Kertatin Smooth Infusing Conditioning</th>\n",
              "      <th>Various - Country's Greatest Gospel:Gold Ed (cd)</th>\n",
              "      <th>Various Artists - Choo Choo Soul (cd)</th>\n",
              "      <th>Vaseline Intensive Care Healthy Hands Stronger Nails</th>\n",
              "      <th>Vicks Vaporub, Regular, 3.53oz</th>\n",
              "      <th>Way Basics 3-Shelf Eco Narrow Bookcase Storage Shelf, Espresso - Formaldehyde Free - Lifetime Guarantee</th>\n",
              "      <th>WeatherTech 40647 14-15 Outlander Cargo Liners Behind 2nd Row, Black</th>\n",
              "      <th>Windex Original Glass Cleaner Refill 67.6oz (2 Liter)</th>\n",
              "      <th>Yes To Grapefruit Rejuvenating Body Wash</th>\n",
              "    </tr>\n",
              "    <tr>\n",
              "      <th>user</th>\n",
              "      <th></th>\n",
              "      <th></th>\n",
              "      <th></th>\n",
              "      <th></th>\n",
              "      <th></th>\n",
              "      <th></th>\n",
              "      <th></th>\n",
              "      <th></th>\n",
              "      <th></th>\n",
              "      <th></th>\n",
              "      <th></th>\n",
              "      <th></th>\n",
              "      <th></th>\n",
              "      <th></th>\n",
              "      <th></th>\n",
              "      <th></th>\n",
              "      <th></th>\n",
              "      <th></th>\n",
              "      <th></th>\n",
              "      <th></th>\n",
              "      <th></th>\n",
              "      <th></th>\n",
              "      <th></th>\n",
              "      <th></th>\n",
              "      <th></th>\n",
              "      <th></th>\n",
              "      <th></th>\n",
              "      <th></th>\n",
              "      <th></th>\n",
              "      <th></th>\n",
              "      <th></th>\n",
              "      <th></th>\n",
              "      <th></th>\n",
              "      <th></th>\n",
              "      <th></th>\n",
              "      <th></th>\n",
              "      <th></th>\n",
              "      <th></th>\n",
              "      <th></th>\n",
              "      <th></th>\n",
              "      <th></th>\n",
              "      <th></th>\n",
              "      <th></th>\n",
              "      <th></th>\n",
              "      <th></th>\n",
              "      <th></th>\n",
              "      <th></th>\n",
              "      <th></th>\n",
              "      <th></th>\n",
              "      <th></th>\n",
              "      <th></th>\n",
              "      <th></th>\n",
              "      <th></th>\n",
              "      <th></th>\n",
              "      <th></th>\n",
              "      <th></th>\n",
              "      <th></th>\n",
              "      <th></th>\n",
              "      <th></th>\n",
              "      <th></th>\n",
              "      <th></th>\n",
              "      <th></th>\n",
              "      <th></th>\n",
              "      <th></th>\n",
              "      <th></th>\n",
              "      <th></th>\n",
              "      <th></th>\n",
              "      <th></th>\n",
              "      <th></th>\n",
              "      <th></th>\n",
              "      <th></th>\n",
              "      <th></th>\n",
              "      <th></th>\n",
              "      <th></th>\n",
              "      <th></th>\n",
              "      <th></th>\n",
              "      <th></th>\n",
              "      <th></th>\n",
              "      <th></th>\n",
              "      <th></th>\n",
              "      <th></th>\n",
              "    </tr>\n",
              "  </thead>\n",
              "  <tbody>\n",
              "    <tr>\n",
              "      <th>1234</th>\n",
              "      <td>0.0</td>\n",
              "      <td>0.0</td>\n",
              "      <td>0.0</td>\n",
              "      <td>0.0</td>\n",
              "      <td>0.0</td>\n",
              "      <td>0.0</td>\n",
              "      <td>0.0</td>\n",
              "      <td>0.0</td>\n",
              "      <td>0.0</td>\n",
              "      <td>0.0</td>\n",
              "      <td>0.0</td>\n",
              "      <td>0.0</td>\n",
              "      <td>0.0</td>\n",
              "      <td>0.0</td>\n",
              "      <td>0.0</td>\n",
              "      <td>0.0</td>\n",
              "      <td>0.0</td>\n",
              "      <td>0.0</td>\n",
              "      <td>0.0</td>\n",
              "      <td>0.0</td>\n",
              "      <td>0.0</td>\n",
              "      <td>0.0</td>\n",
              "      <td>0.0</td>\n",
              "      <td>9.442526</td>\n",
              "      <td>0.0</td>\n",
              "      <td>0.0</td>\n",
              "      <td>0.0</td>\n",
              "      <td>0.0</td>\n",
              "      <td>0.0</td>\n",
              "      <td>0.0</td>\n",
              "      <td>0.0</td>\n",
              "      <td>0.0</td>\n",
              "      <td>0.0</td>\n",
              "      <td>0.0</td>\n",
              "      <td>0.0</td>\n",
              "      <td>0.0</td>\n",
              "      <td>0.0</td>\n",
              "      <td>4.391802</td>\n",
              "      <td>0.0</td>\n",
              "      <td>0.0</td>\n",
              "      <td>...</td>\n",
              "      <td>0.0</td>\n",
              "      <td>0.0</td>\n",
              "      <td>0.0</td>\n",
              "      <td>0.0</td>\n",
              "      <td>0.0</td>\n",
              "      <td>0.0</td>\n",
              "      <td>0.0</td>\n",
              "      <td>0.0</td>\n",
              "      <td>0.0</td>\n",
              "      <td>0.0</td>\n",
              "      <td>0.0</td>\n",
              "      <td>0.0</td>\n",
              "      <td>0.0</td>\n",
              "      <td>0.0</td>\n",
              "      <td>0.0</td>\n",
              "      <td>0.0</td>\n",
              "      <td>0.0</td>\n",
              "      <td>0.0</td>\n",
              "      <td>0.0</td>\n",
              "      <td>0.0</td>\n",
              "      <td>0.0</td>\n",
              "      <td>0.0</td>\n",
              "      <td>0.0</td>\n",
              "      <td>0.0</td>\n",
              "      <td>0.0</td>\n",
              "      <td>0.0</td>\n",
              "      <td>0.0</td>\n",
              "      <td>0.0</td>\n",
              "      <td>0.0</td>\n",
              "      <td>0.0</td>\n",
              "      <td>0.0</td>\n",
              "      <td>0.0</td>\n",
              "      <td>0.0</td>\n",
              "      <td>0.0</td>\n",
              "      <td>0.0</td>\n",
              "      <td>0.0</td>\n",
              "      <td>0.0</td>\n",
              "      <td>0.0</td>\n",
              "      <td>0.0</td>\n",
              "      <td>0.0</td>\n",
              "    </tr>\n",
              "    <tr>\n",
              "      <th>123charlie</th>\n",
              "      <td>0.0</td>\n",
              "      <td>0.0</td>\n",
              "      <td>0.0</td>\n",
              "      <td>0.0</td>\n",
              "      <td>0.0</td>\n",
              "      <td>0.0</td>\n",
              "      <td>0.0</td>\n",
              "      <td>0.0</td>\n",
              "      <td>0.0</td>\n",
              "      <td>0.0</td>\n",
              "      <td>0.0</td>\n",
              "      <td>0.0</td>\n",
              "      <td>0.0</td>\n",
              "      <td>0.0</td>\n",
              "      <td>0.0</td>\n",
              "      <td>0.0</td>\n",
              "      <td>0.0</td>\n",
              "      <td>0.0</td>\n",
              "      <td>0.0</td>\n",
              "      <td>0.0</td>\n",
              "      <td>0.0</td>\n",
              "      <td>0.0</td>\n",
              "      <td>0.0</td>\n",
              "      <td>0.000000</td>\n",
              "      <td>0.0</td>\n",
              "      <td>0.0</td>\n",
              "      <td>0.0</td>\n",
              "      <td>0.0</td>\n",
              "      <td>0.0</td>\n",
              "      <td>0.0</td>\n",
              "      <td>0.0</td>\n",
              "      <td>0.0</td>\n",
              "      <td>0.0</td>\n",
              "      <td>0.0</td>\n",
              "      <td>0.0</td>\n",
              "      <td>0.0</td>\n",
              "      <td>0.0</td>\n",
              "      <td>0.000000</td>\n",
              "      <td>0.0</td>\n",
              "      <td>0.0</td>\n",
              "      <td>...</td>\n",
              "      <td>0.0</td>\n",
              "      <td>0.0</td>\n",
              "      <td>0.0</td>\n",
              "      <td>0.0</td>\n",
              "      <td>0.0</td>\n",
              "      <td>0.0</td>\n",
              "      <td>0.0</td>\n",
              "      <td>0.0</td>\n",
              "      <td>0.0</td>\n",
              "      <td>0.0</td>\n",
              "      <td>0.0</td>\n",
              "      <td>0.0</td>\n",
              "      <td>0.0</td>\n",
              "      <td>0.0</td>\n",
              "      <td>0.0</td>\n",
              "      <td>0.0</td>\n",
              "      <td>0.0</td>\n",
              "      <td>0.0</td>\n",
              "      <td>0.0</td>\n",
              "      <td>0.0</td>\n",
              "      <td>0.0</td>\n",
              "      <td>0.0</td>\n",
              "      <td>0.0</td>\n",
              "      <td>0.0</td>\n",
              "      <td>0.0</td>\n",
              "      <td>0.0</td>\n",
              "      <td>0.0</td>\n",
              "      <td>0.0</td>\n",
              "      <td>0.0</td>\n",
              "      <td>0.0</td>\n",
              "      <td>0.0</td>\n",
              "      <td>0.0</td>\n",
              "      <td>0.0</td>\n",
              "      <td>0.0</td>\n",
              "      <td>0.0</td>\n",
              "      <td>0.0</td>\n",
              "      <td>0.0</td>\n",
              "      <td>0.0</td>\n",
              "      <td>0.0</td>\n",
              "      <td>0.0</td>\n",
              "    </tr>\n",
              "  </tbody>\n",
              "</table>\n",
              "<p>2 rows × 98 columns</p>\n",
              "</div>"
            ],
            "text/plain": [
              "item        100:Complete First Season (blu-Ray)  ...  Yes To Grapefruit Rejuvenating Body Wash\n",
              "user                                             ...                                          \n",
              "1234                                        0.0  ...                                       0.0\n",
              "123charlie                                  0.0  ...                                       0.0\n",
              "\n",
              "[2 rows x 98 columns]"
            ]
          },
          "metadata": {
            "tags": []
          },
          "execution_count": 56
        }
      ]
    },
    {
      "cell_type": "code",
      "metadata": {
        "id": "S0OZJWyizF_2",
        "colab": {
          "base_uri": "https://localhost:8080/"
        },
        "outputId": "cd11fbd3-6010-4414-a757-e7ffe29aa41a"
      },
      "source": [
        "X  = common_user_predicted_ratings.copy() \n",
        "X = X[X>0]\n",
        "\n",
        "scaler = MinMaxScaler(feature_range=(1, 5))\n",
        "print(scaler.fit(X))\n",
        "y = (scaler.transform(X))\n",
        "\n",
        "print(y)"
      ],
      "id": "S0OZJWyizF_2",
      "execution_count": 57,
      "outputs": [
        {
          "output_type": "stream",
          "text": [
            "MinMaxScaler(copy=True, feature_range=(1, 5))\n",
            "[[nan nan nan ... nan nan nan]\n",
            " [nan nan nan ... nan nan nan]\n",
            " [nan nan nan ... nan nan nan]\n",
            " ...\n",
            " [nan nan nan ... nan nan nan]\n",
            " [nan nan nan ... nan nan nan]\n",
            " [nan nan nan ... nan nan nan]]\n"
          ],
          "name": "stdout"
        }
      ]
    },
    {
      "cell_type": "code",
      "metadata": {
        "id": "3GjqNRWbzF7V"
      },
      "source": [
        "common_ = common.pivot_table(index='user', columns='item', values='rating')"
      ],
      "id": "3GjqNRWbzF7V",
      "execution_count": 58,
      "outputs": []
    },
    {
      "cell_type": "code",
      "metadata": {
        "id": "zLaVthzpzF2x",
        "colab": {
          "base_uri": "https://localhost:8080/"
        },
        "outputId": "23fe9a22-f022-47a5-c0ec-ca321c894ce2"
      },
      "source": [
        "# Finding total non-NaN value\n",
        "total_non_nan = np.count_nonzero(~np.isnan(y))\n",
        "total_non_nan"
      ],
      "id": "zLaVthzpzF2x",
      "execution_count": 59,
      "outputs": [
        {
          "output_type": "execute_result",
          "data": {
            "text/plain": [
              "179"
            ]
          },
          "metadata": {
            "tags": []
          },
          "execution_count": 59
        }
      ]
    },
    {
      "cell_type": "code",
      "metadata": {
        "id": "AS0yvbB2zqzv",
        "colab": {
          "base_uri": "https://localhost:8080/"
        },
        "outputId": "43fa1bdb-3313-44b5-c41a-42b368117cba"
      },
      "source": [
        "# Evaluating RMSE\n",
        "rmse = (sum(sum(((common_ - y )**2).fillna(0).values))/total_non_nan)**0.5\n",
        "print(rmse)"
      ],
      "id": "AS0yvbB2zqzv",
      "execution_count": 60,
      "outputs": [
        {
          "output_type": "stream",
          "text": [
            "2.618340360521946\n"
          ],
          "name": "stdout"
        }
      ]
    },
    {
      "cell_type": "markdown",
      "metadata": {
        "id": "hJGWyOAtzx11"
      },
      "source": [
        "## Item Item similarity"
      ],
      "id": "hJGWyOAtzx11"
    },
    {
      "cell_type": "markdown",
      "metadata": {
        "id": "r6ViTQvKzxe8"
      },
      "source": [
        "### Building Item Similarity Matrix"
      ],
      "id": "r6ViTQvKzxe8"
    },
    {
      "cell_type": "code",
      "metadata": {
        "id": "aOHGdxmtzqvO",
        "colab": {
          "base_uri": "https://localhost:8080/",
          "height": 590
        },
        "outputId": "f5c3b64c-007e-4a11-af88-9195cc2aaa77"
      },
      "source": [
        "# Building pivot table\n",
        "df_pivot = train.pivot(\n",
        "    index='user',\n",
        "    columns='item',\n",
        "    values='rating'\n",
        ").T\n",
        "\n",
        "df_pivot.head()"
      ],
      "id": "aOHGdxmtzqvO",
      "execution_count": 61,
      "outputs": [
        {
          "output_type": "execute_result",
          "data": {
            "text/html": [
              "<div>\n",
              "<style scoped>\n",
              "    .dataframe tbody tr th:only-of-type {\n",
              "        vertical-align: middle;\n",
              "    }\n",
              "\n",
              "    .dataframe tbody tr th {\n",
              "        vertical-align: top;\n",
              "    }\n",
              "\n",
              "    .dataframe thead th {\n",
              "        text-align: right;\n",
              "    }\n",
              "</style>\n",
              "<table border=\"1\" class=\"dataframe\">\n",
              "  <thead>\n",
              "    <tr style=\"text-align: right;\">\n",
              "      <th>user</th>\n",
              "      <th>00sab00</th>\n",
              "      <th>01impala</th>\n",
              "      <th>02deuce</th>\n",
              "      <th>0325home</th>\n",
              "      <th>09mommy11</th>\n",
              "      <th>1.11E+24</th>\n",
              "      <th>1085</th>\n",
              "      <th>10ten</th>\n",
              "      <th>11111111aaaaaaaaaaaaaaaaa</th>\n",
              "      <th>1143mom</th>\n",
              "      <th>1234</th>\n",
              "      <th>1234561</th>\n",
              "      <th>1234567</th>\n",
              "      <th>1234asdf</th>\n",
              "      <th>123cat123</th>\n",
              "      <th>123charlie</th>\n",
              "      <th>123numbers</th>\n",
              "      <th>123rs</th>\n",
              "      <th>123soccermom</th>\n",
              "      <th>123too</th>\n",
              "      <th>12cass12</th>\n",
              "      <th>12gage</th>\n",
              "      <th>13dani</th>\n",
              "      <th>13ld</th>\n",
              "      <th>13ram</th>\n",
              "      <th>13thfaerie</th>\n",
              "      <th>1421nikki</th>\n",
              "      <th>143st</th>\n",
              "      <th>148maine</th>\n",
              "      <th>1515</th>\n",
              "      <th>15425shopper</th>\n",
              "      <th>1616</th>\n",
              "      <th>170361eggs</th>\n",
              "      <th>1753</th>\n",
              "      <th>17roses</th>\n",
              "      <th>18612</th>\n",
              "      <th>1863philly</th>\n",
              "      <th>1943</th>\n",
              "      <th>1950rmm</th>\n",
              "      <th>1968bear</th>\n",
              "      <th>...</th>\n",
              "      <th>zimmeyb</th>\n",
              "      <th>zina911</th>\n",
              "      <th>zinnian</th>\n",
              "      <th>zipflip</th>\n",
              "      <th>zipp</th>\n",
              "      <th>zipper</th>\n",
              "      <th>zipperdoo</th>\n",
              "      <th>zippity</th>\n",
              "      <th>zippy</th>\n",
              "      <th>zitro</th>\n",
              "      <th>zkondrk</th>\n",
              "      <th>zman69</th>\n",
              "      <th>zmikez</th>\n",
              "      <th>zmom</th>\n",
              "      <th>znxfyt</th>\n",
              "      <th>zod10</th>\n",
              "      <th>zodness</th>\n",
              "      <th>zoeellasca</th>\n",
              "      <th>zoey</th>\n",
              "      <th>zoeyny</th>\n",
              "      <th>zokhid</th>\n",
              "      <th>zombie</th>\n",
              "      <th>zombiegirl22</th>\n",
              "      <th>zombiekiller</th>\n",
              "      <th>zombiekiller14</th>\n",
              "      <th>zone</th>\n",
              "      <th>zoney86</th>\n",
              "      <th>zooey_57</th>\n",
              "      <th>zoomin76</th>\n",
              "      <th>zotox</th>\n",
              "      <th>zowie</th>\n",
              "      <th>zozo0o</th>\n",
              "      <th>zpalma</th>\n",
              "      <th>zsarah</th>\n",
              "      <th>zt313</th>\n",
              "      <th>zubb</th>\n",
              "      <th>zulaa118</th>\n",
              "      <th>zuttle</th>\n",
              "      <th>zxcsdfd</th>\n",
              "      <th>zzz1127</th>\n",
              "    </tr>\n",
              "    <tr>\n",
              "      <th>item</th>\n",
              "      <th></th>\n",
              "      <th></th>\n",
              "      <th></th>\n",
              "      <th></th>\n",
              "      <th></th>\n",
              "      <th></th>\n",
              "      <th></th>\n",
              "      <th></th>\n",
              "      <th></th>\n",
              "      <th></th>\n",
              "      <th></th>\n",
              "      <th></th>\n",
              "      <th></th>\n",
              "      <th></th>\n",
              "      <th></th>\n",
              "      <th></th>\n",
              "      <th></th>\n",
              "      <th></th>\n",
              "      <th></th>\n",
              "      <th></th>\n",
              "      <th></th>\n",
              "      <th></th>\n",
              "      <th></th>\n",
              "      <th></th>\n",
              "      <th></th>\n",
              "      <th></th>\n",
              "      <th></th>\n",
              "      <th></th>\n",
              "      <th></th>\n",
              "      <th></th>\n",
              "      <th></th>\n",
              "      <th></th>\n",
              "      <th></th>\n",
              "      <th></th>\n",
              "      <th></th>\n",
              "      <th></th>\n",
              "      <th></th>\n",
              "      <th></th>\n",
              "      <th></th>\n",
              "      <th></th>\n",
              "      <th></th>\n",
              "      <th></th>\n",
              "      <th></th>\n",
              "      <th></th>\n",
              "      <th></th>\n",
              "      <th></th>\n",
              "      <th></th>\n",
              "      <th></th>\n",
              "      <th></th>\n",
              "      <th></th>\n",
              "      <th></th>\n",
              "      <th></th>\n",
              "      <th></th>\n",
              "      <th></th>\n",
              "      <th></th>\n",
              "      <th></th>\n",
              "      <th></th>\n",
              "      <th></th>\n",
              "      <th></th>\n",
              "      <th></th>\n",
              "      <th></th>\n",
              "      <th></th>\n",
              "      <th></th>\n",
              "      <th></th>\n",
              "      <th></th>\n",
              "      <th></th>\n",
              "      <th></th>\n",
              "      <th></th>\n",
              "      <th></th>\n",
              "      <th></th>\n",
              "      <th></th>\n",
              "      <th></th>\n",
              "      <th></th>\n",
              "      <th></th>\n",
              "      <th></th>\n",
              "      <th></th>\n",
              "      <th></th>\n",
              "      <th></th>\n",
              "      <th></th>\n",
              "      <th></th>\n",
              "      <th></th>\n",
              "    </tr>\n",
              "  </thead>\n",
              "  <tbody>\n",
              "    <tr>\n",
              "      <th>0.6 Cu. Ft. Letter A4 Size Waterproof 30 Min. Fire File Chest</th>\n",
              "      <td>NaN</td>\n",
              "      <td>NaN</td>\n",
              "      <td>NaN</td>\n",
              "      <td>NaN</td>\n",
              "      <td>NaN</td>\n",
              "      <td>NaN</td>\n",
              "      <td>NaN</td>\n",
              "      <td>NaN</td>\n",
              "      <td>NaN</td>\n",
              "      <td>NaN</td>\n",
              "      <td>NaN</td>\n",
              "      <td>NaN</td>\n",
              "      <td>NaN</td>\n",
              "      <td>NaN</td>\n",
              "      <td>NaN</td>\n",
              "      <td>NaN</td>\n",
              "      <td>NaN</td>\n",
              "      <td>NaN</td>\n",
              "      <td>NaN</td>\n",
              "      <td>NaN</td>\n",
              "      <td>NaN</td>\n",
              "      <td>NaN</td>\n",
              "      <td>NaN</td>\n",
              "      <td>NaN</td>\n",
              "      <td>NaN</td>\n",
              "      <td>NaN</td>\n",
              "      <td>NaN</td>\n",
              "      <td>NaN</td>\n",
              "      <td>NaN</td>\n",
              "      <td>NaN</td>\n",
              "      <td>NaN</td>\n",
              "      <td>NaN</td>\n",
              "      <td>NaN</td>\n",
              "      <td>NaN</td>\n",
              "      <td>NaN</td>\n",
              "      <td>NaN</td>\n",
              "      <td>NaN</td>\n",
              "      <td>NaN</td>\n",
              "      <td>NaN</td>\n",
              "      <td>NaN</td>\n",
              "      <td>...</td>\n",
              "      <td>NaN</td>\n",
              "      <td>NaN</td>\n",
              "      <td>NaN</td>\n",
              "      <td>NaN</td>\n",
              "      <td>NaN</td>\n",
              "      <td>NaN</td>\n",
              "      <td>NaN</td>\n",
              "      <td>NaN</td>\n",
              "      <td>NaN</td>\n",
              "      <td>NaN</td>\n",
              "      <td>NaN</td>\n",
              "      <td>NaN</td>\n",
              "      <td>NaN</td>\n",
              "      <td>NaN</td>\n",
              "      <td>NaN</td>\n",
              "      <td>NaN</td>\n",
              "      <td>NaN</td>\n",
              "      <td>NaN</td>\n",
              "      <td>NaN</td>\n",
              "      <td>NaN</td>\n",
              "      <td>NaN</td>\n",
              "      <td>NaN</td>\n",
              "      <td>NaN</td>\n",
              "      <td>NaN</td>\n",
              "      <td>NaN</td>\n",
              "      <td>NaN</td>\n",
              "      <td>NaN</td>\n",
              "      <td>NaN</td>\n",
              "      <td>NaN</td>\n",
              "      <td>NaN</td>\n",
              "      <td>NaN</td>\n",
              "      <td>NaN</td>\n",
              "      <td>NaN</td>\n",
              "      <td>NaN</td>\n",
              "      <td>NaN</td>\n",
              "      <td>NaN</td>\n",
              "      <td>NaN</td>\n",
              "      <td>NaN</td>\n",
              "      <td>NaN</td>\n",
              "      <td>NaN</td>\n",
              "    </tr>\n",
              "    <tr>\n",
              "      <th>100:Complete First Season (blu-Ray)</th>\n",
              "      <td>NaN</td>\n",
              "      <td>NaN</td>\n",
              "      <td>NaN</td>\n",
              "      <td>NaN</td>\n",
              "      <td>NaN</td>\n",
              "      <td>NaN</td>\n",
              "      <td>NaN</td>\n",
              "      <td>NaN</td>\n",
              "      <td>NaN</td>\n",
              "      <td>NaN</td>\n",
              "      <td>NaN</td>\n",
              "      <td>NaN</td>\n",
              "      <td>NaN</td>\n",
              "      <td>NaN</td>\n",
              "      <td>NaN</td>\n",
              "      <td>NaN</td>\n",
              "      <td>NaN</td>\n",
              "      <td>NaN</td>\n",
              "      <td>NaN</td>\n",
              "      <td>NaN</td>\n",
              "      <td>NaN</td>\n",
              "      <td>NaN</td>\n",
              "      <td>NaN</td>\n",
              "      <td>NaN</td>\n",
              "      <td>NaN</td>\n",
              "      <td>NaN</td>\n",
              "      <td>NaN</td>\n",
              "      <td>NaN</td>\n",
              "      <td>NaN</td>\n",
              "      <td>NaN</td>\n",
              "      <td>NaN</td>\n",
              "      <td>NaN</td>\n",
              "      <td>NaN</td>\n",
              "      <td>NaN</td>\n",
              "      <td>NaN</td>\n",
              "      <td>NaN</td>\n",
              "      <td>NaN</td>\n",
              "      <td>NaN</td>\n",
              "      <td>NaN</td>\n",
              "      <td>NaN</td>\n",
              "      <td>...</td>\n",
              "      <td>NaN</td>\n",
              "      <td>NaN</td>\n",
              "      <td>NaN</td>\n",
              "      <td>NaN</td>\n",
              "      <td>NaN</td>\n",
              "      <td>NaN</td>\n",
              "      <td>NaN</td>\n",
              "      <td>NaN</td>\n",
              "      <td>NaN</td>\n",
              "      <td>NaN</td>\n",
              "      <td>NaN</td>\n",
              "      <td>NaN</td>\n",
              "      <td>NaN</td>\n",
              "      <td>NaN</td>\n",
              "      <td>NaN</td>\n",
              "      <td>NaN</td>\n",
              "      <td>NaN</td>\n",
              "      <td>NaN</td>\n",
              "      <td>NaN</td>\n",
              "      <td>NaN</td>\n",
              "      <td>NaN</td>\n",
              "      <td>NaN</td>\n",
              "      <td>NaN</td>\n",
              "      <td>NaN</td>\n",
              "      <td>NaN</td>\n",
              "      <td>NaN</td>\n",
              "      <td>NaN</td>\n",
              "      <td>NaN</td>\n",
              "      <td>NaN</td>\n",
              "      <td>NaN</td>\n",
              "      <td>NaN</td>\n",
              "      <td>NaN</td>\n",
              "      <td>NaN</td>\n",
              "      <td>NaN</td>\n",
              "      <td>NaN</td>\n",
              "      <td>NaN</td>\n",
              "      <td>NaN</td>\n",
              "      <td>NaN</td>\n",
              "      <td>NaN</td>\n",
              "      <td>NaN</td>\n",
              "    </tr>\n",
              "    <tr>\n",
              "      <th>2017-2018 Brownline174 Duraflex 14-Month Planner 8 1/2 X 11 Black</th>\n",
              "      <td>NaN</td>\n",
              "      <td>NaN</td>\n",
              "      <td>NaN</td>\n",
              "      <td>NaN</td>\n",
              "      <td>NaN</td>\n",
              "      <td>NaN</td>\n",
              "      <td>NaN</td>\n",
              "      <td>NaN</td>\n",
              "      <td>NaN</td>\n",
              "      <td>NaN</td>\n",
              "      <td>NaN</td>\n",
              "      <td>NaN</td>\n",
              "      <td>NaN</td>\n",
              "      <td>NaN</td>\n",
              "      <td>NaN</td>\n",
              "      <td>NaN</td>\n",
              "      <td>NaN</td>\n",
              "      <td>NaN</td>\n",
              "      <td>NaN</td>\n",
              "      <td>NaN</td>\n",
              "      <td>NaN</td>\n",
              "      <td>NaN</td>\n",
              "      <td>NaN</td>\n",
              "      <td>NaN</td>\n",
              "      <td>NaN</td>\n",
              "      <td>NaN</td>\n",
              "      <td>NaN</td>\n",
              "      <td>NaN</td>\n",
              "      <td>NaN</td>\n",
              "      <td>NaN</td>\n",
              "      <td>NaN</td>\n",
              "      <td>NaN</td>\n",
              "      <td>NaN</td>\n",
              "      <td>NaN</td>\n",
              "      <td>NaN</td>\n",
              "      <td>NaN</td>\n",
              "      <td>NaN</td>\n",
              "      <td>NaN</td>\n",
              "      <td>NaN</td>\n",
              "      <td>NaN</td>\n",
              "      <td>...</td>\n",
              "      <td>NaN</td>\n",
              "      <td>NaN</td>\n",
              "      <td>NaN</td>\n",
              "      <td>NaN</td>\n",
              "      <td>NaN</td>\n",
              "      <td>NaN</td>\n",
              "      <td>NaN</td>\n",
              "      <td>NaN</td>\n",
              "      <td>NaN</td>\n",
              "      <td>NaN</td>\n",
              "      <td>NaN</td>\n",
              "      <td>NaN</td>\n",
              "      <td>NaN</td>\n",
              "      <td>NaN</td>\n",
              "      <td>NaN</td>\n",
              "      <td>NaN</td>\n",
              "      <td>NaN</td>\n",
              "      <td>NaN</td>\n",
              "      <td>NaN</td>\n",
              "      <td>NaN</td>\n",
              "      <td>NaN</td>\n",
              "      <td>NaN</td>\n",
              "      <td>NaN</td>\n",
              "      <td>NaN</td>\n",
              "      <td>NaN</td>\n",
              "      <td>NaN</td>\n",
              "      <td>NaN</td>\n",
              "      <td>NaN</td>\n",
              "      <td>NaN</td>\n",
              "      <td>NaN</td>\n",
              "      <td>NaN</td>\n",
              "      <td>NaN</td>\n",
              "      <td>NaN</td>\n",
              "      <td>NaN</td>\n",
              "      <td>NaN</td>\n",
              "      <td>NaN</td>\n",
              "      <td>NaN</td>\n",
              "      <td>NaN</td>\n",
              "      <td>NaN</td>\n",
              "      <td>NaN</td>\n",
              "    </tr>\n",
              "    <tr>\n",
              "      <th>2x Ultra Era with Oxi Booster, 50fl oz</th>\n",
              "      <td>NaN</td>\n",
              "      <td>NaN</td>\n",
              "      <td>NaN</td>\n",
              "      <td>NaN</td>\n",
              "      <td>NaN</td>\n",
              "      <td>NaN</td>\n",
              "      <td>NaN</td>\n",
              "      <td>NaN</td>\n",
              "      <td>NaN</td>\n",
              "      <td>NaN</td>\n",
              "      <td>NaN</td>\n",
              "      <td>NaN</td>\n",
              "      <td>NaN</td>\n",
              "      <td>NaN</td>\n",
              "      <td>NaN</td>\n",
              "      <td>NaN</td>\n",
              "      <td>NaN</td>\n",
              "      <td>NaN</td>\n",
              "      <td>NaN</td>\n",
              "      <td>NaN</td>\n",
              "      <td>NaN</td>\n",
              "      <td>NaN</td>\n",
              "      <td>NaN</td>\n",
              "      <td>NaN</td>\n",
              "      <td>NaN</td>\n",
              "      <td>NaN</td>\n",
              "      <td>NaN</td>\n",
              "      <td>NaN</td>\n",
              "      <td>NaN</td>\n",
              "      <td>NaN</td>\n",
              "      <td>NaN</td>\n",
              "      <td>NaN</td>\n",
              "      <td>NaN</td>\n",
              "      <td>NaN</td>\n",
              "      <td>NaN</td>\n",
              "      <td>NaN</td>\n",
              "      <td>NaN</td>\n",
              "      <td>NaN</td>\n",
              "      <td>NaN</td>\n",
              "      <td>NaN</td>\n",
              "      <td>...</td>\n",
              "      <td>NaN</td>\n",
              "      <td>NaN</td>\n",
              "      <td>NaN</td>\n",
              "      <td>NaN</td>\n",
              "      <td>NaN</td>\n",
              "      <td>NaN</td>\n",
              "      <td>NaN</td>\n",
              "      <td>NaN</td>\n",
              "      <td>NaN</td>\n",
              "      <td>NaN</td>\n",
              "      <td>NaN</td>\n",
              "      <td>NaN</td>\n",
              "      <td>NaN</td>\n",
              "      <td>NaN</td>\n",
              "      <td>NaN</td>\n",
              "      <td>NaN</td>\n",
              "      <td>NaN</td>\n",
              "      <td>NaN</td>\n",
              "      <td>NaN</td>\n",
              "      <td>NaN</td>\n",
              "      <td>NaN</td>\n",
              "      <td>NaN</td>\n",
              "      <td>NaN</td>\n",
              "      <td>NaN</td>\n",
              "      <td>NaN</td>\n",
              "      <td>NaN</td>\n",
              "      <td>NaN</td>\n",
              "      <td>NaN</td>\n",
              "      <td>NaN</td>\n",
              "      <td>NaN</td>\n",
              "      <td>NaN</td>\n",
              "      <td>NaN</td>\n",
              "      <td>NaN</td>\n",
              "      <td>NaN</td>\n",
              "      <td>NaN</td>\n",
              "      <td>NaN</td>\n",
              "      <td>NaN</td>\n",
              "      <td>NaN</td>\n",
              "      <td>NaN</td>\n",
              "      <td>NaN</td>\n",
              "    </tr>\n",
              "    <tr>\n",
              "      <th>42 Dual Drop Leaf Table with 2 Madrid Chairs\"</th>\n",
              "      <td>NaN</td>\n",
              "      <td>NaN</td>\n",
              "      <td>NaN</td>\n",
              "      <td>NaN</td>\n",
              "      <td>NaN</td>\n",
              "      <td>NaN</td>\n",
              "      <td>NaN</td>\n",
              "      <td>NaN</td>\n",
              "      <td>NaN</td>\n",
              "      <td>NaN</td>\n",
              "      <td>NaN</td>\n",
              "      <td>NaN</td>\n",
              "      <td>NaN</td>\n",
              "      <td>NaN</td>\n",
              "      <td>NaN</td>\n",
              "      <td>NaN</td>\n",
              "      <td>NaN</td>\n",
              "      <td>NaN</td>\n",
              "      <td>NaN</td>\n",
              "      <td>NaN</td>\n",
              "      <td>NaN</td>\n",
              "      <td>NaN</td>\n",
              "      <td>NaN</td>\n",
              "      <td>NaN</td>\n",
              "      <td>NaN</td>\n",
              "      <td>NaN</td>\n",
              "      <td>NaN</td>\n",
              "      <td>NaN</td>\n",
              "      <td>NaN</td>\n",
              "      <td>NaN</td>\n",
              "      <td>NaN</td>\n",
              "      <td>NaN</td>\n",
              "      <td>NaN</td>\n",
              "      <td>NaN</td>\n",
              "      <td>NaN</td>\n",
              "      <td>NaN</td>\n",
              "      <td>NaN</td>\n",
              "      <td>NaN</td>\n",
              "      <td>NaN</td>\n",
              "      <td>NaN</td>\n",
              "      <td>...</td>\n",
              "      <td>NaN</td>\n",
              "      <td>NaN</td>\n",
              "      <td>NaN</td>\n",
              "      <td>NaN</td>\n",
              "      <td>NaN</td>\n",
              "      <td>NaN</td>\n",
              "      <td>NaN</td>\n",
              "      <td>NaN</td>\n",
              "      <td>NaN</td>\n",
              "      <td>NaN</td>\n",
              "      <td>NaN</td>\n",
              "      <td>NaN</td>\n",
              "      <td>NaN</td>\n",
              "      <td>NaN</td>\n",
              "      <td>NaN</td>\n",
              "      <td>NaN</td>\n",
              "      <td>NaN</td>\n",
              "      <td>NaN</td>\n",
              "      <td>NaN</td>\n",
              "      <td>NaN</td>\n",
              "      <td>NaN</td>\n",
              "      <td>NaN</td>\n",
              "      <td>NaN</td>\n",
              "      <td>NaN</td>\n",
              "      <td>NaN</td>\n",
              "      <td>NaN</td>\n",
              "      <td>NaN</td>\n",
              "      <td>NaN</td>\n",
              "      <td>NaN</td>\n",
              "      <td>NaN</td>\n",
              "      <td>NaN</td>\n",
              "      <td>NaN</td>\n",
              "      <td>NaN</td>\n",
              "      <td>NaN</td>\n",
              "      <td>NaN</td>\n",
              "      <td>NaN</td>\n",
              "      <td>NaN</td>\n",
              "      <td>NaN</td>\n",
              "      <td>NaN</td>\n",
              "      <td>NaN</td>\n",
              "    </tr>\n",
              "  </tbody>\n",
              "</table>\n",
              "<p>5 rows × 20229 columns</p>\n",
              "</div>"
            ],
            "text/plain": [
              "user                                                               00sab00  ...  zzz1127\n",
              "item                                                                        ...         \n",
              "0.6 Cu. Ft. Letter A4 Size Waterproof 30 Min. Fire File Chest          NaN  ...      NaN\n",
              "100:Complete First Season (blu-Ray)                                    NaN  ...      NaN\n",
              "2017-2018 Brownline174 Duraflex 14-Month Planner 8 1/2 X 11 Black      NaN  ...      NaN\n",
              "2x Ultra Era with Oxi Booster, 50fl oz                                 NaN  ...      NaN\n",
              "42 Dual Drop Leaf Table with 2 Madrid Chairs\"                          NaN  ...      NaN\n",
              "\n",
              "[5 rows x 20229 columns]"
            ]
          },
          "metadata": {
            "tags": []
          },
          "execution_count": 61
        }
      ]
    },
    {
      "cell_type": "code",
      "metadata": {
        "id": "sCBnoTg2zqrJ",
        "colab": {
          "base_uri": "https://localhost:8080/",
          "height": 590
        },
        "outputId": "51a1a4b4-72a0-4219-9bd0-3f977989a950"
      },
      "source": [
        "# Normalizing the values in df_pivot and storing in df_substracted\n",
        "mean = np.nanmean(df_pivot, axis=1)\n",
        "df_subtracted = (df_pivot.T-mean).T\n",
        "df_subtracted.head()"
      ],
      "id": "sCBnoTg2zqrJ",
      "execution_count": 62,
      "outputs": [
        {
          "output_type": "execute_result",
          "data": {
            "text/html": [
              "<div>\n",
              "<style scoped>\n",
              "    .dataframe tbody tr th:only-of-type {\n",
              "        vertical-align: middle;\n",
              "    }\n",
              "\n",
              "    .dataframe tbody tr th {\n",
              "        vertical-align: top;\n",
              "    }\n",
              "\n",
              "    .dataframe thead th {\n",
              "        text-align: right;\n",
              "    }\n",
              "</style>\n",
              "<table border=\"1\" class=\"dataframe\">\n",
              "  <thead>\n",
              "    <tr style=\"text-align: right;\">\n",
              "      <th>user</th>\n",
              "      <th>00sab00</th>\n",
              "      <th>01impala</th>\n",
              "      <th>02deuce</th>\n",
              "      <th>0325home</th>\n",
              "      <th>09mommy11</th>\n",
              "      <th>1.11E+24</th>\n",
              "      <th>1085</th>\n",
              "      <th>10ten</th>\n",
              "      <th>11111111aaaaaaaaaaaaaaaaa</th>\n",
              "      <th>1143mom</th>\n",
              "      <th>1234</th>\n",
              "      <th>1234561</th>\n",
              "      <th>1234567</th>\n",
              "      <th>1234asdf</th>\n",
              "      <th>123cat123</th>\n",
              "      <th>123charlie</th>\n",
              "      <th>123numbers</th>\n",
              "      <th>123rs</th>\n",
              "      <th>123soccermom</th>\n",
              "      <th>123too</th>\n",
              "      <th>12cass12</th>\n",
              "      <th>12gage</th>\n",
              "      <th>13dani</th>\n",
              "      <th>13ld</th>\n",
              "      <th>13ram</th>\n",
              "      <th>13thfaerie</th>\n",
              "      <th>1421nikki</th>\n",
              "      <th>143st</th>\n",
              "      <th>148maine</th>\n",
              "      <th>1515</th>\n",
              "      <th>15425shopper</th>\n",
              "      <th>1616</th>\n",
              "      <th>170361eggs</th>\n",
              "      <th>1753</th>\n",
              "      <th>17roses</th>\n",
              "      <th>18612</th>\n",
              "      <th>1863philly</th>\n",
              "      <th>1943</th>\n",
              "      <th>1950rmm</th>\n",
              "      <th>1968bear</th>\n",
              "      <th>...</th>\n",
              "      <th>zimmeyb</th>\n",
              "      <th>zina911</th>\n",
              "      <th>zinnian</th>\n",
              "      <th>zipflip</th>\n",
              "      <th>zipp</th>\n",
              "      <th>zipper</th>\n",
              "      <th>zipperdoo</th>\n",
              "      <th>zippity</th>\n",
              "      <th>zippy</th>\n",
              "      <th>zitro</th>\n",
              "      <th>zkondrk</th>\n",
              "      <th>zman69</th>\n",
              "      <th>zmikez</th>\n",
              "      <th>zmom</th>\n",
              "      <th>znxfyt</th>\n",
              "      <th>zod10</th>\n",
              "      <th>zodness</th>\n",
              "      <th>zoeellasca</th>\n",
              "      <th>zoey</th>\n",
              "      <th>zoeyny</th>\n",
              "      <th>zokhid</th>\n",
              "      <th>zombie</th>\n",
              "      <th>zombiegirl22</th>\n",
              "      <th>zombiekiller</th>\n",
              "      <th>zombiekiller14</th>\n",
              "      <th>zone</th>\n",
              "      <th>zoney86</th>\n",
              "      <th>zooey_57</th>\n",
              "      <th>zoomin76</th>\n",
              "      <th>zotox</th>\n",
              "      <th>zowie</th>\n",
              "      <th>zozo0o</th>\n",
              "      <th>zpalma</th>\n",
              "      <th>zsarah</th>\n",
              "      <th>zt313</th>\n",
              "      <th>zubb</th>\n",
              "      <th>zulaa118</th>\n",
              "      <th>zuttle</th>\n",
              "      <th>zxcsdfd</th>\n",
              "      <th>zzz1127</th>\n",
              "    </tr>\n",
              "    <tr>\n",
              "      <th>item</th>\n",
              "      <th></th>\n",
              "      <th></th>\n",
              "      <th></th>\n",
              "      <th></th>\n",
              "      <th></th>\n",
              "      <th></th>\n",
              "      <th></th>\n",
              "      <th></th>\n",
              "      <th></th>\n",
              "      <th></th>\n",
              "      <th></th>\n",
              "      <th></th>\n",
              "      <th></th>\n",
              "      <th></th>\n",
              "      <th></th>\n",
              "      <th></th>\n",
              "      <th></th>\n",
              "      <th></th>\n",
              "      <th></th>\n",
              "      <th></th>\n",
              "      <th></th>\n",
              "      <th></th>\n",
              "      <th></th>\n",
              "      <th></th>\n",
              "      <th></th>\n",
              "      <th></th>\n",
              "      <th></th>\n",
              "      <th></th>\n",
              "      <th></th>\n",
              "      <th></th>\n",
              "      <th></th>\n",
              "      <th></th>\n",
              "      <th></th>\n",
              "      <th></th>\n",
              "      <th></th>\n",
              "      <th></th>\n",
              "      <th></th>\n",
              "      <th></th>\n",
              "      <th></th>\n",
              "      <th></th>\n",
              "      <th></th>\n",
              "      <th></th>\n",
              "      <th></th>\n",
              "      <th></th>\n",
              "      <th></th>\n",
              "      <th></th>\n",
              "      <th></th>\n",
              "      <th></th>\n",
              "      <th></th>\n",
              "      <th></th>\n",
              "      <th></th>\n",
              "      <th></th>\n",
              "      <th></th>\n",
              "      <th></th>\n",
              "      <th></th>\n",
              "      <th></th>\n",
              "      <th></th>\n",
              "      <th></th>\n",
              "      <th></th>\n",
              "      <th></th>\n",
              "      <th></th>\n",
              "      <th></th>\n",
              "      <th></th>\n",
              "      <th></th>\n",
              "      <th></th>\n",
              "      <th></th>\n",
              "      <th></th>\n",
              "      <th></th>\n",
              "      <th></th>\n",
              "      <th></th>\n",
              "      <th></th>\n",
              "      <th></th>\n",
              "      <th></th>\n",
              "      <th></th>\n",
              "      <th></th>\n",
              "      <th></th>\n",
              "      <th></th>\n",
              "      <th></th>\n",
              "      <th></th>\n",
              "      <th></th>\n",
              "      <th></th>\n",
              "    </tr>\n",
              "  </thead>\n",
              "  <tbody>\n",
              "    <tr>\n",
              "      <th>0.6 Cu. Ft. Letter A4 Size Waterproof 30 Min. Fire File Chest</th>\n",
              "      <td>NaN</td>\n",
              "      <td>NaN</td>\n",
              "      <td>NaN</td>\n",
              "      <td>NaN</td>\n",
              "      <td>NaN</td>\n",
              "      <td>NaN</td>\n",
              "      <td>NaN</td>\n",
              "      <td>NaN</td>\n",
              "      <td>NaN</td>\n",
              "      <td>NaN</td>\n",
              "      <td>NaN</td>\n",
              "      <td>NaN</td>\n",
              "      <td>NaN</td>\n",
              "      <td>NaN</td>\n",
              "      <td>NaN</td>\n",
              "      <td>NaN</td>\n",
              "      <td>NaN</td>\n",
              "      <td>NaN</td>\n",
              "      <td>NaN</td>\n",
              "      <td>NaN</td>\n",
              "      <td>NaN</td>\n",
              "      <td>NaN</td>\n",
              "      <td>NaN</td>\n",
              "      <td>NaN</td>\n",
              "      <td>NaN</td>\n",
              "      <td>NaN</td>\n",
              "      <td>NaN</td>\n",
              "      <td>NaN</td>\n",
              "      <td>NaN</td>\n",
              "      <td>NaN</td>\n",
              "      <td>NaN</td>\n",
              "      <td>NaN</td>\n",
              "      <td>NaN</td>\n",
              "      <td>NaN</td>\n",
              "      <td>NaN</td>\n",
              "      <td>NaN</td>\n",
              "      <td>NaN</td>\n",
              "      <td>NaN</td>\n",
              "      <td>NaN</td>\n",
              "      <td>NaN</td>\n",
              "      <td>...</td>\n",
              "      <td>NaN</td>\n",
              "      <td>NaN</td>\n",
              "      <td>NaN</td>\n",
              "      <td>NaN</td>\n",
              "      <td>NaN</td>\n",
              "      <td>NaN</td>\n",
              "      <td>NaN</td>\n",
              "      <td>NaN</td>\n",
              "      <td>NaN</td>\n",
              "      <td>NaN</td>\n",
              "      <td>NaN</td>\n",
              "      <td>NaN</td>\n",
              "      <td>NaN</td>\n",
              "      <td>NaN</td>\n",
              "      <td>NaN</td>\n",
              "      <td>NaN</td>\n",
              "      <td>NaN</td>\n",
              "      <td>NaN</td>\n",
              "      <td>NaN</td>\n",
              "      <td>NaN</td>\n",
              "      <td>NaN</td>\n",
              "      <td>NaN</td>\n",
              "      <td>NaN</td>\n",
              "      <td>NaN</td>\n",
              "      <td>NaN</td>\n",
              "      <td>NaN</td>\n",
              "      <td>NaN</td>\n",
              "      <td>NaN</td>\n",
              "      <td>NaN</td>\n",
              "      <td>NaN</td>\n",
              "      <td>NaN</td>\n",
              "      <td>NaN</td>\n",
              "      <td>NaN</td>\n",
              "      <td>NaN</td>\n",
              "      <td>NaN</td>\n",
              "      <td>NaN</td>\n",
              "      <td>NaN</td>\n",
              "      <td>NaN</td>\n",
              "      <td>NaN</td>\n",
              "      <td>NaN</td>\n",
              "    </tr>\n",
              "    <tr>\n",
              "      <th>100:Complete First Season (blu-Ray)</th>\n",
              "      <td>NaN</td>\n",
              "      <td>NaN</td>\n",
              "      <td>NaN</td>\n",
              "      <td>NaN</td>\n",
              "      <td>NaN</td>\n",
              "      <td>NaN</td>\n",
              "      <td>NaN</td>\n",
              "      <td>NaN</td>\n",
              "      <td>NaN</td>\n",
              "      <td>NaN</td>\n",
              "      <td>NaN</td>\n",
              "      <td>NaN</td>\n",
              "      <td>NaN</td>\n",
              "      <td>NaN</td>\n",
              "      <td>NaN</td>\n",
              "      <td>NaN</td>\n",
              "      <td>NaN</td>\n",
              "      <td>NaN</td>\n",
              "      <td>NaN</td>\n",
              "      <td>NaN</td>\n",
              "      <td>NaN</td>\n",
              "      <td>NaN</td>\n",
              "      <td>NaN</td>\n",
              "      <td>NaN</td>\n",
              "      <td>NaN</td>\n",
              "      <td>NaN</td>\n",
              "      <td>NaN</td>\n",
              "      <td>NaN</td>\n",
              "      <td>NaN</td>\n",
              "      <td>NaN</td>\n",
              "      <td>NaN</td>\n",
              "      <td>NaN</td>\n",
              "      <td>NaN</td>\n",
              "      <td>NaN</td>\n",
              "      <td>NaN</td>\n",
              "      <td>NaN</td>\n",
              "      <td>NaN</td>\n",
              "      <td>NaN</td>\n",
              "      <td>NaN</td>\n",
              "      <td>NaN</td>\n",
              "      <td>...</td>\n",
              "      <td>NaN</td>\n",
              "      <td>NaN</td>\n",
              "      <td>NaN</td>\n",
              "      <td>NaN</td>\n",
              "      <td>NaN</td>\n",
              "      <td>NaN</td>\n",
              "      <td>NaN</td>\n",
              "      <td>NaN</td>\n",
              "      <td>NaN</td>\n",
              "      <td>NaN</td>\n",
              "      <td>NaN</td>\n",
              "      <td>NaN</td>\n",
              "      <td>NaN</td>\n",
              "      <td>NaN</td>\n",
              "      <td>NaN</td>\n",
              "      <td>NaN</td>\n",
              "      <td>NaN</td>\n",
              "      <td>NaN</td>\n",
              "      <td>NaN</td>\n",
              "      <td>NaN</td>\n",
              "      <td>NaN</td>\n",
              "      <td>NaN</td>\n",
              "      <td>NaN</td>\n",
              "      <td>NaN</td>\n",
              "      <td>NaN</td>\n",
              "      <td>NaN</td>\n",
              "      <td>NaN</td>\n",
              "      <td>NaN</td>\n",
              "      <td>NaN</td>\n",
              "      <td>NaN</td>\n",
              "      <td>NaN</td>\n",
              "      <td>NaN</td>\n",
              "      <td>NaN</td>\n",
              "      <td>NaN</td>\n",
              "      <td>NaN</td>\n",
              "      <td>NaN</td>\n",
              "      <td>NaN</td>\n",
              "      <td>NaN</td>\n",
              "      <td>NaN</td>\n",
              "      <td>NaN</td>\n",
              "    </tr>\n",
              "    <tr>\n",
              "      <th>2017-2018 Brownline174 Duraflex 14-Month Planner 8 1/2 X 11 Black</th>\n",
              "      <td>NaN</td>\n",
              "      <td>NaN</td>\n",
              "      <td>NaN</td>\n",
              "      <td>NaN</td>\n",
              "      <td>NaN</td>\n",
              "      <td>NaN</td>\n",
              "      <td>NaN</td>\n",
              "      <td>NaN</td>\n",
              "      <td>NaN</td>\n",
              "      <td>NaN</td>\n",
              "      <td>NaN</td>\n",
              "      <td>NaN</td>\n",
              "      <td>NaN</td>\n",
              "      <td>NaN</td>\n",
              "      <td>NaN</td>\n",
              "      <td>NaN</td>\n",
              "      <td>NaN</td>\n",
              "      <td>NaN</td>\n",
              "      <td>NaN</td>\n",
              "      <td>NaN</td>\n",
              "      <td>NaN</td>\n",
              "      <td>NaN</td>\n",
              "      <td>NaN</td>\n",
              "      <td>NaN</td>\n",
              "      <td>NaN</td>\n",
              "      <td>NaN</td>\n",
              "      <td>NaN</td>\n",
              "      <td>NaN</td>\n",
              "      <td>NaN</td>\n",
              "      <td>NaN</td>\n",
              "      <td>NaN</td>\n",
              "      <td>NaN</td>\n",
              "      <td>NaN</td>\n",
              "      <td>NaN</td>\n",
              "      <td>NaN</td>\n",
              "      <td>NaN</td>\n",
              "      <td>NaN</td>\n",
              "      <td>NaN</td>\n",
              "      <td>NaN</td>\n",
              "      <td>NaN</td>\n",
              "      <td>...</td>\n",
              "      <td>NaN</td>\n",
              "      <td>NaN</td>\n",
              "      <td>NaN</td>\n",
              "      <td>NaN</td>\n",
              "      <td>NaN</td>\n",
              "      <td>NaN</td>\n",
              "      <td>NaN</td>\n",
              "      <td>NaN</td>\n",
              "      <td>NaN</td>\n",
              "      <td>NaN</td>\n",
              "      <td>NaN</td>\n",
              "      <td>NaN</td>\n",
              "      <td>NaN</td>\n",
              "      <td>NaN</td>\n",
              "      <td>NaN</td>\n",
              "      <td>NaN</td>\n",
              "      <td>NaN</td>\n",
              "      <td>NaN</td>\n",
              "      <td>NaN</td>\n",
              "      <td>NaN</td>\n",
              "      <td>NaN</td>\n",
              "      <td>NaN</td>\n",
              "      <td>NaN</td>\n",
              "      <td>NaN</td>\n",
              "      <td>NaN</td>\n",
              "      <td>NaN</td>\n",
              "      <td>NaN</td>\n",
              "      <td>NaN</td>\n",
              "      <td>NaN</td>\n",
              "      <td>NaN</td>\n",
              "      <td>NaN</td>\n",
              "      <td>NaN</td>\n",
              "      <td>NaN</td>\n",
              "      <td>NaN</td>\n",
              "      <td>NaN</td>\n",
              "      <td>NaN</td>\n",
              "      <td>NaN</td>\n",
              "      <td>NaN</td>\n",
              "      <td>NaN</td>\n",
              "      <td>NaN</td>\n",
              "    </tr>\n",
              "    <tr>\n",
              "      <th>2x Ultra Era with Oxi Booster, 50fl oz</th>\n",
              "      <td>NaN</td>\n",
              "      <td>NaN</td>\n",
              "      <td>NaN</td>\n",
              "      <td>NaN</td>\n",
              "      <td>NaN</td>\n",
              "      <td>NaN</td>\n",
              "      <td>NaN</td>\n",
              "      <td>NaN</td>\n",
              "      <td>NaN</td>\n",
              "      <td>NaN</td>\n",
              "      <td>NaN</td>\n",
              "      <td>NaN</td>\n",
              "      <td>NaN</td>\n",
              "      <td>NaN</td>\n",
              "      <td>NaN</td>\n",
              "      <td>NaN</td>\n",
              "      <td>NaN</td>\n",
              "      <td>NaN</td>\n",
              "      <td>NaN</td>\n",
              "      <td>NaN</td>\n",
              "      <td>NaN</td>\n",
              "      <td>NaN</td>\n",
              "      <td>NaN</td>\n",
              "      <td>NaN</td>\n",
              "      <td>NaN</td>\n",
              "      <td>NaN</td>\n",
              "      <td>NaN</td>\n",
              "      <td>NaN</td>\n",
              "      <td>NaN</td>\n",
              "      <td>NaN</td>\n",
              "      <td>NaN</td>\n",
              "      <td>NaN</td>\n",
              "      <td>NaN</td>\n",
              "      <td>NaN</td>\n",
              "      <td>NaN</td>\n",
              "      <td>NaN</td>\n",
              "      <td>NaN</td>\n",
              "      <td>NaN</td>\n",
              "      <td>NaN</td>\n",
              "      <td>NaN</td>\n",
              "      <td>...</td>\n",
              "      <td>NaN</td>\n",
              "      <td>NaN</td>\n",
              "      <td>NaN</td>\n",
              "      <td>NaN</td>\n",
              "      <td>NaN</td>\n",
              "      <td>NaN</td>\n",
              "      <td>NaN</td>\n",
              "      <td>NaN</td>\n",
              "      <td>NaN</td>\n",
              "      <td>NaN</td>\n",
              "      <td>NaN</td>\n",
              "      <td>NaN</td>\n",
              "      <td>NaN</td>\n",
              "      <td>NaN</td>\n",
              "      <td>NaN</td>\n",
              "      <td>NaN</td>\n",
              "      <td>NaN</td>\n",
              "      <td>NaN</td>\n",
              "      <td>NaN</td>\n",
              "      <td>NaN</td>\n",
              "      <td>NaN</td>\n",
              "      <td>NaN</td>\n",
              "      <td>NaN</td>\n",
              "      <td>NaN</td>\n",
              "      <td>NaN</td>\n",
              "      <td>NaN</td>\n",
              "      <td>NaN</td>\n",
              "      <td>NaN</td>\n",
              "      <td>NaN</td>\n",
              "      <td>NaN</td>\n",
              "      <td>NaN</td>\n",
              "      <td>NaN</td>\n",
              "      <td>NaN</td>\n",
              "      <td>NaN</td>\n",
              "      <td>NaN</td>\n",
              "      <td>NaN</td>\n",
              "      <td>NaN</td>\n",
              "      <td>NaN</td>\n",
              "      <td>NaN</td>\n",
              "      <td>NaN</td>\n",
              "    </tr>\n",
              "    <tr>\n",
              "      <th>42 Dual Drop Leaf Table with 2 Madrid Chairs\"</th>\n",
              "      <td>NaN</td>\n",
              "      <td>NaN</td>\n",
              "      <td>NaN</td>\n",
              "      <td>NaN</td>\n",
              "      <td>NaN</td>\n",
              "      <td>NaN</td>\n",
              "      <td>NaN</td>\n",
              "      <td>NaN</td>\n",
              "      <td>NaN</td>\n",
              "      <td>NaN</td>\n",
              "      <td>NaN</td>\n",
              "      <td>NaN</td>\n",
              "      <td>NaN</td>\n",
              "      <td>NaN</td>\n",
              "      <td>NaN</td>\n",
              "      <td>NaN</td>\n",
              "      <td>NaN</td>\n",
              "      <td>NaN</td>\n",
              "      <td>NaN</td>\n",
              "      <td>NaN</td>\n",
              "      <td>NaN</td>\n",
              "      <td>NaN</td>\n",
              "      <td>NaN</td>\n",
              "      <td>NaN</td>\n",
              "      <td>NaN</td>\n",
              "      <td>NaN</td>\n",
              "      <td>NaN</td>\n",
              "      <td>NaN</td>\n",
              "      <td>NaN</td>\n",
              "      <td>NaN</td>\n",
              "      <td>NaN</td>\n",
              "      <td>NaN</td>\n",
              "      <td>NaN</td>\n",
              "      <td>NaN</td>\n",
              "      <td>NaN</td>\n",
              "      <td>NaN</td>\n",
              "      <td>NaN</td>\n",
              "      <td>NaN</td>\n",
              "      <td>NaN</td>\n",
              "      <td>NaN</td>\n",
              "      <td>...</td>\n",
              "      <td>NaN</td>\n",
              "      <td>NaN</td>\n",
              "      <td>NaN</td>\n",
              "      <td>NaN</td>\n",
              "      <td>NaN</td>\n",
              "      <td>NaN</td>\n",
              "      <td>NaN</td>\n",
              "      <td>NaN</td>\n",
              "      <td>NaN</td>\n",
              "      <td>NaN</td>\n",
              "      <td>NaN</td>\n",
              "      <td>NaN</td>\n",
              "      <td>NaN</td>\n",
              "      <td>NaN</td>\n",
              "      <td>NaN</td>\n",
              "      <td>NaN</td>\n",
              "      <td>NaN</td>\n",
              "      <td>NaN</td>\n",
              "      <td>NaN</td>\n",
              "      <td>NaN</td>\n",
              "      <td>NaN</td>\n",
              "      <td>NaN</td>\n",
              "      <td>NaN</td>\n",
              "      <td>NaN</td>\n",
              "      <td>NaN</td>\n",
              "      <td>NaN</td>\n",
              "      <td>NaN</td>\n",
              "      <td>NaN</td>\n",
              "      <td>NaN</td>\n",
              "      <td>NaN</td>\n",
              "      <td>NaN</td>\n",
              "      <td>NaN</td>\n",
              "      <td>NaN</td>\n",
              "      <td>NaN</td>\n",
              "      <td>NaN</td>\n",
              "      <td>NaN</td>\n",
              "      <td>NaN</td>\n",
              "      <td>NaN</td>\n",
              "      <td>NaN</td>\n",
              "      <td>NaN</td>\n",
              "    </tr>\n",
              "  </tbody>\n",
              "</table>\n",
              "<p>5 rows × 20229 columns</p>\n",
              "</div>"
            ],
            "text/plain": [
              "user                                                               00sab00  ...  zzz1127\n",
              "item                                                                        ...         \n",
              "0.6 Cu. Ft. Letter A4 Size Waterproof 30 Min. Fire File Chest          NaN  ...      NaN\n",
              "100:Complete First Season (blu-Ray)                                    NaN  ...      NaN\n",
              "2017-2018 Brownline174 Duraflex 14-Month Planner 8 1/2 X 11 Black      NaN  ...      NaN\n",
              "2x Ultra Era with Oxi Booster, 50fl oz                                 NaN  ...      NaN\n",
              "42 Dual Drop Leaf Table with 2 Madrid Chairs\"                          NaN  ...      NaN\n",
              "\n",
              "[5 rows x 20229 columns]"
            ]
          },
          "metadata": {
            "tags": []
          },
          "execution_count": 62
        }
      ]
    },
    {
      "cell_type": "code",
      "metadata": {
        "id": "xCsVGtFnz458",
        "colab": {
          "base_uri": "https://localhost:8080/"
        },
        "outputId": "556b7fd6-c24d-4d49-a2a8-5a88508fd3c6"
      },
      "source": [
        "# Building Item Similarity Matrix\n",
        "item_correlation = 1 - pairwise_distances(df_subtracted.fillna(0), metric='cosine')\n",
        "item_correlation[np.isnan(item_correlation)] = 0\n",
        "print(item_correlation)"
      ],
      "id": "xCsVGtFnz458",
      "execution_count": 63,
      "outputs": [
        {
          "output_type": "stream",
          "text": [
            "[[1. 0. 0. ... 0. 0. 0.]\n",
            " [0. 1. 0. ... 0. 0. 0.]\n",
            " [0. 0. 0. ... 0. 0. 0.]\n",
            " ...\n",
            " [0. 0. 0. ... 1. 0. 0.]\n",
            " [0. 0. 0. ... 0. 1. 0.]\n",
            " [0. 0. 0. ... 0. 0. 1.]]\n"
          ],
          "name": "stdout"
        }
      ]
    },
    {
      "cell_type": "code",
      "metadata": {
        "id": "Y3OvMf7qz41l",
        "colab": {
          "base_uri": "https://localhost:8080/"
        },
        "outputId": "91219fa1-8c5e-4b1f-8360-4fb6b6a50437"
      },
      "source": [
        "# Replacing negative values with 0\n",
        "item_correlation[item_correlation<0]=0\n",
        "item_correlation"
      ],
      "id": "Y3OvMf7qz41l",
      "execution_count": 64,
      "outputs": [
        {
          "output_type": "execute_result",
          "data": {
            "text/plain": [
              "array([[1., 0., 0., ..., 0., 0., 0.],\n",
              "       [0., 1., 0., ..., 0., 0., 0.],\n",
              "       [0., 0., 0., ..., 0., 0., 0.],\n",
              "       ...,\n",
              "       [0., 0., 0., ..., 1., 0., 0.],\n",
              "       [0., 0., 0., ..., 0., 1., 0.],\n",
              "       [0., 0., 0., ..., 0., 0., 1.]])"
            ]
          },
          "metadata": {
            "tags": []
          },
          "execution_count": 64
        }
      ]
    },
    {
      "cell_type": "markdown",
      "metadata": {
        "id": "o0g1i_-U0PYd"
      },
      "source": [
        "### Prediction - Item Item"
      ],
      "id": "o0g1i_-U0PYd"
    },
    {
      "cell_type": "code",
      "metadata": {
        "id": "gDLqDbv9z4w3",
        "colab": {
          "base_uri": "https://localhost:8080/"
        },
        "outputId": "a77dd4c0-73eb-42c7-e6ba-60fba873a555"
      },
      "source": [
        "# Building prediction dataframe\n",
        "item_predicted_ratings = np.dot((df_pivot.fillna(0).T),item_correlation)\n",
        "item_predicted_ratings"
      ],
      "id": "gDLqDbv9z4w3",
      "execution_count": 65,
      "outputs": [
        {
          "output_type": "execute_result",
          "data": {
            "text/plain": [
              "array([[0.        , 0.0060412 , 0.        , ..., 0.        , 0.00414458,\n",
              "        0.        ],\n",
              "       [0.        , 0.01261121, 0.        , ..., 0.        , 0.00859115,\n",
              "        0.        ],\n",
              "       [0.        , 0.01681495, 0.        , ..., 0.        , 0.01145486,\n",
              "        0.        ],\n",
              "       ...,\n",
              "       [0.        , 0.01939807, 0.        , ..., 0.        , 0.        ,\n",
              "        0.        ],\n",
              "       [0.        , 0.        , 0.        , ..., 0.        , 0.00112893,\n",
              "        0.        ],\n",
              "       [0.        , 0.        , 0.        , ..., 0.        , 0.00090314,\n",
              "        0.        ]])"
            ]
          },
          "metadata": {
            "tags": []
          },
          "execution_count": 65
        }
      ]
    },
    {
      "cell_type": "code",
      "metadata": {
        "id": "odHwGKxYz4qv",
        "colab": {
          "base_uri": "https://localhost:8080/"
        },
        "outputId": "409bbfe1-153e-4e19-adf9-151efc861d63"
      },
      "source": [
        "item_predicted_ratings.shape"
      ],
      "id": "odHwGKxYz4qv",
      "execution_count": 66,
      "outputs": [
        {
          "output_type": "execute_result",
          "data": {
            "text/plain": [
              "(20229, 255)"
            ]
          },
          "metadata": {
            "tags": []
          },
          "execution_count": 66
        }
      ]
    },
    {
      "cell_type": "code",
      "metadata": {
        "colab": {
          "base_uri": "https://localhost:8080/",
          "height": 505
        },
        "id": "JWyMv6hI4ctx",
        "outputId": "c7e242e0-3430-4216-eb34-6c9cbc654187"
      },
      "source": [
        "item_final_rating = np.multiply(item_predicted_ratings,dummy_train)\n",
        "item_final_rating.head()"
      ],
      "id": "JWyMv6hI4ctx",
      "execution_count": 67,
      "outputs": [
        {
          "output_type": "execute_result",
          "data": {
            "text/html": [
              "<div>\n",
              "<style scoped>\n",
              "    .dataframe tbody tr th:only-of-type {\n",
              "        vertical-align: middle;\n",
              "    }\n",
              "\n",
              "    .dataframe tbody tr th {\n",
              "        vertical-align: top;\n",
              "    }\n",
              "\n",
              "    .dataframe thead th {\n",
              "        text-align: right;\n",
              "    }\n",
              "</style>\n",
              "<table border=\"1\" class=\"dataframe\">\n",
              "  <thead>\n",
              "    <tr style=\"text-align: right;\">\n",
              "      <th>item</th>\n",
              "      <th>0.6 Cu. Ft. Letter A4 Size Waterproof 30 Min. Fire File Chest</th>\n",
              "      <th>100:Complete First Season (blu-Ray)</th>\n",
              "      <th>2017-2018 Brownline174 Duraflex 14-Month Planner 8 1/2 X 11 Black</th>\n",
              "      <th>2x Ultra Era with Oxi Booster, 50fl oz</th>\n",
              "      <th>42 Dual Drop Leaf Table with 2 Madrid Chairs\"</th>\n",
              "      <th>4C Grated Parmesan Cheese 100% Natural 8oz Shaker</th>\n",
              "      <th>5302050 15/16 FCT/HOSE ADAPTOR</th>\n",
              "      <th>Africa's Best No-Lye Dual Conditioning Relaxer System Super</th>\n",
              "      <th>Alberto VO5 Salon Series Smooth Plus Sleek Shampoo</th>\n",
              "      <th>Alex Cross (dvdvideo)</th>\n",
              "      <th>All,bran Complete Wheat Flakes, 18 Oz.</th>\n",
              "      <th>Ambi Complexion Cleansing Bar</th>\n",
              "      <th>Annie's Homegrown Deluxe Elbows &amp; Four Cheese Sauce</th>\n",
              "      <th>Annie's Homegrown Gluten Free Double Chocolate Chip Granola Bars</th>\n",
              "      <th>Arrid Extra Dry Anti-Perspirant Deodorant Spray Regular</th>\n",
              "      <th>Aussie Aussome Volume Shampoo, 13.5 Oz</th>\n",
              "      <th>Australian Gold Exotic Blend Lotion, SPF 4</th>\n",
              "      <th>Aveeno Baby Continuous Protection Lotion Sunscreen with Broad Spectrum SPF 55, 4oz</th>\n",
              "      <th>Avery174 11-1/4 X 9-1/4 Index Maker Extra Wide Label Dividers With 5 Tab - Clear (5 Sets Per Pack)</th>\n",
              "      <th>Avery174 Ready Index Contemporary Table Of Contents Divider, 1-8, Multi, Letter</th>\n",
              "      <th>Axe Dry Anti-Perspirant Deodorant Invisible Solid Phoenix</th>\n",
              "      <th>BRIDGESTONE 130/70ZR18M/C(63W)FRONT EXEDRA G851, CRUISER RADL</th>\n",
              "      <th>Banana Boat Sunless Summer Color Self Tanning Lotion, Light To Medium</th>\n",
              "      <th>Barielle Nail Rebuilding Protein</th>\n",
              "      <th>Batherapy Natural Mineral Bath Sport Liquid, 16 oz</th>\n",
              "      <th>Baxter Of California Cream Pomade</th>\n",
              "      <th>Beanitos Bean Chips, Simply Pinto Bean</th>\n",
              "      <th>Bedtime Originals Pinkie Musical Mobile</th>\n",
              "      <th>Ben &amp; Jerry's Coffee, Coffee Buzzbuzzbuzz! Ice Cream, Pint</th>\n",
              "      <th>Better Built 74010862 Bet74010862 60In Crossover Two Lid, Deep, Truck Tool Box</th>\n",
              "      <th>Bi-O-kleen Spray &amp; Wipe All Purpose Cleaner</th>\n",
              "      <th>Bilbao Nightstand Gray Oak - South Shore</th>\n",
              "      <th>Bill Glor Gaither - Church In The Wildwood (cd)</th>\n",
              "      <th>Bisquick Original Pancake And Baking Mix - 40oz</th>\n",
              "      <th>Black Front Loading Frame Set (8.5x11) Set Of 12</th>\n",
              "      <th>Blue Anchor Design Throw Pillow (18x18) - Rizzy Home</th>\n",
              "      <th>Bodycology Nourishing Body Cream, Pretty In Paris</th>\n",
              "      <th>Boraam Sonoma Kitchen Cart With Wire Brush Gray - Maaya Home</th>\n",
              "      <th>Bounce Dryer Sheets, Fresh Linen, 160 sheets</th>\n",
              "      <th>Bumble Bee Solid White Albacore In Water - 5 Oz</th>\n",
              "      <th>...</th>\n",
              "      <th>Starbucks Iced Expresso Classics Vanilla Latte Coffee Beverage - 40oz</th>\n",
              "      <th>Starbucks153 Doubleshot Protein Coffee - 11 Fl Oz</th>\n",
              "      <th>Stargate (ws) (ultimate Edition) (director's Cut) (dvdvideo)</th>\n",
              "      <th>Storkcraft Tuscany Glider and Ottoman, Beige Cushions, Espresso Finish</th>\n",
              "      <th>Suave Professionals Hair Conditioner, Sleek</th>\n",
              "      <th>Sunflower Swag With Metal Frame - Nearly Natural</th>\n",
              "      <th>Super Poligrip Denture Adhesive Cream, Ultra Fresh - 2.4 Oz</th>\n",
              "      <th>Switchmas (dvd)</th>\n",
              "      <th>Tai Pei Sweet &amp; Sour Chicken</th>\n",
              "      <th>The Honest Company Laundry Detergent</th>\n",
              "      <th>The Resident Evil Collection 5 Discs (blu-Ray)</th>\n",
              "      <th>The Script - No Sound Without Silence (cd)</th>\n",
              "      <th>The Seaweed Bath Co. Argan Conditioner, Smoothing Citrus</th>\n",
              "      <th>There's Something About Mary (dvd)</th>\n",
              "      <th>Tim Holtz Retractable Craft Pick-Red 6x.5</th>\n",
              "      <th>Tostitos Bite Size Tortilla Chips</th>\n",
              "      <th>Tostitos Simply Blue Corn Tortilla Chips</th>\n",
              "      <th>Toy Story Kids' Woody Accessory Kit</th>\n",
              "      <th>Tramontina Ceramica 10 Piece Cookware Set - Red</th>\n",
              "      <th>Tree Hut Shea Body Butters, Coconut Lime, 7 oz</th>\n",
              "      <th>Trend Lab Park Nursing Cover - Paisley</th>\n",
              "      <th>Tresemme Kertatin Smooth Infusing Conditioning</th>\n",
              "      <th>Udi's Pepperoni Pizza</th>\n",
              "      <th>Various - Red Hot Blue:Tribute To Cole Porter (cd)</th>\n",
              "      <th>Various Artists - Choo Choo Soul (cd)</th>\n",
              "      <th>Vaseline Intensive Care Healthy Hands Stronger Nails</th>\n",
              "      <th>Vaseline Intensive Care Lip Therapy Cocoa Butter</th>\n",
              "      <th>Vicks Vaporub, Regular, 3.53oz</th>\n",
              "      <th>Voortman Sugar Free Fudge Chocolate Chip Cookies</th>\n",
              "      <th>Wagan Smartac 80watt Inverter With Usb</th>\n",
              "      <th>Walkers Stem Ginger Shortbread</th>\n",
              "      <th>Wallmount Server Cabinet (450mm, 9 RU)</th>\n",
              "      <th>Way Basics 3-Shelf Eco Narrow Bookcase Storage Shelf, Espresso - Formaldehyde Free - Lifetime Guarantee</th>\n",
              "      <th>WeatherTech 40647 14-15 Outlander Cargo Liners Behind 2nd Row, Black</th>\n",
              "      <th>Wedding Wishes Wedding Guest Book</th>\n",
              "      <th>Weleda Everon Lip Balm</th>\n",
              "      <th>Wilton Black Dots Standard Baking Cups</th>\n",
              "      <th>Windex Original Glass Cleaner Refill 67.6oz (2 Liter)</th>\n",
              "      <th>Yes To Carrots Nourishing Body Wash</th>\n",
              "      <th>Yes To Grapefruit Rejuvenating Body Wash</th>\n",
              "    </tr>\n",
              "    <tr>\n",
              "      <th>user</th>\n",
              "      <th></th>\n",
              "      <th></th>\n",
              "      <th></th>\n",
              "      <th></th>\n",
              "      <th></th>\n",
              "      <th></th>\n",
              "      <th></th>\n",
              "      <th></th>\n",
              "      <th></th>\n",
              "      <th></th>\n",
              "      <th></th>\n",
              "      <th></th>\n",
              "      <th></th>\n",
              "      <th></th>\n",
              "      <th></th>\n",
              "      <th></th>\n",
              "      <th></th>\n",
              "      <th></th>\n",
              "      <th></th>\n",
              "      <th></th>\n",
              "      <th></th>\n",
              "      <th></th>\n",
              "      <th></th>\n",
              "      <th></th>\n",
              "      <th></th>\n",
              "      <th></th>\n",
              "      <th></th>\n",
              "      <th></th>\n",
              "      <th></th>\n",
              "      <th></th>\n",
              "      <th></th>\n",
              "      <th></th>\n",
              "      <th></th>\n",
              "      <th></th>\n",
              "      <th></th>\n",
              "      <th></th>\n",
              "      <th></th>\n",
              "      <th></th>\n",
              "      <th></th>\n",
              "      <th></th>\n",
              "      <th></th>\n",
              "      <th></th>\n",
              "      <th></th>\n",
              "      <th></th>\n",
              "      <th></th>\n",
              "      <th></th>\n",
              "      <th></th>\n",
              "      <th></th>\n",
              "      <th></th>\n",
              "      <th></th>\n",
              "      <th></th>\n",
              "      <th></th>\n",
              "      <th></th>\n",
              "      <th></th>\n",
              "      <th></th>\n",
              "      <th></th>\n",
              "      <th></th>\n",
              "      <th></th>\n",
              "      <th></th>\n",
              "      <th></th>\n",
              "      <th></th>\n",
              "      <th></th>\n",
              "      <th></th>\n",
              "      <th></th>\n",
              "      <th></th>\n",
              "      <th></th>\n",
              "      <th></th>\n",
              "      <th></th>\n",
              "      <th></th>\n",
              "      <th></th>\n",
              "      <th></th>\n",
              "      <th></th>\n",
              "      <th></th>\n",
              "      <th></th>\n",
              "      <th></th>\n",
              "      <th></th>\n",
              "      <th></th>\n",
              "      <th></th>\n",
              "      <th></th>\n",
              "      <th></th>\n",
              "      <th></th>\n",
              "    </tr>\n",
              "  </thead>\n",
              "  <tbody>\n",
              "    <tr>\n",
              "      <th>00sab00</th>\n",
              "      <td>0.0</td>\n",
              "      <td>0.006041</td>\n",
              "      <td>0.0</td>\n",
              "      <td>0.0</td>\n",
              "      <td>0.0</td>\n",
              "      <td>0.0</td>\n",
              "      <td>0.0</td>\n",
              "      <td>0.0</td>\n",
              "      <td>0.0</td>\n",
              "      <td>0.027526</td>\n",
              "      <td>0.000000</td>\n",
              "      <td>0.0</td>\n",
              "      <td>0.0</td>\n",
              "      <td>0.0</td>\n",
              "      <td>0.0</td>\n",
              "      <td>0.000000</td>\n",
              "      <td>0.000000</td>\n",
              "      <td>0.004861</td>\n",
              "      <td>0.0</td>\n",
              "      <td>0.001507</td>\n",
              "      <td>0.0</td>\n",
              "      <td>0.0</td>\n",
              "      <td>0.000000</td>\n",
              "      <td>0.0</td>\n",
              "      <td>0.0</td>\n",
              "      <td>0.0</td>\n",
              "      <td>0.0</td>\n",
              "      <td>0.0</td>\n",
              "      <td>0.013542</td>\n",
              "      <td>0.0</td>\n",
              "      <td>0.022150</td>\n",
              "      <td>0.133143</td>\n",
              "      <td>0.0</td>\n",
              "      <td>0.001038</td>\n",
              "      <td>0.000000</td>\n",
              "      <td>0.0</td>\n",
              "      <td>0.0</td>\n",
              "      <td>0.000000</td>\n",
              "      <td>0.004158</td>\n",
              "      <td>0.0</td>\n",
              "      <td>...</td>\n",
              "      <td>0.0</td>\n",
              "      <td>0.0</td>\n",
              "      <td>0.084395</td>\n",
              "      <td>0.002967</td>\n",
              "      <td>0.0</td>\n",
              "      <td>0.0</td>\n",
              "      <td>0.0</td>\n",
              "      <td>0.0</td>\n",
              "      <td>0.000000</td>\n",
              "      <td>0.000000</td>\n",
              "      <td>0.000584</td>\n",
              "      <td>0.007421</td>\n",
              "      <td>0.0</td>\n",
              "      <td>0.000000</td>\n",
              "      <td>0.0</td>\n",
              "      <td>0.006441</td>\n",
              "      <td>0.000000</td>\n",
              "      <td>0.0</td>\n",
              "      <td>0.0</td>\n",
              "      <td>0.009377</td>\n",
              "      <td>0.017051</td>\n",
              "      <td>0.005529</td>\n",
              "      <td>0.0</td>\n",
              "      <td>0.033834</td>\n",
              "      <td>0.0</td>\n",
              "      <td>0.001548</td>\n",
              "      <td>0.003243</td>\n",
              "      <td>0.000000</td>\n",
              "      <td>0.0</td>\n",
              "      <td>0.000000</td>\n",
              "      <td>0.0</td>\n",
              "      <td>0.0</td>\n",
              "      <td>0.000000</td>\n",
              "      <td>0.0</td>\n",
              "      <td>0.0</td>\n",
              "      <td>0.0</td>\n",
              "      <td>0.0</td>\n",
              "      <td>0.000000</td>\n",
              "      <td>0.004145</td>\n",
              "      <td>0.0</td>\n",
              "    </tr>\n",
              "    <tr>\n",
              "      <th>01impala</th>\n",
              "      <td>0.0</td>\n",
              "      <td>0.012611</td>\n",
              "      <td>0.0</td>\n",
              "      <td>0.0</td>\n",
              "      <td>0.0</td>\n",
              "      <td>0.0</td>\n",
              "      <td>0.0</td>\n",
              "      <td>0.0</td>\n",
              "      <td>0.0</td>\n",
              "      <td>0.000000</td>\n",
              "      <td>0.000000</td>\n",
              "      <td>0.0</td>\n",
              "      <td>0.0</td>\n",
              "      <td>0.0</td>\n",
              "      <td>0.0</td>\n",
              "      <td>0.000000</td>\n",
              "      <td>0.002899</td>\n",
              "      <td>0.000000</td>\n",
              "      <td>0.0</td>\n",
              "      <td>0.002393</td>\n",
              "      <td>0.0</td>\n",
              "      <td>0.0</td>\n",
              "      <td>0.001084</td>\n",
              "      <td>0.0</td>\n",
              "      <td>0.0</td>\n",
              "      <td>0.0</td>\n",
              "      <td>0.0</td>\n",
              "      <td>0.0</td>\n",
              "      <td>0.000000</td>\n",
              "      <td>0.0</td>\n",
              "      <td>0.001158</td>\n",
              "      <td>0.000000</td>\n",
              "      <td>0.0</td>\n",
              "      <td>0.006518</td>\n",
              "      <td>0.013751</td>\n",
              "      <td>0.0</td>\n",
              "      <td>0.0</td>\n",
              "      <td>0.007682</td>\n",
              "      <td>0.000000</td>\n",
              "      <td>0.0</td>\n",
              "      <td>...</td>\n",
              "      <td>0.0</td>\n",
              "      <td>0.0</td>\n",
              "      <td>0.008837</td>\n",
              "      <td>0.000000</td>\n",
              "      <td>0.0</td>\n",
              "      <td>0.0</td>\n",
              "      <td>0.0</td>\n",
              "      <td>0.0</td>\n",
              "      <td>0.000000</td>\n",
              "      <td>0.000000</td>\n",
              "      <td>0.000000</td>\n",
              "      <td>0.008530</td>\n",
              "      <td>0.0</td>\n",
              "      <td>0.014891</td>\n",
              "      <td>0.0</td>\n",
              "      <td>0.004569</td>\n",
              "      <td>0.001372</td>\n",
              "      <td>0.0</td>\n",
              "      <td>0.0</td>\n",
              "      <td>0.005390</td>\n",
              "      <td>0.000000</td>\n",
              "      <td>0.000000</td>\n",
              "      <td>0.0</td>\n",
              "      <td>0.000000</td>\n",
              "      <td>0.0</td>\n",
              "      <td>0.000000</td>\n",
              "      <td>0.000000</td>\n",
              "      <td>0.000000</td>\n",
              "      <td>0.0</td>\n",
              "      <td>0.003850</td>\n",
              "      <td>0.0</td>\n",
              "      <td>0.0</td>\n",
              "      <td>0.000000</td>\n",
              "      <td>0.0</td>\n",
              "      <td>0.0</td>\n",
              "      <td>0.0</td>\n",
              "      <td>0.0</td>\n",
              "      <td>0.000000</td>\n",
              "      <td>0.008591</td>\n",
              "      <td>0.0</td>\n",
              "    </tr>\n",
              "    <tr>\n",
              "      <th>02deuce</th>\n",
              "      <td>0.0</td>\n",
              "      <td>0.016815</td>\n",
              "      <td>0.0</td>\n",
              "      <td>0.0</td>\n",
              "      <td>0.0</td>\n",
              "      <td>0.0</td>\n",
              "      <td>0.0</td>\n",
              "      <td>0.0</td>\n",
              "      <td>0.0</td>\n",
              "      <td>0.000000</td>\n",
              "      <td>0.000000</td>\n",
              "      <td>0.0</td>\n",
              "      <td>0.0</td>\n",
              "      <td>0.0</td>\n",
              "      <td>0.0</td>\n",
              "      <td>0.000000</td>\n",
              "      <td>0.003865</td>\n",
              "      <td>0.000000</td>\n",
              "      <td>0.0</td>\n",
              "      <td>0.003191</td>\n",
              "      <td>0.0</td>\n",
              "      <td>0.0</td>\n",
              "      <td>0.001445</td>\n",
              "      <td>0.0</td>\n",
              "      <td>0.0</td>\n",
              "      <td>0.0</td>\n",
              "      <td>0.0</td>\n",
              "      <td>0.0</td>\n",
              "      <td>0.000000</td>\n",
              "      <td>0.0</td>\n",
              "      <td>0.001544</td>\n",
              "      <td>0.000000</td>\n",
              "      <td>0.0</td>\n",
              "      <td>0.008690</td>\n",
              "      <td>0.018335</td>\n",
              "      <td>0.0</td>\n",
              "      <td>0.0</td>\n",
              "      <td>0.010242</td>\n",
              "      <td>0.000000</td>\n",
              "      <td>0.0</td>\n",
              "      <td>...</td>\n",
              "      <td>0.0</td>\n",
              "      <td>0.0</td>\n",
              "      <td>0.011783</td>\n",
              "      <td>0.000000</td>\n",
              "      <td>0.0</td>\n",
              "      <td>0.0</td>\n",
              "      <td>0.0</td>\n",
              "      <td>0.0</td>\n",
              "      <td>0.000000</td>\n",
              "      <td>0.000000</td>\n",
              "      <td>0.000000</td>\n",
              "      <td>0.011374</td>\n",
              "      <td>0.0</td>\n",
              "      <td>0.019855</td>\n",
              "      <td>0.0</td>\n",
              "      <td>0.006093</td>\n",
              "      <td>0.001829</td>\n",
              "      <td>0.0</td>\n",
              "      <td>0.0</td>\n",
              "      <td>0.007186</td>\n",
              "      <td>0.000000</td>\n",
              "      <td>0.000000</td>\n",
              "      <td>0.0</td>\n",
              "      <td>0.000000</td>\n",
              "      <td>0.0</td>\n",
              "      <td>0.000000</td>\n",
              "      <td>0.000000</td>\n",
              "      <td>0.000000</td>\n",
              "      <td>0.0</td>\n",
              "      <td>0.005133</td>\n",
              "      <td>0.0</td>\n",
              "      <td>0.0</td>\n",
              "      <td>0.000000</td>\n",
              "      <td>0.0</td>\n",
              "      <td>0.0</td>\n",
              "      <td>0.0</td>\n",
              "      <td>0.0</td>\n",
              "      <td>0.000000</td>\n",
              "      <td>0.011455</td>\n",
              "      <td>0.0</td>\n",
              "    </tr>\n",
              "    <tr>\n",
              "      <th>0325home</th>\n",
              "      <td>0.0</td>\n",
              "      <td>0.000000</td>\n",
              "      <td>0.0</td>\n",
              "      <td>0.0</td>\n",
              "      <td>0.0</td>\n",
              "      <td>0.0</td>\n",
              "      <td>0.0</td>\n",
              "      <td>0.0</td>\n",
              "      <td>0.0</td>\n",
              "      <td>0.002123</td>\n",
              "      <td>0.000000</td>\n",
              "      <td>0.0</td>\n",
              "      <td>0.0</td>\n",
              "      <td>0.0</td>\n",
              "      <td>0.0</td>\n",
              "      <td>0.001535</td>\n",
              "      <td>0.003139</td>\n",
              "      <td>0.000000</td>\n",
              "      <td>0.0</td>\n",
              "      <td>0.000000</td>\n",
              "      <td>0.0</td>\n",
              "      <td>0.0</td>\n",
              "      <td>0.000000</td>\n",
              "      <td>0.0</td>\n",
              "      <td>0.0</td>\n",
              "      <td>0.0</td>\n",
              "      <td>0.0</td>\n",
              "      <td>0.0</td>\n",
              "      <td>0.000000</td>\n",
              "      <td>0.0</td>\n",
              "      <td>0.000000</td>\n",
              "      <td>0.000000</td>\n",
              "      <td>0.0</td>\n",
              "      <td>0.001176</td>\n",
              "      <td>0.000000</td>\n",
              "      <td>0.0</td>\n",
              "      <td>0.0</td>\n",
              "      <td>0.000000</td>\n",
              "      <td>0.002858</td>\n",
              "      <td>0.0</td>\n",
              "      <td>...</td>\n",
              "      <td>0.0</td>\n",
              "      <td>0.0</td>\n",
              "      <td>0.001103</td>\n",
              "      <td>0.000000</td>\n",
              "      <td>0.0</td>\n",
              "      <td>0.0</td>\n",
              "      <td>0.0</td>\n",
              "      <td>0.0</td>\n",
              "      <td>0.000000</td>\n",
              "      <td>0.003175</td>\n",
              "      <td>0.001543</td>\n",
              "      <td>0.006928</td>\n",
              "      <td>0.0</td>\n",
              "      <td>0.001589</td>\n",
              "      <td>0.0</td>\n",
              "      <td>0.000000</td>\n",
              "      <td>0.002535</td>\n",
              "      <td>0.0</td>\n",
              "      <td>0.0</td>\n",
              "      <td>0.000000</td>\n",
              "      <td>0.000000</td>\n",
              "      <td>0.000000</td>\n",
              "      <td>0.0</td>\n",
              "      <td>0.000000</td>\n",
              "      <td>0.0</td>\n",
              "      <td>0.001046</td>\n",
              "      <td>0.000000</td>\n",
              "      <td>0.000000</td>\n",
              "      <td>0.0</td>\n",
              "      <td>0.000000</td>\n",
              "      <td>0.0</td>\n",
              "      <td>0.0</td>\n",
              "      <td>0.005265</td>\n",
              "      <td>0.0</td>\n",
              "      <td>0.0</td>\n",
              "      <td>0.0</td>\n",
              "      <td>0.0</td>\n",
              "      <td>0.000000</td>\n",
              "      <td>0.001129</td>\n",
              "      <td>0.0</td>\n",
              "    </tr>\n",
              "    <tr>\n",
              "      <th>09mommy11</th>\n",
              "      <td>0.0</td>\n",
              "      <td>0.002025</td>\n",
              "      <td>0.0</td>\n",
              "      <td>0.0</td>\n",
              "      <td>0.0</td>\n",
              "      <td>0.0</td>\n",
              "      <td>0.0</td>\n",
              "      <td>0.0</td>\n",
              "      <td>0.0</td>\n",
              "      <td>0.003445</td>\n",
              "      <td>0.228439</td>\n",
              "      <td>0.0</td>\n",
              "      <td>0.0</td>\n",
              "      <td>0.0</td>\n",
              "      <td>0.0</td>\n",
              "      <td>0.003265</td>\n",
              "      <td>0.000000</td>\n",
              "      <td>0.000000</td>\n",
              "      <td>0.0</td>\n",
              "      <td>0.000000</td>\n",
              "      <td>0.0</td>\n",
              "      <td>0.0</td>\n",
              "      <td>0.000000</td>\n",
              "      <td>0.0</td>\n",
              "      <td>0.0</td>\n",
              "      <td>0.0</td>\n",
              "      <td>0.0</td>\n",
              "      <td>0.0</td>\n",
              "      <td>0.000000</td>\n",
              "      <td>0.0</td>\n",
              "      <td>0.011183</td>\n",
              "      <td>0.000000</td>\n",
              "      <td>0.0</td>\n",
              "      <td>0.001908</td>\n",
              "      <td>0.000000</td>\n",
              "      <td>0.0</td>\n",
              "      <td>0.0</td>\n",
              "      <td>0.224081</td>\n",
              "      <td>0.002318</td>\n",
              "      <td>0.0</td>\n",
              "      <td>...</td>\n",
              "      <td>0.0</td>\n",
              "      <td>0.0</td>\n",
              "      <td>0.003579</td>\n",
              "      <td>0.000000</td>\n",
              "      <td>0.0</td>\n",
              "      <td>0.0</td>\n",
              "      <td>0.0</td>\n",
              "      <td>0.0</td>\n",
              "      <td>0.001327</td>\n",
              "      <td>0.000000</td>\n",
              "      <td>0.000000</td>\n",
              "      <td>0.000000</td>\n",
              "      <td>0.0</td>\n",
              "      <td>0.006017</td>\n",
              "      <td>0.0</td>\n",
              "      <td>0.004555</td>\n",
              "      <td>0.004113</td>\n",
              "      <td>0.0</td>\n",
              "      <td>0.0</td>\n",
              "      <td>0.000000</td>\n",
              "      <td>0.000000</td>\n",
              "      <td>0.002792</td>\n",
              "      <td>0.0</td>\n",
              "      <td>0.000000</td>\n",
              "      <td>0.0</td>\n",
              "      <td>0.000000</td>\n",
              "      <td>0.000000</td>\n",
              "      <td>0.004152</td>\n",
              "      <td>0.0</td>\n",
              "      <td>0.000000</td>\n",
              "      <td>0.0</td>\n",
              "      <td>0.0</td>\n",
              "      <td>0.000000</td>\n",
              "      <td>0.0</td>\n",
              "      <td>0.0</td>\n",
              "      <td>0.0</td>\n",
              "      <td>0.0</td>\n",
              "      <td>0.075663</td>\n",
              "      <td>0.005494</td>\n",
              "      <td>0.0</td>\n",
              "    </tr>\n",
              "  </tbody>\n",
              "</table>\n",
              "<p>5 rows × 255 columns</p>\n",
              "</div>"
            ],
            "text/plain": [
              "item       0.6 Cu. Ft. Letter A4 Size Waterproof 30 Min. Fire File Chest  ...  Yes To Grapefruit Rejuvenating Body Wash\n",
              "user                                                                      ...                                          \n",
              "00sab00                                                              0.0  ...                                       0.0\n",
              "01impala                                                             0.0  ...                                       0.0\n",
              "02deuce                                                              0.0  ...                                       0.0\n",
              "0325home                                                             0.0  ...                                       0.0\n",
              "09mommy11                                                            0.0  ...                                       0.0\n",
              "\n",
              "[5 rows x 255 columns]"
            ]
          },
          "metadata": {
            "tags": []
          },
          "execution_count": 67
        }
      ]
    },
    {
      "cell_type": "markdown",
      "metadata": {
        "id": "wm8XTWY80W9J"
      },
      "source": [
        "#### Finding the top 20 recommendation for the user"
      ],
      "id": "wm8XTWY80W9J"
    },
    {
      "cell_type": "code",
      "metadata": {
        "id": "-m4suK26z3-9",
        "colab": {
          "base_uri": "https://localhost:8080/"
        },
        "outputId": "f869bff9-4f8c-4ccb-d0e4-debec8a3757e"
      },
      "source": [
        "# Take the user ID as input\n",
        "user_input = 'joshua'\n",
        "# Recommending the Top 5 products to the user.\n",
        "top_10_recommended = item_final_rating.loc[user_input].sort_values(ascending=False)[0:20]\n",
        "top_10_recommended"
      ],
      "id": "-m4suK26z3-9",
      "execution_count": 68,
      "outputs": [
        {
          "output_type": "stream",
          "text": [
            "Enter your user name : joshua\n"
          ],
          "name": "stdout"
        },
        {
          "output_type": "execute_result",
          "data": {
            "text/plain": [
              "item\n",
              "Chester's Cheese Flavored Puffcorn Snacks                             0.110266\n",
              "Nexxus Exxtra Gel Style Creation Sculptor                             0.058391\n",
              "Spam Single Classic                                                   0.051904\n",
              "Boraam Sonoma Kitchen Cart With Wire Brush Gray - Maaya Home          0.050089\n",
              "Nearly Natural 5.5' Bamboo W/decorative Planter                       0.048344\n",
              "Olivella Bar Soap - 3.52 Oz                                           0.040668\n",
              "My Big Fat Greek Wedding 2 (blu-Ray + Dvd + Digital)                  0.037720\n",
              "Jason Aldean - They Don't Know                                        0.037261\n",
              "100:Complete First Season (blu-Ray)                                   0.035504\n",
              "Meguiar's Deep Crystal Car Wash 64-Oz.                                0.034395\n",
              "Mike Dave Need Wedding Dates (dvd + Digital)                          0.033002\n",
              "Jolly Time Select Premium Yellow Pop Corn                             0.032023\n",
              "Diet Canada Dry Ginger Ale - 12pk/12 Fl Oz Cans                       0.029007\n",
              "Tostitos Bite Size Tortilla Chips                                     0.024689\n",
              "Chips Ahoy! Original Chocolate Chip - Cookies - Family Size 18.2oz    0.019254\n",
              "Aussie Aussome Volume Shampoo, 13.5 Oz                                0.018210\n",
              "Alex Cross (dvdvideo)                                                 0.014785\n",
              "Mill Creek Aloe Vera & Paba Lotion                                    0.014284\n",
              "Tresemme Kertatin Smooth Infusing Conditioning                        0.014263\n",
              "Ragu Roasted Garlic Parmesan Pasta Sauce                              0.013840\n",
              "Name: joshua, dtype: float64"
            ]
          },
          "metadata": {
            "tags": []
          },
          "execution_count": 68
        }
      ]
    },
    {
      "cell_type": "markdown",
      "metadata": {
        "id": "yU61BXB01BE0"
      },
      "source": [
        "### Evaluation - Item Item"
      ],
      "id": "yU61BXB01BE0"
    },
    {
      "cell_type": "code",
      "metadata": {
        "id": "WRgZi1nvz3ym",
        "colab": {
          "base_uri": "https://localhost:8080/"
        },
        "outputId": "de0f4235-7332-4168-cb40-4e7cd2811452"
      },
      "source": [
        "common =  test[test.item.isin(train.item)]\n",
        "common.shape"
      ],
      "id": "WRgZi1nvz3ym",
      "execution_count": 69,
      "outputs": [
        {
          "output_type": "execute_result",
          "data": {
            "text/plain": [
              "(5501, 3)"
            ]
          },
          "metadata": {
            "tags": []
          },
          "execution_count": 69
        }
      ]
    },
    {
      "cell_type": "code",
      "metadata": {
        "id": "qF1lDNA9z3uG",
        "colab": {
          "base_uri": "https://localhost:8080/",
          "height": 173
        },
        "outputId": "e7b4d781-272d-4137-f77c-effef80816cf"
      },
      "source": [
        "common.head(4)"
      ],
      "id": "qF1lDNA9z3uG",
      "execution_count": 70,
      "outputs": [
        {
          "output_type": "execute_result",
          "data": {
            "text/html": [
              "<div>\n",
              "<style scoped>\n",
              "    .dataframe tbody tr th:only-of-type {\n",
              "        vertical-align: middle;\n",
              "    }\n",
              "\n",
              "    .dataframe tbody tr th {\n",
              "        vertical-align: top;\n",
              "    }\n",
              "\n",
              "    .dataframe thead th {\n",
              "        text-align: right;\n",
              "    }\n",
              "</style>\n",
              "<table border=\"1\" class=\"dataframe\">\n",
              "  <thead>\n",
              "    <tr style=\"text-align: right;\">\n",
              "      <th></th>\n",
              "      <th>item</th>\n",
              "      <th>user</th>\n",
              "      <th>rating</th>\n",
              "    </tr>\n",
              "  </thead>\n",
              "  <tbody>\n",
              "    <tr>\n",
              "      <th>24109</th>\n",
              "      <td>Red (special Edition) (dvdvideo)</td>\n",
              "      <td>crapshoot</td>\n",
              "      <td>4.0</td>\n",
              "    </tr>\n",
              "    <tr>\n",
              "      <th>10885</th>\n",
              "      <td>Clorox Disinfecting Wipes Value Pack Scented 150 Ct Total</td>\n",
              "      <td>pslain24</td>\n",
              "      <td>5.0</td>\n",
              "    </tr>\n",
              "    <tr>\n",
              "      <th>22497</th>\n",
              "      <td>Pendaflex174 Divide It Up File Folder, Multi Section, Letter, Assorted, 12/pack</td>\n",
              "      <td>med rep</td>\n",
              "      <td>5.0</td>\n",
              "    </tr>\n",
              "    <tr>\n",
              "      <th>6854</th>\n",
              "      <td>Clorox Disinfecting Wipes Value Pack Scented 150 Ct Total</td>\n",
              "      <td>deestroyer</td>\n",
              "      <td>4.0</td>\n",
              "    </tr>\n",
              "  </tbody>\n",
              "</table>\n",
              "</div>"
            ],
            "text/plain": [
              "                                                                                  item  ... rating\n",
              "24109                                                 Red (special Edition) (dvdvideo)  ...    4.0\n",
              "10885                        Clorox Disinfecting Wipes Value Pack Scented 150 Ct Total  ...    5.0\n",
              "22497  Pendaflex174 Divide It Up File Folder, Multi Section, Letter, Assorted, 12/pack  ...    5.0\n",
              "6854                         Clorox Disinfecting Wipes Value Pack Scented 150 Ct Total  ...    4.0\n",
              "\n",
              "[4 rows x 3 columns]"
            ]
          },
          "metadata": {
            "tags": []
          },
          "execution_count": 70
        }
      ]
    },
    {
      "cell_type": "code",
      "metadata": {
        "id": "St3yvBdqz3py"
      },
      "source": [
        "common_item_based_matrix = common.pivot_table(index='user', columns='item', values='rating').T"
      ],
      "id": "St3yvBdqz3py",
      "execution_count": 71,
      "outputs": []
    },
    {
      "cell_type": "code",
      "metadata": {
        "id": "ieJnebtPz3ko",
        "colab": {
          "base_uri": "https://localhost:8080/"
        },
        "outputId": "33df71a9-aa6b-4e94-bc95-5310aa6cf4ea"
      },
      "source": [
        "common_item_based_matrix.shape"
      ],
      "id": "ieJnebtPz3ko",
      "execution_count": 72,
      "outputs": [
        {
          "output_type": "execute_result",
          "data": {
            "text/plain": [
              "(180, 5345)"
            ]
          },
          "metadata": {
            "tags": []
          },
          "execution_count": 72
        }
      ]
    },
    {
      "cell_type": "code",
      "metadata": {
        "id": "iu6mN-iYz3gO"
      },
      "source": [
        "item_correlation_df = pd.DataFrame(item_correlation)"
      ],
      "id": "iu6mN-iYz3gO",
      "execution_count": 73,
      "outputs": []
    },
    {
      "cell_type": "code",
      "metadata": {
        "id": "QLLyJP4Rz3bd",
        "colab": {
          "base_uri": "https://localhost:8080/",
          "height": 253
        },
        "outputId": "9a24db48-beae-46a2-de57-4c27f364b3ef"
      },
      "source": [
        "item_correlation_df.head(5)"
      ],
      "id": "QLLyJP4Rz3bd",
      "execution_count": 74,
      "outputs": [
        {
          "output_type": "execute_result",
          "data": {
            "text/html": [
              "<div>\n",
              "<style scoped>\n",
              "    .dataframe tbody tr th:only-of-type {\n",
              "        vertical-align: middle;\n",
              "    }\n",
              "\n",
              "    .dataframe tbody tr th {\n",
              "        vertical-align: top;\n",
              "    }\n",
              "\n",
              "    .dataframe thead th {\n",
              "        text-align: right;\n",
              "    }\n",
              "</style>\n",
              "<table border=\"1\" class=\"dataframe\">\n",
              "  <thead>\n",
              "    <tr style=\"text-align: right;\">\n",
              "      <th></th>\n",
              "      <th>0</th>\n",
              "      <th>1</th>\n",
              "      <th>2</th>\n",
              "      <th>3</th>\n",
              "      <th>4</th>\n",
              "      <th>5</th>\n",
              "      <th>6</th>\n",
              "      <th>7</th>\n",
              "      <th>8</th>\n",
              "      <th>9</th>\n",
              "      <th>10</th>\n",
              "      <th>11</th>\n",
              "      <th>12</th>\n",
              "      <th>13</th>\n",
              "      <th>14</th>\n",
              "      <th>15</th>\n",
              "      <th>16</th>\n",
              "      <th>17</th>\n",
              "      <th>18</th>\n",
              "      <th>19</th>\n",
              "      <th>20</th>\n",
              "      <th>21</th>\n",
              "      <th>22</th>\n",
              "      <th>23</th>\n",
              "      <th>24</th>\n",
              "      <th>25</th>\n",
              "      <th>26</th>\n",
              "      <th>27</th>\n",
              "      <th>28</th>\n",
              "      <th>29</th>\n",
              "      <th>30</th>\n",
              "      <th>31</th>\n",
              "      <th>32</th>\n",
              "      <th>33</th>\n",
              "      <th>34</th>\n",
              "      <th>35</th>\n",
              "      <th>36</th>\n",
              "      <th>37</th>\n",
              "      <th>38</th>\n",
              "      <th>39</th>\n",
              "      <th>...</th>\n",
              "      <th>215</th>\n",
              "      <th>216</th>\n",
              "      <th>217</th>\n",
              "      <th>218</th>\n",
              "      <th>219</th>\n",
              "      <th>220</th>\n",
              "      <th>221</th>\n",
              "      <th>222</th>\n",
              "      <th>223</th>\n",
              "      <th>224</th>\n",
              "      <th>225</th>\n",
              "      <th>226</th>\n",
              "      <th>227</th>\n",
              "      <th>228</th>\n",
              "      <th>229</th>\n",
              "      <th>230</th>\n",
              "      <th>231</th>\n",
              "      <th>232</th>\n",
              "      <th>233</th>\n",
              "      <th>234</th>\n",
              "      <th>235</th>\n",
              "      <th>236</th>\n",
              "      <th>237</th>\n",
              "      <th>238</th>\n",
              "      <th>239</th>\n",
              "      <th>240</th>\n",
              "      <th>241</th>\n",
              "      <th>242</th>\n",
              "      <th>243</th>\n",
              "      <th>244</th>\n",
              "      <th>245</th>\n",
              "      <th>246</th>\n",
              "      <th>247</th>\n",
              "      <th>248</th>\n",
              "      <th>249</th>\n",
              "      <th>250</th>\n",
              "      <th>251</th>\n",
              "      <th>252</th>\n",
              "      <th>253</th>\n",
              "      <th>254</th>\n",
              "    </tr>\n",
              "  </thead>\n",
              "  <tbody>\n",
              "    <tr>\n",
              "      <th>0</th>\n",
              "      <td>1.0</td>\n",
              "      <td>0.0</td>\n",
              "      <td>0.0</td>\n",
              "      <td>0.0</td>\n",
              "      <td>0.0</td>\n",
              "      <td>0.0</td>\n",
              "      <td>0.0</td>\n",
              "      <td>0.0</td>\n",
              "      <td>0.0</td>\n",
              "      <td>0.0</td>\n",
              "      <td>0.0</td>\n",
              "      <td>0.0</td>\n",
              "      <td>0.0</td>\n",
              "      <td>0.0</td>\n",
              "      <td>0.0</td>\n",
              "      <td>0.0</td>\n",
              "      <td>0.0</td>\n",
              "      <td>0.0</td>\n",
              "      <td>0.0</td>\n",
              "      <td>0.0</td>\n",
              "      <td>0.0</td>\n",
              "      <td>0.0</td>\n",
              "      <td>0.0</td>\n",
              "      <td>0.0</td>\n",
              "      <td>0.0</td>\n",
              "      <td>0.0</td>\n",
              "      <td>0.0</td>\n",
              "      <td>0.0</td>\n",
              "      <td>0.0</td>\n",
              "      <td>0.0</td>\n",
              "      <td>0.0</td>\n",
              "      <td>0.0</td>\n",
              "      <td>0.0</td>\n",
              "      <td>0.0</td>\n",
              "      <td>0.0</td>\n",
              "      <td>0.0</td>\n",
              "      <td>0.0</td>\n",
              "      <td>0.043534</td>\n",
              "      <td>0.0</td>\n",
              "      <td>0.0</td>\n",
              "      <td>...</td>\n",
              "      <td>0.0</td>\n",
              "      <td>0.0</td>\n",
              "      <td>0.0</td>\n",
              "      <td>0.0</td>\n",
              "      <td>0.0</td>\n",
              "      <td>0.0</td>\n",
              "      <td>0.0</td>\n",
              "      <td>0.0</td>\n",
              "      <td>0.0</td>\n",
              "      <td>0.0</td>\n",
              "      <td>0.0</td>\n",
              "      <td>0.0</td>\n",
              "      <td>0.0</td>\n",
              "      <td>0.0</td>\n",
              "      <td>0.0</td>\n",
              "      <td>0.0</td>\n",
              "      <td>0.0</td>\n",
              "      <td>0.0</td>\n",
              "      <td>0.0</td>\n",
              "      <td>0.0</td>\n",
              "      <td>0.0</td>\n",
              "      <td>0.0</td>\n",
              "      <td>0.0</td>\n",
              "      <td>0.0</td>\n",
              "      <td>0.0</td>\n",
              "      <td>0.0</td>\n",
              "      <td>0.0</td>\n",
              "      <td>0.0</td>\n",
              "      <td>0.0</td>\n",
              "      <td>0.0</td>\n",
              "      <td>0.0</td>\n",
              "      <td>0.0</td>\n",
              "      <td>0.0</td>\n",
              "      <td>0.0</td>\n",
              "      <td>0.0</td>\n",
              "      <td>0.0</td>\n",
              "      <td>0.0</td>\n",
              "      <td>0.0</td>\n",
              "      <td>0.0</td>\n",
              "      <td>0.0</td>\n",
              "    </tr>\n",
              "    <tr>\n",
              "      <th>1</th>\n",
              "      <td>0.0</td>\n",
              "      <td>1.0</td>\n",
              "      <td>0.0</td>\n",
              "      <td>0.0</td>\n",
              "      <td>0.0</td>\n",
              "      <td>0.0</td>\n",
              "      <td>0.0</td>\n",
              "      <td>0.0</td>\n",
              "      <td>0.0</td>\n",
              "      <td>0.0</td>\n",
              "      <td>0.0</td>\n",
              "      <td>0.0</td>\n",
              "      <td>0.0</td>\n",
              "      <td>0.0</td>\n",
              "      <td>0.0</td>\n",
              "      <td>0.0</td>\n",
              "      <td>0.0</td>\n",
              "      <td>0.0</td>\n",
              "      <td>0.0</td>\n",
              "      <td>0.0</td>\n",
              "      <td>0.0</td>\n",
              "      <td>0.0</td>\n",
              "      <td>0.0</td>\n",
              "      <td>0.0</td>\n",
              "      <td>0.0</td>\n",
              "      <td>0.0</td>\n",
              "      <td>0.0</td>\n",
              "      <td>0.0</td>\n",
              "      <td>0.0</td>\n",
              "      <td>0.0</td>\n",
              "      <td>0.0</td>\n",
              "      <td>0.0</td>\n",
              "      <td>0.0</td>\n",
              "      <td>0.0</td>\n",
              "      <td>0.0</td>\n",
              "      <td>0.0</td>\n",
              "      <td>0.0</td>\n",
              "      <td>0.000000</td>\n",
              "      <td>0.0</td>\n",
              "      <td>0.0</td>\n",
              "      <td>...</td>\n",
              "      <td>0.0</td>\n",
              "      <td>0.0</td>\n",
              "      <td>0.0</td>\n",
              "      <td>0.0</td>\n",
              "      <td>0.0</td>\n",
              "      <td>0.0</td>\n",
              "      <td>0.0</td>\n",
              "      <td>0.0</td>\n",
              "      <td>0.0</td>\n",
              "      <td>0.0</td>\n",
              "      <td>0.0</td>\n",
              "      <td>0.0</td>\n",
              "      <td>0.0</td>\n",
              "      <td>0.0</td>\n",
              "      <td>0.0</td>\n",
              "      <td>0.0</td>\n",
              "      <td>0.0</td>\n",
              "      <td>0.0</td>\n",
              "      <td>0.0</td>\n",
              "      <td>0.0</td>\n",
              "      <td>0.0</td>\n",
              "      <td>0.0</td>\n",
              "      <td>0.0</td>\n",
              "      <td>0.0</td>\n",
              "      <td>0.0</td>\n",
              "      <td>0.0</td>\n",
              "      <td>0.0</td>\n",
              "      <td>0.0</td>\n",
              "      <td>0.0</td>\n",
              "      <td>0.0</td>\n",
              "      <td>0.0</td>\n",
              "      <td>0.0</td>\n",
              "      <td>0.0</td>\n",
              "      <td>0.0</td>\n",
              "      <td>0.0</td>\n",
              "      <td>0.0</td>\n",
              "      <td>0.0</td>\n",
              "      <td>0.0</td>\n",
              "      <td>0.0</td>\n",
              "      <td>0.0</td>\n",
              "    </tr>\n",
              "    <tr>\n",
              "      <th>2</th>\n",
              "      <td>0.0</td>\n",
              "      <td>0.0</td>\n",
              "      <td>0.0</td>\n",
              "      <td>0.0</td>\n",
              "      <td>0.0</td>\n",
              "      <td>0.0</td>\n",
              "      <td>0.0</td>\n",
              "      <td>0.0</td>\n",
              "      <td>0.0</td>\n",
              "      <td>0.0</td>\n",
              "      <td>0.0</td>\n",
              "      <td>0.0</td>\n",
              "      <td>0.0</td>\n",
              "      <td>0.0</td>\n",
              "      <td>0.0</td>\n",
              "      <td>0.0</td>\n",
              "      <td>0.0</td>\n",
              "      <td>0.0</td>\n",
              "      <td>0.0</td>\n",
              "      <td>0.0</td>\n",
              "      <td>0.0</td>\n",
              "      <td>0.0</td>\n",
              "      <td>0.0</td>\n",
              "      <td>0.0</td>\n",
              "      <td>0.0</td>\n",
              "      <td>0.0</td>\n",
              "      <td>0.0</td>\n",
              "      <td>0.0</td>\n",
              "      <td>0.0</td>\n",
              "      <td>0.0</td>\n",
              "      <td>0.0</td>\n",
              "      <td>0.0</td>\n",
              "      <td>0.0</td>\n",
              "      <td>0.0</td>\n",
              "      <td>0.0</td>\n",
              "      <td>0.0</td>\n",
              "      <td>0.0</td>\n",
              "      <td>0.000000</td>\n",
              "      <td>0.0</td>\n",
              "      <td>0.0</td>\n",
              "      <td>...</td>\n",
              "      <td>0.0</td>\n",
              "      <td>0.0</td>\n",
              "      <td>0.0</td>\n",
              "      <td>0.0</td>\n",
              "      <td>0.0</td>\n",
              "      <td>0.0</td>\n",
              "      <td>0.0</td>\n",
              "      <td>0.0</td>\n",
              "      <td>0.0</td>\n",
              "      <td>0.0</td>\n",
              "      <td>0.0</td>\n",
              "      <td>0.0</td>\n",
              "      <td>0.0</td>\n",
              "      <td>0.0</td>\n",
              "      <td>0.0</td>\n",
              "      <td>0.0</td>\n",
              "      <td>0.0</td>\n",
              "      <td>0.0</td>\n",
              "      <td>0.0</td>\n",
              "      <td>0.0</td>\n",
              "      <td>0.0</td>\n",
              "      <td>0.0</td>\n",
              "      <td>0.0</td>\n",
              "      <td>0.0</td>\n",
              "      <td>0.0</td>\n",
              "      <td>0.0</td>\n",
              "      <td>0.0</td>\n",
              "      <td>0.0</td>\n",
              "      <td>0.0</td>\n",
              "      <td>0.0</td>\n",
              "      <td>0.0</td>\n",
              "      <td>0.0</td>\n",
              "      <td>0.0</td>\n",
              "      <td>0.0</td>\n",
              "      <td>0.0</td>\n",
              "      <td>0.0</td>\n",
              "      <td>0.0</td>\n",
              "      <td>0.0</td>\n",
              "      <td>0.0</td>\n",
              "      <td>0.0</td>\n",
              "    </tr>\n",
              "    <tr>\n",
              "      <th>3</th>\n",
              "      <td>0.0</td>\n",
              "      <td>0.0</td>\n",
              "      <td>0.0</td>\n",
              "      <td>1.0</td>\n",
              "      <td>0.0</td>\n",
              "      <td>0.0</td>\n",
              "      <td>0.0</td>\n",
              "      <td>0.0</td>\n",
              "      <td>0.0</td>\n",
              "      <td>0.0</td>\n",
              "      <td>0.0</td>\n",
              "      <td>0.0</td>\n",
              "      <td>0.0</td>\n",
              "      <td>0.0</td>\n",
              "      <td>0.0</td>\n",
              "      <td>0.0</td>\n",
              "      <td>0.0</td>\n",
              "      <td>0.0</td>\n",
              "      <td>0.0</td>\n",
              "      <td>0.0</td>\n",
              "      <td>0.0</td>\n",
              "      <td>0.0</td>\n",
              "      <td>0.0</td>\n",
              "      <td>0.0</td>\n",
              "      <td>0.0</td>\n",
              "      <td>0.0</td>\n",
              "      <td>0.0</td>\n",
              "      <td>0.0</td>\n",
              "      <td>0.0</td>\n",
              "      <td>0.0</td>\n",
              "      <td>0.0</td>\n",
              "      <td>0.0</td>\n",
              "      <td>0.0</td>\n",
              "      <td>0.0</td>\n",
              "      <td>0.0</td>\n",
              "      <td>0.0</td>\n",
              "      <td>0.0</td>\n",
              "      <td>0.000000</td>\n",
              "      <td>0.0</td>\n",
              "      <td>0.0</td>\n",
              "      <td>...</td>\n",
              "      <td>0.0</td>\n",
              "      <td>0.0</td>\n",
              "      <td>0.0</td>\n",
              "      <td>0.0</td>\n",
              "      <td>0.0</td>\n",
              "      <td>0.0</td>\n",
              "      <td>0.0</td>\n",
              "      <td>0.0</td>\n",
              "      <td>0.0</td>\n",
              "      <td>0.0</td>\n",
              "      <td>0.0</td>\n",
              "      <td>0.0</td>\n",
              "      <td>0.0</td>\n",
              "      <td>0.0</td>\n",
              "      <td>0.0</td>\n",
              "      <td>0.0</td>\n",
              "      <td>0.0</td>\n",
              "      <td>0.0</td>\n",
              "      <td>0.0</td>\n",
              "      <td>0.0</td>\n",
              "      <td>0.0</td>\n",
              "      <td>0.0</td>\n",
              "      <td>0.0</td>\n",
              "      <td>0.0</td>\n",
              "      <td>0.0</td>\n",
              "      <td>0.0</td>\n",
              "      <td>0.0</td>\n",
              "      <td>0.0</td>\n",
              "      <td>0.0</td>\n",
              "      <td>0.0</td>\n",
              "      <td>0.0</td>\n",
              "      <td>0.0</td>\n",
              "      <td>0.0</td>\n",
              "      <td>0.0</td>\n",
              "      <td>0.0</td>\n",
              "      <td>0.0</td>\n",
              "      <td>0.0</td>\n",
              "      <td>0.0</td>\n",
              "      <td>0.0</td>\n",
              "      <td>0.0</td>\n",
              "    </tr>\n",
              "    <tr>\n",
              "      <th>4</th>\n",
              "      <td>0.0</td>\n",
              "      <td>0.0</td>\n",
              "      <td>0.0</td>\n",
              "      <td>0.0</td>\n",
              "      <td>0.0</td>\n",
              "      <td>0.0</td>\n",
              "      <td>0.0</td>\n",
              "      <td>0.0</td>\n",
              "      <td>0.0</td>\n",
              "      <td>0.0</td>\n",
              "      <td>0.0</td>\n",
              "      <td>0.0</td>\n",
              "      <td>0.0</td>\n",
              "      <td>0.0</td>\n",
              "      <td>0.0</td>\n",
              "      <td>0.0</td>\n",
              "      <td>0.0</td>\n",
              "      <td>0.0</td>\n",
              "      <td>0.0</td>\n",
              "      <td>0.0</td>\n",
              "      <td>0.0</td>\n",
              "      <td>0.0</td>\n",
              "      <td>0.0</td>\n",
              "      <td>0.0</td>\n",
              "      <td>0.0</td>\n",
              "      <td>0.0</td>\n",
              "      <td>0.0</td>\n",
              "      <td>0.0</td>\n",
              "      <td>0.0</td>\n",
              "      <td>0.0</td>\n",
              "      <td>0.0</td>\n",
              "      <td>0.0</td>\n",
              "      <td>0.0</td>\n",
              "      <td>0.0</td>\n",
              "      <td>0.0</td>\n",
              "      <td>0.0</td>\n",
              "      <td>0.0</td>\n",
              "      <td>0.000000</td>\n",
              "      <td>0.0</td>\n",
              "      <td>0.0</td>\n",
              "      <td>...</td>\n",
              "      <td>0.0</td>\n",
              "      <td>0.0</td>\n",
              "      <td>0.0</td>\n",
              "      <td>0.0</td>\n",
              "      <td>0.0</td>\n",
              "      <td>0.0</td>\n",
              "      <td>0.0</td>\n",
              "      <td>0.0</td>\n",
              "      <td>0.0</td>\n",
              "      <td>0.0</td>\n",
              "      <td>0.0</td>\n",
              "      <td>0.0</td>\n",
              "      <td>0.0</td>\n",
              "      <td>0.0</td>\n",
              "      <td>0.0</td>\n",
              "      <td>0.0</td>\n",
              "      <td>0.0</td>\n",
              "      <td>0.0</td>\n",
              "      <td>0.0</td>\n",
              "      <td>0.0</td>\n",
              "      <td>0.0</td>\n",
              "      <td>0.0</td>\n",
              "      <td>0.0</td>\n",
              "      <td>0.0</td>\n",
              "      <td>0.0</td>\n",
              "      <td>0.0</td>\n",
              "      <td>0.0</td>\n",
              "      <td>0.0</td>\n",
              "      <td>0.0</td>\n",
              "      <td>0.0</td>\n",
              "      <td>0.0</td>\n",
              "      <td>0.0</td>\n",
              "      <td>0.0</td>\n",
              "      <td>0.0</td>\n",
              "      <td>0.0</td>\n",
              "      <td>0.0</td>\n",
              "      <td>0.0</td>\n",
              "      <td>0.0</td>\n",
              "      <td>0.0</td>\n",
              "      <td>0.0</td>\n",
              "    </tr>\n",
              "  </tbody>\n",
              "</table>\n",
              "<p>5 rows × 255 columns</p>\n",
              "</div>"
            ],
            "text/plain": [
              "   0    1    2    3    4    5    6    ...  248  249  250  251  252  253  254\n",
              "0  1.0  0.0  0.0  0.0  0.0  0.0  0.0  ...  0.0  0.0  0.0  0.0  0.0  0.0  0.0\n",
              "1  0.0  1.0  0.0  0.0  0.0  0.0  0.0  ...  0.0  0.0  0.0  0.0  0.0  0.0  0.0\n",
              "2  0.0  0.0  0.0  0.0  0.0  0.0  0.0  ...  0.0  0.0  0.0  0.0  0.0  0.0  0.0\n",
              "3  0.0  0.0  0.0  1.0  0.0  0.0  0.0  ...  0.0  0.0  0.0  0.0  0.0  0.0  0.0\n",
              "4  0.0  0.0  0.0  0.0  0.0  0.0  0.0  ...  0.0  0.0  0.0  0.0  0.0  0.0  0.0\n",
              "\n",
              "[5 rows x 255 columns]"
            ]
          },
          "metadata": {
            "tags": []
          },
          "execution_count": 74
        }
      ]
    },
    {
      "cell_type": "code",
      "metadata": {
        "id": "drpzLHC2z3XL",
        "colab": {
          "base_uri": "https://localhost:8080/",
          "height": 590
        },
        "outputId": "5c9f23a2-6b23-4204-91df-31c8ad927b21"
      },
      "source": [
        "item_correlation_df['item'] = df_subtracted.index\n",
        "item_correlation_df.set_index('item',inplace=True)\n",
        "item_correlation_df.head()"
      ],
      "id": "drpzLHC2z3XL",
      "execution_count": 75,
      "outputs": [
        {
          "output_type": "execute_result",
          "data": {
            "text/html": [
              "<div>\n",
              "<style scoped>\n",
              "    .dataframe tbody tr th:only-of-type {\n",
              "        vertical-align: middle;\n",
              "    }\n",
              "\n",
              "    .dataframe tbody tr th {\n",
              "        vertical-align: top;\n",
              "    }\n",
              "\n",
              "    .dataframe thead th {\n",
              "        text-align: right;\n",
              "    }\n",
              "</style>\n",
              "<table border=\"1\" class=\"dataframe\">\n",
              "  <thead>\n",
              "    <tr style=\"text-align: right;\">\n",
              "      <th></th>\n",
              "      <th>0</th>\n",
              "      <th>1</th>\n",
              "      <th>2</th>\n",
              "      <th>3</th>\n",
              "      <th>4</th>\n",
              "      <th>5</th>\n",
              "      <th>6</th>\n",
              "      <th>7</th>\n",
              "      <th>8</th>\n",
              "      <th>9</th>\n",
              "      <th>10</th>\n",
              "      <th>11</th>\n",
              "      <th>12</th>\n",
              "      <th>13</th>\n",
              "      <th>14</th>\n",
              "      <th>15</th>\n",
              "      <th>16</th>\n",
              "      <th>17</th>\n",
              "      <th>18</th>\n",
              "      <th>19</th>\n",
              "      <th>20</th>\n",
              "      <th>21</th>\n",
              "      <th>22</th>\n",
              "      <th>23</th>\n",
              "      <th>24</th>\n",
              "      <th>25</th>\n",
              "      <th>26</th>\n",
              "      <th>27</th>\n",
              "      <th>28</th>\n",
              "      <th>29</th>\n",
              "      <th>30</th>\n",
              "      <th>31</th>\n",
              "      <th>32</th>\n",
              "      <th>33</th>\n",
              "      <th>34</th>\n",
              "      <th>35</th>\n",
              "      <th>36</th>\n",
              "      <th>37</th>\n",
              "      <th>38</th>\n",
              "      <th>39</th>\n",
              "      <th>...</th>\n",
              "      <th>215</th>\n",
              "      <th>216</th>\n",
              "      <th>217</th>\n",
              "      <th>218</th>\n",
              "      <th>219</th>\n",
              "      <th>220</th>\n",
              "      <th>221</th>\n",
              "      <th>222</th>\n",
              "      <th>223</th>\n",
              "      <th>224</th>\n",
              "      <th>225</th>\n",
              "      <th>226</th>\n",
              "      <th>227</th>\n",
              "      <th>228</th>\n",
              "      <th>229</th>\n",
              "      <th>230</th>\n",
              "      <th>231</th>\n",
              "      <th>232</th>\n",
              "      <th>233</th>\n",
              "      <th>234</th>\n",
              "      <th>235</th>\n",
              "      <th>236</th>\n",
              "      <th>237</th>\n",
              "      <th>238</th>\n",
              "      <th>239</th>\n",
              "      <th>240</th>\n",
              "      <th>241</th>\n",
              "      <th>242</th>\n",
              "      <th>243</th>\n",
              "      <th>244</th>\n",
              "      <th>245</th>\n",
              "      <th>246</th>\n",
              "      <th>247</th>\n",
              "      <th>248</th>\n",
              "      <th>249</th>\n",
              "      <th>250</th>\n",
              "      <th>251</th>\n",
              "      <th>252</th>\n",
              "      <th>253</th>\n",
              "      <th>254</th>\n",
              "    </tr>\n",
              "    <tr>\n",
              "      <th>item</th>\n",
              "      <th></th>\n",
              "      <th></th>\n",
              "      <th></th>\n",
              "      <th></th>\n",
              "      <th></th>\n",
              "      <th></th>\n",
              "      <th></th>\n",
              "      <th></th>\n",
              "      <th></th>\n",
              "      <th></th>\n",
              "      <th></th>\n",
              "      <th></th>\n",
              "      <th></th>\n",
              "      <th></th>\n",
              "      <th></th>\n",
              "      <th></th>\n",
              "      <th></th>\n",
              "      <th></th>\n",
              "      <th></th>\n",
              "      <th></th>\n",
              "      <th></th>\n",
              "      <th></th>\n",
              "      <th></th>\n",
              "      <th></th>\n",
              "      <th></th>\n",
              "      <th></th>\n",
              "      <th></th>\n",
              "      <th></th>\n",
              "      <th></th>\n",
              "      <th></th>\n",
              "      <th></th>\n",
              "      <th></th>\n",
              "      <th></th>\n",
              "      <th></th>\n",
              "      <th></th>\n",
              "      <th></th>\n",
              "      <th></th>\n",
              "      <th></th>\n",
              "      <th></th>\n",
              "      <th></th>\n",
              "      <th></th>\n",
              "      <th></th>\n",
              "      <th></th>\n",
              "      <th></th>\n",
              "      <th></th>\n",
              "      <th></th>\n",
              "      <th></th>\n",
              "      <th></th>\n",
              "      <th></th>\n",
              "      <th></th>\n",
              "      <th></th>\n",
              "      <th></th>\n",
              "      <th></th>\n",
              "      <th></th>\n",
              "      <th></th>\n",
              "      <th></th>\n",
              "      <th></th>\n",
              "      <th></th>\n",
              "      <th></th>\n",
              "      <th></th>\n",
              "      <th></th>\n",
              "      <th></th>\n",
              "      <th></th>\n",
              "      <th></th>\n",
              "      <th></th>\n",
              "      <th></th>\n",
              "      <th></th>\n",
              "      <th></th>\n",
              "      <th></th>\n",
              "      <th></th>\n",
              "      <th></th>\n",
              "      <th></th>\n",
              "      <th></th>\n",
              "      <th></th>\n",
              "      <th></th>\n",
              "      <th></th>\n",
              "      <th></th>\n",
              "      <th></th>\n",
              "      <th></th>\n",
              "      <th></th>\n",
              "      <th></th>\n",
              "    </tr>\n",
              "  </thead>\n",
              "  <tbody>\n",
              "    <tr>\n",
              "      <th>0.6 Cu. Ft. Letter A4 Size Waterproof 30 Min. Fire File Chest</th>\n",
              "      <td>1.0</td>\n",
              "      <td>0.0</td>\n",
              "      <td>0.0</td>\n",
              "      <td>0.0</td>\n",
              "      <td>0.0</td>\n",
              "      <td>0.0</td>\n",
              "      <td>0.0</td>\n",
              "      <td>0.0</td>\n",
              "      <td>0.0</td>\n",
              "      <td>0.0</td>\n",
              "      <td>0.0</td>\n",
              "      <td>0.0</td>\n",
              "      <td>0.0</td>\n",
              "      <td>0.0</td>\n",
              "      <td>0.0</td>\n",
              "      <td>0.0</td>\n",
              "      <td>0.0</td>\n",
              "      <td>0.0</td>\n",
              "      <td>0.0</td>\n",
              "      <td>0.0</td>\n",
              "      <td>0.0</td>\n",
              "      <td>0.0</td>\n",
              "      <td>0.0</td>\n",
              "      <td>0.0</td>\n",
              "      <td>0.0</td>\n",
              "      <td>0.0</td>\n",
              "      <td>0.0</td>\n",
              "      <td>0.0</td>\n",
              "      <td>0.0</td>\n",
              "      <td>0.0</td>\n",
              "      <td>0.0</td>\n",
              "      <td>0.0</td>\n",
              "      <td>0.0</td>\n",
              "      <td>0.0</td>\n",
              "      <td>0.0</td>\n",
              "      <td>0.0</td>\n",
              "      <td>0.0</td>\n",
              "      <td>0.043534</td>\n",
              "      <td>0.0</td>\n",
              "      <td>0.0</td>\n",
              "      <td>...</td>\n",
              "      <td>0.0</td>\n",
              "      <td>0.0</td>\n",
              "      <td>0.0</td>\n",
              "      <td>0.0</td>\n",
              "      <td>0.0</td>\n",
              "      <td>0.0</td>\n",
              "      <td>0.0</td>\n",
              "      <td>0.0</td>\n",
              "      <td>0.0</td>\n",
              "      <td>0.0</td>\n",
              "      <td>0.0</td>\n",
              "      <td>0.0</td>\n",
              "      <td>0.0</td>\n",
              "      <td>0.0</td>\n",
              "      <td>0.0</td>\n",
              "      <td>0.0</td>\n",
              "      <td>0.0</td>\n",
              "      <td>0.0</td>\n",
              "      <td>0.0</td>\n",
              "      <td>0.0</td>\n",
              "      <td>0.0</td>\n",
              "      <td>0.0</td>\n",
              "      <td>0.0</td>\n",
              "      <td>0.0</td>\n",
              "      <td>0.0</td>\n",
              "      <td>0.0</td>\n",
              "      <td>0.0</td>\n",
              "      <td>0.0</td>\n",
              "      <td>0.0</td>\n",
              "      <td>0.0</td>\n",
              "      <td>0.0</td>\n",
              "      <td>0.0</td>\n",
              "      <td>0.0</td>\n",
              "      <td>0.0</td>\n",
              "      <td>0.0</td>\n",
              "      <td>0.0</td>\n",
              "      <td>0.0</td>\n",
              "      <td>0.0</td>\n",
              "      <td>0.0</td>\n",
              "      <td>0.0</td>\n",
              "    </tr>\n",
              "    <tr>\n",
              "      <th>100:Complete First Season (blu-Ray)</th>\n",
              "      <td>0.0</td>\n",
              "      <td>1.0</td>\n",
              "      <td>0.0</td>\n",
              "      <td>0.0</td>\n",
              "      <td>0.0</td>\n",
              "      <td>0.0</td>\n",
              "      <td>0.0</td>\n",
              "      <td>0.0</td>\n",
              "      <td>0.0</td>\n",
              "      <td>0.0</td>\n",
              "      <td>0.0</td>\n",
              "      <td>0.0</td>\n",
              "      <td>0.0</td>\n",
              "      <td>0.0</td>\n",
              "      <td>0.0</td>\n",
              "      <td>0.0</td>\n",
              "      <td>0.0</td>\n",
              "      <td>0.0</td>\n",
              "      <td>0.0</td>\n",
              "      <td>0.0</td>\n",
              "      <td>0.0</td>\n",
              "      <td>0.0</td>\n",
              "      <td>0.0</td>\n",
              "      <td>0.0</td>\n",
              "      <td>0.0</td>\n",
              "      <td>0.0</td>\n",
              "      <td>0.0</td>\n",
              "      <td>0.0</td>\n",
              "      <td>0.0</td>\n",
              "      <td>0.0</td>\n",
              "      <td>0.0</td>\n",
              "      <td>0.0</td>\n",
              "      <td>0.0</td>\n",
              "      <td>0.0</td>\n",
              "      <td>0.0</td>\n",
              "      <td>0.0</td>\n",
              "      <td>0.0</td>\n",
              "      <td>0.000000</td>\n",
              "      <td>0.0</td>\n",
              "      <td>0.0</td>\n",
              "      <td>...</td>\n",
              "      <td>0.0</td>\n",
              "      <td>0.0</td>\n",
              "      <td>0.0</td>\n",
              "      <td>0.0</td>\n",
              "      <td>0.0</td>\n",
              "      <td>0.0</td>\n",
              "      <td>0.0</td>\n",
              "      <td>0.0</td>\n",
              "      <td>0.0</td>\n",
              "      <td>0.0</td>\n",
              "      <td>0.0</td>\n",
              "      <td>0.0</td>\n",
              "      <td>0.0</td>\n",
              "      <td>0.0</td>\n",
              "      <td>0.0</td>\n",
              "      <td>0.0</td>\n",
              "      <td>0.0</td>\n",
              "      <td>0.0</td>\n",
              "      <td>0.0</td>\n",
              "      <td>0.0</td>\n",
              "      <td>0.0</td>\n",
              "      <td>0.0</td>\n",
              "      <td>0.0</td>\n",
              "      <td>0.0</td>\n",
              "      <td>0.0</td>\n",
              "      <td>0.0</td>\n",
              "      <td>0.0</td>\n",
              "      <td>0.0</td>\n",
              "      <td>0.0</td>\n",
              "      <td>0.0</td>\n",
              "      <td>0.0</td>\n",
              "      <td>0.0</td>\n",
              "      <td>0.0</td>\n",
              "      <td>0.0</td>\n",
              "      <td>0.0</td>\n",
              "      <td>0.0</td>\n",
              "      <td>0.0</td>\n",
              "      <td>0.0</td>\n",
              "      <td>0.0</td>\n",
              "      <td>0.0</td>\n",
              "    </tr>\n",
              "    <tr>\n",
              "      <th>2017-2018 Brownline174 Duraflex 14-Month Planner 8 1/2 X 11 Black</th>\n",
              "      <td>0.0</td>\n",
              "      <td>0.0</td>\n",
              "      <td>0.0</td>\n",
              "      <td>0.0</td>\n",
              "      <td>0.0</td>\n",
              "      <td>0.0</td>\n",
              "      <td>0.0</td>\n",
              "      <td>0.0</td>\n",
              "      <td>0.0</td>\n",
              "      <td>0.0</td>\n",
              "      <td>0.0</td>\n",
              "      <td>0.0</td>\n",
              "      <td>0.0</td>\n",
              "      <td>0.0</td>\n",
              "      <td>0.0</td>\n",
              "      <td>0.0</td>\n",
              "      <td>0.0</td>\n",
              "      <td>0.0</td>\n",
              "      <td>0.0</td>\n",
              "      <td>0.0</td>\n",
              "      <td>0.0</td>\n",
              "      <td>0.0</td>\n",
              "      <td>0.0</td>\n",
              "      <td>0.0</td>\n",
              "      <td>0.0</td>\n",
              "      <td>0.0</td>\n",
              "      <td>0.0</td>\n",
              "      <td>0.0</td>\n",
              "      <td>0.0</td>\n",
              "      <td>0.0</td>\n",
              "      <td>0.0</td>\n",
              "      <td>0.0</td>\n",
              "      <td>0.0</td>\n",
              "      <td>0.0</td>\n",
              "      <td>0.0</td>\n",
              "      <td>0.0</td>\n",
              "      <td>0.0</td>\n",
              "      <td>0.000000</td>\n",
              "      <td>0.0</td>\n",
              "      <td>0.0</td>\n",
              "      <td>...</td>\n",
              "      <td>0.0</td>\n",
              "      <td>0.0</td>\n",
              "      <td>0.0</td>\n",
              "      <td>0.0</td>\n",
              "      <td>0.0</td>\n",
              "      <td>0.0</td>\n",
              "      <td>0.0</td>\n",
              "      <td>0.0</td>\n",
              "      <td>0.0</td>\n",
              "      <td>0.0</td>\n",
              "      <td>0.0</td>\n",
              "      <td>0.0</td>\n",
              "      <td>0.0</td>\n",
              "      <td>0.0</td>\n",
              "      <td>0.0</td>\n",
              "      <td>0.0</td>\n",
              "      <td>0.0</td>\n",
              "      <td>0.0</td>\n",
              "      <td>0.0</td>\n",
              "      <td>0.0</td>\n",
              "      <td>0.0</td>\n",
              "      <td>0.0</td>\n",
              "      <td>0.0</td>\n",
              "      <td>0.0</td>\n",
              "      <td>0.0</td>\n",
              "      <td>0.0</td>\n",
              "      <td>0.0</td>\n",
              "      <td>0.0</td>\n",
              "      <td>0.0</td>\n",
              "      <td>0.0</td>\n",
              "      <td>0.0</td>\n",
              "      <td>0.0</td>\n",
              "      <td>0.0</td>\n",
              "      <td>0.0</td>\n",
              "      <td>0.0</td>\n",
              "      <td>0.0</td>\n",
              "      <td>0.0</td>\n",
              "      <td>0.0</td>\n",
              "      <td>0.0</td>\n",
              "      <td>0.0</td>\n",
              "    </tr>\n",
              "    <tr>\n",
              "      <th>2x Ultra Era with Oxi Booster, 50fl oz</th>\n",
              "      <td>0.0</td>\n",
              "      <td>0.0</td>\n",
              "      <td>0.0</td>\n",
              "      <td>1.0</td>\n",
              "      <td>0.0</td>\n",
              "      <td>0.0</td>\n",
              "      <td>0.0</td>\n",
              "      <td>0.0</td>\n",
              "      <td>0.0</td>\n",
              "      <td>0.0</td>\n",
              "      <td>0.0</td>\n",
              "      <td>0.0</td>\n",
              "      <td>0.0</td>\n",
              "      <td>0.0</td>\n",
              "      <td>0.0</td>\n",
              "      <td>0.0</td>\n",
              "      <td>0.0</td>\n",
              "      <td>0.0</td>\n",
              "      <td>0.0</td>\n",
              "      <td>0.0</td>\n",
              "      <td>0.0</td>\n",
              "      <td>0.0</td>\n",
              "      <td>0.0</td>\n",
              "      <td>0.0</td>\n",
              "      <td>0.0</td>\n",
              "      <td>0.0</td>\n",
              "      <td>0.0</td>\n",
              "      <td>0.0</td>\n",
              "      <td>0.0</td>\n",
              "      <td>0.0</td>\n",
              "      <td>0.0</td>\n",
              "      <td>0.0</td>\n",
              "      <td>0.0</td>\n",
              "      <td>0.0</td>\n",
              "      <td>0.0</td>\n",
              "      <td>0.0</td>\n",
              "      <td>0.0</td>\n",
              "      <td>0.000000</td>\n",
              "      <td>0.0</td>\n",
              "      <td>0.0</td>\n",
              "      <td>...</td>\n",
              "      <td>0.0</td>\n",
              "      <td>0.0</td>\n",
              "      <td>0.0</td>\n",
              "      <td>0.0</td>\n",
              "      <td>0.0</td>\n",
              "      <td>0.0</td>\n",
              "      <td>0.0</td>\n",
              "      <td>0.0</td>\n",
              "      <td>0.0</td>\n",
              "      <td>0.0</td>\n",
              "      <td>0.0</td>\n",
              "      <td>0.0</td>\n",
              "      <td>0.0</td>\n",
              "      <td>0.0</td>\n",
              "      <td>0.0</td>\n",
              "      <td>0.0</td>\n",
              "      <td>0.0</td>\n",
              "      <td>0.0</td>\n",
              "      <td>0.0</td>\n",
              "      <td>0.0</td>\n",
              "      <td>0.0</td>\n",
              "      <td>0.0</td>\n",
              "      <td>0.0</td>\n",
              "      <td>0.0</td>\n",
              "      <td>0.0</td>\n",
              "      <td>0.0</td>\n",
              "      <td>0.0</td>\n",
              "      <td>0.0</td>\n",
              "      <td>0.0</td>\n",
              "      <td>0.0</td>\n",
              "      <td>0.0</td>\n",
              "      <td>0.0</td>\n",
              "      <td>0.0</td>\n",
              "      <td>0.0</td>\n",
              "      <td>0.0</td>\n",
              "      <td>0.0</td>\n",
              "      <td>0.0</td>\n",
              "      <td>0.0</td>\n",
              "      <td>0.0</td>\n",
              "      <td>0.0</td>\n",
              "    </tr>\n",
              "    <tr>\n",
              "      <th>42 Dual Drop Leaf Table with 2 Madrid Chairs\"</th>\n",
              "      <td>0.0</td>\n",
              "      <td>0.0</td>\n",
              "      <td>0.0</td>\n",
              "      <td>0.0</td>\n",
              "      <td>0.0</td>\n",
              "      <td>0.0</td>\n",
              "      <td>0.0</td>\n",
              "      <td>0.0</td>\n",
              "      <td>0.0</td>\n",
              "      <td>0.0</td>\n",
              "      <td>0.0</td>\n",
              "      <td>0.0</td>\n",
              "      <td>0.0</td>\n",
              "      <td>0.0</td>\n",
              "      <td>0.0</td>\n",
              "      <td>0.0</td>\n",
              "      <td>0.0</td>\n",
              "      <td>0.0</td>\n",
              "      <td>0.0</td>\n",
              "      <td>0.0</td>\n",
              "      <td>0.0</td>\n",
              "      <td>0.0</td>\n",
              "      <td>0.0</td>\n",
              "      <td>0.0</td>\n",
              "      <td>0.0</td>\n",
              "      <td>0.0</td>\n",
              "      <td>0.0</td>\n",
              "      <td>0.0</td>\n",
              "      <td>0.0</td>\n",
              "      <td>0.0</td>\n",
              "      <td>0.0</td>\n",
              "      <td>0.0</td>\n",
              "      <td>0.0</td>\n",
              "      <td>0.0</td>\n",
              "      <td>0.0</td>\n",
              "      <td>0.0</td>\n",
              "      <td>0.0</td>\n",
              "      <td>0.000000</td>\n",
              "      <td>0.0</td>\n",
              "      <td>0.0</td>\n",
              "      <td>...</td>\n",
              "      <td>0.0</td>\n",
              "      <td>0.0</td>\n",
              "      <td>0.0</td>\n",
              "      <td>0.0</td>\n",
              "      <td>0.0</td>\n",
              "      <td>0.0</td>\n",
              "      <td>0.0</td>\n",
              "      <td>0.0</td>\n",
              "      <td>0.0</td>\n",
              "      <td>0.0</td>\n",
              "      <td>0.0</td>\n",
              "      <td>0.0</td>\n",
              "      <td>0.0</td>\n",
              "      <td>0.0</td>\n",
              "      <td>0.0</td>\n",
              "      <td>0.0</td>\n",
              "      <td>0.0</td>\n",
              "      <td>0.0</td>\n",
              "      <td>0.0</td>\n",
              "      <td>0.0</td>\n",
              "      <td>0.0</td>\n",
              "      <td>0.0</td>\n",
              "      <td>0.0</td>\n",
              "      <td>0.0</td>\n",
              "      <td>0.0</td>\n",
              "      <td>0.0</td>\n",
              "      <td>0.0</td>\n",
              "      <td>0.0</td>\n",
              "      <td>0.0</td>\n",
              "      <td>0.0</td>\n",
              "      <td>0.0</td>\n",
              "      <td>0.0</td>\n",
              "      <td>0.0</td>\n",
              "      <td>0.0</td>\n",
              "      <td>0.0</td>\n",
              "      <td>0.0</td>\n",
              "      <td>0.0</td>\n",
              "      <td>0.0</td>\n",
              "      <td>0.0</td>\n",
              "      <td>0.0</td>\n",
              "    </tr>\n",
              "  </tbody>\n",
              "</table>\n",
              "<p>5 rows × 255 columns</p>\n",
              "</div>"
            ],
            "text/plain": [
              "                                                                   0    ...  254\n",
              "item                                                                    ...     \n",
              "0.6 Cu. Ft. Letter A4 Size Waterproof 30 Min. Fire File Chest      1.0  ...  0.0\n",
              "100:Complete First Season (blu-Ray)                                0.0  ...  0.0\n",
              "2017-2018 Brownline174 Duraflex 14-Month Planner 8 1/2 X 11 Black  0.0  ...  0.0\n",
              "2x Ultra Era with Oxi Booster, 50fl oz                             0.0  ...  0.0\n",
              "42 Dual Drop Leaf Table with 2 Madrid Chairs\"                      0.0  ...  0.0\n",
              "\n",
              "[5 rows x 255 columns]"
            ]
          },
          "metadata": {
            "tags": []
          },
          "execution_count": 75
        }
      ]
    },
    {
      "cell_type": "code",
      "metadata": {
        "id": "V2dBNtFO1XFG"
      },
      "source": [
        "list_name = common.item.tolist()"
      ],
      "id": "V2dBNtFO1XFG",
      "execution_count": 76,
      "outputs": []
    },
    {
      "cell_type": "code",
      "metadata": {
        "id": "zvidHOYf1Z6l"
      },
      "source": [
        "item_correlation_df.columns = df_subtracted.index.tolist()\n",
        "\n",
        "item_correlation_df_1 =  item_correlation_df[item_correlation_df.index.isin(list_name)]"
      ],
      "id": "zvidHOYf1Z6l",
      "execution_count": 77,
      "outputs": []
    },
    {
      "cell_type": "code",
      "metadata": {
        "id": "HfvSzsBy1ejE"
      },
      "source": [
        "item_correlation_df_2 = item_correlation_df_1.T[item_correlation_df_1.T.index.isin(list_name)]\n",
        "\n",
        "item_correlation_df_3 = item_correlation_df_2.T"
      ],
      "id": "HfvSzsBy1ejE",
      "execution_count": 78,
      "outputs": []
    },
    {
      "cell_type": "code",
      "metadata": {
        "id": "zwaa2K_d1gYG",
        "colab": {
          "base_uri": "https://localhost:8080/",
          "height": 811
        },
        "outputId": "5d2678b7-e834-4089-f73a-e1d4269cd2aa"
      },
      "source": [
        "item_correlation_df_3.head()"
      ],
      "id": "zwaa2K_d1gYG",
      "execution_count": 79,
      "outputs": [
        {
          "output_type": "execute_result",
          "data": {
            "text/html": [
              "<div>\n",
              "<style scoped>\n",
              "    .dataframe tbody tr th:only-of-type {\n",
              "        vertical-align: middle;\n",
              "    }\n",
              "\n",
              "    .dataframe tbody tr th {\n",
              "        vertical-align: top;\n",
              "    }\n",
              "\n",
              "    .dataframe thead th {\n",
              "        text-align: right;\n",
              "    }\n",
              "</style>\n",
              "<table border=\"1\" class=\"dataframe\">\n",
              "  <thead>\n",
              "    <tr style=\"text-align: right;\">\n",
              "      <th></th>\n",
              "      <th>0.6 Cu. Ft. Letter A4 Size Waterproof 30 Min. Fire File Chest</th>\n",
              "      <th>100:Complete First Season (blu-Ray)</th>\n",
              "      <th>2017-2018 Brownline174 Duraflex 14-Month Planner 8 1/2 X 11 Black</th>\n",
              "      <th>Africa's Best No-Lye Dual Conditioning Relaxer System Super</th>\n",
              "      <th>Alberto VO5 Salon Series Smooth Plus Sleek Shampoo</th>\n",
              "      <th>Alex Cross (dvdvideo)</th>\n",
              "      <th>All,bran Complete Wheat Flakes, 18 Oz.</th>\n",
              "      <th>Ambi Complexion Cleansing Bar</th>\n",
              "      <th>Annie's Homegrown Deluxe Elbows &amp; Four Cheese Sauce</th>\n",
              "      <th>Annie's Homegrown Gluten Free Double Chocolate Chip Granola Bars</th>\n",
              "      <th>Arrid Extra Dry Anti-Perspirant Deodorant Spray Regular</th>\n",
              "      <th>Aussie Aussome Volume Shampoo, 13.5 Oz</th>\n",
              "      <th>Australian Gold Exotic Blend Lotion, SPF 4</th>\n",
              "      <th>Aveeno Baby Continuous Protection Lotion Sunscreen with Broad Spectrum SPF 55, 4oz</th>\n",
              "      <th>Avery174 Ready Index Contemporary Table Of Contents Divider, 1-8, Multi, Letter</th>\n",
              "      <th>Axe Dry Anti-Perspirant Deodorant Invisible Solid Phoenix</th>\n",
              "      <th>BRIDGESTONE 130/70ZR18M/C(63W)FRONT EXEDRA G851, CRUISER RADL</th>\n",
              "      <th>Banana Boat Sunless Summer Color Self Tanning Lotion, Light To Medium</th>\n",
              "      <th>Barielle Nail Rebuilding Protein</th>\n",
              "      <th>Baxter Of California Cream Pomade</th>\n",
              "      <th>Beanitos Bean Chips, Simply Pinto Bean</th>\n",
              "      <th>Bedtime Originals Pinkie Musical Mobile</th>\n",
              "      <th>Ben &amp; Jerry's Coffee, Coffee Buzzbuzzbuzz! Ice Cream, Pint</th>\n",
              "      <th>Better Built 74010862 Bet74010862 60In Crossover Two Lid, Deep, Truck Tool Box</th>\n",
              "      <th>Bi-O-kleen Spray &amp; Wipe All Purpose Cleaner</th>\n",
              "      <th>Bilbao Nightstand Gray Oak - South Shore</th>\n",
              "      <th>Bill Glor Gaither - Church In The Wildwood (cd)</th>\n",
              "      <th>Bisquick Original Pancake And Baking Mix - 40oz</th>\n",
              "      <th>Black Front Loading Frame Set (8.5x11) Set Of 12</th>\n",
              "      <th>Boraam Sonoma Kitchen Cart With Wire Brush Gray - Maaya Home</th>\n",
              "      <th>Bounce Dryer Sheets, Fresh Linen, 160 sheets</th>\n",
              "      <th>Bumble Bee Solid White Albacore In Water - 5 Oz</th>\n",
              "      <th>Burt's Bees Lip Shimmer, Raisin</th>\n",
              "      <th>Burt's Bees Lip Shimmer, Watermelon</th>\n",
              "      <th>Care Free Curl Gold Instant Activator</th>\n",
              "      <th>Caress Moisturizing Body Bar Natural Silk, 4.75oz</th>\n",
              "      <th>Cars Toon: Mater's Tall Tales</th>\n",
              "      <th>CeraVe SA Renewing Cream</th>\n",
              "      <th>Cheetos Crunchy Flamin' Hot Cheese Flavored Snacks</th>\n",
              "      <th>Chester's Cheese Flavored Puffcorn Snacks</th>\n",
              "      <th>...</th>\n",
              "      <th>Sea Gull Lighting Six Light Bath Sconce/vanity - Brushed Nickel</th>\n",
              "      <th>Shea Moisture Mango &amp; Carrot Kids Extra-Nourishing Conditioner, 8fl Oz</th>\n",
              "      <th>Sizzix Framelits Dies 1by Tim Holtz Bird Crazy-Silver Asst Sizes</th>\n",
              "      <th>Smead174 2 1/4 Inch Accordion Expansion Wallet, Poly, Letter, Translucent Green</th>\n",
              "      <th>Solo Foods Almond Paste</th>\n",
              "      <th>Solo Foods Poppy Seed Cake and Pastry Filling</th>\n",
              "      <th>Soothing Touch Lemon Cardamom Vegan Lip Balm .25 Oz</th>\n",
              "      <th>Sopranos:Season 6 Part 1 (blu-Ray)</th>\n",
              "      <th>Spam Single Classic</th>\n",
              "      <th>Stacy's Simply Naked Bagel Chips</th>\n",
              "      <th>Stander Pt Bedcane - Bed Handle</th>\n",
              "      <th>Starbucks Iced Expresso Classics Vanilla Latte Coffee Beverage - 40oz</th>\n",
              "      <th>Starbucks153 Doubleshot Protein Coffee - 11 Fl Oz</th>\n",
              "      <th>Stargate (ws) (ultimate Edition) (director's Cut) (dvdvideo)</th>\n",
              "      <th>Storkcraft Tuscany Glider and Ottoman, Beige Cushions, Espresso Finish</th>\n",
              "      <th>Suave Professionals Hair Conditioner, Sleek</th>\n",
              "      <th>Super Poligrip Denture Adhesive Cream, Ultra Fresh - 2.4 Oz</th>\n",
              "      <th>Tai Pei Sweet &amp; Sour Chicken</th>\n",
              "      <th>The Honest Company Laundry Detergent</th>\n",
              "      <th>The Resident Evil Collection 5 Discs (blu-Ray)</th>\n",
              "      <th>The Script - No Sound Without Silence (cd)</th>\n",
              "      <th>The Seaweed Bath Co. Argan Conditioner, Smoothing Citrus</th>\n",
              "      <th>There's Something About Mary (dvd)</th>\n",
              "      <th>Tostitos Bite Size Tortilla Chips</th>\n",
              "      <th>Tostitos Simply Blue Corn Tortilla Chips</th>\n",
              "      <th>Toy Story Kids' Woody Accessory Kit</th>\n",
              "      <th>Tree Hut Shea Body Butters, Coconut Lime, 7 oz</th>\n",
              "      <th>Trend Lab Park Nursing Cover - Paisley</th>\n",
              "      <th>Tresemme Kertatin Smooth Infusing Conditioning</th>\n",
              "      <th>Various Artists - Choo Choo Soul (cd)</th>\n",
              "      <th>Vaseline Intensive Care Healthy Hands Stronger Nails</th>\n",
              "      <th>Vaseline Intensive Care Lip Therapy Cocoa Butter</th>\n",
              "      <th>Vicks Vaporub, Regular, 3.53oz</th>\n",
              "      <th>Wagan Smartac 80watt Inverter With Usb</th>\n",
              "      <th>Way Basics 3-Shelf Eco Narrow Bookcase Storage Shelf, Espresso - Formaldehyde Free - Lifetime Guarantee</th>\n",
              "      <th>WeatherTech 40647 14-15 Outlander Cargo Liners Behind 2nd Row, Black</th>\n",
              "      <th>Weleda Everon Lip Balm</th>\n",
              "      <th>Windex Original Glass Cleaner Refill 67.6oz (2 Liter)</th>\n",
              "      <th>Yes To Carrots Nourishing Body Wash</th>\n",
              "      <th>Yes To Grapefruit Rejuvenating Body Wash</th>\n",
              "    </tr>\n",
              "    <tr>\n",
              "      <th>item</th>\n",
              "      <th></th>\n",
              "      <th></th>\n",
              "      <th></th>\n",
              "      <th></th>\n",
              "      <th></th>\n",
              "      <th></th>\n",
              "      <th></th>\n",
              "      <th></th>\n",
              "      <th></th>\n",
              "      <th></th>\n",
              "      <th></th>\n",
              "      <th></th>\n",
              "      <th></th>\n",
              "      <th></th>\n",
              "      <th></th>\n",
              "      <th></th>\n",
              "      <th></th>\n",
              "      <th></th>\n",
              "      <th></th>\n",
              "      <th></th>\n",
              "      <th></th>\n",
              "      <th></th>\n",
              "      <th></th>\n",
              "      <th></th>\n",
              "      <th></th>\n",
              "      <th></th>\n",
              "      <th></th>\n",
              "      <th></th>\n",
              "      <th></th>\n",
              "      <th></th>\n",
              "      <th></th>\n",
              "      <th></th>\n",
              "      <th></th>\n",
              "      <th></th>\n",
              "      <th></th>\n",
              "      <th></th>\n",
              "      <th></th>\n",
              "      <th></th>\n",
              "      <th></th>\n",
              "      <th></th>\n",
              "      <th></th>\n",
              "      <th></th>\n",
              "      <th></th>\n",
              "      <th></th>\n",
              "      <th></th>\n",
              "      <th></th>\n",
              "      <th></th>\n",
              "      <th></th>\n",
              "      <th></th>\n",
              "      <th></th>\n",
              "      <th></th>\n",
              "      <th></th>\n",
              "      <th></th>\n",
              "      <th></th>\n",
              "      <th></th>\n",
              "      <th></th>\n",
              "      <th></th>\n",
              "      <th></th>\n",
              "      <th></th>\n",
              "      <th></th>\n",
              "      <th></th>\n",
              "      <th></th>\n",
              "      <th></th>\n",
              "      <th></th>\n",
              "      <th></th>\n",
              "      <th></th>\n",
              "      <th></th>\n",
              "      <th></th>\n",
              "      <th></th>\n",
              "      <th></th>\n",
              "      <th></th>\n",
              "      <th></th>\n",
              "      <th></th>\n",
              "      <th></th>\n",
              "      <th></th>\n",
              "      <th></th>\n",
              "      <th></th>\n",
              "      <th></th>\n",
              "      <th></th>\n",
              "      <th></th>\n",
              "      <th></th>\n",
              "    </tr>\n",
              "  </thead>\n",
              "  <tbody>\n",
              "    <tr>\n",
              "      <th>0.6 Cu. Ft. Letter A4 Size Waterproof 30 Min. Fire File Chest</th>\n",
              "      <td>1.0</td>\n",
              "      <td>0.0</td>\n",
              "      <td>0.0</td>\n",
              "      <td>0.0</td>\n",
              "      <td>0.0</td>\n",
              "      <td>0.0</td>\n",
              "      <td>0.0</td>\n",
              "      <td>0.0</td>\n",
              "      <td>0.0</td>\n",
              "      <td>0.0</td>\n",
              "      <td>0.0</td>\n",
              "      <td>0.0</td>\n",
              "      <td>0.0</td>\n",
              "      <td>0.0</td>\n",
              "      <td>0.0</td>\n",
              "      <td>0.0</td>\n",
              "      <td>0.0</td>\n",
              "      <td>0.0</td>\n",
              "      <td>0.0</td>\n",
              "      <td>0.0</td>\n",
              "      <td>0.0</td>\n",
              "      <td>0.0</td>\n",
              "      <td>0.0</td>\n",
              "      <td>0.0</td>\n",
              "      <td>0.0</td>\n",
              "      <td>0.0</td>\n",
              "      <td>0.0</td>\n",
              "      <td>0.0</td>\n",
              "      <td>0.0</td>\n",
              "      <td>0.043534</td>\n",
              "      <td>0.0</td>\n",
              "      <td>0.0</td>\n",
              "      <td>0.0</td>\n",
              "      <td>0.0</td>\n",
              "      <td>0.0</td>\n",
              "      <td>0.0</td>\n",
              "      <td>0.0</td>\n",
              "      <td>0.0</td>\n",
              "      <td>0.000000</td>\n",
              "      <td>0.00822</td>\n",
              "      <td>...</td>\n",
              "      <td>0.0</td>\n",
              "      <td>0.0</td>\n",
              "      <td>0.0</td>\n",
              "      <td>0.0</td>\n",
              "      <td>0.0</td>\n",
              "      <td>0.0</td>\n",
              "      <td>0.0</td>\n",
              "      <td>0.0</td>\n",
              "      <td>0.0</td>\n",
              "      <td>0.0</td>\n",
              "      <td>0.0</td>\n",
              "      <td>0.0</td>\n",
              "      <td>0.0</td>\n",
              "      <td>0.0</td>\n",
              "      <td>0.0</td>\n",
              "      <td>0.0</td>\n",
              "      <td>0.0</td>\n",
              "      <td>0.0</td>\n",
              "      <td>0.0</td>\n",
              "      <td>0.0</td>\n",
              "      <td>0.0</td>\n",
              "      <td>0.0</td>\n",
              "      <td>0.0</td>\n",
              "      <td>0.0</td>\n",
              "      <td>0.0</td>\n",
              "      <td>0.0</td>\n",
              "      <td>0.0</td>\n",
              "      <td>0.0</td>\n",
              "      <td>0.0</td>\n",
              "      <td>0.0</td>\n",
              "      <td>0.0</td>\n",
              "      <td>0.0</td>\n",
              "      <td>0.0</td>\n",
              "      <td>0.0</td>\n",
              "      <td>0.0</td>\n",
              "      <td>0.0</td>\n",
              "      <td>0.0</td>\n",
              "      <td>0.0</td>\n",
              "      <td>0.0</td>\n",
              "      <td>0.0</td>\n",
              "    </tr>\n",
              "    <tr>\n",
              "      <th>100:Complete First Season (blu-Ray)</th>\n",
              "      <td>0.0</td>\n",
              "      <td>1.0</td>\n",
              "      <td>0.0</td>\n",
              "      <td>0.0</td>\n",
              "      <td>0.0</td>\n",
              "      <td>0.0</td>\n",
              "      <td>0.0</td>\n",
              "      <td>0.0</td>\n",
              "      <td>0.0</td>\n",
              "      <td>0.0</td>\n",
              "      <td>0.0</td>\n",
              "      <td>0.0</td>\n",
              "      <td>0.0</td>\n",
              "      <td>0.0</td>\n",
              "      <td>0.0</td>\n",
              "      <td>0.0</td>\n",
              "      <td>0.0</td>\n",
              "      <td>0.0</td>\n",
              "      <td>0.0</td>\n",
              "      <td>0.0</td>\n",
              "      <td>0.0</td>\n",
              "      <td>0.0</td>\n",
              "      <td>0.0</td>\n",
              "      <td>0.0</td>\n",
              "      <td>0.0</td>\n",
              "      <td>0.0</td>\n",
              "      <td>0.0</td>\n",
              "      <td>0.0</td>\n",
              "      <td>0.0</td>\n",
              "      <td>0.000000</td>\n",
              "      <td>0.0</td>\n",
              "      <td>0.0</td>\n",
              "      <td>0.0</td>\n",
              "      <td>0.0</td>\n",
              "      <td>0.0</td>\n",
              "      <td>0.0</td>\n",
              "      <td>0.0</td>\n",
              "      <td>0.0</td>\n",
              "      <td>0.002259</td>\n",
              "      <td>0.00000</td>\n",
              "      <td>...</td>\n",
              "      <td>0.0</td>\n",
              "      <td>0.0</td>\n",
              "      <td>0.0</td>\n",
              "      <td>0.0</td>\n",
              "      <td>0.0</td>\n",
              "      <td>0.0</td>\n",
              "      <td>0.0</td>\n",
              "      <td>0.0</td>\n",
              "      <td>0.0</td>\n",
              "      <td>0.0</td>\n",
              "      <td>0.0</td>\n",
              "      <td>0.0</td>\n",
              "      <td>0.0</td>\n",
              "      <td>0.0</td>\n",
              "      <td>0.0</td>\n",
              "      <td>0.0</td>\n",
              "      <td>0.0</td>\n",
              "      <td>0.0</td>\n",
              "      <td>0.0</td>\n",
              "      <td>0.0</td>\n",
              "      <td>0.0</td>\n",
              "      <td>0.0</td>\n",
              "      <td>0.0</td>\n",
              "      <td>0.0</td>\n",
              "      <td>0.0</td>\n",
              "      <td>0.0</td>\n",
              "      <td>0.0</td>\n",
              "      <td>0.0</td>\n",
              "      <td>0.0</td>\n",
              "      <td>0.0</td>\n",
              "      <td>0.0</td>\n",
              "      <td>0.0</td>\n",
              "      <td>0.0</td>\n",
              "      <td>0.0</td>\n",
              "      <td>0.0</td>\n",
              "      <td>0.0</td>\n",
              "      <td>0.0</td>\n",
              "      <td>0.0</td>\n",
              "      <td>0.0</td>\n",
              "      <td>0.0</td>\n",
              "    </tr>\n",
              "    <tr>\n",
              "      <th>2017-2018 Brownline174 Duraflex 14-Month Planner 8 1/2 X 11 Black</th>\n",
              "      <td>0.0</td>\n",
              "      <td>0.0</td>\n",
              "      <td>0.0</td>\n",
              "      <td>0.0</td>\n",
              "      <td>0.0</td>\n",
              "      <td>0.0</td>\n",
              "      <td>0.0</td>\n",
              "      <td>0.0</td>\n",
              "      <td>0.0</td>\n",
              "      <td>0.0</td>\n",
              "      <td>0.0</td>\n",
              "      <td>0.0</td>\n",
              "      <td>0.0</td>\n",
              "      <td>0.0</td>\n",
              "      <td>0.0</td>\n",
              "      <td>0.0</td>\n",
              "      <td>0.0</td>\n",
              "      <td>0.0</td>\n",
              "      <td>0.0</td>\n",
              "      <td>0.0</td>\n",
              "      <td>0.0</td>\n",
              "      <td>0.0</td>\n",
              "      <td>0.0</td>\n",
              "      <td>0.0</td>\n",
              "      <td>0.0</td>\n",
              "      <td>0.0</td>\n",
              "      <td>0.0</td>\n",
              "      <td>0.0</td>\n",
              "      <td>0.0</td>\n",
              "      <td>0.000000</td>\n",
              "      <td>0.0</td>\n",
              "      <td>0.0</td>\n",
              "      <td>0.0</td>\n",
              "      <td>0.0</td>\n",
              "      <td>0.0</td>\n",
              "      <td>0.0</td>\n",
              "      <td>0.0</td>\n",
              "      <td>0.0</td>\n",
              "      <td>0.000000</td>\n",
              "      <td>0.00000</td>\n",
              "      <td>...</td>\n",
              "      <td>0.0</td>\n",
              "      <td>0.0</td>\n",
              "      <td>0.0</td>\n",
              "      <td>0.0</td>\n",
              "      <td>0.0</td>\n",
              "      <td>0.0</td>\n",
              "      <td>0.0</td>\n",
              "      <td>0.0</td>\n",
              "      <td>0.0</td>\n",
              "      <td>0.0</td>\n",
              "      <td>0.0</td>\n",
              "      <td>0.0</td>\n",
              "      <td>0.0</td>\n",
              "      <td>0.0</td>\n",
              "      <td>0.0</td>\n",
              "      <td>0.0</td>\n",
              "      <td>0.0</td>\n",
              "      <td>0.0</td>\n",
              "      <td>0.0</td>\n",
              "      <td>0.0</td>\n",
              "      <td>0.0</td>\n",
              "      <td>0.0</td>\n",
              "      <td>0.0</td>\n",
              "      <td>0.0</td>\n",
              "      <td>0.0</td>\n",
              "      <td>0.0</td>\n",
              "      <td>0.0</td>\n",
              "      <td>0.0</td>\n",
              "      <td>0.0</td>\n",
              "      <td>0.0</td>\n",
              "      <td>0.0</td>\n",
              "      <td>0.0</td>\n",
              "      <td>0.0</td>\n",
              "      <td>0.0</td>\n",
              "      <td>0.0</td>\n",
              "      <td>0.0</td>\n",
              "      <td>0.0</td>\n",
              "      <td>0.0</td>\n",
              "      <td>0.0</td>\n",
              "      <td>0.0</td>\n",
              "    </tr>\n",
              "    <tr>\n",
              "      <th>Africa's Best No-Lye Dual Conditioning Relaxer System Super</th>\n",
              "      <td>0.0</td>\n",
              "      <td>0.0</td>\n",
              "      <td>0.0</td>\n",
              "      <td>1.0</td>\n",
              "      <td>0.0</td>\n",
              "      <td>0.0</td>\n",
              "      <td>0.0</td>\n",
              "      <td>0.0</td>\n",
              "      <td>0.0</td>\n",
              "      <td>0.0</td>\n",
              "      <td>0.0</td>\n",
              "      <td>0.0</td>\n",
              "      <td>0.0</td>\n",
              "      <td>0.0</td>\n",
              "      <td>0.0</td>\n",
              "      <td>0.0</td>\n",
              "      <td>0.0</td>\n",
              "      <td>0.0</td>\n",
              "      <td>0.0</td>\n",
              "      <td>0.0</td>\n",
              "      <td>0.0</td>\n",
              "      <td>0.0</td>\n",
              "      <td>0.0</td>\n",
              "      <td>0.0</td>\n",
              "      <td>0.0</td>\n",
              "      <td>0.0</td>\n",
              "      <td>0.0</td>\n",
              "      <td>0.0</td>\n",
              "      <td>0.0</td>\n",
              "      <td>0.000000</td>\n",
              "      <td>0.0</td>\n",
              "      <td>0.0</td>\n",
              "      <td>0.0</td>\n",
              "      <td>0.0</td>\n",
              "      <td>0.0</td>\n",
              "      <td>0.0</td>\n",
              "      <td>0.0</td>\n",
              "      <td>0.0</td>\n",
              "      <td>0.000000</td>\n",
              "      <td>0.00000</td>\n",
              "      <td>...</td>\n",
              "      <td>0.0</td>\n",
              "      <td>0.0</td>\n",
              "      <td>0.0</td>\n",
              "      <td>0.0</td>\n",
              "      <td>0.0</td>\n",
              "      <td>0.0</td>\n",
              "      <td>0.0</td>\n",
              "      <td>0.0</td>\n",
              "      <td>0.0</td>\n",
              "      <td>0.0</td>\n",
              "      <td>0.0</td>\n",
              "      <td>0.0</td>\n",
              "      <td>0.0</td>\n",
              "      <td>0.0</td>\n",
              "      <td>0.0</td>\n",
              "      <td>0.0</td>\n",
              "      <td>0.0</td>\n",
              "      <td>0.0</td>\n",
              "      <td>0.0</td>\n",
              "      <td>0.0</td>\n",
              "      <td>0.0</td>\n",
              "      <td>0.0</td>\n",
              "      <td>0.0</td>\n",
              "      <td>0.0</td>\n",
              "      <td>0.0</td>\n",
              "      <td>0.0</td>\n",
              "      <td>0.0</td>\n",
              "      <td>0.0</td>\n",
              "      <td>0.0</td>\n",
              "      <td>0.0</td>\n",
              "      <td>0.0</td>\n",
              "      <td>0.0</td>\n",
              "      <td>0.0</td>\n",
              "      <td>0.0</td>\n",
              "      <td>0.0</td>\n",
              "      <td>0.0</td>\n",
              "      <td>0.0</td>\n",
              "      <td>0.0</td>\n",
              "      <td>0.0</td>\n",
              "      <td>0.0</td>\n",
              "    </tr>\n",
              "    <tr>\n",
              "      <th>Alberto VO5 Salon Series Smooth Plus Sleek Shampoo</th>\n",
              "      <td>0.0</td>\n",
              "      <td>0.0</td>\n",
              "      <td>0.0</td>\n",
              "      <td>0.0</td>\n",
              "      <td>0.0</td>\n",
              "      <td>0.0</td>\n",
              "      <td>0.0</td>\n",
              "      <td>0.0</td>\n",
              "      <td>0.0</td>\n",
              "      <td>0.0</td>\n",
              "      <td>0.0</td>\n",
              "      <td>0.0</td>\n",
              "      <td>0.0</td>\n",
              "      <td>0.0</td>\n",
              "      <td>0.0</td>\n",
              "      <td>0.0</td>\n",
              "      <td>0.0</td>\n",
              "      <td>0.0</td>\n",
              "      <td>0.0</td>\n",
              "      <td>0.0</td>\n",
              "      <td>0.0</td>\n",
              "      <td>0.0</td>\n",
              "      <td>0.0</td>\n",
              "      <td>0.0</td>\n",
              "      <td>0.0</td>\n",
              "      <td>0.0</td>\n",
              "      <td>0.0</td>\n",
              "      <td>0.0</td>\n",
              "      <td>0.0</td>\n",
              "      <td>0.000000</td>\n",
              "      <td>0.0</td>\n",
              "      <td>0.0</td>\n",
              "      <td>0.0</td>\n",
              "      <td>0.0</td>\n",
              "      <td>0.0</td>\n",
              "      <td>0.0</td>\n",
              "      <td>0.0</td>\n",
              "      <td>0.0</td>\n",
              "      <td>0.000000</td>\n",
              "      <td>0.00000</td>\n",
              "      <td>...</td>\n",
              "      <td>0.0</td>\n",
              "      <td>0.0</td>\n",
              "      <td>0.0</td>\n",
              "      <td>0.0</td>\n",
              "      <td>0.0</td>\n",
              "      <td>0.0</td>\n",
              "      <td>0.0</td>\n",
              "      <td>0.0</td>\n",
              "      <td>0.0</td>\n",
              "      <td>0.0</td>\n",
              "      <td>0.0</td>\n",
              "      <td>0.0</td>\n",
              "      <td>0.0</td>\n",
              "      <td>0.0</td>\n",
              "      <td>0.0</td>\n",
              "      <td>0.0</td>\n",
              "      <td>0.0</td>\n",
              "      <td>0.0</td>\n",
              "      <td>0.0</td>\n",
              "      <td>0.0</td>\n",
              "      <td>0.0</td>\n",
              "      <td>0.0</td>\n",
              "      <td>0.0</td>\n",
              "      <td>0.0</td>\n",
              "      <td>0.0</td>\n",
              "      <td>0.0</td>\n",
              "      <td>0.0</td>\n",
              "      <td>0.0</td>\n",
              "      <td>0.0</td>\n",
              "      <td>0.0</td>\n",
              "      <td>0.0</td>\n",
              "      <td>0.0</td>\n",
              "      <td>0.0</td>\n",
              "      <td>0.0</td>\n",
              "      <td>0.0</td>\n",
              "      <td>0.0</td>\n",
              "      <td>0.0</td>\n",
              "      <td>0.0</td>\n",
              "      <td>0.0</td>\n",
              "      <td>0.0</td>\n",
              "    </tr>\n",
              "  </tbody>\n",
              "</table>\n",
              "<p>5 rows × 180 columns</p>\n",
              "</div>"
            ],
            "text/plain": [
              "                                                                   0.6 Cu. Ft. Letter A4 Size Waterproof 30 Min. Fire File Chest  ...  Yes To Grapefruit Rejuvenating Body Wash\n",
              "item                                                                                                                              ...                                          \n",
              "0.6 Cu. Ft. Letter A4 Size Waterproof 30 Min. Fire File Chest                                                                1.0  ...                                       0.0\n",
              "100:Complete First Season (blu-Ray)                                                                                          0.0  ...                                       0.0\n",
              "2017-2018 Brownline174 Duraflex 14-Month Planner 8 1/2 X 11 Black                                                            0.0  ...                                       0.0\n",
              "Africa's Best No-Lye Dual Conditioning Relaxer System Super                                                                  0.0  ...                                       0.0\n",
              "Alberto VO5 Salon Series Smooth Plus Sleek Shampoo                                                                           0.0  ...                                       0.0\n",
              "\n",
              "[5 rows x 180 columns]"
            ]
          },
          "metadata": {
            "tags": []
          },
          "execution_count": 79
        }
      ]
    },
    {
      "cell_type": "code",
      "metadata": {
        "id": "WLv0B5b-1l1Y",
        "colab": {
          "base_uri": "https://localhost:8080/"
        },
        "outputId": "0efe3b30-0635-43dc-c43c-f77856849af4"
      },
      "source": [
        "item_correlation_df_3[item_correlation_df_3<0]=0\n",
        "\n",
        "common_item_predicted_ratings = np.dot(item_correlation_df_3, common_item_based_matrix.fillna(0))\n",
        "common_item_predicted_ratings\n"
      ],
      "id": "WLv0B5b-1l1Y",
      "execution_count": 80,
      "outputs": [
        {
          "output_type": "execute_result",
          "data": {
            "text/plain": [
              "array([[0.        , 0.        , 0.        , ..., 0.        , 0.        ,\n",
              "        0.        ],\n",
              "       [0.        , 0.02101869, 0.        , ..., 0.        , 0.        ,\n",
              "        0.        ],\n",
              "       [0.        , 0.        , 0.        , ..., 0.        , 0.        ,\n",
              "        0.        ],\n",
              "       ...,\n",
              "       [0.01528616, 0.        , 0.        , ..., 0.        , 0.        ,\n",
              "        0.        ],\n",
              "       [0.        , 0.01431858, 0.00112893, ..., 0.00045157, 0.00112893,\n",
              "        0.00690763],\n",
              "       [0.        , 0.        , 0.        , ..., 0.        , 0.        ,\n",
              "        0.        ]])"
            ]
          },
          "metadata": {
            "tags": []
          },
          "execution_count": 80
        }
      ]
    },
    {
      "cell_type": "code",
      "metadata": {
        "id": "2bUtuR7a1oZq",
        "colab": {
          "base_uri": "https://localhost:8080/"
        },
        "outputId": "4ad87b00-e9e2-4d5f-d504-598ca6377cb3"
      },
      "source": [
        "common_item_predicted_ratings.shape"
      ],
      "id": "2bUtuR7a1oZq",
      "execution_count": 81,
      "outputs": [
        {
          "output_type": "execute_result",
          "data": {
            "text/plain": [
              "(180, 5345)"
            ]
          },
          "metadata": {
            "tags": []
          },
          "execution_count": 81
        }
      ]
    },
    {
      "cell_type": "code",
      "metadata": {
        "id": "uW78QIFM1rER"
      },
      "source": [
        "dummy_test = common.copy()\n",
        "\n",
        "dummy_test['rating'] = dummy_test['rating'].apply(lambda x: 1 if x>=1 else 0)\n",
        "\n",
        "dummy_test = dummy_test.pivot_table(index='user', columns='item', values='rating').T.fillna(0)\n",
        "\n",
        "common_item_predicted_ratings = np.multiply(common_item_predicted_ratings,dummy_test)"
      ],
      "id": "uW78QIFM1rER",
      "execution_count": 82,
      "outputs": []
    },
    {
      "cell_type": "code",
      "metadata": {
        "id": "jU688n-H1wX9"
      },
      "source": [
        "common_ = common.pivot_table(index='user', columns='item', values='rating').T"
      ],
      "id": "jU688n-H1wX9",
      "execution_count": 83,
      "outputs": []
    },
    {
      "cell_type": "code",
      "metadata": {
        "id": "e5Gu0ahU10HE",
        "colab": {
          "base_uri": "https://localhost:8080/"
        },
        "outputId": "aafbdbe8-01fc-43a4-a99c-19ea3c8bf12d"
      },
      "source": [
        "X  = common_item_predicted_ratings.copy() \n",
        "X = X[X>0]\n",
        "\n",
        "scaler = MinMaxScaler(feature_range=(1, 5))\n",
        "print(scaler.fit(X))\n",
        "y = (scaler.transform(X))\n",
        "\n",
        "print(y)"
      ],
      "id": "e5Gu0ahU10HE",
      "execution_count": 84,
      "outputs": [
        {
          "output_type": "stream",
          "text": [
            "MinMaxScaler(copy=True, feature_range=(1, 5))\n",
            "[[nan nan nan ... nan nan nan]\n",
            " [nan nan nan ... nan nan nan]\n",
            " [nan nan nan ... nan nan nan]\n",
            " ...\n",
            " [nan nan nan ... nan nan nan]\n",
            " [nan nan nan ... nan nan nan]\n",
            " [nan nan nan ... nan nan nan]]\n"
          ],
          "name": "stdout"
        }
      ]
    },
    {
      "cell_type": "code",
      "metadata": {
        "id": "ZF-HsIO512d2"
      },
      "source": [
        "# Finding total non-NaN value\n",
        "total_non_nan = np.count_nonzero(~np.isnan(y))"
      ],
      "id": "ZF-HsIO512d2",
      "execution_count": 85,
      "outputs": []
    },
    {
      "cell_type": "code",
      "metadata": {
        "id": "nP7Q0nwX15qC",
        "colab": {
          "base_uri": "https://localhost:8080/"
        },
        "outputId": "f71e2df3-bcb0-4c75-d576-7dcf35e43251"
      },
      "source": [
        "rmse = (sum(sum(((common_ - y )**2).fillna(0).values))/total_non_nan)**0.5\n",
        "print(rmse)"
      ],
      "id": "nP7Q0nwX15qC",
      "execution_count": 87,
      "outputs": [
        {
          "output_type": "stream",
          "text": [
            "3.5908951621835357\n"
          ],
          "name": "stdout"
        }
      ]
    },
    {
      "cell_type": "markdown",
      "metadata": {
        "id": "QFbOsmuXjDlP"
      },
      "source": [
        "Out of two recommendation systems UBCF and IBCF. IBCF is recommended to use in our recommendation engine as \n",
        "There are two advantages of pre-processing in IBCF: \n",
        "- The item group will be small because a user would have only liked a few items in the past. \n",
        "-  Similar items can be easily pre-processed for computational advantage.\n",
        "\n",
        "Hence IBCF will be used"
      ],
      "id": "QFbOsmuXjDlP"
    },
    {
      "cell_type": "code",
      "metadata": {
        "id": "8CMfDULck1HJ"
      },
      "source": [
        ""
      ],
      "id": "8CMfDULck1HJ",
      "execution_count": null,
      "outputs": []
    }
  ]
}